{
 "cells": [
  {
   "cell_type": "markdown",
   "metadata": {},
   "source": [
    "\n",
    "<a href=\"https://colab.research.google.com/github/NeuroDesk/example-notebooks/blob/main/books/diffusion_imaging/MRtrix_CSD.ipynb\" target=\"_parent\"><img src=\"https://colab.research.google.com/assets/colab-badge.svg\" alt=\"Open In Google Colab\"/>   </a>"
   ]
  },
  {
   "cell_type": "markdown",
   "metadata": {},
   "source": [
    "# Diffusion Analysis with MRtrix: Part 2 - Constrained Spherical Deconvolution and Tissue estimation\n",
    "\n",
    "\n",
    "This notebook is the second in a series on Diffusion Analysis using MRtrix and builds upon the preprocessed data generated in **Diffusion Analysis with MRtrix: Part 1 - Preprocessing**. The data necessary for this example will be downloaded from OSF. \n",
    "\n",
    "\n",
    "####\n",
    "Author: Monika Doerig\n",
    "\n",
    "Citation:\n",
    "\n",
    "__Andy's Brain Book:__\n",
    "\n",
    "- This MRtrix example is based on the [Diffusion Analysis with MRtrix](https://andysbrainbook.readthedocs.io/en/latest/MRtrix/MRtrix_Introduction.html#) chapter from Andy’s Brain Book (Jahn, 2022. [doi:10.5281/zenodo.5879293](https://zenodo.org/records/5879294))\n",
    "\n",
    "__Original Data from OpenNeuro:__\n",
    "- Hannelore Aerts and Daniele Marinazzo (2018). BTC_preop. [OpenNeuro Dataset ds001226](https://openneuro.org/datasets/ds001226/versions/00001)\n",
    "\n",
    "__Preprocessed Diffusion Data from OSF:__\n",
    "- Dörig, M. (2024, November 19). Diffusion MRI Analysis with MRtrix: An Interactive Three-Part Series on Neurodesk. Retrieved from [OSF](https://osf.io/y2dq4/)\n",
    "\n",
    "__MRtrix3:__ \n",
    "- Tournier, J.-D.; Smith, R. E.; Raffelt, D.; Tabbara, R.; Dhollander, T.; Pietsch, M.; Christiaens, D.; Jeurissen, B.; Yeh, C.-H. & Connelly, A. MRtrix3: A fast, flexible and open software framework for medical image processing and visualisation. NeuroImage, 2019, 202, 116137. https://doi.org/10.1016/j.neuroimage.2019.116137\n",
    "- For more details: https://www.mrtrix.org/\n",
    "\n",
    "__DIPY:__\n",
    "- Garyfallidis, E., Brett, M., Amirbekian, B., Rokem, A., van der Walt, S., Descoteaux, M., Nimmo-Smith, I., & Dipy Contributors (2014). Dipy, a library for the analysis of diffusion MRI data. Frontiers in neuroinformatics, 8, 8. https://doi.org/10.3389/fninf.2014.00008"
   ]
  },
  {
   "cell_type": "markdown",
   "metadata": {},
   "source": [
    "## Setup Neurodesk"
   ]
  },
  {
   "cell_type": "code",
   "execution_count": 1,
   "metadata": {
    "vscode": {
     "languageId": "plaintext"
    }
   },
   "outputs": [],
   "source": [
    "%%capture\n",
    "import os\n",
    "import sys\n",
    "IN_COLAB = 'google.colab' in sys.modules\n",
    "\n",
    "if IN_COLAB:\n",
    "  os.environ[\"LD_PRELOAD\"] = \"\";\n",
    "  os.environ[\"APPTAINER_BINDPATH\"] = \"/content,/tmp,/cvmfs\"\n",
    "  os.environ[\"MPLCONFIGDIR\"] = \"/content/matplotlib-mpldir\"\n",
    "  os.environ[\"LMOD_CMD\"] = \"/usr/share/lmod/lmod/libexec/lmod\"\n",
    "\n",
    "  !curl -J -O https://raw.githubusercontent.com/NeuroDesk/neurocommand/main/googlecolab_setup.sh\n",
    "  !chmod +x googlecolab_setup.sh\n",
    "  !./googlecolab_setup.sh\n",
    "\n",
    "  os.environ[\"MODULEPATH\"] = ':'.join(map(str, list(map(lambda x: os.path.join(os.path.abspath('/cvmfs/neurodesk.ardc.edu.au/neurodesk-modules/'), x),os.listdir('/cvmfs/neurodesk.ardc.edu.au/neurodesk-modules/')))))"
   ]
  },
  {
   "cell_type": "code",
   "execution_count": 2,
   "metadata": {
    "tags": []
   },
   "outputs": [
    {
     "name": "stdout",
     "output_type": "stream",
     "text": [
      "vendor_id\t: GenuineIntel\n",
      "model name\t: Intel(R) Xeon(R) Gold 6126 CPU @ 2.60GHz\n"
     ]
    }
   ],
   "source": [
    "# Output CPU information:\n",
    "!cat /proc/cpuinfo | grep 'vendor' | uniq\n",
    "!cat /proc/cpuinfo | grep 'model name' | uniq"
   ]
  },
  {
   "cell_type": "markdown",
   "metadata": {},
   "source": [
    "### Import Python Modules"
   ]
  },
  {
   "cell_type": "code",
   "execution_count": 3,
   "metadata": {},
   "outputs": [],
   "source": [
    "%%capture\n",
    "! pip install nibabel matplotlib dipy fury"
   ]
  },
  {
   "cell_type": "code",
   "execution_count": 4,
   "metadata": {},
   "outputs": [],
   "source": [
    "import os\n",
    "import subprocess\n",
    "import nibabel as nib\n",
    "import numpy as np\n",
    "import matplotlib.pyplot as plt\n",
    "import tempfile\n",
    "from ipyniivue import AnyNiivue\n",
    "from IPython.display import display, Markdown\n",
    "from ipywidgets import RadioButtons, VBox, HBox, Dropdown, Output\n",
    "from dipy.data import default_sphere\n",
    "from dipy.core.gradients import gradient_table\n",
    "from dipy.io.image import load_nifti\n",
    "from dipy.reconst.csdeconv import auto_response_ssst\n",
    "from dipy.reconst.csdeconv import ConstrainedSphericalDeconvModel\n",
    "from dipy.viz import window, actor\n",
    "from dipy.sims.voxel import single_tensor_odf\n",
    "from dipy.direction import peaks_from_model"
   ]
  },
  {
   "cell_type": "markdown",
   "metadata": {},
   "source": [
    "## Introduction"
   ]
  },
  {
   "cell_type": "markdown",
   "metadata": {
    "vscode": {
     "languageId": "plaintext"
    }
   },
   "source": [
    "In this notebook, we focus on Constrained Spherical Deconvolution (CSD) to estimate Fiber Orientation Distributions (FODs) for the different tissue types. Additionally, FODs are normalized and tissue boundaries are derived from the anatomical image. The boundaries will be the starting point for generating streamlines in subsequent analyses. \n",
    "\n",
    "In the next part of this series, we will address registration and streamline fitting, advancing toward tractography."
   ]
  },
  {
   "cell_type": "markdown",
   "metadata": {},
   "source": [
    "### Load packages"
   ]
  },
  {
   "cell_type": "code",
   "execution_count": 2,
   "metadata": {},
   "outputs": [
    {
     "data": {
      "text/plain": [
       "['mrtrix3/3.0.4', 'fsl/6.0.7.4']"
      ]
     },
     "execution_count": 2,
     "metadata": {},
     "output_type": "execute_result"
    }
   ],
   "source": [
    "import lmod\n",
    "await lmod.load('mrtrix3/3.0.4')\n",
    "await lmod.load('fsl/6.0.7.4')\n",
    "await lmod.list()"
   ]
  },
  {
   "cell_type": "markdown",
   "metadata": {},
   "source": [
    "## Downloading the preprocessed data from MRtrix Part 1"
   ]
  },
  {
   "cell_type": "code",
   "execution_count": 6,
   "metadata": {},
   "outputs": [
    {
     "name": "stdout",
     "output_type": "stream",
     "text": [
      "100%|██████████████████████████████████| 80.0k/80.0k [00:00<00:00, 73.8Mbytes/s]\n",
      "100%|█████████████████████████████████████| 226M/226M [00:02<00:00, 108Mbytes/s]\n",
      "100%|██████████████████████████████████| 8.31M/8.31M [00:00<00:00, 56.3Mbytes/s]\n"
     ]
    }
   ],
   "source": [
    "! osf -p y2dq4 fetch preprocessed/mask.mif MRtrix_preprocessed/mask.mif\n",
    "! osf -p y2dq4 fetch preprocessed/sub-02_den_preproc_unbiased.mif MRtrix_preprocessed/sub-02_den_preproc_unbiased.mif\n",
    "! osf -p y2dq4 fetch preprocessed/sub-CON02_ses-preop_T1w.nii.gz MRtrix_preprocessed/sub-CON02_ses-preop_T1w.nii.gz\n",
    "! osf -p y2dq4 fetch preprocessed/sub-02_AP.bval MRtrix_preprocessed/sub-02_AP.bval\n",
    "! osf -p y2dq4 fetch preprocessed/sub-02_AP.bvec MRtrix_preprocessed/sub-02_AP.bvec"
   ]
  },
  {
   "cell_type": "code",
   "execution_count": 7,
   "metadata": {},
   "outputs": [
    {
     "data": {
      "text/plain": [
       "'/home/jovyan/Git_repositories/MRtrix_preprocessed'"
      ]
     },
     "execution_count": 7,
     "metadata": {},
     "output_type": "execute_result"
    }
   ],
   "source": [
    "# Save the original directory\n",
    "original_dir = os.getcwd()\n",
    "# Navigate to the dowloaded data\n",
    "os.chdir(\"MRtrix_preprocessed\")\n",
    "os.getcwd()"
   ]
  },
  {
   "cell_type": "markdown",
   "metadata": {},
   "source": [
    "Try typing one of the commands from the library, such as ```mrconvert```. If MRtrix has been installed correctly, you should see the help page printed by default when no arguments are passed to the command:"
   ]
  },
  {
   "cell_type": "code",
   "execution_count": 8,
   "metadata": {},
   "outputs": [
    {
     "name": "stdout",
     "output_type": "stream",
     "text": [
      "MRtrix 3.0.4                        mrconvert                        Mar 20 2024\n",
      "\n",
      "     mrconvert: part of the MRtrix3 package\n",
      "\n",
      "SYNOPSIS\n",
      "\n",
      "     Perform conversion between different file types and optionally extract a\n",
      "     subset of the input image\n",
      "\n",
      "USAGE\n",
      "\n",
      "     mrconvert [ options ] input output\n",
      "\n",
      "        input        the input image.\n",
      "\n",
      "        output       the output image.\n",
      "\n",
      "\n"
     ]
    }
   ],
   "source": [
    "! mrconvert | head -n 18"
   ]
  },
  {
   "cell_type": "markdown",
   "metadata": {},
   "source": [
    "## Constrained Spherical Deconvolution\n",
    "In order to determine the orientation of diffusion within each voxel, we will create a basis function from the subject’s own data. By extracting the diffusion signal from representative grey matter, white matter, and cerebrospinal fluid voxels, we will build a model to estimate what the signal should look like in different orientations and when we apply different b-values. The concept is similar to using a hemodynamic response function (HRF) as a basis function for fMRI data: We have a canonical shape of what we believe the fMRI signal should look like in response to a single event, and then we modulate it to fit the observed data.\n",
    "\n",
    "The response function is similar to the canonical HRF we use in fMRI studies. In this case, however, we’re estimating the response function for each tissue type. If you happened to collect your diffusion data with multiple b-values, then this approach in MRtrix is called multi-shell multi-tissue (MSMT).\n",
    "\n",
    "### dwi2response\n",
    "\n",
    "Unlike most fMRI studies which use a basis function that has been created beforehand, MRtrix will derive a basis function from the diffusion data; using an individual subject’s data is more precise and specific to that subject. The command ```dwi2response``` has several different algorithms that you can choose from, but for this tutorial we will use the “dhollander” algorithm:"
   ]
  },
  {
   "cell_type": "code",
   "execution_count": 9,
   "metadata": {},
   "outputs": [
    {
     "name": "stdout",
     "output_type": "stream",
     "text": [
      "dwi2response: \u001b[03;32m\u001b[0m\n",
      "dwi2response: \u001b[03;32mNote that this script makes use of commands / algorithms that have relevant articles for citation. Please consult the help page (-help option) for more information.\u001b[0m\n",
      "dwi2response: \u001b[03;32m\u001b[0m\n",
      "dwi2response: \u001b[03;32mGenerated scratch directory: /home/jovyan/Git_repositories/MRtrix_preprocessed/dwi2response-tmp-8O8KLK/\u001b[0m\n",
      "dwi2response: \u001b[03;32mImporting DWI data (/home/jovyan/Git_repositories/MRtrix_preprocessed/sub-02_den_preproc_unbiased.mif)...\u001b[0m\n",
      "dwi2response: \u001b[03;32mChanging to scratch directory (/home/jovyan/Git_repositories/MRtrix_preprocessed/dwi2response-tmp-8O8KLK/)\u001b[0m\n",
      "dwi2response: \u001b[03;32mComputing brain mask (dwi2mask)...\u001b[0m\n",
      "dwi2response: \u001b[03;32m-------\u001b[0m\n",
      "dwi2response: \u001b[03;32m4 unique b-value(s) detected: 0,700,1200,2800 with 6,16,30,50 volumes\u001b[0m\n",
      "dwi2response: \u001b[03;32m-------\u001b[0m\n",
      "dwi2response: \u001b[03;32mPreparation:\u001b[0m\n",
      "dwi2response: \u001b[03;32m* Eroding brain mask by 3 pass(es)...\u001b[0m\n",
      "dwi2response: \u001b[03;32m  [ mask: 94895 -> 66960 ]\u001b[0m\n",
      "dwi2response: \u001b[03;32m* Computing signal decay metric (SDM):\u001b[0m\n",
      "dwi2response: \u001b[03;32m * b=0...\u001b[0m\n",
      "dwi2response: \u001b[03;32m * b=700...\u001b[0m\n",
      "dwi2response: \u001b[03;32m * b=1200...\u001b[0m\n",
      "dwi2response: \u001b[03;32m * b=2800...\u001b[0m\n",
      "dwi2response: \u001b[03;32m* Removing erroneous voxels from mask and correcting SDM...\u001b[0m\n",
      "dwi2response: \u001b[03;32m  [ mask: 66960 -> 66923 ]\u001b[0m\n",
      "dwi2response: \u001b[03;32m-------\u001b[0m\n",
      "dwi2response: \u001b[03;32mCrude segmentation:\u001b[0m\n",
      "dwi2response: \u001b[03;32m* Crude WM versus GM-CSF separation (at FA=0.2)...\u001b[0m\n",
      "dwi2response: \u001b[03;32m  [ 66923 -> 36808 (WM) & 30115 (GM-CSF) ]\u001b[0m\n",
      "dwi2response: \u001b[03;32m* Crude GM versus CSF separation...\u001b[0m\n",
      "dwi2response: \u001b[03;32m  [ 30115 -> 19977 (GM) & 10138 (CSF) ]\u001b[0m\n",
      "dwi2response: \u001b[03;32m-------\u001b[0m\n",
      "dwi2response: \u001b[03;32mRefined segmentation:\u001b[0m\n",
      "dwi2response: \u001b[03;32m* Refining WM...\u001b[0m\n",
      "dwi2response: \u001b[03;32m  [ WM: 36808 -> 33730 ]\u001b[0m\n",
      "dwi2response: \u001b[03;32m* Refining GM...\u001b[0m\n",
      "dwi2response: \u001b[03;32m  [ GM: 19977 -> 11830 ]\u001b[0m\n",
      "dwi2response: \u001b[03;32m* Refining CSF...\u001b[0m\n",
      "dwi2response: \u001b[03;32m  [ CSF: 10138 -> 5102 ]\u001b[0m\n",
      "dwi2response: \u001b[03;32m-------\u001b[0m\n",
      "dwi2response: \u001b[03;32mFinal voxel selection and response function estimation:\u001b[0m\n",
      "dwi2response: \u001b[03;32m* CSF:\u001b[0m\n",
      "dwi2response: \u001b[03;32m * Selecting final voxels (10.0% of refined CSF)...\u001b[0m\n",
      "dwi2response: \u001b[03;32m   [ CSF: 5102 -> 510 ]\u001b[0m\n",
      "dwi2response: \u001b[03;32m * Estimating response function...\u001b[0m\n",
      "dwi2response: \u001b[03;32m* GM:\u001b[0m\n",
      "dwi2response: \u001b[03;32m * Selecting final voxels (2.0% of refined GM)...\u001b[0m\n",
      "dwi2response: \u001b[03;32m   [ GM: 11830 -> 237 ]\u001b[0m\n",
      "dwi2response: \u001b[03;32m * Estimating response function...\u001b[0m\n",
      "dwi2response: \u001b[03;32m* Single-fibre WM:\u001b[0m\n",
      "dwi2response: \u001b[03;32m * Selecting final voxels (0.5% of refined WM)...\u001b[0m\n",
      "dwi2response: \u001b[03;32m   Selecting WM single-fibre voxels using built-in (Dhollander et al., 2019) algorithm\u001b[0m\n",
      "dwi2response: \u001b[03;32m   [ WM: 33730 -> 169 (single-fibre) ]\u001b[0m\n",
      "dwi2response: \u001b[03;32m * Estimating response function...\u001b[0m\n",
      "dwi2response: \u001b[03;32m-------\u001b[0m\n",
      "dwi2response: \u001b[03;32mGenerating outputs...\u001b[0m\n",
      "dwi2response: \u001b[03;32m-------\u001b[0m\n",
      "dwi2response: \u001b[03;32mChanging back to original directory (/home/jovyan/Git_repositories/MRtrix_preprocessed)\u001b[0m\n",
      "dwi2response: \u001b[03;32mDeleting scratch directory (/home/jovyan/Git_repositories/MRtrix_preprocessed/dwi2response-tmp-8O8KLK/)\u001b[0m\n"
     ]
    }
   ],
   "source": [
    "! dwi2response dhollander sub-02_den_preproc_unbiased.mif wm.txt gm.txt csf.txt -voxels voxels.mif"
   ]
  },
  {
   "cell_type": "markdown",
   "metadata": {},
   "source": [
    "##### \n",
    "This command uses an algorithm to deconvolve the fiber orientation distributions (FODs) - in other words, it tries to decompose the diffusion signal into a set of smaller individual fiber orientations. You have several algorithms to choose from, but the most common are tournier and dhollander. The tournier algorithm is used for single-shell data and for a single tissue type (e.g., white matter). The dhollander algorithm can be used for either single- or multi-shell data, and for multiple tissue types. Estimating the FOD for each tissue type will later help us do anatomically constrained tractography.\n",
    "\n",
    "The next argument specifies your input data, and the resulting response functions for the different tissue types. The order matters; you can call the output files whatever you want, but it makes the most sense to label them as some kind of variation on the phrases “white matter”, “grey matter”, and “cerebrospinal fluid” (here, labeled as “wm.txt”, “gm.txt”, and “csf.txt”). The last option, “-voxels”, specifies an output dataset that shows which voxels from the image were used to construct the basis functions for each tissue type. This dataset can be viewed by typing the following:\n",
    "\n",
    "```javascript\n",
    "mrview sub-02_den_preproc_unbiased.mif -overlay.load voxels.mif\n",
    "```\n",
    "\n",
    "We will visualize the voxels used to construct a basis function for each tissue type using **Matplotlib**. CSF voxels should be colored red, gray matter voxels green, and white matter voxels blue:"
   ]
  },
  {
   "cell_type": "code",
   "execution_count": 10,
   "metadata": {},
   "outputs": [
    {
     "data": {
      "image/png": "[encoded data removed]",
      "text/plain": [
       "<Figure size 1500x500 with 3 Axes>"
      ]
     },
     "metadata": {},
     "output_type": "display_data"
    }
   ],
   "source": [
    "# Function to convert .mif files to temporary .nii.gz files\n",
    "def convert_mif_to_nii(mif_file):\n",
    "    with tempfile.NamedTemporaryFile(suffix=\".nii.gz\", delete=False) as temp_file:\n",
    "        result = subprocess.run([\"mrconvert\", mif_file, temp_file.name, \"-force\"], capture_output=True, text=True)\n",
    "        if result.returncode != 0:\n",
    "            print(f\"Error in mrconvert: {result.stderr}\")\n",
    "            exit()\n",
    "        return temp_file.name\n",
    "\n",
    "mif_file_path1 = 'sub-02_den_preproc_unbiased.mif'\n",
    "mif_file_path2 = 'voxels.mif'\n",
    "\n",
    "# Convert both .mif files to temporary .nii.gz files\n",
    "nii_file1 = convert_mif_to_nii(mif_file_path1)\n",
    "nii_file2 = convert_mif_to_nii(mif_file_path2)\n",
    "\n",
    "# Load the converted images\n",
    "data1 = nib.load(nii_file1).get_fdata()\n",
    "data2 = nib.load(nii_file2).get_fdata()\n",
    "\n",
    "# Choose the middle slices \n",
    "slice_idx1 = data1.shape[2] // 2  # Axial slice \n",
    "slice_idx2 = data1.shape[1] // 2  # Coronal slice \n",
    "slice_idx3 = data1.shape[0] // 2  # Sagittal slice\n",
    "\n",
    "# Prepare RGB overlay for tissue types \n",
    "rgb_overlay = np.zeros(data2.shape[:3] + (3,), dtype=np.float32)\n",
    "rgb_overlay[..., 0] = data2[..., 0]  # Red for CSF\n",
    "rgb_overlay[..., 1] = data2[..., 1]  # Green for GM\n",
    "rgb_overlay[..., 2] = data2[..., 2]  # Blue for WM\n",
    "\n",
    "# Plot the slices using Matplotlib\n",
    "fig, axes = plt.subplots(1, 3, figsize=(15, 5))\n",
    "\n",
    "# Axial slice\n",
    "axes[0].imshow(np.rot90(data1[:, :, slice_idx1, 0]), cmap=\"Greys_r\", vmin=0, vmax=700)\n",
    "axes[0].imshow(np.rot90(rgb_overlay[:, :, slice_idx1]), alpha=0.7)\n",
    "axes[0].axis(\"off\")\n",
    "axes[0].set_title('Axial Slice')\n",
    "\n",
    "# Coronal slice\n",
    "axes[1].imshow(np.rot90(data1[:, slice_idx2, :, 0]), cmap=\"Greys_r\", vmin=0, vmax=700)\n",
    "axes[1].imshow(np.rot90(rgb_overlay[:, slice_idx2, :]), alpha=0.7)\n",
    "axes[1].axis(\"off\")\n",
    "axes[1].set_title('Coronal Slice')\n",
    "\n",
    "# Sagittal slice\n",
    "axes[2].imshow(np.rot90(data1[slice_idx3, :, :, 0]), cmap=\"Greys_r\", vmin=0, vmax=700)\n",
    "axes[2].imshow(np.rot90(rgb_overlay[slice_idx3, :, :]), alpha=0.7)\n",
    "axes[2].axis(\"off\")\n",
    "axes[2].set_title('Sagittal Slice')\n",
    "\n",
    "# Adjust layout and display\n",
    "plt.tight_layout()\n",
    "plt.show()"
   ]
  },
  {
   "cell_type": "markdown",
   "metadata": {},
   "source": [
    "## Fiber Orientation Density (FOD)\n",
    "We will now use the basis functions generated above to create Fiber Orientation Densities, or FODs. These are estimates of the amount of diffusion in each of three orthogonal directions. As described in the introductory chapter, these are analogous to the tensors that are used in traditional diffusion studies. However, MRtrix allows for the estimation of multiple crossing fibers within a single voxel, and can resolve the diffusion signal into multiple directions.\n",
    "\n",
    "To do this, we will use the command ```dwi2fod``` to apply the basis functions to the diffusion data. The “-mask” option specifies which voxels we will use; this is simply to restrict our analysis to brain voxels and reduce the computing time. The “.mif” files specified after each basis function will output an FOD image for that tissue type:"
   ]
  },
  {
   "cell_type": "code",
   "execution_count": 11,
   "metadata": {},
   "outputs": [
    {
     "name": "stdout",
     "output_type": "stream",
     "text": [
      "dwi2fod: [100%] preloading data for \"sub-02_den_preproc_unbiased.mif\"\u001b[0K[0K\u001b[?7h\u001b[?7l\u001b[?7l\u001b[?7l\u001b[?7l\u001b[?7l\u001b[?7l\u001b[?7l\u001b[?7l\u001b[?7l\u001b[?7l\u001b[?7l\u001b[?7l\u001b[?7l\u001b[?7l\u001b[?7l\u001b[?7l\u001b[?7l\n",
      "dwi2fod: [100%] performing MSMT CSD (4 shells, 3 tissues)\u001b[0K[0K\u001b[?7h\u001b[?7l\u001b[?7l\u001b[?7l\u001b[?7l\u001b[?7l\u001b[?7l\u001b[?7l\u001b[?7l\u001b[?7l\u001b[?7l\u001b[?7l\u001b[?7l\u001b[?7l\u001b[?7l\u001b[?7l\u001b[?7l\u001b[?7l\u001b[?7l\u001b[?7l\u001b[?7l\u001b[?7l\u001b[?7l\u001b[?7l\u001b[?7l\u001b[?7l\u001b[?7l\u001b[?7l\u001b[?7l\u001b[?7l\u001b[?7l\u001b[?7l\u001b[?7l\u001b[?7l\u001b[?7l\u001b[?7l\u001b[?7l\u001b[?7l\u001b[?7l\u001b[?7l\u001b[?7l\u001b[?7l\u001b[?7l\u001b[?7l\u001b[?7l\u001b[?7l\u001b[?7l\u001b[?7l\u001b[?7l\u001b[?7l\u001b[?7l\u001b[?7l\u001b[?7l\u001b[?7l\u001b[?7l\u001b[?7l\u001b[?7l\u001b[?7l\u001b[?7l\u001b[?7l\u001b[?7l\u001b[?7l\u001b[?7l\u001b[?7l\u001b[?7l\u001b[?7l\u001b[?7l\u001b[?7l\u001b[?7l\u001b[?7l\u001b[?7l\u001b[?7l\u001b[?7l\u001b[?7l\u001b[?7l\u001b[?7l\u001b[?7l\u001b[?7l\u001b[?7l\u001b[?7l\u001b[?7l\u001b[?7l\n"
     ]
    }
   ],
   "source": [
    "! dwi2fod msmt_csd sub-02_den_preproc_unbiased.mif -mask mask.mif wm.txt wmfod.mif gm.txt gmfod.mif csf.txt csffod.mif"
   ]
  },
  {
   "cell_type": "markdown",
   "metadata": {},
   "source": [
    "In order to view these FODs, we will combine them into a single image. The command ```mrconvert``` will extract the first image from the wmfod.mif file, which is the image with a b-value of 0. The output of this command is then used as the input into an ```mrcat``` command which combines the FOD images from all three tissue types into a single image that we will call “vf.mif”:"
   ]
  },
  {
   "cell_type": "code",
   "execution_count": 12,
   "metadata": {},
   "outputs": [
    {
     "name": "stdout",
     "output_type": "stream",
     "text": [
      "mrconvert: [100%] copying from \"wmfod.mif\" to \"/tmp/mrtrix-tmp-yYcy0U.mif\"\u001b[0K[0K\u001b[?7h\u001b[?7l\n",
      "mrcat: [100%] concatenating \"csffod.mif\"\u001b[0K[0K\u001b[?7h\u001b[?7l\u001b[?7l\n",
      "mrcat: [100%] concatenating \"gmfod.mif\"\u001b[0K[0K\u001b[?7h\u001b[?7l\n",
      "mrcat: [100%] concatenating \"/tmp/mrtrix-tmp-yYcy0U.mif\"\u001b[0K[0K\u001b[?7h\u001b[?7l\u001b[?7l\n"
     ]
    }
   ],
   "source": [
    "! mrconvert -coord 3 0 wmfod.mif - | mrcat csffod.mif gmfod.mif - vf.mif"
   ]
  },
  {
   "cell_type": "markdown",
   "metadata": {},
   "source": [
    "####\n",
    "The white matter FODs can then be overlaid on this image, so that we can observe whether the white matter FODs do indeed fall within the white matter, and also whether they are along the orientations that we would expect. The command for mrview is: \n",
    "```javascript\n",
    "mrview vf.mif -odf.load_sh wmfod.mif\n",
    "```\n",
    "\n",
    "####"
   ]
  },
  {
   "cell_type": "markdown",
   "metadata": {},
   "source": [
    "Now, we will use the python libraries **DIPY** and **Matplotlib** to visualize white matter FODs of an axial slice. However, we will also need to reconstruct the fiber orientation distribution function (fODF) with DIPY in two steps:\n",
    "\n",
    "- Estimation of the fiber response function\n",
    "- Use the response function to reconstruct the fODF\n",
    "\n",
    "#### Reconstruction with Constrained Spherical Deconvolution with DIPY\n",
    "\n",
    "A straightforward method for estimating the fiber response function is to focus on regions of the brain known to contain single, coherent fiber populations. For instance, placing a region of interest (ROI) at the center of the brain can capture single fibers from the corpus callosum. The ```auto_response_ssst``` function computes the fractional anisotropy (FA) within a cuboidal ROI, defined by radii specified in roi_radii. It then derives the response function based on voxels with an FA value exceeding 0.7."
   ]
  },
  {
   "cell_type": "code",
   "execution_count": null,
   "metadata": {},
   "outputs": [],
   "source": [
    "data_path = convert_mif_to_nii('sub-02_den_preproc_unbiased.mif')\n",
    "\n",
    "# Load the data\n",
    "data, affine = load_nifti(data_path) \n",
    "\n",
    "bvals_ap = np.loadtxt('sub-02_AP.bval')\n",
    "bvecs_ap = np.loadtxt('sub-02_AP.bvec').T  # Make sure to transpose bvecs for correct shape\n",
    "\n",
    "# Create the gradient table\n",
    "gtab_ap = gradient_table(bvals_ap, bvecs_ap)\n",
    "\n",
    "response, ratio = auto_response_ssst(gtab_ap, data, roi_radii=10, fa_thr=0.7)"
   ]
  },
  {
   "cell_type": "markdown",
   "metadata": {},
   "source": [
    "To ensure the response function is accurate, we can visualize its orientation distribution function (ODF):"
   ]
  },
  {
   "cell_type": "code",
   "execution_count": null,
   "metadata": {},
   "outputs": [],
   "source": [
    "scene = window.Scene()\n",
    "evals = response[0]\n",
    "evecs = np.array([[0, 1, 0], [0, 0, 1], [1, 0, 0]]).T\n",
    "\n",
    "response_odf = single_tensor_odf(default_sphere.vertices, evals, evecs)\n",
    "# transform our data from 1D to 4D\n",
    "response_odf = response_odf[None, None, None, :]\n",
    "response_actor = actor.odf_slicer(response_odf, sphere=default_sphere,\n",
    "                                  colormap='plasma')\n",
    "scene.add(response_actor)\n",
    "\n",
    "csd_response = window.snapshot(\n",
    "    scene, fname=os.path.join(os.getcwd(), 'csd_response.png'), size=(200, 200),\n",
    "    offscreen=True)\n",
    "\n",
    "fig, axes = plt.subplots(figsize=(3,3))\n",
    "axes.imshow(csd_response, cmap=\"plasma\")\n",
    "axes.axis(\"off\")\n",
    "plt.show()"
   ]
  },
  {
   "cell_type": "markdown",
   "metadata": {},
   "source": [
    "After estimating the response function, we can begin the deconvolution process by fitting the CSD model to the data."
   ]
  },
  {
   "cell_type": "code",
   "execution_count": null,
   "metadata": {},
   "outputs": [],
   "source": [
    "# Set up the scene for visualization\n",
    "scene = window.Scene()\n",
    "\n",
    "# Fit the CSD model to the data\n",
    "csd_model = ConstrainedSphericalDeconvModel(gtab_ap, response)\n",
    "\n",
    "# Fit on a smaller portion of the data (optional for faster computation)\n",
    "data_small =  data[30:60, 40:70, 29:30]    \n",
    "csd_fit = csd_model.fit(data_small) \n",
    "csd_odf = csd_fit.odf(default_sphere)\n",
    "\n",
    "fodf_spheres = actor.odf_slicer(csd_odf, sphere=default_sphere, \n",
    "                              scale=0.9, norm=False, \n",
    "                              colormap='plasma')\n",
    "scene.add(fodf_spheres)\n",
    "\n",
    "csd_odfs = window.snapshot(\n",
    "    scene, fname=os.path.join(os.getcwd(), 'csd_odfs.png'), size=(600, 600),\n",
    "    offscreen=True)\n",
    "\n",
    "fig, axes = plt.subplots(figsize=(7,7))\n",
    "axes.imshow(csd_odfs, cmap=\"plasma\")\n",
    "axes.axis(\"off\")\n",
    "plt.show()"
   ]
  },
  {
   "cell_type": "markdown",
   "metadata": {},
   "source": [
    "Using DIPY's ```peaks_from_model```, we can identify the peak directions (maxima) of the ODFs. We will then visualize the ODFs and their corresponding peaks in the same space."
   ]
  },
  {
   "cell_type": "code",
   "execution_count": null,
   "metadata": {},
   "outputs": [],
   "source": [
    "csd_peaks = peaks_from_model(model=csd_model,\n",
    "                             data=data_small,\n",
    "                             sphere=default_sphere,\n",
    "                             relative_peak_threshold=.5,\n",
    "                             min_separation_angle=25,\n",
    "                             parallel=True,\n",
    "                             num_processes=10)\n",
    "\n",
    "scene.clear()\n",
    "fodf_peaks = actor.peak_slicer(csd_peaks.peak_dirs, peaks_values=csd_peaks.peak_values)\n",
    "scene.add(fodf_peaks)\n",
    "\n",
    "fodf_spheres.GetProperty().SetOpacity(0.6)\n",
    "scene.add(fodf_spheres)\n",
    "\n",
    "csd_both = window.snapshot(\n",
    "    scene, fname=os.path.join(os.getcwd(), 'csd_both.png'), size=(600, 600),\n",
    "    offscreen=True)\n",
    "\n",
    "fig, axes = plt.subplots(figsize=(7,7))\n",
    "axes.imshow(csd_both, cmap=\"plasma\")\n",
    "axes.axis(\"off\")\n",
    "plt.show()"
   ]
  },
  {
   "cell_type": "markdown",
   "metadata": {},
   "source": [
    "## Normalization\n",
    "\n",
    "In order to make the comparisons valid across subjects, we will need to normalize the FODs. This ensures that any differences we see are not due to intensity differences in the image, similar to how we correct for the size of the brain when comparing volumetric differences across subjects.\n",
    "\n",
    "To normalize the data, we will use the ```mtnormalise``` command. This requires an input and output for each tissue type, as well as a mask to restrict the analysis to brain voxels:"
   ]
  },
  {
   "cell_type": "code",
   "execution_count": 14,
   "metadata": {},
   "outputs": [
    {
     "name": "stdout",
     "output_type": "stream",
     "text": [
      "mtnormalise: [100%] performing log-domain intensity normalisation\u001b[0K[0K\u001b[?7h\u001b[?7l\u001b[?7l\u001b[?7l\u001b[?7l\u001b[?7l\u001b[?7l\u001b[?7l\u001b[?7l\u001b[?7l\n"
     ]
    }
   ],
   "source": [
    "! mtnormalise wmfod.mif wmfod_norm.mif gmfod.mif gmfod_norm.mif csffod.mif csffod_norm.mif -mask mask.mif"
   ]
  },
  {
   "cell_type": "markdown",
   "metadata": {},
   "source": [
    "Now that we’ve correctly estimated the FODs for each tissue type, we are ready to begin laying down the foundation for our tractography analysis. The next step will be to determine the boundary between the grey matter and the white matter, which we will use as a starting point for our streamlines."
   ]
  },
  {
   "cell_type": "markdown",
   "metadata": {},
   "source": [
    "## Creating the Tissue Boundaries\n",
    "We are almost ready to begin our streamline analysis, in which we will place seeds at random locations along the boundary between the grey matter and the white matter. A streamline will grow from each seed and trace a path from that seed region until it terminates in another region. Some of the streamlines will terminate in places that don’t make sense - for example, a streamline may terminate at the border of the ventricles. We will cull these “error” streamlines, and be left with a majority of streamlines that appear to connect distant grey matter regions.\n",
    "\n",
    "To do this, we will first need to create a boundary between the grey matter and the white matter. The MRtrix command ```5ttgen``` will use FSL’s FAST, along with other commands, to segment the anatomical image into five tissue types:\n",
    "\n",
    "    Grey Matter;\n",
    "\n",
    "    Subcortical Grey Matter (such as the amygdala and basal ganglia);\n",
    "\n",
    "    White Matter;\n",
    "\n",
    "    Cerebrospinal Fluid; and\n",
    "\n",
    "    Pathological Tissue.\n",
    "\n",
    "Once we have segmented the brain into those tissue classes, we can then use the boundary as a mask to restrict where we will place our seeds."
   ]
  },
  {
   "cell_type": "markdown",
   "metadata": {},
   "source": [
    "### Converting the Anatomical Image\n",
    "\n",
    "The anatomical image first needs to be converted to MRtrix format with ```mrconvert```."
   ]
  },
  {
   "cell_type": "code",
   "execution_count": 15,
   "metadata": {},
   "outputs": [
    {
     "name": "stdout",
     "output_type": "stream",
     "text": [
      "mrconvert: [100%] uncompressing image \"sub-CON02_ses-preop_T1w.nii.gz\"\u001b[0K[0K\u001b[?7h\u001b[?7l\u001b[?7l\u001b[?7l\u001b[?7l\n",
      "mrconvert: [100%] copying from \"sub-CON02_ses-preop_T1w.nii.gz\" to \"T1.mif\"\u001b[0K[0K\u001b[?7h\n"
     ]
    }
   ],
   "source": [
    "! mrconvert sub-CON02_ses-preop_T1w.nii.gz T1.mif"
   ]
  },
  {
   "cell_type": "code",
   "execution_count": 16,
   "metadata": {},
   "outputs": [
    {
     "name": "stdout",
     "output_type": "stream",
     "text": [
      "5ttgen: \u001b[03;32m\u001b[0m\n",
      "5ttgen: \u001b[03;32mNote that this script makes use of commands / algorithms that have relevant articles for citation; INCLUDING FROM EXTERNAL SOFTWARE PACKAGES. Please consult the help page (-help option) for more information.\u001b[0m\n",
      "5ttgen: \u001b[03;32m\u001b[0m\n",
      "5ttgen: \u001b[03;32mGenerated scratch directory: /home/jovyan/Git_repositories/MRtrix_preprocessed/5ttgen-tmp-EHE0O1/\u001b[0m\n",
      "\u001b[03;36mCommand:\u001b[0m  mrconvert /home/jovyan/Git_repositories/MRtrix_preprocessed/T1.mif /home/jovyan/Git_repositories/MRtrix_preprocessed/5ttgen-tmp-EHE0O1/input.mif\n",
      "5ttgen: \u001b[03;32mChanging to scratch directory (/home/jovyan/Git_repositories/MRtrix_preprocessed/5ttgen-tmp-EHE0O1/)\u001b[0m\n",
      "\u001b[03;36mCommand:\u001b[0m  mrconvert input.mif T1.nii -strides -1,+2,+3\n",
      "\u001b[03;36mCommand:\u001b[0m  maskfilter /opt/fsl-6.0.5.1/data/standard/MNI152_T1_1mm_brain_mask_dil.nii.gz dilate mni_mask.nii -npass 4\n",
      "\u001b[03;36mCommand:\u001b[0m  standard_space_roi T1.nii T1_preBET.nii.gz -maskMASK mni_mask.nii -roiFOV\n",
      "\u001b[03;36mCommand:\u001b[0m  bet T1_preBET.nii.gz T1_BET.nii.gz -f 0.15 -R\n",
      "\u001b[03;36mCommand:\u001b[0m  fast T1_BET.nii.gz\n",
      "\u001b[03;36mCommand:\u001b[0m  run_first_all -m none -s L_Accu,R_Accu,L_Caud,R_Caud,L_Pall,R_Pall,L_Puta,R_Puta,L_Thal,R_Thal -i T1.nii -o first\n",
      "5ttgen: \u001b[03;36m[100%]\u001b[0m \u001b[03;32mGenerating partial volume images for SGM structures\u001b[0m\u001b[0K\u001b[0K\u001b[?7h\u001b[?7h\u001b[?7l\u001b[?7l\u001b[?7l\u001b[?7l\u001b[?7l\u001b[?7l\u001b[?7l\u001b[?7l\u001b[?7l\u001b[?7l\n",
      "\u001b[03;36mCommand:\u001b[0m  mrmath [mesh2voxel_*.mif (10 items)] sum - | mrcalc - 1.0 -min all_sgms.mif\n",
      "\u001b[03;36mCommand:\u001b[0m  mrthreshold T1_BET_pve_2.nii.gz - -abs 0.001 | maskfilter - connect - -connectivity | mrcalc 1 - 1 -gt -sub remove_unconnected_wm_mask.mif -datatype bit\n",
      "\u001b[03;36mCommand:\u001b[0m  mrcalc T1_BET_pve_0.nii.gz remove_unconnected_wm_mask.mif -mult csf.mif\n",
      "\u001b[03;36mCommand:\u001b[0m  mrcalc 1.0 csf.mif -sub all_sgms.mif -min sgm.mif\n",
      "\u001b[03;36mCommand:\u001b[0m  mrcalc 1.0 csf.mif sgm.mif -add -sub T1_BET_pve_1.nii.gz T1_BET_pve_2.nii.gz -add -div multiplier.mif\n",
      "\u001b[03;36mCommand:\u001b[0m  mrcalc multiplier.mif -finite multiplier.mif 0.0 -if multiplier_noNAN.mif\n",
      "\u001b[03;36mCommand:\u001b[0m  mrcalc T1_BET_pve_1.nii.gz multiplier_noNAN.mif -mult remove_unconnected_wm_mask.mif -mult cgm.mif\n",
      "\u001b[03;36mCommand:\u001b[0m  mrcalc T1_BET_pve_2.nii.gz multiplier_noNAN.mif -mult remove_unconnected_wm_mask.mif -mult wm.mif\n",
      "\u001b[03;36mCommand:\u001b[0m  mrcalc 0 wm.mif -min path.mif\n",
      "\u001b[03;36mCommand:\u001b[0m  mrcat cgm.mif sgm.mif wm.mif csf.mif path.mif - -axis 3 | mrconvert - combined_precrop.mif -strides +2,+3,+4,+1\n",
      "\u001b[03;36mCommand:\u001b[0m  mrmath combined_precrop.mif sum - -axis 3 | mrthreshold - - -abs 0.5 | mrgrid combined_precrop.mif crop result.mif -mask -\n",
      "\u001b[03;36mCommand:\u001b[0m  mrconvert result.mif /home/jovyan/Git_repositories/MRtrix_preprocessed/5tt_nocoreg.mif\n",
      "\u001b[03;36mCommand:\u001b[0m  5ttcheck result.mif\n",
      "5ttgen: \u001b[03;32mChanging back to original directory (/home/jovyan/Git_repositories/MRtrix_preprocessed)\u001b[0m\n",
      "5ttgen: \u001b[03;32mDeleting scratch directory (/home/jovyan/Git_repositories/MRtrix_preprocessed/5ttgen-tmp-EHE0O1/)\u001b[0m\n"
     ]
    }
   ],
   "source": [
    "! 5ttgen fsl T1.mif 5tt_nocoreg.mif"
   ]
  },
  {
   "cell_type": "markdown",
   "metadata": {},
   "source": [
    "####\n",
    "This command will take about 10-15 minutes. If the segmentation has finished successfully, you can visualize the images with\n",
    "```javascript \n",
    "mrview 5tt_nocoreg.mif\n",
    "``` \n",
    "\n",
    "\n",
    "The output from 5ttgen fsl anat.mif 5tt_nocoreg.mif will be a single dataset with 5 volumes, one per tissue type. Check this image with ```mrview```, using the right and left arrow keys to toggle between tissue types. The tissue types are: GM, WM, CSF, subcortical GM, and pathological tissue. If no pathological tissue is detected, then that volume is blank.\n",
    "\n",
    "#####\n",
    "Here, we will use **AnyNiivue** for interactive visualization of the different tissue types:"
   ]
  },
  {
   "cell_type": "code",
   "execution_count": 17,
   "metadata": {},
   "outputs": [
    {
     "data": {
      "application/vnd.jupyter.widget-view+json": {
       "model_id": "9bae53c4cd5544429772b597066909b4",
       "version_major": 2,
       "version_minor": 0
      },
      "text/plain": [
       "VBox(children=(RadioButtons(description='Select Tissue Type:', options=(('GM', 0), ('Subcortical GM', 1), ('WM…"
      ]
     },
     "metadata": {},
     "output_type": "display_data"
    }
   ],
   "source": [
    "# Extract frames from 5tt_nocoreg.mif into temporary files\n",
    "output_files = []\n",
    "mif_file_path = '5tt_nocoreg.mif'\n",
    "\n",
    "for idx in range(5):\n",
    "    with tempfile.NamedTemporaryFile(suffix=\".mif\", delete=False) as temp_file:\n",
    "        temp_file.close()\n",
    "        output_path = temp_file.name\n",
    "        output_files.append(output_path)\n",
    "        subprocess.run([\"mrconvert\", mif_file_path, \"-coord\", \"3\", str(idx), output_path, \"-force\", \"-quiet\"])\n",
    "\n",
    "# Initialize the AnyNiivue viewer\n",
    "nv = AnyNiivue()\n",
    "\n",
    "# Define the volumes with opacity set to 0 initially for all but the default layer (opacity = 1.0)\n",
    "volumes = [\n",
    "    {\"path\": output_files[0], \"colormap\": \"gray\", \"opacity\": 1.0}, #default layer\n",
    "    {\"path\": output_files[1], \"colormap\": \"gray\", \"opacity\": 0.0},\n",
    "    {\"path\": output_files[2], \"colormap\": \"gray\", \"opacity\": 0.0},\n",
    "    {\"path\": output_files[3], \"colormap\": \"gray\", \"opacity\": 0.0},\n",
    "    {\"path\": output_files[4], \"colormap\": \"gray\", \"opacity\": 0.0},\n",
    "]\n",
    "\n",
    "# Load all the volumes into the viewer\n",
    "nv.load_volumes(volumes)\n",
    "\n",
    "# Function to update the opacity of the layers based on selection\n",
    "def update_layer(change):\n",
    "    selected_index = change.new\n",
    "\n",
    "    # Set opacity to 0 for all volumes\n",
    "    for volume in nv.volumes:\n",
    "        volume.opacity = 0.0\n",
    "\n",
    "    # Set opacity to 1 for the selected volume\n",
    "    nv.volumes[selected_index].opacity = 1.0\n",
    "\n",
    "# Create RadioButtons widget for selecting the active layer\n",
    "layer_selector = RadioButtons(\n",
    "    options=[\n",
    "        (\"GM\", 0),\n",
    "        (\"Subcortical GM\", 1),\n",
    "        (\"WM\", 2),\n",
    "        (\"CSF\", 3),\n",
    "        (\"Pathological Tissue\", 4),\n",
    "    ],\n",
    "    description='Select Tissue Type:',\n",
    "    style={'description_width': 'initial'}\n",
    ")\n",
    "\n",
    "# Observe changes in the RadioButtons widget\n",
    "layer_selector.observe(update_layer, names='value')\n",
    "\n",
    "# Display the RadioButtons and the AnyNiivue viewer\n",
    "display(VBox([layer_selector, nv]))\n"
   ]
  },
  {
   "cell_type": "markdown",
   "metadata": {},
   "source": [
    "<div style=\"background-color: #f0f8ff; padding: 10px; border-radius: 5px;\">\n",
    "    <div style=\"background-color: #add8e6; padding: 5px; border-radius: 5px; font-weight: bold;\">\n",
    "        <span style=\"font-size: 15px; color: #add8e6; background-color: white; border-radius: 50%; width: 20px; height: 20px; display: inline-block; text-align: center; line-height: 20px;\">\n",
    "            !\n",
    "        </span> <span style=\"color: white;\">Note:</span>\n",
    "    </div>\n",
    "    <p style=\"margin: 10px 0;\">\n",
    "If the segmentation step fails, this may be due to insufficient contrast between the tissue types; for example, some anatomical images are either very dark across both the grey and white matter, or very light across both tissue types. We can help the segmentation process by increasing the intensity contrast (also known as intensity normalization) between the tissues with a command like AFNI’s 3dUnifize, e.g. </p>\n",
    "        <code>3dUnifize -input anat.nii -prefix anat_unifize.nii</code> </p>\n",
    "        The difference between the image before and after may be subtle, but it can prevent a segmentation error from being thrown.\n",
    "    </p>\n",
    "</div>"
   ]
  }
 ],
 "metadata": {
  "kernelspec": {
   "display_name": "Python 3 (ipykernel)",
   "language": "python",
   "name": "python3"
  },
  "language_info": {
   "codemirror_mode": {
    "name": "ipython",
    "version": 3
   },
   "file_extension": ".py",
   "mimetype": "text/x-python",
   "name": "python",
   "nbconvert_exporter": "python",
   "pygments_lexer": "ipython3",
   "version": "3.11.6"
  }
 },
 "nbformat": 4,
 "nbformat_minor": 4
}
