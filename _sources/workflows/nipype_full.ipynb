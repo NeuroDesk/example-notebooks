{
 "cells": [
  {
   "cell_type": "markdown",
   "id": "cb046a2f-4a99-407e-8c02-d395c4710975",
   "metadata": {
    "editable": true,
    "slideshow": {
     "slide_type": ""
    },
    "tags": []
   },
   "source": [
    "<link rel=\"stylesheet\" href=\"https://cdnjs.cloudflare.com/ajax/libs/font-awesome/5.15.4/css/all.min.css\">\n",
    "\n",
    "# Nipype on Neurodesk\n",
    "#### An interactive RISE slideshow\n"
   ]
  },
  {
   "cell_type": "markdown",
   "id": "b9df93ec-b31b-48a1-8778-bcbc1f33a40e",
   "metadata": {
    "editable": true,
    "slideshow": {
     "slide_type": ""
    },
    "tags": []
   },
   "source": [
    "<p style=\"font-size: 15px;\"> <b>Author:</b> Monika Doerig </p>\n"
   ]
  },
  {
   "cell_type": "markdown",
   "id": "66cdf6cf-5cbf-4bb6-9036-1cc8a57aded1",
   "metadata": {
    "editable": true,
    "slideshow": {
     "slide_type": ""
    },
    "tags": []
   },
   "source": [
    "<p style=\"font-size: 12px;\">Press <code>Space</code> to proceed through the slideshow.</p>"
   ]
  },
  {
   "cell_type": "markdown",
   "id": "f48d8a30-7eeb-47ac-9d40-36879754f349",
   "metadata": {
    "editable": true,
    "slideshow": {
     "slide_type": "slide"
    },
    "tags": []
   },
   "source": [
    "### Output CPU information\n",
    "\n",
    "In code cells you press `Shift-Enter` (as usual) to evaluate your code and directly move to the next cell if it is already displayed. \n",
    "\n",
    "Press `Ctrl-Enter` to run a command without direclty moving to the next cell.\n",
    "\n"
   ]
  },
  {
   "cell_type": "code",
   "execution_count": 1,
   "id": "41f8d93c-9f3c-47f1-9ced-3eb809d098a7",
   "metadata": {
    "editable": true,
    "slideshow": {
     "slide_type": ""
    },
    "tags": []
   },
   "outputs": [
    {
     "name": "stdout",
     "output_type": "stream",
     "text": [
      "vendor_id\t: GenuineIntel\n",
      "model name\t: Intel(R) Xeon(R) Gold 6126 CPU @ 2.60GHz\n"
     ]
    }
   ],
   "source": [
    "!cat /proc/cpuinfo | grep 'vendor' | uniq\n",
    "!cat /proc/cpuinfo | grep 'model name' | uniq"
   ]
  },
  {
   "cell_type": "markdown",
   "id": "943d9524-f0ac-4233-803f-44e815ac3edd",
   "metadata": {
    "editable": true,
    "slideshow": {
     "slide_type": ""
    },
    "tags": []
   },
   "source": [
    "<p style=\"font-size: 18px;\">Keep pressing <code>Space</code> to advance to the next slide.</p>"
   ]
  },
  {
   "cell_type": "markdown",
   "id": "30ac37a9-8ebe-40bf-b7c2-ff9a5f23a418",
   "metadata": {
    "editable": true,
    "slideshow": {
     "slide_type": "slide"
    },
    "tags": []
   },
   "source": [
    "<div class=\"hint\">\n",
    "  <p class=\"hint-title\" style=\"font-size: 1.5em; color: green;\"><i class=\"fas fa-bullseye\" style=\"color: green;\"></i> <span style=\"font-size: 1.5em;\">Objectives</span></p>\n",
    "  <ul>\n",
    "    <li>Know the basics of Nipype</li>\n",
    "    <li>And how to use it on Neurodesk</li>\n",
    "    <li>Learn how Python can be applied to analyze neuroimaging data through practical examples</li>\n",
    "    <li>Get pointers to resources</li>\n",
    "  </ul>\n",
    "</div>"
   ]
  },
  {
   "cell_type": "markdown",
   "id": "fc27b708-44b9-42d5-98f9-4ce410037b0c",
   "metadata": {
    "editable": true,
    "slideshow": {
     "slide_type": "slide"
    },
    "tags": []
   },
   "source": [
    "<div class=\"important\">\n",
    "  <p class=\"important-title\" style=\"font-size: 1.5em; color: blue;\"><i class=\"fas fa-bolt\" style=\"color: blue;\"></i> <span style=\"font-size: 1.5em;\">Be aware ...</span></p>\n",
    "  <ul>\n",
    "    <li>Nipype is part of a large ecosystem</li>\n",
    "    <li>Therefore, it is about knowing what is out there and empowering you with new tools</li>\n",
    "    <li>Sometimes, the devil is in the details</li>\n",
    "    <li>Things take time</li>\n",
    "  </ul>\n",
    "</div>"
   ]
  },
  {
   "cell_type": "markdown",
   "id": "b39d4406",
   "metadata": {
    "editable": true,
    "slideshow": {
     "slide_type": "slide"
    },
    "tags": []
   },
   "source": [
    "  ## Table of content\n",
    "  [1. Introduction to Nipype](#1.-Introduction-to-Nipype)  \n",
    "  [2. Nipype in Jupyter Notebooks on Neurodesk](#2.-Nipype-in-Jupyter-Notebooks-on-Neurodesk)  \n",
    "  [3. Exploration of Nipype's building blocks](#3.-Exploration-of-Nipype's-building-blocks)  \n",
    "  [4. Pydra: A modern dataflow engine developed for the Nipype project](#4.-Pydra:-A-modern-dataflow-engine-developed-for-the-Nipype-project)"
   ]
  },
  {
   "cell_type": "markdown",
   "id": "efb80e03",
   "metadata": {
    "editable": true,
    "slideshow": {
     "slide_type": "slide"
    },
    "tags": []
   },
   "source": [
    "## 1. Introduction to Nipype\n",
    "\n",
    "<center><img src=\"https://miykael.github.io/nipype_tutorial/static/images/logoNipype_text.png\" width=\"50%\" height=\"50%\"></center>"
   ]
  },
  {
   "cell_type": "markdown",
   "id": "183b5580",
   "metadata": {
    "editable": true,
    "slideshow": {
     "slide_type": "subslide"
    },
    "tags": []
   },
   "source": [
    "- Open-source Python project that originated within the neuroimaging community\n",
    "- Provides a unified interface to diverse neuroimaging packages including ANTS, SPM, FSL, FreeSurfer, and others\n",
    "- Facilitates seamless interaction between these packages\n",
    "- Its flexibility has made it a preferred basis for widely used pre-processing tools such as fMRIPrep\n",
    "\n",
    "$\\rightarrow$ A primary goal driving Nipype is to simplify the integration of various analysis packages, allowing for the utilization of algorithms that are most appropriate for specific problems.\n",
    "\n",
    "<img src=\"https://miykael.github.io/nipype_tutorial/static/images/nipype_example_graph.png\" style=\"display: block; margin: auto auto; padding: 5px;\" width=\"50%\" height=\"50%\"> \n",
    "<figcaption style=\"text-align: center;\"><b>Figure 1:</b> Example Workflow</figcaption>"
   ]
  },
  {
   "cell_type": "markdown",
   "id": "6b7488ec",
   "metadata": {
    "editable": true,
    "slideshow": {
     "slide_type": "slide"
    },
    "tags": []
   },
   "source": [
    "## 2. Nipype in Jupyter Notebooks on Neurodesk\n",
    "\n",
    "<img src=\"https://www.neurodesk.org/static/logos/neurodesk.org_horizontal.png\" style=\"float: right; margin: 0 auto; padding: 5px;\" width=\"25%\" height=\"25%\">\n",
    "\n",
    "\n",
    "Neurodesk project enables the use of all neuroimaging applications inside computational notebooks\n"
   ]
  },
  {
   "cell_type": "markdown",
   "id": "83bd6860",
   "metadata": {
    "editable": true,
    "slideshow": {
     "slide_type": "subslide"
    },
    "tags": []
   },
   "source": [
    "__Demonstration of the module system in Python and Nipype:__\n",
    "\n",
    "\n",
    "We will use the software tool ```lmod``` to manage and load different software packages and libraires. It simplifies the process of accessing and utilizing various software applications and allows users to easily switch between different versions of software packages, manage dependencies, and ensure compatibility with their computing environment."
   ]
  },
  {
   "cell_type": "code",
   "execution_count": 2,
   "id": "d7b0631b",
   "metadata": {
    "editable": true,
    "slideshow": {
     "slide_type": "fragment"
    },
    "tags": []
   },
   "outputs": [
    {
     "data": {
      "text/plain": [
       "['mrtrix3/3.0.4', 'fsl/6.0.7.4']"
      ]
     },
     "execution_count": 2,
     "metadata": {},
     "output_type": "execute_result"
    }
   ],
   "source": [
    "# In code cells you press Shift-Enter to evaluate your code and directly move to the next cell if it is already displayed. \n",
    "# Or press Ctrl-Enter to run a command without direclty moving to the next cell.\n",
    "\n",
    "# Use module to load any software tool with a specific version\n",
    "import module\n",
    "await module.load('fsl/6.0.7.4')\n",
    "await module.list()"
   ]
  },
  {
   "cell_type": "code",
   "execution_count": 3,
   "id": "de9e1df4",
   "metadata": {
    "editable": true,
    "slideshow": {
     "slide_type": "fragment"
    },
    "tags": []
   },
   "outputs": [],
   "source": [
    "import os\n",
    "os.environ[\"FSLOUTPUTTYPE\"]=\"NIFTI_GZ\" # Default is NIFTI"
   ]
  },
  {
   "cell_type": "code",
   "execution_count": 4,
   "id": "0ef122e0",
   "metadata": {
    "editable": true,
    "slideshow": {
     "slide_type": "fragment"
    },
    "tags": []
   },
   "outputs": [
    {
     "name": "stdout",
     "output_type": "stream",
     "text": [
      "6.0.7.4\n",
      "NIFTI_GZ\n"
     ]
    }
   ],
   "source": [
    "from nipype.interfaces.fsl.base import Info\n",
    "print(Info.version())\n",
    "print(Info.output_type())\n",
    "# If the FSL version is changed using lmod above, the kernel of the notebook needs to be restarted!"
   ]
  },
  {
   "cell_type": "code",
   "execution_count": 5,
   "id": "2b4d89a4",
   "metadata": {
    "editable": true,
    "slideshow": {
     "slide_type": "subslide"
    },
    "tags": []
   },
   "outputs": [
    {
     "data": {
      "text/plain": [
       "['mrtrix3/3.0.4', 'fsl/6.0.7.4', 'afni/22.3.06', 'spm12/r7771']"
      ]
     },
     "execution_count": 5,
     "metadata": {},
     "output_type": "execute_result"
    }
   ],
   "source": [
    "# Load afni and spm as well\n",
    "await module.load('afni/22.3.06')\n",
    "await module.load('spm12/r7771') \n",
    "await module.list()"
   ]
  },
  {
   "cell_type": "markdown",
   "id": "0ccf4272",
   "metadata": {
    "editable": true,
    "slideshow": {
     "slide_type": "slide"
    },
    "tags": []
   },
   "source": [
    "## 3. Exploration of Nipype's building blocks\n",
    "<center><img src=\"https://miykael.github.io/nipype_tutorial/static/images/nipype_architecture.png\" width=\"50%\" height=\"50%\"></center>\n",
    "  <figcaption><b>Figure 2:</b> Nipype architecture</figcaption>"
   ]
  },
  {
   "cell_type": "markdown",
   "id": "e90db853",
   "metadata": {
    "editable": true,
    "slideshow": {
     "slide_type": "fragment"
    },
    "tags": []
   },
   "source": [
    "- <font size=\"5\">__Interfaces:__ Wraps a program/ function </font>"
   ]
  },
  {
   "cell_type": "markdown",
   "id": "254e9e00-0853-47fa-a8d5-9db1c095070f",
   "metadata": {
    "editable": true,
    "slideshow": {
     "slide_type": "fragment"
    },
    "tags": []
   },
   "source": [
    "- <font size=\"5\">__Workflow engine:__</font>\n",
    "    - <font size=\"3\">__Nodes:__ Wraps an interface for use in a workflow</font>\n",
    "    - <font size=\"3\">__Workflows:__ A directed graph or forest of graphs whose edges represent data flow </font>"
   ]
  },
  {
   "cell_type": "markdown",
   "id": "1bd55628-8330-4534-aa16-677391de9f35",
   "metadata": {
    "editable": true,
    "slideshow": {
     "slide_type": "fragment"
    },
    "tags": []
   },
   "source": [
    "- <font size=\"5\">__Data Input:__ Many different modules to grab/ select data depending on the data structure </font>"
   ]
  },
  {
   "cell_type": "markdown",
   "id": "cdd36f81-0567-4c45-9ba6-838e525894a1",
   "metadata": {
    "editable": true,
    "slideshow": {
     "slide_type": "fragment"
    },
    "tags": []
   },
   "source": [
    "- <font size=\"5\">__Data Output:__ Different modules to handle data stream output  </font>"
   ]
  },
  {
   "cell_type": "markdown",
   "id": "2a016eec-1935-4f41-b1c9-c97c4606c904",
   "metadata": {
    "editable": true,
    "slideshow": {
     "slide_type": "fragment"
    },
    "tags": []
   },
   "source": [
    "- <font size=\"5\">__Plugin:__ A component that describes how a Workflow should be executed</font>"
   ]
  },
  {
   "cell_type": "markdown",
   "id": "7135c2d3-b85a-4d56-959f-2d9ba26cf2a4",
   "metadata": {
    "editable": true,
    "slideshow": {
     "slide_type": "subslide"
    },
    "tags": []
   },
   "source": [
    "##### __Preparation: Download of opensource data, installations and imports__"
   ]
  },
  {
   "cell_type": "code",
   "execution_count": 6,
   "id": "a8e918c6-8992-40f9-b977-7cf0c66379f2",
   "metadata": {
    "editable": true,
    "scrolled": true,
    "slideshow": {
     "slide_type": "fragment"
    },
    "tags": [
     "scroll-output"
    ]
   },
   "outputs": [
    {
     "name": "stdout",
     "output_type": "stream",
     "text": [
      "\u001b[0maction summary:\n",
      "  get (notneeded: 2)\n",
      "\u001b[0m"
     ]
    }
   ],
   "source": [
    "# Download 2 subjects of the Flanker Dataset\n",
    "PATTERN = \"sub-0[1-2]\"\n",
    " \n",
    "!datalad install https://github.com/OpenNeuroDatasets/ds000102.git\n",
    "!cd ds000102 && datalad get $PATTERN"
   ]
  },
  {
   "cell_type": "code",
   "execution_count": 7,
   "id": "6b54bd47-7b2d-4327-a262-7f76b17fc8aa",
   "metadata": {
    "editable": true,
    "scrolled": true,
    "slideshow": {
     "slide_type": "fragment"
    },
    "tags": [
     "scroll-output"
    ]
   },
   "outputs": [],
   "source": [
    "%%capture\n",
    "! pip install nilearn nibabel numpy"
   ]
  },
  {
   "cell_type": "code",
   "execution_count": 8,
   "id": "d6383c40",
   "metadata": {
    "editable": true,
    "slideshow": {
     "slide_type": "fragment"
    },
    "tags": []
   },
   "outputs": [],
   "source": [
    "from nipype import Node, Workflow, DataGrabber, DataSink\n",
    "from nipype.interfaces.utility import IdentityInterface\n",
    "from nipype.interfaces import fsl\n",
    "from nilearn import plotting \n",
    "from IPython.display import Image\n",
    "import os\n",
    "from os.path import join as opj\n",
    "import matplotlib.pyplot as plt\n",
    "import numpy as np\n",
    "import nibabel as nib \n",
    "\n",
    "# Create directory for all the outputs (if it doesn't exist yet)\n",
    "! [ ! -d output ] && mkdir output"
   ]
  },
  {
   "cell_type": "markdown",
   "id": "acf1b573",
   "metadata": {
    "editable": true,
    "slideshow": {
     "slide_type": "slide"
    },
    "tags": []
   },
   "source": [
    "#### 3.1. Interfaces : The core pieces of Nipype\n",
    "\n",
    "Python wrapper around a particular piece of software (even if it is written in another programming language than python):\n",
    "\n",
    "    - FSL\n",
    "    - AFNI\n",
    "    - ANTS\n",
    "    - FreeSurfer\n",
    "    - SPM\n",
    "    - dcm2nii\n",
    "    - Nipy\n",
    "    - MNE\n",
    "    - DIPY\n",
    "    - ...\n",
    "\n",
    "Such an interface knows what sort of options an external program has and how to execute it (e.g., keeps track of the inputs and outputs, and checks their expected types).\n",
    "\n",
    "In the Nipype framework we can get an information page on an interface class by using the ```help()``` function.\n"
   ]
  },
  {
   "cell_type": "markdown",
   "id": "3aa9e5f6",
   "metadata": {
    "editable": true,
    "slideshow": {
     "slide_type": "subslide"
    },
    "tags": []
   },
   "source": [
    "##### __Example: Interface for FSL's Brain Extraction Tool *BET*__"
   ]
  },
  {
   "cell_type": "code",
   "execution_count": 9,
   "id": "49234e36",
   "metadata": {
    "editable": true,
    "scrolled": true,
    "slideshow": {
     "slide_type": "fragment"
    },
    "tags": [
     "scroll-output"
    ]
   },
   "outputs": [
    {
     "name": "stdout",
     "output_type": "stream",
     "text": [
      "Wraps the executable command ``bet``.\n",
      "\n",
      "FSL BET wrapper for skull stripping\n",
      "\n",
      "For complete details, see the `BET Documentation.\n",
      "<https://fsl.fmrib.ox.ac.uk/fsl/fslwiki/BET/UserGuide>`_\n",
      "\n",
      "Examples\n",
      "--------\n",
      ">>> from nipype.interfaces import fsl\n",
      ">>> btr = fsl.BET()\n",
      ">>> btr.inputs.in_file = 'structural.nii'\n",
      ">>> btr.inputs.frac = 0.7\n",
      ">>> btr.inputs.out_file = 'brain_anat.nii'\n",
      ">>> btr.cmdline\n",
      "'bet structural.nii brain_anat.nii -f 0.70'\n",
      ">>> res = btr.run() # doctest: +SKIP\n",
      "\n",
      "Inputs::\n",
      "\n",
      "        [Mandatory]\n",
      "        in_file: (a pathlike object or string representing an existing file)\n",
      "                input file to skull strip\n",
      "                argument: ``%s``, position: 0\n",
      "\n",
      "        [Optional]\n",
      "        out_file: (a pathlike object or string representing a file)\n",
      "                name of output skull stripped image\n",
      "                argument: ``%s``, position: 1\n",
      "        outline: (a boolean)\n",
      "                create surface outline image\n",
      "                argument: ``-o``\n",
      "        mask: (a boolean)\n",
      "                create binary mask image\n",
      "                argument: ``-m``\n",
      "        skull: (a boolean)\n",
      "                create skull image\n",
      "                argument: ``-s``\n",
      "        no_output: (a boolean)\n",
      "                Don't generate segmented output\n",
      "                argument: ``-n``\n",
      "        frac: (a float)\n",
      "                fractional intensity threshold\n",
      "                argument: ``-f %.2f``\n",
      "        vertical_gradient: (a float)\n",
      "                vertical gradient in fractional intensity threshold (-1, 1)\n",
      "                argument: ``-g %.2f``\n",
      "        radius: (an integer)\n",
      "                head radius\n",
      "                argument: ``-r %d``\n",
      "        center: (a list of at most 3 items which are an integer)\n",
      "                center of gravity in voxels\n",
      "                argument: ``-c %s``\n",
      "        threshold: (a boolean)\n",
      "                apply thresholding to segmented brain image and mask\n",
      "                argument: ``-t``\n",
      "        mesh: (a boolean)\n",
      "                generate a vtk mesh brain surface\n",
      "                argument: ``-e``\n",
      "        robust: (a boolean)\n",
      "                robust brain centre estimation (iterates BET several times)\n",
      "                argument: ``-R``\n",
      "                mutually_exclusive: functional, reduce_bias, robust, padding,\n",
      "                  remove_eyes, surfaces, t2_guided\n",
      "        padding: (a boolean)\n",
      "                improve BET if FOV is very small in Z (by temporarily padding end\n",
      "                slices)\n",
      "                argument: ``-Z``\n",
      "                mutually_exclusive: functional, reduce_bias, robust, padding,\n",
      "                  remove_eyes, surfaces, t2_guided\n",
      "        remove_eyes: (a boolean)\n",
      "                eye & optic nerve cleanup (can be useful in SIENA)\n",
      "                argument: ``-S``\n",
      "                mutually_exclusive: functional, reduce_bias, robust, padding,\n",
      "                  remove_eyes, surfaces, t2_guided\n",
      "        surfaces: (a boolean)\n",
      "                run bet2 and then betsurf to get additional skull and scalp surfaces\n",
      "                (includes registrations)\n",
      "                argument: ``-A``\n",
      "                mutually_exclusive: functional, reduce_bias, robust, padding,\n",
      "                  remove_eyes, surfaces, t2_guided\n",
      "        t2_guided: (a pathlike object or string representing a file)\n",
      "                as with creating surfaces, when also feeding in non-brain-extracted\n",
      "                T2 (includes registrations)\n",
      "                argument: ``-A2 %s``\n",
      "                mutually_exclusive: functional, reduce_bias, robust, padding,\n",
      "                  remove_eyes, surfaces, t2_guided\n",
      "        functional: (a boolean)\n",
      "                apply to 4D fMRI data\n",
      "                argument: ``-F``\n",
      "                mutually_exclusive: functional, reduce_bias, robust, padding,\n",
      "                  remove_eyes, surfaces, t2_guided\n",
      "        reduce_bias: (a boolean)\n",
      "                bias field and neck cleanup\n",
      "                argument: ``-B``\n",
      "                mutually_exclusive: functional, reduce_bias, robust, padding,\n",
      "                  remove_eyes, surfaces, t2_guided\n",
      "        output_type: ('NIFTI' or 'NIFTI_PAIR' or 'NIFTI_GZ' or\n",
      "                  'NIFTI_PAIR_GZ')\n",
      "                FSL output type\n",
      "        args: (a string)\n",
      "                Additional parameters to the command\n",
      "                argument: ``%s``\n",
      "        environ: (a dictionary with keys which are a bytes or None or a value\n",
      "                  of class 'str' and with values which are a bytes or None or a\n",
      "                  value of class 'str', nipype default value: {})\n",
      "                Environment variables\n",
      "\n",
      "Outputs::\n",
      "\n",
      "        out_file: (a pathlike object or string representing a file)\n",
      "                path/name of skullstripped file (if generated)\n",
      "        mask_file: (a pathlike object or string representing a file)\n",
      "                path/name of binary brain mask (if generated)\n",
      "        outline_file: (a pathlike object or string representing a file)\n",
      "                path/name of outline file (if generated)\n",
      "        meshfile: (a pathlike object or string representing a file)\n",
      "                path/name of vtk mesh file (if generated)\n",
      "        inskull_mask_file: (a pathlike object or string representing a file)\n",
      "                path/name of inskull mask (if generated)\n",
      "        inskull_mesh_file: (a pathlike object or string representing a file)\n",
      "                path/name of inskull mesh outline (if generated)\n",
      "        outskull_mask_file: (a pathlike object or string representing a file)\n",
      "                path/name of outskull mask (if generated)\n",
      "        outskull_mesh_file: (a pathlike object or string representing a file)\n",
      "                path/name of outskull mesh outline (if generated)\n",
      "        outskin_mask_file: (a pathlike object or string representing a file)\n",
      "                path/name of outskin mask (if generated)\n",
      "        outskin_mesh_file: (a pathlike object or string representing a file)\n",
      "                path/name of outskin mesh outline (if generated)\n",
      "        skull_mask_file: (a pathlike object or string representing a file)\n",
      "                path/name of skull mask (if generated)\n",
      "        skull_file: (a pathlike object or string representing a file)\n",
      "                path/name of skull file (if generated)\n",
      "\n",
      "References:\n",
      "-----------\n",
      "None\n"
     ]
    }
   ],
   "source": [
    "# help() function to get a general explanation of the class as well as a list of possible (mandatory and optional) input and output parameters \n",
    "fsl.BET.help()"
   ]
  },
  {
   "cell_type": "code",
   "execution_count": 10,
   "id": "ba7362cd-9421-47ba-8077-19c01708edbb",
   "metadata": {
    "editable": true,
    "slideshow": {
     "slide_type": "subslide"
    },
    "tags": []
   },
   "outputs": [],
   "source": [
    "# Create an instance of the fsl.BET object\n",
    "skullstrip = fsl.BET()\n",
    "\n",
    "# Set input (and output)\n",
    "skullstrip.inputs.in_file = './ds000102/sub-01/anat/sub-01_T1w.nii.gz' \n",
    "\n",
    "skullstrip.inputs.out_file = './output/T1w_nipype_bet.nii.gz' # Interfaces by default spit out results to the local directory why relative paths work (outputs are not stored in temporary files like in Nodes/Workflow)"
   ]
  },
  {
   "cell_type": "code",
   "execution_count": 11,
   "id": "1236afe3",
   "metadata": {
    "editable": true,
    "slideshow": {
     "slide_type": "fragment"
    },
    "tags": []
   },
   "outputs": [
    {
     "data": {
      "text/plain": [
       "\n",
       "inskull_mask_file = <undefined>\n",
       "inskull_mesh_file = <undefined>\n",
       "mask_file = <undefined>\n",
       "meshfile = <undefined>\n",
       "out_file = /home/jovyan/Git_repositories/example-notebooks/books/workflows/output/T1w_nipype_bet.nii.gz\n",
       "outline_file = <undefined>\n",
       "outskin_mask_file = <undefined>\n",
       "outskin_mesh_file = <undefined>\n",
       "outskull_mask_file = <undefined>\n",
       "outskull_mesh_file = <undefined>\n",
       "skull_file = <undefined>\n",
       "skull_mask_file = <undefined>"
      ]
     },
     "execution_count": 11,
     "metadata": {},
     "output_type": "execute_result"
    }
   ],
   "source": [
    "# Execute the node and shows outputs \n",
    "res = skullstrip.run()\n",
    "res.outputs"
   ]
  },
  {
   "cell_type": "code",
   "execution_count": 12,
   "id": "ab374523",
   "metadata": {
    "editable": true,
    "slideshow": {
     "slide_type": "fragment"
    },
    "tags": []
   },
   "outputs": [
    {
     "data": {
      "text/plain": [
       "'bet ds000102/sub-01/anat/sub-01_T1w.nii.gz output/T1w_nipype_bet.nii.gz'"
      ]
     },
     "execution_count": 12,
     "metadata": {},
     "output_type": "execute_result"
    }
   ],
   "source": [
    "# Gives you transparency to what's happening under the hood with one additional line\n",
    "skullstrip.cmdline"
   ]
  },
  {
   "cell_type": "markdown",
   "id": "414889c6",
   "metadata": {
    "editable": true,
    "slideshow": {
     "slide_type": "slide"
    },
    "tags": []
   },
   "source": [
    "#### 3.2. Nodes: The light wrapper around interfaces\n",
    "\n",
    "- To streamline the analysis and to execute multiple interfaces in a sensible order, they need to be put in a Node.\n",
    "- A node is an object that executes a certain function: Nipype interface, a user-specified function or an external script. \n"
   ]
  },
  {
   "cell_type": "markdown",
   "id": "ef334850",
   "metadata": {
    "editable": true,
    "slideshow": {
     "slide_type": "subslide"
    },
    "tags": []
   },
   "source": [
    "Each node consists of a name, an interface category and at least one input field, and at least one output field.\n",
    "\n",
    "$\\rightarrow$ Nodes expose inputs and outputs of the Interface as its own and add additional functionality allowing to connect Nodes into a Workflow (directed graph):\n",
    "\n",
    "<img src=\"https://miykael.github.io/nipype_tutorial/static/images/node_two_nodes.png\" style=\"display: block; margin: 0 auto; padding: 30px;\" width=\"50%\" height=\"50%\">\n",
    "<figcaption><b>Figure 3:</b> Nipype Nodes</figcaption>"
   ]
  },
  {
   "cell_type": "markdown",
   "id": "ec6353f1-fff8-42a0-89b6-df814ba55bc9",
   "metadata": {
    "editable": true,
    "slideshow": {
     "slide_type": "subslide"
    },
    "tags": []
   },
   "source": [
    "#### MapNode\n",
    "- Quite similar to a normal Node, but it can take a list of inputs and operate over each input separately, ultimately returning a list of outputs.\n",
    "- Example:  Multiple functional images (A) and each of them should be motion corrected (B1, B2, B3,..). Afterwards, put them all together into a GLM, i.e. the input for the GLM should be an array of [B1, B2, B3, ...].\n",
    "\n",
    "<center><img src=https://miykael.github.io/nipype_tutorial/static/images/mapnode.png></center>\n",
    "<figcaption><b>Figure 4:</b> MapNode</figcaption>\n"
   ]
  },
  {
   "cell_type": "markdown",
   "id": "ad714fbe-8d63-4be2-ad57-f95ff68265f0",
   "metadata": {
    "editable": true,
    "slideshow": {
     "slide_type": "subslide"
    },
    "tags": []
   },
   "source": [
    "#### Iterables\n",
    "- For repetitive steps: Iterables split up the execution workflow into many different branches.\n",
    "- Example: Running the same preprocessing on multiple subjects or doing statistical inference on multiple files.\n",
    "\n",
    "<center><img src=https://miykael.github.io/nipype_tutorial/static/images/iterables.png></center>\n",
    "<figcaption><b>Figure 5:</b> Iterables</figcaption>"
   ]
  },
  {
   "cell_type": "markdown",
   "id": "1025ac34-d0e1-406d-add5-ed342dc2a092",
   "metadata": {
    "editable": true,
    "slideshow": {
     "slide_type": "subslide"
    },
    "tags": []
   },
   "source": [
    "#### JoinNode\n",
    "- Has the opposite effect of iterables: JoinNode merges the different branches back into one node.\n",
    "- A JoinNode generalizes MapNode to operate in conjunction with an upstream iterable node to reassemble downstream results, e.g., to merge files into a group level analysis.\n",
    "\n",
    "<center><img src=https://miykael.github.io/nipype_tutorial/static/images/joinnode.png></center>\n",
    "<figcaption><b>Figure 6:</b> JoinNode</figcaption>\n"
   ]
  },
  {
   "cell_type": "markdown",
   "id": "f2af901f-84d0-4ec7-bf3b-ad80c9836387",
   "metadata": {
    "editable": true,
    "slideshow": {
     "slide_type": "subslide"
    },
    "tags": []
   },
   "source": [
    "##### __Example: Node__\n",
    "\n",
    "```javascript\n",
    "nipype.pipeline.engine.nodes module\n",
    "\n",
    "nodename = Nodetype(interface_function(), name='labelname')\n",
    "```\n",
    "\n",
    "- __nodename:__ Variable name of the node in the python environment.\n",
    "- __Nodetype:__ Type of node: Node, MapNode or JoinNode.\n",
    "- __interface_function:__ Function the node should execute. Can be user specific or coming from an Interface.\n",
    "- __labelname:__ Label name of the node in the workflow environment (defines the name of the working directory).\n",
    "\n",
    "    - To execute a node, apply the ```.run()``` method\n",
    "    - To return the output fields of the underlying interface, use ```.outputs```\n",
    "    - To get help, ```.help()``` prints the interface help\n",
    " \n",
    "\n",
    "\n",
    "The specification of base_dir is very important (and is why we needed to use absolute paths above) because otherwise all the outputs would be saved somewhere in the temporary files. Unlike interfaces, which by default spit out results to the local directly, the Workflow engine executes things off in its own directory hierarchy."
   ]
  },
  {
   "cell_type": "code",
   "execution_count": 13,
   "id": "7493e072-3992-43b6-90d0-22ee5f062794",
   "metadata": {
    "editable": true,
    "slideshow": {
     "slide_type": "subslide"
    },
    "tags": []
   },
   "outputs": [
    {
     "name": "stdout",
     "output_type": "stream",
     "text": [
      "250606-01:27:47,466 nipype.workflow INFO:\n",
      "\t [Node] Setting-up \"bet_node\" in \"/tmp/tmp13hyf_z5/bet_node\".\n",
      "250606-01:27:47,470 nipype.workflow INFO:\n",
      "\t [Node] Executing \"bet_node\" <nipype.interfaces.fsl.preprocess.BET>\n",
      "250606-01:27:51,451 nipype.workflow INFO:\n",
      "\t [Node] Finished \"bet_node\", elapsed time 3.979764s.\n"
     ]
    }
   ],
   "source": [
    "# Create FSL BET Node with fractional intensity threshold of 0.3 and create a binary mask image\n",
    "\n",
    "# For reasons that will become clear in the Workflow section, it's important to pass filenames to Nodes as absolute paths.\n",
    "input_file = opj(os.getcwd(), 'ds000102/sub-01/anat/sub-01_T1w.nii.gz') \n",
    "output_file = opj(os.getcwd(), 'output/T1w_nipype_bet.nii.gz')\n",
    "\n",
    "# Create FSL BET Node with fractional intensity threshold of 0.3 and create a binary mask image\n",
    "bet = Node(fsl.BET(), name='bet_node')\n",
    "\n",
    "# Define inputs \n",
    "bet.inputs.frac = 0.3\n",
    "bet.inputs.mask = True\n",
    "bet.inputs.in_file = input_file\n",
    "bet.inputs.out_file = output_file\n",
    "\n",
    "# Run the node\n",
    "res = bet.run()"
   ]
  },
  {
   "cell_type": "code",
   "execution_count": 14,
   "id": "ee76370b",
   "metadata": {
    "editable": true,
    "slideshow": {
     "slide_type": "fragment"
    },
    "tags": []
   },
   "outputs": [
    {
     "data": {
      "text/plain": [
       "\n",
       "inskull_mask_file = <undefined>\n",
       "inskull_mesh_file = <undefined>\n",
       "mask_file = /home/jovyan/Git_repositories/example-notebooks/books/workflows/output/T1w_nipype_bet_mask.nii.gz\n",
       "meshfile = <undefined>\n",
       "out_file = /home/jovyan/Git_repositories/example-notebooks/books/workflows/output/T1w_nipype_bet.nii.gz\n",
       "outline_file = <undefined>\n",
       "outskin_mask_file = <undefined>\n",
       "outskin_mesh_file = <undefined>\n",
       "outskull_mask_file = <undefined>\n",
       "outskull_mesh_file = <undefined>\n",
       "skull_file = <undefined>\n",
       "skull_mask_file = <undefined>"
      ]
     },
     "execution_count": 14,
     "metadata": {},
     "output_type": "execute_result"
    }
   ],
   "source": [
    "# Shows produced outputs \n",
    "res.outputs"
   ]
  },
  {
   "cell_type": "code",
   "execution_count": 15,
   "id": "87c40f86",
   "metadata": {
    "editable": true,
    "slideshow": {
     "slide_type": "subslide"
    },
    "tags": []
   },
   "outputs": [
    {
     "data": {
      "image/png": "[encoded data removed]",
      "text/plain": [
       "<Figure size 660x350 with 4 Axes>"
      ]
     },
     "metadata": {},
     "output_type": "display_data"
    },
    {
     "data": {
      "image/png": "[encoded data removed]",
      "text/plain": [
       "<Figure size 660x350 with 4 Axes>"
      ]
     },
     "metadata": {},
     "output_type": "display_data"
    }
   ],
   "source": [
    "# Plot original input file\n",
    "plotting.plot_anat(input_file, title='BET input', cut_coords=(10,10,10),\n",
    "          display_mode='ortho', dim=-1, draw_cross=False, annotate=False);\n",
    "\n",
    "# Plot skullstripped output file (out_file) through the outputs property\n",
    "plotting.plot_anat(res.outputs.out_file, title='BET output', cut_coords=(10,10,10),\n",
    "          display_mode='ortho', dim=-1, draw_cross=False, annotate=False);"
   ]
  },
  {
   "cell_type": "markdown",
   "id": "524fb0ab",
   "metadata": {
    "editable": true,
    "slideshow": {
     "slide_type": "slide"
    },
    "tags": []
   },
   "source": [
    "#### 3.3. Workflows\n",
    "- Define functionality for pipelined execution of interfaces\n",
    "- Consist of multiple nodes, each representing a specific interface.\n",
    "- The processing stream is encoded as a directed acyclic graph (DAG), where each stage of processing is a node. Nodes are unidirectionally dependent on others, ensuring no cycles and clear directionality. The Node and Workflow classes make these relationships explicit.\n",
    "- Edges represent the data flow between nodes.\n",
    "- Control the setup and the execution of individual interfaces.\n",
    "- Will take care of inputs and outputs of each interface and arrange the execution of each interface in the most efficient way."
   ]
  },
  {
   "cell_type": "markdown",
   "id": "c490521f-3415-4aea-85d1-3e2dbd5e05c8",
   "metadata": {
    "editable": true,
    "raw_mimetype": "",
    "slideshow": {
     "slide_type": "subslide"
    },
    "tags": []
   },
   "source": [
    "```javascript\n",
    "nipype.pipeline.engine.workflows module\n",
    "\n",
    "Workflow(name, base_dir=None)\n",
    "```\n",
    "- __name:__ Label name of the workflow.\n",
    "- __base_dir:__ Defines the working directory for this instance of workflow element. Unlike interfaces, which by default store results in the local directory, the Workflow engine executes things off in its own directory hierarchy. By default (if not set manually), it is a temporary directory (/tmp).\n",
    "\n",
    "Workflow methods that we will use during this tutorial:\n",
    "- ```Workflow.connect()```: Connect nodes in the pipeline \n",
    "- ```Workflow.write_graph()```: Generates a graphviz dot file and a png file\n",
    "- ```Workflow.run()```: Execute the workflow"
   ]
  },
  {
   "cell_type": "markdown",
   "id": "8bd05b0f-9b28-48f8-9a17-1383bbfef8b4",
   "metadata": {
    "editable": true,
    "slideshow": {
     "slide_type": "subslide"
    },
    "tags": []
   },
   "source": [
    "##### __Example: Workflow__\n",
    "\n",
    "First, define different nodes to: \n",
    "- Skullstrip an image to obtain a mask\n",
    "- Smooth the original image\n",
    "- Mask the smoothed image"
   ]
  },
  {
   "cell_type": "code",
   "execution_count": 16,
   "id": "3b1f7ee6",
   "metadata": {
    "editable": true,
    "slideshow": {
     "slide_type": "fragment"
    },
    "tags": []
   },
   "outputs": [],
   "source": [
    "in_file = input_file # See node example\n",
    "\n",
    "# Skullstrip process\n",
    "skullstrip = Node(fsl.BET(in_file=in_file, mask=True), name=\"skullstrip\")\n",
    "\n",
    "# Smooth process\n",
    "smooth = Node(fsl.IsotropicSmooth(in_file=in_file, fwhm=4), name=\"smooth\")\n",
    "\n",
    "# Mask process\n",
    "mask = Node(fsl.ApplyMask(), name=\"mask\")"
   ]
  },
  {
   "cell_type": "code",
   "execution_count": 17,
   "id": "cf98e90c",
   "metadata": {
    "editable": true,
    "slideshow": {
     "slide_type": "fragment"
    },
    "tags": []
   },
   "outputs": [],
   "source": [
    "# Create a working directory for all workflows created during this workshop\n",
    "! [ ! -d output/working_dir ] && mkdir output/working_dir\n",
    "\n",
    "wf_work_dir = opj(os.getcwd(), 'output/working_dir') \n",
    "\n",
    "# Initiation of a workflow with specifying the working directory.\n",
    "# This specification of base_dir is very important (and is why we needed to use absolute paths above for the input files) because otherwise all the outputs would be saved somewhere in the temporary files.\n",
    "wf = Workflow(name=\"smoothflow\", base_dir=wf_work_dir )"
   ]
  },
  {
   "cell_type": "markdown",
   "id": "071a84be",
   "metadata": {
    "editable": true,
    "slideshow": {
     "slide_type": "subslide"
    },
    "tags": []
   },
   "source": [
    "##### Connect nodes within a workflow\n",
    "- method called ```connect``` that is going to do most of the work\n",
    "- checks if inputs and outputs are actually provided by the nodes that are being connected\n",
    "\n",
    "$\\rightarrow$ There are two different ways to call connect:"
   ]
  },
  {
   "cell_type": "markdown",
   "id": "02162048-5d82-4153-995b-8b21b9e313ff",
   "metadata": {
    "editable": true,
    "slideshow": {
     "slide_type": "subslide"
    },
    "tags": []
   },
   "source": [
    "Establish one connection at a time:\n",
    "```javascript\n",
    "wf.connect(source, \"source_output\", dest, \"dest_input\") \n",
    "```\n",
    "\n",
    "Establish multiple connections between two nodes at once:\n",
    "```javascript\n",
    "wf.connect([(source, dest, [(\"source_output1\", \"dest_input1\"),\n",
    "                         (\"source_output2\", \"dest_input2\")\n",
    "                         ])\n",
    "         ]) \n",
    "```"
   ]
  },
  {
   "cell_type": "code",
   "execution_count": 18,
   "id": "c76b76ed-69e5-423f-973c-d809f1c72717",
   "metadata": {
    "editable": true,
    "slideshow": {
     "slide_type": "subslide"
    },
    "tags": []
   },
   "outputs": [],
   "source": [
    "# Option 1: connect the binary mask of the skullstripping process to the mask node\n",
    "wf.connect(skullstrip, \"mask_file\", mask, \"mask_file\")\n",
    "\n",
    "# Option 2: connect the output of the smoothing node to the input of the masking node\n",
    "wf.connect([(smooth, mask, [(\"out_file\", \"in_file\")])])"
   ]
  },
  {
   "cell_type": "code",
   "execution_count": 19,
   "id": "9a40e3c2",
   "metadata": {
    "editable": true,
    "scrolled": true,
    "slideshow": {
     "slide_type": "subslide"
    },
    "tags": []
   },
   "outputs": [
    {
     "name": "stdout",
     "output_type": "stream",
     "text": [
      "250606-01:27:55,578 nipype.workflow INFO:\n",
      "\t Generated workflow graph: /home/jovyan/Git_repositories/example-notebooks/books/workflows/output/working_dir/smoothflow/workflow_graph.png (graph2use=hierarchical, simple_form=True).\n"
     ]
    },
    {
     "data": {
      "image/png": "[encoded data removed]",
      "text/plain": [
       "<IPython.core.display.Image object>"
      ]
     },
     "execution_count": 19,
     "metadata": {},
     "output_type": "execute_result"
    }
   ],
   "source": [
    "# Explore the workflow visually\n",
    "wf.write_graph(dotfilename=\"workflow_graph.dot\")\n",
    "\n",
    "Image(filename=opj(wf_work_dir,\"smoothflow/workflow_graph.png\"))"
   ]
  },
  {
   "cell_type": "code",
   "execution_count": 20,
   "id": "459c7bb4",
   "metadata": {
    "editable": true,
    "slideshow": {
     "slide_type": "subslide"
    },
    "tags": []
   },
   "outputs": [
    {
     "name": "stdout",
     "output_type": "stream",
     "text": [
      "250606-01:27:55,939 nipype.workflow INFO:\n",
      "\t Generated workflow graph: /home/jovyan/Git_repositories/example-notebooks/books/workflows/output/working_dir/smoothflow/graph.png (graph2use=flat, simple_form=True).\n"
     ]
    },
    {
     "data": {
      "image/png": "[encoded data removed]",
      "text/plain": [
       "<IPython.core.display.Image object>"
      ]
     },
     "execution_count": 20,
     "metadata": {},
     "output_type": "execute_result"
    }
   ],
   "source": [
    "# Certain graph types also allow you to further inspect the individual connections between the nodes\n",
    "wf.write_graph(graph2use='flat')\n",
    "\n",
    "Image(filename=opj(wf_work_dir,\"smoothflow/graph_detailed.png\"))  "
   ]
  },
  {
   "cell_type": "code",
   "execution_count": 21,
   "id": "43633ea3",
   "metadata": {
    "editable": true,
    "slideshow": {
     "slide_type": "subslide"
    },
    "tags": [
     "scroll-output"
    ]
   },
   "outputs": [
    {
     "name": "stdout",
     "output_type": "stream",
     "text": [
      "250606-01:27:55,951 nipype.workflow INFO:\n",
      "\t Workflow smoothflow settings: ['check', 'execution', 'logging', 'monitoring']\n",
      "250606-01:27:55,955 nipype.workflow INFO:\n",
      "\t Running serially.\n",
      "250606-01:27:55,956 nipype.workflow INFO:\n",
      "\t [Node] Setting-up \"smoothflow.skullstrip\" in \"/home/jovyan/Git_repositories/example-notebooks/books/workflows/output/working_dir/smoothflow/skullstrip\".\n",
      "250606-01:27:55,959 nipype.workflow INFO:\n",
      "\t [Node] Executing \"skullstrip\" <nipype.interfaces.fsl.preprocess.BET>\n",
      "250606-01:27:59,939 nipype.workflow INFO:\n",
      "\t [Node] Finished \"skullstrip\", elapsed time 3.9788740000000002s.\n",
      "250606-01:27:59,943 nipype.workflow INFO:\n",
      "\t [Node] Setting-up \"smoothflow.smooth\" in \"/home/jovyan/Git_repositories/example-notebooks/books/workflows/output/working_dir/smoothflow/smooth\".\n",
      "250606-01:27:59,945 nipype.workflow INFO:\n",
      "\t [Node] Executing \"smooth\" <nipype.interfaces.fsl.maths.IsotropicSmooth>\n",
      "250606-01:28:07,569 nipype.workflow INFO:\n",
      "\t [Node] Finished \"smooth\", elapsed time 7.6233450000000005s.\n",
      "250606-01:28:07,572 nipype.workflow INFO:\n",
      "\t [Node] Setting-up \"smoothflow.mask\" in \"/home/jovyan/Git_repositories/example-notebooks/books/workflows/output/working_dir/smoothflow/mask\".\n",
      "250606-01:28:07,575 nipype.workflow INFO:\n",
      "\t [Node] Executing \"mask\" <nipype.interfaces.fsl.maths.ApplyMask>\n",
      "250606-01:28:08,891 nipype.workflow INFO:\n",
      "\t [Node] Finished \"mask\", elapsed time 1.315226s.\n"
     ]
    },
    {
     "data": {
      "text/plain": [
       "<networkx.classes.digraph.DiGraph at 0x7f033446d350>"
      ]
     },
     "execution_count": 21,
     "metadata": {},
     "output_type": "execute_result"
    }
   ],
   "source": [
    "# Execute the workflow (running serially here)\n",
    "wf.run()"
   ]
  },
  {
   "cell_type": "code",
   "execution_count": 22,
   "id": "fb53e1b6",
   "metadata": {
    "editable": true,
    "slideshow": {
     "slide_type": "subslide"
    },
    "tags": []
   },
   "outputs": [
    {
     "name": "stdout",
     "output_type": "stream",
     "text": [
      "\u001b[01;34moutput/working_dir/smoothflow/\u001b[0m\n",
      "├── \u001b[00mgraph.dot\u001b[0m\n",
      "├── \u001b[00mgraph.png\u001b[0m\n",
      "├── \u001b[00mgraph_detailed.dot\u001b[0m\n",
      "├── \u001b[00mgraph_detailed.png\u001b[0m\n",
      "├── \u001b[01;34mmask\u001b[0m\n",
      "│   ├── \u001b[00mcommand.txt\u001b[0m\n",
      "│   └── \u001b[01;31msub-01_T1w_smooth_masked.nii.gz\u001b[0m\n",
      "├── \u001b[01;34mskullstrip\u001b[0m\n",
      "│   ├── \u001b[00mcommand.txt\u001b[0m\n",
      "│   └── \u001b[01;31msub-01_T1w_brain_mask.nii.gz\u001b[0m\n",
      "├── \u001b[01;34msmooth\u001b[0m\n",
      "│   ├── \u001b[00mcommand.txt\u001b[0m\n",
      "│   └── \u001b[01;31msub-01_T1w_smooth.nii.gz\u001b[0m\n",
      "├── \u001b[00mworkflow_graph.dot\u001b[0m\n",
      "└── \u001b[00mworkflow_graph.png\u001b[0m\n",
      "\n",
      "3 directories, 12 files\n"
     ]
    }
   ],
   "source": [
    "# Check the working directories of the workflow\n",
    "!tree  output/working_dir/smoothflow/ -I '*js|*json|*html|*pklz|_report'"
   ]
  },
  {
   "cell_type": "code",
   "execution_count": 23,
   "id": "0fe48fc6",
   "metadata": {
    "editable": true,
    "slideshow": {
     "slide_type": "subslide"
    },
    "tags": []
   },
   "outputs": [],
   "source": [
    "# Helper function to plot 3D NIfTI images\n",
    "def plot_slice(fname):\n",
    "\n",
    "    # Load the image\n",
    "    img = nib.load(fname)\n",
    "    data = img.get_fdata()\n",
    "\n",
    "    # Cut in the middle of the brain\n",
    "    cut = int(data.shape[-1]/2) + 10\n",
    "\n",
    "    # Plot the data\n",
    "    plt.imshow(np.rot90(data[..., cut]), cmap=\"gray\")\n",
    "    plt.gca().set_axis_off()"
   ]
  },
  {
   "cell_type": "code",
   "execution_count": 24,
   "id": "e1d1e407",
   "metadata": {
    "editable": true,
    "slideshow": {
     "slide_type": "fragment"
    },
    "tags": []
   },
   "outputs": [
    {
     "data": {
      "image/png": "[encoded data removed]",
      "text/plain": [
       "<Figure size 1200x400 with 4 Axes>"
      ]
     },
     "metadata": {},
     "output_type": "display_data"
    }
   ],
   "source": [
    "f = plt.figure(figsize=(12, 4))\n",
    "for i, img in enumerate([input_file,\n",
    "                         opj(wf_work_dir, \"smoothflow/smooth/sub-01_T1w_smooth.nii.gz\"),\n",
    "                         opj(wf_work_dir, \"smoothflow/skullstrip/sub-01_T1w_brain_mask.nii.gz\"),\n",
    "                         opj(wf_work_dir, \"smoothflow/mask/sub-01_T1w_smooth_masked.nii.gz\")]):\n",
    "    f.add_subplot(1, 4, i + 1)\n",
    "    plot_slice(img)"
   ]
  },
  {
   "cell_type": "markdown",
   "id": "47293b76",
   "metadata": {
    "editable": true,
    "slideshow": {
     "slide_type": "slide"
    },
    "tags": []
   },
   "source": [
    "#### 3.4. Execution Plugins: Execution on different systems\n",
    "\n",
    "Allow seamless execution across many architectures and make using parallel computation quite easy.\n",
    "\n",
    "- Local Machines:\n",
    "    - __Serial__: Runs the workflow one node at a time in a single process locally. The order of the nodes is determined by a topolocial sort of the workflow.\n",
    "    - __Multicore__: Uses the Python multiprocessing library to distribute jobs as new processes on a local system.\n",
    "\n",
    "\n",
    "- Submission to Cluster Schedulers:\n",
    "    - Plugins like HTCondor, PBS, SLURM, SGE, OAR, and LSF submit jobs to clusters managed by these job scheduling systems.\n",
    "\n",
    "- Advanced Cluster Integration:\n",
    "    - __DAGMan__: Manages complex workflow dependencies for submission to DAGMan cluster scheduler.\n",
    "    - __IPython__: Utilizes IPython parallel computing capabilities for distributed execution in clusters.\n",
    "\n",
    "- Specialized Execution Plugins:\n",
    "    - __Soma-Workflow__: Integrates with Soma-Workflow system for distributed execution in HPC environments.\n",
    "\n",
    "\n",
    "<p class=\"important-title\" style=\"font-size: 1.2em; color: red;\"><i class=\"fas fa-exclamation-circle\" style=\"color: red;\"></i> <span style=\"font-size: 1.5em;\">Cluster operation often needs a special setup.</span></p>\n"
   ]
  },
  {
   "cell_type": "markdown",
   "id": "39add658-ec21-4a7b-bb93-a720d98d7838",
   "metadata": {
    "editable": true,
    "raw_mimetype": "",
    "slideshow": {
     "slide_type": "subslide"
    },
    "tags": []
   },
   "source": [
    "All plugins can be executed with:\n",
    "```javascript\n",
    "workflow.run(plugin=PLUGIN_NAME, plugin_args=ARGS_DICT)\n",
    "```"
   ]
  },
  {
   "cell_type": "markdown",
   "id": "ceaa1175-82c5-4023-ba0d-a0a2425c530c",
   "metadata": {
    "editable": true,
    "slideshow": {
     "slide_type": "fragment"
    },
    "tags": []
   },
   "source": [
    "To run the workflow one node at a time:\n",
    "```javascript\n",
    "wf.run(plugin='Linear')\n",
    "```"
   ]
  },
  {
   "cell_type": "markdown",
   "id": "f02e35de-e8e7-41a1-b7d1-5a311acbdda7",
   "metadata": {
    "editable": true,
    "slideshow": {
     "slide_type": "fragment"
    },
    "tags": []
   },
   "source": [
    "To distribute processing on a multicore machine, number of processors/threads will be automatically detected:\n",
    "```javascript\n",
    "wf.run(plugin='MultiProc') \n",
    "```"
   ]
  },
  {
   "cell_type": "markdown",
   "id": "ad212cb4-f5d9-41d0-a42f-fd73266fd74d",
   "metadata": {
    "editable": true,
    "slideshow": {
     "slide_type": "fragment"
    },
    "tags": []
   },
   "source": [
    "Plugin arguments:\n",
    "```javascript\n",
    "arguments = {'n_procs' : num_threads,\n",
    "               'memory_gb' : num_gb} \n",
    "\n",
    "wf.run(plugin='MultiProc', plugin_args=arguments)\n",
    "```"
   ]
  },
  {
   "cell_type": "markdown",
   "id": "6f7e4a12-9d62-4ea1-86eb-cbfe4449d2bb",
   "metadata": {
    "editable": true,
    "slideshow": {
     "slide_type": "fragment"
    },
    "tags": []
   },
   "source": [
    "In order to use Nipype with SLURM simply call:\n",
    "\n",
    "```javascript\n",
    "wf.run(plugin='SLURM')\n",
    "``` \n",
    "\n",
    "<p style=\"font-size: 13px;\">Optional arguments:</p>\n",
    "\n",
    "<p style=\"font-size: 13px;\"><code>template</code>: If you want to use your own job submission template (the plugin generates a basic one by default).</p>\n",
    "\n",
    "<p style=\"font-size: 13px;\"><code>sbatch_args</code>: Takes any arguments such as nodes/partitions/gres/etc that you would want to pass on to the sbatch command underneath.</p>\n",
    "\n",
    "<p style=\"font-size: 13px;\"><code>jobid_re</code>: Regular expression for custom job submission id search.</p>"
   ]
  },
  {
   "cell_type": "markdown",
   "id": "ac4c7ac3-fc01-42b0-9a73-66b3643ea559",
   "metadata": {
    "editable": true,
    "slideshow": {
     "slide_type": "slide"
    },
    "tags": []
   },
   "source": [
    "#### 3.5. Data Input: First step of every analysis\n",
    "Nipype provides many different modules how to get the data into the framework. \n",
    "\n",
    "We will work through an example with the DataGrabber module:\n",
    "\n",
    "- __DataGrabber:__  Versatile input module to retrieve data from a local file system based on user-defined search criteria, including wildcard patterns, regular expressions, and directory hierarchies. It supports almost any file organization of your data.\n",
    "\n"
   ]
  },
  {
   "cell_type": "markdown",
   "id": "498d0a76-46ee-47f6-94db-3640771e1fee",
   "metadata": {
    "editable": true,
    "slideshow": {
     "slide_type": "fragment"
    },
    "tags": []
   },
   "source": [
    "But there are many more alternatives available:\n",
    "- __SelectFiles:__ A simpler alternative to the DataGrabber interface, built on Python format strings. Format strings allow you to replace named sections of template strings set off by curly braces ({}).\n",
    "- __BIDSDataGrabber:__ Get neuroimaging data organized in BIDS-compliant directory structures. It simplifies the process of accessing and organizing neuroimaging data for analysis pipelines.\n",
    "- __DataFinder:__  Search for paths that match a given regular expression. Allows a less proscriptive approach to gathering input files compared to DataGrabber.\n",
    "- __FreeSurferSource:__ Specific case of a file grabber that facilitates the data import of outputs from the FreeSurfer recon-all algorithm.\n",
    "- __JSONFileGrabber:__ Datagrabber interface that loads a json file and generates an output for every first-level object.\n",
    "- __S3DataGrabber:__ Pull data from an Amazon S3 Bucket. \n",
    "- __SSHDataGrabber:__ Extension of DataGrabber module that downloads the file list and optionally the files from a SSH server. \n",
    "- __XNATSource:__ Pull data from an XNAT server."
   ]
  },
  {
   "cell_type": "markdown",
   "id": "ffe05c62",
   "metadata": {
    "editable": true,
    "slideshow": {
     "slide_type": "subslide"
    },
    "tags": []
   },
   "source": [
    "##### __Example: DataGrabber__\n",
    "Let's assume we want to grab the anatomical and functional images of certain subjects of the Flanker dataset:"
   ]
  },
  {
   "cell_type": "code",
   "execution_count": 25,
   "id": "5fadc7be",
   "metadata": {
    "editable": true,
    "scrolled": true,
    "slideshow": {
     "slide_type": "fragment"
    },
    "tags": [
     "scroll-output"
    ]
   },
   "outputs": [
    {
     "name": "stdout",
     "output_type": "stream",
     "text": [
      "\u001b[01;34mds000102/\u001b[0m\n",
      "├── \u001b[00mCHANGES\u001b[0m\n",
      "├── \u001b[00mREADME\u001b[0m\n",
      "├── \u001b[00mT1w.json\u001b[0m\n",
      "├── \u001b[00mdataset_description.json\u001b[0m\n",
      "├── \u001b[01;34mderivatives\u001b[0m\n",
      "│   └── \u001b[01;34mmriqc\u001b[0m\n",
      "├── \u001b[00mparticipants.tsv\u001b[0m\n",
      "├── \u001b[01;34msub-01\u001b[0m\n",
      "│   ├── \u001b[01;34manat\u001b[0m\n",
      "│   │   └── \u001b[01;36msub-01_T1w.nii.gz\u001b[0m -> \u001b[01;31m../../.git/annex/objects/Pf/6k/MD5E-s10581116--757e697a01eeea5c97a7d6fbc7153373.nii.gz/MD5E-s10581116--757e697a01eeea5c97a7d6fbc7153373.nii.gz\u001b[0m\n",
      "│   └── \u001b[01;34mfunc\u001b[0m\n",
      "│       ├── \u001b[01;36msub-01_task-flanker_run-1_bold.nii.gz\u001b[0m -> \u001b[01;31m../../.git/annex/objects/5m/w9/MD5E-s28061534--8e8c44ff53f9b5d46f2caae5916fa4ef.nii.gz/MD5E-s28061534--8e8c44ff53f9b5d46f2caae5916fa4ef.nii.gz\u001b[0m\n",
      "│       ├── \u001b[00msub-01_task-flanker_run-1_events.tsv\u001b[0m\n",
      "│       ├── \u001b[01;36msub-01_task-flanker_run-2_bold.nii.gz\u001b[0m -> \u001b[01;31m../../.git/annex/objects/2F/58/MD5E-s28143286--f0bcf782c3688e2cf7149b4665949484.nii.gz/MD5E-s28143286--f0bcf782c3688e2cf7149b4665949484.nii.gz\u001b[0m\n",
      "│       └── \u001b[00msub-01_task-flanker_run-2_events.tsv\u001b[0m\n",
      "├── \u001b[01;34msub-02\u001b[0m\n",
      "│   ├── \u001b[01;34manat\u001b[0m\n",
      "│   │   └── \u001b[01;36msub-02_T1w.nii.gz\u001b[0m -> \u001b[01;31m../../.git/annex/objects/3m/FF/MD5E-s10737123--cbd4181ee26559e8ec0a441fa2f834a7.nii.gz/MD5E-s10737123--cbd4181ee26559e8ec0a441fa2f834a7.nii.gz\u001b[0m\n",
      "│   └── \u001b[01;34mfunc\u001b[0m\n",
      "│       ├── \u001b[01;36msub-02_task-flanker_run-1_bold.nii.gz\u001b[0m -> \u001b[01;31m../../.git/annex/objects/8v/2j/MD5E-s29188378--80050f0deb13562c24f2fc23f8d095bd.nii.gz/MD5E-s29188378--80050f0deb13562c24f2fc23f8d095bd.nii.gz\u001b[0m\n",
      "│       ├── \u001b[00msub-02_task-flanker_run-1_events.tsv\u001b[0m\n",
      "│       ├── \u001b[01;36msub-02_task-flanker_run-2_bold.nii.gz\u001b[0m -> \u001b[01;31m../../.git/annex/objects/fM/Kw/MD5E-s29193540--cc013f2d7d148b448edca8aada349d02.nii.gz/MD5E-s29193540--cc013f2d7d148b448edca8aada349d02.nii.gz\u001b[0m\n",
      "│       └── \u001b[00msub-02_task-flanker_run-2_events.tsv\u001b[0m\n",
      "├── \u001b[01;34msub-03\u001b[0m\n",
      "│   ├── \u001b[01;34manat\u001b[0m\n",
      "│   │   └── \u001b[01;36msub-03_T1w.nii.gz\u001b[0m -> \u001b[01;31m../../.git/annex/objects/7W/9z/MD5E-s10707026--8f1858934cc7c7457e3a4a71cc2131fc.nii.gz/MD5E-s10707026--8f1858934cc7c7457e3a4a71cc2131fc.nii.gz\u001b[0m\n",
      "│   └── \u001b[01;34mfunc\u001b[0m\n",
      "│       ├── \u001b[01;36msub-03_task-flanker_run-1_bold.nii.gz\u001b[0m -> \u001b[01;31m../../.git/annex/objects/q6/kF/MD5E-s28755729--b19466702eee6b9385bd6e19e362f94c.nii.gz/MD5E-s28755729--b19466702eee6b9385bd6e19e362f94c.nii.gz\u001b[0m\n",
      "│       ├── \u001b[00msub-03_task-flanker_run-1_events.tsv\u001b[0m\n",
      "│       ├── \u001b[01;36msub-03_task-flanker_run-2_bold.nii.gz\u001b[0m -> \u001b[01;31m../../.git/annex/objects/zV/K1/MD5E-s28782544--8d9700a435d08c90f0c1d534efdc8b69.nii.gz/MD5E-s28782544--8d9700a435d08c90f0c1d534efdc8b69.nii.gz\u001b[0m\n",
      "│       └── \u001b[00msub-03_task-flanker_run-2_events.tsv\u001b[0m\n",
      "├── \u001b[01;34msub-04\u001b[0m\n",
      "│   ├── \u001b[01;34manat\u001b[0m\n",
      "│   │   └── \u001b[40;31;01msub-04_T1w.nii.gz\u001b[0m -> \u001b[00m../../.git/annex/objects/FW/14/MD5E-s10738444--2a9a2ba4ea7d2324c84bf5a2882f196c.nii.gz/MD5E-s10738444--2a9a2ba4ea7d2324c84bf5a2882f196c.nii.gz\u001b[0m\n",
      "│   └── \u001b[01;34mfunc\u001b[0m\n",
      "│       ├── \u001b[40;31;01msub-04_task-flanker_run-1_bold.nii.gz\u001b[0m -> \u001b[00m../../.git/annex/objects/9Z/0Q/MD5E-s29062799--27171406951ea275cb5857ea0dc32345.nii.gz/MD5E-s29062799--27171406951ea275cb5857ea0dc32345.nii.gz\u001b[0m\n",
      "│       ├── \u001b[00msub-04_task-flanker_run-1_events.tsv\u001b[0m\n",
      "│       ├── \u001b[40;31;01msub-04_task-flanker_run-2_bold.nii.gz\u001b[0m -> \u001b[00m../../.git/annex/objects/FW/FZ/MD5E-s29071279--f89b61fe3ebab26df1374f2564bd95c2.nii.gz/MD5E-s29071279--f89b61fe3ebab26df1374f2564bd95c2.nii.gz\u001b[0m\n",
      "│       └── \u001b[00msub-04_task-flanker_run-2_events.tsv\u001b[0m\n",
      "├── \u001b[01;34msub-05\u001b[0m\n",
      "│   ├── \u001b[01;34manat\u001b[0m\n",
      "│   │   └── \u001b[40;31;01msub-05_T1w.nii.gz\u001b[0m -> \u001b[00m../../.git/annex/objects/k2/Kj/MD5E-s10753867--c4b5788da5f4c627f0f5862da5f46c35.nii.gz/MD5E-s10753867--c4b5788da5f4c627f0f5862da5f46c35.nii.gz\u001b[0m\n",
      "│   └── \u001b[01;34mfunc\u001b[0m\n",
      "│       ├── \u001b[40;31;01msub-05_task-flanker_run-1_bold.nii.gz\u001b[0m -> \u001b[00m../../.git/annex/objects/VZ/z5/MD5E-s29667270--0ce9ac78b6aa9a77fc94c655a6ff5a06.nii.gz/MD5E-s29667270--0ce9ac78b6aa9a77fc94c655a6ff5a06.nii.gz\u001b[0m\n",
      "│       ├── \u001b[00msub-05_task-flanker_run-1_events.tsv\u001b[0m\n",
      "│       ├── \u001b[40;31;01msub-05_task-flanker_run-2_bold.nii.gz\u001b[0m -> \u001b[00m../../.git/annex/objects/z7/MP/MD5E-s29660544--752750dabb21e2cf28e87d1d550a71b9.nii.gz/MD5E-s29660544--752750dabb21e2cf28e87d1d550a71b9.nii.gz\u001b[0m\n",
      "│       └── \u001b[00msub-05_task-flanker_run-2_events.tsv\u001b[0m\n",
      "├── \u001b[01;34msub-06\u001b[0m\n",
      "│   ├── \u001b[01;34manat\u001b[0m\n",
      "│   │   └── \u001b[40;31;01msub-06_T1w.nii.gz\u001b[0m -> \u001b[00m../../.git/annex/objects/5w/G0/MD5E-s10620585--1132eab3830fe59b8a10b6582bb49004.nii.gz/MD5E-s10620585--1132eab3830fe59b8a10b6582bb49004.nii.gz\u001b[0m\n",
      "│   └── \u001b[01;34mfunc\u001b[0m\n",
      "│       ├── \u001b[40;31;01msub-06_task-flanker_run-1_bold.nii.gz\u001b[0m -> \u001b[00m../../.git/annex/objects/3x/qj/MD5E-s29386982--e671c0c647ce7d0d4596e35b702ee970.nii.gz/MD5E-s29386982--e671c0c647ce7d0d4596e35b702ee970.nii.gz\u001b[0m\n",
      "│       ├── \u001b[00msub-06_task-flanker_run-1_events.tsv\u001b[0m\n",
      "│       ├── \u001b[40;31;01msub-06_task-flanker_run-2_bold.nii.gz\u001b[0m -> \u001b[00m../../.git/annex/objects/9j/6P/MD5E-s29379265--e513a2746d2b5c603f96044cf48c557c.nii.gz/MD5E-s29379265--e513a2746d2b5c603f96044cf48c557c.nii.gz\u001b[0m\n",
      "│       └── \u001b[00msub-06_task-flanker_run-2_events.tsv\u001b[0m\n",
      "├── \u001b[01;34msub-07\u001b[0m\n",
      "│   ├── \u001b[01;34manat\u001b[0m\n",
      "│   │   └── \u001b[40;31;01msub-07_T1w.nii.gz\u001b[0m -> \u001b[00m../../.git/annex/objects/08/fF/MD5E-s10718092--38481fbc489dfb1ec4b174b57591a074.nii.gz/MD5E-s10718092--38481fbc489dfb1ec4b174b57591a074.nii.gz\u001b[0m\n",
      "│   └── \u001b[01;34mfunc\u001b[0m\n",
      "│       ├── \u001b[40;31;01msub-07_task-flanker_run-1_bold.nii.gz\u001b[0m -> \u001b[00m../../.git/annex/objects/z1/7W/MD5E-s28946009--5baf7a314874b280543fc0f91f2731af.nii.gz/MD5E-s28946009--5baf7a314874b280543fc0f91f2731af.nii.gz\u001b[0m\n",
      "│       ├── \u001b[00msub-07_task-flanker_run-1_events.tsv\u001b[0m\n",
      "│       ├── \u001b[40;31;01msub-07_task-flanker_run-2_bold.nii.gz\u001b[0m -> \u001b[00m../../.git/annex/objects/Jf/W7/MD5E-s28960603--682e13963bfc49cc6ae05e9ba5c62619.nii.gz/MD5E-s28960603--682e13963bfc49cc6ae05e9ba5c62619.nii.gz\u001b[0m\n",
      "│       └── \u001b[00msub-07_task-flanker_run-2_events.tsv\u001b[0m\n",
      "├── \u001b[01;34msub-08\u001b[0m\n",
      "│   ├── \u001b[01;34manat\u001b[0m\n",
      "│   │   └── \u001b[40;31;01msub-08_T1w.nii.gz\u001b[0m -> \u001b[00m../../.git/annex/objects/mw/MM/MD5E-s10561256--b94dddd8dc1c146aa8cd97f8d9994146.nii.gz/MD5E-s10561256--b94dddd8dc1c146aa8cd97f8d9994146.nii.gz\u001b[0m\n",
      "│   └── \u001b[01;34mfunc\u001b[0m\n",
      "│       ├── \u001b[40;31;01msub-08_task-flanker_run-1_bold.nii.gz\u001b[0m -> \u001b[00m../../.git/annex/objects/zX/v9/MD5E-s28641609--47314e6d1a14b8545686110b5b67f8b8.nii.gz/MD5E-s28641609--47314e6d1a14b8545686110b5b67f8b8.nii.gz\u001b[0m\n",
      "│       ├── \u001b[00msub-08_task-flanker_run-1_events.tsv\u001b[0m\n",
      "│       ├── \u001b[40;31;01msub-08_task-flanker_run-2_bold.nii.gz\u001b[0m -> \u001b[00m../../.git/annex/objects/WZ/F0/MD5E-s28636310--4535bf26281e1c5556ad0d3468e7fe4e.nii.gz/MD5E-s28636310--4535bf26281e1c5556ad0d3468e7fe4e.nii.gz\u001b[0m\n",
      "│       └── \u001b[00msub-08_task-flanker_run-2_events.tsv\u001b[0m\n",
      "├── \u001b[01;34msub-09\u001b[0m\n",
      "│   ├── \u001b[01;34manat\u001b[0m\n",
      "│   │   └── \u001b[40;31;01msub-09_T1w.nii.gz\u001b[0m -> \u001b[00m../../.git/annex/objects/QJ/ZZ/MD5E-s10775967--e6a18e64bc0a6b17254a9564cf9b8f82.nii.gz/MD5E-s10775967--e6a18e64bc0a6b17254a9564cf9b8f82.nii.gz\u001b[0m\n",
      "│   └── \u001b[01;34mfunc\u001b[0m\n",
      "│       ├── \u001b[40;31;01msub-09_task-flanker_run-1_bold.nii.gz\u001b[0m -> \u001b[00m../../.git/annex/objects/k9/1X/MD5E-s29200533--59e86a903e0ab3d1d320c794ba1f0777.nii.gz/MD5E-s29200533--59e86a903e0ab3d1d320c794ba1f0777.nii.gz\u001b[0m\n",
      "│       ├── \u001b[00msub-09_task-flanker_run-1_events.tsv\u001b[0m\n",
      "│       ├── \u001b[40;31;01msub-09_task-flanker_run-2_bold.nii.gz\u001b[0m -> \u001b[00m../../.git/annex/objects/W3/94/MD5E-s29223017--7f3fb9e260d3bd28e29b0b586ce4c344.nii.gz/MD5E-s29223017--7f3fb9e260d3bd28e29b0b586ce4c344.nii.gz\u001b[0m\n",
      "│       └── \u001b[00msub-09_task-flanker_run-2_events.tsv\u001b[0m\n",
      "├── \u001b[01;34msub-10\u001b[0m\n",
      "│   ├── \u001b[01;34manat\u001b[0m\n",
      "│   │   └── \u001b[40;31;01msub-10_T1w.nii.gz\u001b[0m -> \u001b[00m../../.git/annex/objects/5F/3f/MD5E-s10750712--bde2309077bffe22cb65e42ebdce5bfa.nii.gz/MD5E-s10750712--bde2309077bffe22cb65e42ebdce5bfa.nii.gz\u001b[0m\n",
      "│   └── \u001b[01;34mfunc\u001b[0m\n",
      "│       ├── \u001b[40;31;01msub-10_task-flanker_run-1_bold.nii.gz\u001b[0m -> \u001b[00m../../.git/annex/objects/3p/qp/MD5E-s29732696--339715d5cec387f4d44dfe94f304a429.nii.gz/MD5E-s29732696--339715d5cec387f4d44dfe94f304a429.nii.gz\u001b[0m\n",
      "│       ├── \u001b[00msub-10_task-flanker_run-1_events.tsv\u001b[0m\n",
      "│       ├── \u001b[40;31;01msub-10_task-flanker_run-2_bold.nii.gz\u001b[0m -> \u001b[00m../../.git/annex/objects/11/Zx/MD5E-s29724034--16f2bf452524a315182f188becc1866d.nii.gz/MD5E-s29724034--16f2bf452524a315182f188becc1866d.nii.gz\u001b[0m\n",
      "│       └── \u001b[00msub-10_task-flanker_run-2_events.tsv\u001b[0m\n",
      "├── \u001b[01;34msub-11\u001b[0m\n",
      "│   ├── \u001b[01;34manat\u001b[0m\n",
      "│   │   └── \u001b[40;31;01msub-11_T1w.nii.gz\u001b[0m -> \u001b[00m../../.git/annex/objects/kj/xX/MD5E-s10534963--9e5bff7ec0b5df2850e1d05b1af281ba.nii.gz/MD5E-s10534963--9e5bff7ec0b5df2850e1d05b1af281ba.nii.gz\u001b[0m\n",
      "│   └── \u001b[01;34mfunc\u001b[0m\n",
      "│       ├── \u001b[40;31;01msub-11_task-flanker_run-1_bold.nii.gz\u001b[0m -> \u001b[00m../../.git/annex/objects/35/fk/MD5E-s28226875--d5012074c2c7a0a394861b010bcf9a8f.nii.gz/MD5E-s28226875--d5012074c2c7a0a394861b010bcf9a8f.nii.gz\u001b[0m\n",
      "│       ├── \u001b[00msub-11_task-flanker_run-1_events.tsv\u001b[0m\n",
      "│       ├── \u001b[40;31;01msub-11_task-flanker_run-2_bold.nii.gz\u001b[0m -> \u001b[00m../../.git/annex/objects/j7/ff/MD5E-s28198976--c0a64e3b549568c44bb40b1588027c9a.nii.gz/MD5E-s28198976--c0a64e3b549568c44bb40b1588027c9a.nii.gz\u001b[0m\n",
      "│       └── \u001b[00msub-11_task-flanker_run-2_events.tsv\u001b[0m\n",
      "├── \u001b[01;34msub-12\u001b[0m\n",
      "│   ├── \u001b[01;34manat\u001b[0m\n",
      "│   │   └── \u001b[40;31;01msub-12_T1w.nii.gz\u001b[0m -> \u001b[00m../../.git/annex/objects/kx/2F/MD5E-s10550168--a7f651adc817b6678148b575654532a4.nii.gz/MD5E-s10550168--a7f651adc817b6678148b575654532a4.nii.gz\u001b[0m\n",
      "│   └── \u001b[01;34mfunc\u001b[0m\n",
      "│       ├── \u001b[40;31;01msub-12_task-flanker_run-1_bold.nii.gz\u001b[0m -> \u001b[00m../../.git/annex/objects/M0/fX/MD5E-s28403807--f1c3eb2e519020f4315a696ea845fc01.nii.gz/MD5E-s28403807--f1c3eb2e519020f4315a696ea845fc01.nii.gz\u001b[0m\n",
      "│       ├── \u001b[00msub-12_task-flanker_run-1_events.tsv\u001b[0m\n",
      "│       ├── \u001b[40;31;01msub-12_task-flanker_run-2_bold.nii.gz\u001b[0m -> \u001b[00m../../.git/annex/objects/vW/V0/MD5E-s28424992--8740628349be3c056a0411bf4a852b25.nii.gz/MD5E-s28424992--8740628349be3c056a0411bf4a852b25.nii.gz\u001b[0m\n",
      "│       └── \u001b[00msub-12_task-flanker_run-2_events.tsv\u001b[0m\n",
      "├── \u001b[01;34msub-13\u001b[0m\n",
      "│   ├── \u001b[01;34manat\u001b[0m\n",
      "│   │   └── \u001b[40;31;01msub-13_T1w.nii.gz\u001b[0m -> \u001b[00m../../.git/annex/objects/wM/Xw/MD5E-s10609761--440413c3251d182086105649164222c6.nii.gz/MD5E-s10609761--440413c3251d182086105649164222c6.nii.gz\u001b[0m\n",
      "│   └── \u001b[01;34mfunc\u001b[0m\n",
      "│       ├── \u001b[40;31;01msub-13_task-flanker_run-1_bold.nii.gz\u001b[0m -> \u001b[00m../../.git/annex/objects/mf/M4/MD5E-s28180916--aa35f4ad0cf630d6396a8a2dd1f3dda6.nii.gz/MD5E-s28180916--aa35f4ad0cf630d6396a8a2dd1f3dda6.nii.gz\u001b[0m\n",
      "│       ├── \u001b[00msub-13_task-flanker_run-1_events.tsv\u001b[0m\n",
      "│       ├── \u001b[40;31;01msub-13_task-flanker_run-2_bold.nii.gz\u001b[0m -> \u001b[00m../../.git/annex/objects/XP/76/MD5E-s28202786--8caf1ac548c87b2b35f85e8ae2bf72c1.nii.gz/MD5E-s28202786--8caf1ac548c87b2b35f85e8ae2bf72c1.nii.gz\u001b[0m\n",
      "│       └── \u001b[00msub-13_task-flanker_run-2_events.tsv\u001b[0m\n",
      "├── \u001b[01;34msub-14\u001b[0m\n",
      "│   ├── \u001b[01;34manat\u001b[0m\n",
      "│   │   └── \u001b[40;31;01msub-14_T1w.nii.gz\u001b[0m -> \u001b[00m../../.git/annex/objects/Zw/0z/MD5E-s9223596--33abfb5da565f3487e3a7aebc15f940c.nii.gz/MD5E-s9223596--33abfb5da565f3487e3a7aebc15f940c.nii.gz\u001b[0m\n",
      "│   └── \u001b[01;34mfunc\u001b[0m\n",
      "│       ├── \u001b[40;31;01msub-14_task-flanker_run-1_bold.nii.gz\u001b[0m -> \u001b[00m../../.git/annex/objects/Jp/29/MD5E-s29001492--250f1e4daa9be1d95e06af0d56629cc9.nii.gz/MD5E-s29001492--250f1e4daa9be1d95e06af0d56629cc9.nii.gz\u001b[0m\n",
      "│       ├── \u001b[00msub-14_task-flanker_run-1_events.tsv\u001b[0m\n",
      "│       ├── \u001b[40;31;01msub-14_task-flanker_run-2_bold.nii.gz\u001b[0m -> \u001b[00m../../.git/annex/objects/PK/V2/MD5E-s29068193--5621a3b0af8132c509420b4ad9aaf8fb.nii.gz/MD5E-s29068193--5621a3b0af8132c509420b4ad9aaf8fb.nii.gz\u001b[0m\n",
      "│       └── \u001b[00msub-14_task-flanker_run-2_events.tsv\u001b[0m\n",
      "├── \u001b[01;34msub-15\u001b[0m\n",
      "│   ├── \u001b[01;34manat\u001b[0m\n",
      "│   │   └── \u001b[40;31;01msub-15_T1w.nii.gz\u001b[0m -> \u001b[00m../../.git/annex/objects/Mz/qq/MD5E-s10752891--ddd2622f115ec0d29a0c7ab2366f6f95.nii.gz/MD5E-s10752891--ddd2622f115ec0d29a0c7ab2366f6f95.nii.gz\u001b[0m\n",
      "│   └── \u001b[01;34mfunc\u001b[0m\n",
      "│       ├── \u001b[40;31;01msub-15_task-flanker_run-1_bold.nii.gz\u001b[0m -> \u001b[00m../../.git/annex/objects/08/JJ/MD5E-s28285239--feda22c4526af1910fcee58d4c42f07e.nii.gz/MD5E-s28285239--feda22c4526af1910fcee58d4c42f07e.nii.gz\u001b[0m\n",
      "│       ├── \u001b[00msub-15_task-flanker_run-1_events.tsv\u001b[0m\n",
      "│       ├── \u001b[40;31;01msub-15_task-flanker_run-2_bold.nii.gz\u001b[0m -> \u001b[00m../../.git/annex/objects/9f/0W/MD5E-s28289760--433000a1def662e72d8433dba151c61b.nii.gz/MD5E-s28289760--433000a1def662e72d8433dba151c61b.nii.gz\u001b[0m\n",
      "│       └── \u001b[00msub-15_task-flanker_run-2_events.tsv\u001b[0m\n",
      "├── \u001b[01;34msub-16\u001b[0m\n",
      "│   ├── \u001b[01;34manat\u001b[0m\n",
      "│   │   └── \u001b[40;31;01msub-16_T1w.nii.gz\u001b[0m -> \u001b[00m../../.git/annex/objects/4g/8k/MD5E-s10927450--a196f7075c793328dd6ff3cebf36ea6b.nii.gz/MD5E-s10927450--a196f7075c793328dd6ff3cebf36ea6b.nii.gz\u001b[0m\n",
      "│   └── \u001b[01;34mfunc\u001b[0m\n",
      "│       ├── \u001b[40;31;01msub-16_task-flanker_run-1_bold.nii.gz\u001b[0m -> \u001b[00m../../.git/annex/objects/9z/g2/MD5E-s29757991--1a1648b2fa6cc74e31c94f109d8137ba.nii.gz/MD5E-s29757991--1a1648b2fa6cc74e31c94f109d8137ba.nii.gz\u001b[0m\n",
      "│       ├── \u001b[00msub-16_task-flanker_run-1_events.tsv\u001b[0m\n",
      "│       ├── \u001b[40;31;01msub-16_task-flanker_run-2_bold.nii.gz\u001b[0m -> \u001b[00m../../.git/annex/objects/k8/4F/MD5E-s29773832--fe08739ea816254395b985ee704aaa99.nii.gz/MD5E-s29773832--fe08739ea816254395b985ee704aaa99.nii.gz\u001b[0m\n",
      "│       └── \u001b[00msub-16_task-flanker_run-2_events.tsv\u001b[0m\n",
      "├── \u001b[01;34msub-17\u001b[0m\n",
      "│   ├── \u001b[01;34manat\u001b[0m\n",
      "│   │   └── \u001b[40;31;01msub-17_T1w.nii.gz\u001b[0m -> \u001b[00m../../.git/annex/objects/jQ/MQ/MD5E-s10826014--8e2a6b062df4d1c4327802f2b905ef36.nii.gz/MD5E-s10826014--8e2a6b062df4d1c4327802f2b905ef36.nii.gz\u001b[0m\n",
      "│   └── \u001b[01;34mfunc\u001b[0m\n",
      "│       ├── \u001b[40;31;01msub-17_task-flanker_run-1_bold.nii.gz\u001b[0m -> \u001b[00m../../.git/annex/objects/Wz/2P/MD5E-s28991563--9845f461a017a39d1f6e18baaa0c9c41.nii.gz/MD5E-s28991563--9845f461a017a39d1f6e18baaa0c9c41.nii.gz\u001b[0m\n",
      "│       ├── \u001b[00msub-17_task-flanker_run-1_events.tsv\u001b[0m\n",
      "│       ├── \u001b[40;31;01msub-17_task-flanker_run-2_bold.nii.gz\u001b[0m -> \u001b[00m../../.git/annex/objects/jF/3m/MD5E-s29057821--84ccc041163bcc5b3a9443951e2a5a78.nii.gz/MD5E-s29057821--84ccc041163bcc5b3a9443951e2a5a78.nii.gz\u001b[0m\n",
      "│       └── \u001b[00msub-17_task-flanker_run-2_events.tsv\u001b[0m\n",
      "├── \u001b[01;34msub-18\u001b[0m\n",
      "│   ├── \u001b[01;34manat\u001b[0m\n",
      "│   │   └── \u001b[40;31;01msub-18_T1w.nii.gz\u001b[0m -> \u001b[00m../../.git/annex/objects/3v/pK/MD5E-s10571510--6fc4b5792bc50ea4d14eb5247676fafe.nii.gz/MD5E-s10571510--6fc4b5792bc50ea4d14eb5247676fafe.nii.gz\u001b[0m\n",
      "│   └── \u001b[01;34mfunc\u001b[0m\n",
      "│       ├── \u001b[40;31;01msub-18_task-flanker_run-1_bold.nii.gz\u001b[0m -> \u001b[00m../../.git/annex/objects/94/P2/MD5E-s28185776--5b3879ec6fc4bbe1e48efc64984f88cf.nii.gz/MD5E-s28185776--5b3879ec6fc4bbe1e48efc64984f88cf.nii.gz\u001b[0m\n",
      "│       ├── \u001b[00msub-18_task-flanker_run-1_events.tsv\u001b[0m\n",
      "│       ├── \u001b[40;31;01msub-18_task-flanker_run-2_bold.nii.gz\u001b[0m -> \u001b[00m../../.git/annex/objects/qp/6K/MD5E-s28234699--58019d798a133e5d7806569374dd8160.nii.gz/MD5E-s28234699--58019d798a133e5d7806569374dd8160.nii.gz\u001b[0m\n",
      "│       └── \u001b[00msub-18_task-flanker_run-2_events.tsv\u001b[0m\n",
      "├── \u001b[01;34msub-19\u001b[0m\n",
      "│   ├── \u001b[01;34manat\u001b[0m\n",
      "│   │   └── \u001b[40;31;01msub-19_T1w.nii.gz\u001b[0m -> \u001b[00m../../.git/annex/objects/Zw/p8/MD5E-s8861893--d338005753d8af3f3d7bd8dc293e2a97.nii.gz/MD5E-s8861893--d338005753d8af3f3d7bd8dc293e2a97.nii.gz\u001b[0m\n",
      "│   └── \u001b[01;34mfunc\u001b[0m\n",
      "│       ├── \u001b[40;31;01msub-19_task-flanker_run-1_bold.nii.gz\u001b[0m -> \u001b[00m../../.git/annex/objects/04/k6/MD5E-s28178448--3874e748258cf19aa69a05a7c37ad137.nii.gz/MD5E-s28178448--3874e748258cf19aa69a05a7c37ad137.nii.gz\u001b[0m\n",
      "│       ├── \u001b[00msub-19_task-flanker_run-1_events.tsv\u001b[0m\n",
      "│       ├── \u001b[40;31;01msub-19_task-flanker_run-2_bold.nii.gz\u001b[0m -> \u001b[00m../../.git/annex/objects/mz/P4/MD5E-s28190932--91e6b3e4318ca28f01de8cb967cf8421.nii.gz/MD5E-s28190932--91e6b3e4318ca28f01de8cb967cf8421.nii.gz\u001b[0m\n",
      "│       └── \u001b[00msub-19_task-flanker_run-2_events.tsv\u001b[0m\n",
      "├── \u001b[01;34msub-20\u001b[0m\n",
      "│   ├── \u001b[01;34manat\u001b[0m\n",
      "│   │   └── \u001b[40;31;01msub-20_T1w.nii.gz\u001b[0m -> \u001b[00m../../.git/annex/objects/g1/FF/MD5E-s11025608--5929806a7aa5720fc755687e1450b06c.nii.gz/MD5E-s11025608--5929806a7aa5720fc755687e1450b06c.nii.gz\u001b[0m\n",
      "│   └── \u001b[01;34mfunc\u001b[0m\n",
      "│       ├── \u001b[40;31;01msub-20_task-flanker_run-1_bold.nii.gz\u001b[0m -> \u001b[00m../../.git/annex/objects/v5/ZJ/MD5E-s29931631--bf9abb057367ce66961f0b7913e8e707.nii.gz/MD5E-s29931631--bf9abb057367ce66961f0b7913e8e707.nii.gz\u001b[0m\n",
      "│       ├── \u001b[00msub-20_task-flanker_run-1_events.tsv\u001b[0m\n",
      "│       ├── \u001b[40;31;01msub-20_task-flanker_run-2_bold.nii.gz\u001b[0m -> \u001b[00m../../.git/annex/objects/J3/KW/MD5E-s29945590--96cfd5b77cd096f6c6a3530015fea32d.nii.gz/MD5E-s29945590--96cfd5b77cd096f6c6a3530015fea32d.nii.gz\u001b[0m\n",
      "│       └── \u001b[00msub-20_task-flanker_run-2_events.tsv\u001b[0m\n",
      "├── \u001b[01;34msub-21\u001b[0m\n",
      "│   ├── \u001b[01;34manat\u001b[0m\n",
      "│   │   └── \u001b[40;31;01msub-21_T1w.nii.gz\u001b[0m -> \u001b[00m../../.git/annex/objects/K6/6K/MD5E-s8662805--77b262ddd929fa08d78591bfbe558ac6.nii.gz/MD5E-s8662805--77b262ddd929fa08d78591bfbe558ac6.nii.gz\u001b[0m\n",
      "│   └── \u001b[01;34mfunc\u001b[0m\n",
      "│       ├── \u001b[40;31;01msub-21_task-flanker_run-1_bold.nii.gz\u001b[0m -> \u001b[00m../../.git/annex/objects/Wz/p9/MD5E-s28756041--9ae556d4e3042532d25af5dc4ab31840.nii.gz/MD5E-s28756041--9ae556d4e3042532d25af5dc4ab31840.nii.gz\u001b[0m\n",
      "│       ├── \u001b[00msub-21_task-flanker_run-1_events.tsv\u001b[0m\n",
      "│       ├── \u001b[40;31;01msub-21_task-flanker_run-2_bold.nii.gz\u001b[0m -> \u001b[00m../../.git/annex/objects/xF/M3/MD5E-s28758438--81866411fc6b6333ec382a20ff0be718.nii.gz/MD5E-s28758438--81866411fc6b6333ec382a20ff0be718.nii.gz\u001b[0m\n",
      "│       └── \u001b[00msub-21_task-flanker_run-2_events.tsv\u001b[0m\n",
      "├── \u001b[01;34msub-22\u001b[0m\n",
      "│   ├── \u001b[01;34manat\u001b[0m\n",
      "│   │   └── \u001b[40;31;01msub-22_T1w.nii.gz\u001b[0m -> \u001b[00m../../.git/annex/objects/JG/ZV/MD5E-s9282392--9e7296a6a5b68df46b77836182b6681a.nii.gz/MD5E-s9282392--9e7296a6a5b68df46b77836182b6681a.nii.gz\u001b[0m\n",
      "│   └── \u001b[01;34mfunc\u001b[0m\n",
      "│       ├── \u001b[40;31;01msub-22_task-flanker_run-1_bold.nii.gz\u001b[0m -> \u001b[00m../../.git/annex/objects/qW/Gw/MD5E-s28002098--c6bea10177a38667ceea3261a642b3c6.nii.gz/MD5E-s28002098--c6bea10177a38667ceea3261a642b3c6.nii.gz\u001b[0m\n",
      "│       ├── \u001b[00msub-22_task-flanker_run-1_events.tsv\u001b[0m\n",
      "│       ├── \u001b[40;31;01msub-22_task-flanker_run-2_bold.nii.gz\u001b[0m -> \u001b[00m../../.git/annex/objects/VX/Zj/MD5E-s28027568--b34d0df9ad62485aba25296939429885.nii.gz/MD5E-s28027568--b34d0df9ad62485aba25296939429885.nii.gz\u001b[0m\n",
      "│       └── \u001b[00msub-22_task-flanker_run-2_events.tsv\u001b[0m\n",
      "├── \u001b[01;34msub-23\u001b[0m\n",
      "│   ├── \u001b[01;34manat\u001b[0m\n",
      "│   │   └── \u001b[40;31;01msub-23_T1w.nii.gz\u001b[0m -> \u001b[00m../../.git/annex/objects/4Z/4x/MD5E-s10626062--db5a6ba6730b319c6425f2e847ce9b14.nii.gz/MD5E-s10626062--db5a6ba6730b319c6425f2e847ce9b14.nii.gz\u001b[0m\n",
      "│   └── \u001b[01;34mfunc\u001b[0m\n",
      "│       ├── \u001b[40;31;01msub-23_task-flanker_run-1_bold.nii.gz\u001b[0m -> \u001b[00m../../.git/annex/objects/VK/8F/MD5E-s28965005--4a9a96d9322563510ca14439e7fd6cea.nii.gz/MD5E-s28965005--4a9a96d9322563510ca14439e7fd6cea.nii.gz\u001b[0m\n",
      "│       ├── \u001b[00msub-23_task-flanker_run-1_events.tsv\u001b[0m\n",
      "│       ├── \u001b[40;31;01msub-23_task-flanker_run-2_bold.nii.gz\u001b[0m -> \u001b[00m../../.git/annex/objects/56/20/MD5E-s29050413--753b0d2c23c4af6592501219c2e2c6bd.nii.gz/MD5E-s29050413--753b0d2c23c4af6592501219c2e2c6bd.nii.gz\u001b[0m\n",
      "│       └── \u001b[00msub-23_task-flanker_run-2_events.tsv\u001b[0m\n",
      "├── \u001b[01;34msub-24\u001b[0m\n",
      "│   ├── \u001b[01;34manat\u001b[0m\n",
      "│   │   └── \u001b[40;31;01msub-24_T1w.nii.gz\u001b[0m -> \u001b[00m../../.git/annex/objects/jQ/fV/MD5E-s10739691--458f0046eff18ee8c43456637766a819.nii.gz/MD5E-s10739691--458f0046eff18ee8c43456637766a819.nii.gz\u001b[0m\n",
      "│   └── \u001b[01;34mfunc\u001b[0m\n",
      "│       ├── \u001b[40;31;01msub-24_task-flanker_run-1_bold.nii.gz\u001b[0m -> \u001b[00m../../.git/annex/objects/km/fV/MD5E-s29354610--29ebfa60e52d49f7dac6814cb5fdc2bc.nii.gz/MD5E-s29354610--29ebfa60e52d49f7dac6814cb5fdc2bc.nii.gz\u001b[0m\n",
      "│       ├── \u001b[00msub-24_task-flanker_run-1_events.tsv\u001b[0m\n",
      "│       ├── \u001b[40;31;01msub-24_task-flanker_run-2_bold.nii.gz\u001b[0m -> \u001b[00m../../.git/annex/objects/Wj/KK/MD5E-s29423307--fedaa1d7c6e34420735bb3bbe5a2fe38.nii.gz/MD5E-s29423307--fedaa1d7c6e34420735bb3bbe5a2fe38.nii.gz\u001b[0m\n",
      "│       └── \u001b[00msub-24_task-flanker_run-2_events.tsv\u001b[0m\n",
      "├── \u001b[01;34msub-25\u001b[0m\n",
      "│   ├── \u001b[01;34manat\u001b[0m\n",
      "│   │   └── \u001b[40;31;01msub-25_T1w.nii.gz\u001b[0m -> \u001b[00m../../.git/annex/objects/Gk/FQ/MD5E-s8998578--f560d832f13e757b485c16d570bf6ebc.nii.gz/MD5E-s8998578--f560d832f13e757b485c16d570bf6ebc.nii.gz\u001b[0m\n",
      "│   └── \u001b[01;34mfunc\u001b[0m\n",
      "│       ├── \u001b[40;31;01msub-25_task-flanker_run-1_bold.nii.gz\u001b[0m -> \u001b[00m../../.git/annex/objects/XW/1v/MD5E-s29473003--49b04e7e4b450ec5ef93ff02d4158775.nii.gz/MD5E-s29473003--49b04e7e4b450ec5ef93ff02d4158775.nii.gz\u001b[0m\n",
      "│       ├── \u001b[00msub-25_task-flanker_run-1_events.tsv\u001b[0m\n",
      "│       ├── \u001b[40;31;01msub-25_task-flanker_run-2_bold.nii.gz\u001b[0m -> \u001b[00m../../.git/annex/objects/Qm/M7/MD5E-s29460132--b0e9039e9f33510631f229c8c2193285.nii.gz/MD5E-s29460132--b0e9039e9f33510631f229c8c2193285.nii.gz\u001b[0m\n",
      "│       └── \u001b[00msub-25_task-flanker_run-2_events.tsv\u001b[0m\n",
      "├── \u001b[01;34msub-26\u001b[0m\n",
      "│   ├── \u001b[01;34manat\u001b[0m\n",
      "│   │   └── \u001b[40;31;01msub-26_T1w.nii.gz\u001b[0m -> \u001b[00m../../.git/annex/objects/kf/9F/MD5E-s10850250--5f103b2660f488e4afa193f9307c1291.nii.gz/MD5E-s10850250--5f103b2660f488e4afa193f9307c1291.nii.gz\u001b[0m\n",
      "│   └── \u001b[01;34mfunc\u001b[0m\n",
      "│       ├── \u001b[40;31;01msub-26_task-flanker_run-1_bold.nii.gz\u001b[0m -> \u001b[00m../../.git/annex/objects/QV/10/MD5E-s30127491--8e30aa4bbfcc461bac8598bf621283c5.nii.gz/MD5E-s30127491--8e30aa4bbfcc461bac8598bf621283c5.nii.gz\u001b[0m\n",
      "│       ├── \u001b[00msub-26_task-flanker_run-1_events.tsv\u001b[0m\n",
      "│       ├── \u001b[40;31;01msub-26_task-flanker_run-2_bold.nii.gz\u001b[0m -> \u001b[00m../../.git/annex/objects/3G/Q6/MD5E-s30162480--80fd132e7cb1600ab248249e78f6f1aa.nii.gz/MD5E-s30162480--80fd132e7cb1600ab248249e78f6f1aa.nii.gz\u001b[0m\n",
      "│       └── \u001b[00msub-26_task-flanker_run-2_events.tsv\u001b[0m\n",
      "└── \u001b[00mtask-flanker_bold.json\u001b[0m\n",
      "\n",
      "80 directories, 136 files\n"
     ]
    }
   ],
   "source": [
    "!tree -L 4 ds000102/ -I '*csv|*pdf'"
   ]
  },
  {
   "cell_type": "markdown",
   "id": "e400c540-bb22-4f2a-bbfb-e491fdea27d8",
   "metadata": {
    "editable": true,
    "raw_mimetype": "",
    "slideshow": {
     "slide_type": "subslide"
    },
    "tags": []
   },
   "source": [
    "The two files we desire are at the following locations:\n",
    "\n",
    "\n",
    "- __anatomical image:__  <span style=\"color:blue\">ds000102</span>/<span style=\"color:orange\">sub-01</span>/anat/<span style=\"color:orange\">sub-01</span>_T1w.nii.gz\n",
    "\n",
    "- __functional image:__ <span style=\"color:blue\">ds000102</span>/<span style=\"color:orange\">sub-01</span>/func/<span style=\"color:orange\">sub-01</span>_task-flanker<span style=\"color:red\">_run-1</span>_bold.nii.gz"
   ]
  },
  {
   "cell_type": "markdown",
   "id": "51f537fe-c3f6-404f-b41f-90aa0bf0989a",
   "metadata": {
    "editable": true,
    "slideshow": {
     "slide_type": "fragment"
    },
    "tags": []
   },
   "source": [
    "This means that we can rewrite the paths as follows:\n",
    "\n",
    "- __anat__ = <span style=\"color:blue\">base_directory</span>/sub-<span style=\"color:orange\">[subject_id]</span>/anat/sub-<span style=\"color:orange\">[subject_id]</span>_T1w.nii.gz\n",
    "\n",
    "- __func__ = <span style=\"color:blue\">base_directory</span>/sub-<span style=\"color:orange\">[subject_id]</span>/func/sub-<span style=\"color:orange\">[subject_id]</span>\\_task-flanker_run_<span style=\"color:red\">[run_id]</span>_bold.nii.gz\n",
    "\n"
   ]
  },
  {
   "cell_type": "markdown",
   "id": "3035d1a8-8558-4767-9215-2a07b3337efa",
   "metadata": {
    "editable": true,
    "slideshow": {
     "slide_type": "fragment"
    },
    "tags": []
   },
   "source": [
    "Therefore, we need the parameters <span style=\"color:orange\">subject_id</span> for the anatomical image and the parameters <span style=\"color:orange\">subject_id</span>, and <span style=\"color:red\">run_id</span> for the functional images. In the context of DataGabber, this is specified as follows:"
   ]
  },
  {
   "cell_type": "code",
   "execution_count": 26,
   "id": "69fc0db9",
   "metadata": {
    "editable": true,
    "slideshow": {
     "slide_type": "subslide"
    },
    "tags": []
   },
   "outputs": [],
   "source": [
    "# Input: Set the input file path\n",
    "data_dir = opj(os.getcwd(), 'ds000102') #base_directory of the data\n",
    "\n",
    "# Dynamic parameters\n",
    "subj_list = ['01', '02'] #subject_id\n",
    "run_list = [1, 2] #run_id\n",
    "\n",
    "# Initialise workflow\n",
    "wf_input = Workflow(name='data_input', base_dir=wf_work_dir) # base_dir: Set path where nipype will store stepwise results\n",
    "wf_input.config[\"execution\"][\"crashfile_format\"] = \"txt\""
   ]
  },
  {
   "cell_type": "code",
   "execution_count": 27,
   "id": "95916b14",
   "metadata": {
    "editable": true,
    "slideshow": {
     "slide_type": "subslide"
    },
    "tags": []
   },
   "outputs": [],
   "source": [
    "# Create DataGrabber node with input fields for all dynamic parameters (e.g. subject identifier, run identifier), \n",
    "# as well as the two desired output fields anat and func.\n",
    "\n",
    "dg = Node(\n",
    "    interface= DataGrabber(infields=[\"subject_id\",\"run_id\"], outfields=[\"anat\", \"func\"]),\n",
    "    name=\"dg\")\n",
    "\n",
    "# Location of dataset folder\n",
    "dg.inputs.base_directory = data_dir\n",
    "# Necessary default parameters\n",
    "dg.inputs.sort_filelist = True #return a sorted filelist to ensure to match files to correct runs/tasks\n",
    "dg.inputs.template = \"*\" #wildcard\n",
    "# Specify run_ids\n",
    "dg.inputs.run_id = run_list"
   ]
  },
  {
   "cell_type": "code",
   "execution_count": 28,
   "id": "e36b3287",
   "metadata": {
    "editable": true,
    "slideshow": {
     "slide_type": "subslide"
    },
    "tags": []
   },
   "outputs": [],
   "source": [
    "# Define arguments to fill the wildcards in the below paths \n",
    "dg.inputs.template_args = dict(\n",
    "    anat=[[\"subject_id\",\"subject_id\"]],\n",
    "    func=[[\"subject_id\",\"subject_id\",\"run_id\"]],\n",
    ")\n",
    "\n",
    "# Specify the template structure to find the specific data\n",
    "dg.inputs.field_template = dict(\n",
    "    anat=\"sub-%s/anat/sub-%s_T1w.nii.gz\",\n",
    "    func=\"sub-%s/func/sub-%s_task-flanker_run-%d_bold.nii.gz\",\n",
    ")"
   ]
  },
  {
   "cell_type": "markdown",
   "id": "f246dac5-6008-4668-912b-48b37a8bdb1d",
   "metadata": {
    "editable": true,
    "slideshow": {
     "slide_type": "subslide"
    },
    "tags": []
   },
   "source": [
    "To feed dynamic parameters into the node either do this by specifying them directly as node inputs, or using another node and feed **subject_id** as connections to the DataGrabber node."
   ]
  },
  {
   "cell_type": "markdown",
   "id": "f99b4d09-c648-42d3-9a05-0112de16c69d",
   "metadata": {
    "editable": true,
    "slideshow": {
     "slide_type": "fragment"
    },
    "tags": []
   },
   "source": [
    "Specifying the input fields of DataGrabber directly for one subject:\n",
    "```javascript\n",
    "dg.inputs.subject_id = '01'\n",
    "```"
   ]
  },
  {
   "cell_type": "markdown",
   "id": "b72119cc-1b44-48b1-ac04-3545fb0e16a3",
   "metadata": {
    "editable": true,
    "slideshow": {
     "slide_type": "fragment"
    },
    "tags": []
   },
   "source": [
    "If we want to start our workflow from creating subgraphs, i.e. running it for more than one subject, we can use another node:\n",
    "__IdentityInterface__, which is a special use case of **iterables**. It allows to create Nodes that do simple identity mapping, i.e. Nodes that only work on parameters/strings."
   ]
  },
  {
   "cell_type": "code",
   "execution_count": 29,
   "id": "8725e3bf",
   "metadata": {
    "editable": true,
    "slideshow": {
     "slide_type": "fragment"
    },
    "tags": []
   },
   "outputs": [],
   "source": [
    "infosource = Node(IdentityInterface(fields=[\"subject_id\"]),\n",
    "                  name=\"infosource\")\n",
    "# Run a workflow iterating over various inputs using the iterables attribute of nodes --> splits up the workflow\n",
    "infosource.iterables = [(\"subject_id\", subj_list)]"
   ]
  },
  {
   "cell_type": "code",
   "execution_count": 30,
   "id": "c4b4e8ed-d11d-4c1e-a628-cabc1b79797b",
   "metadata": {
    "editable": true,
    "slideshow": {
     "slide_type": "fragment"
    },
    "tags": []
   },
   "outputs": [
    {
     "name": "stdout",
     "output_type": "stream",
     "text": [
      "250606-01:28:12,517 nipype.workflow INFO:\n",
      "\t Workflow data_input settings: ['check', 'execution', 'logging', 'monitoring']\n",
      "250606-01:28:12,524 nipype.workflow INFO:\n",
      "\t Running serially.\n",
      "250606-01:28:12,525 nipype.workflow INFO:\n",
      "\t [Node] Setting-up \"data_input.dg\" in \"/home/jovyan/Git_repositories/example-notebooks/books/workflows/output/working_dir/data_input/_subject_id_01/dg\".\n",
      "250606-01:28:12,536 nipype.workflow INFO:\n",
      "\t [Node] Executing \"dg\" <nipype.interfaces.io.DataGrabber>\n",
      "250606-01:28:12,539 nipype.workflow INFO:\n",
      "\t [Node] Finished \"dg\", elapsed time 0.000577s.\n",
      "250606-01:28:12,541 nipype.workflow INFO:\n",
      "\t [Node] Setting-up \"data_input.dg\" in \"/home/jovyan/Git_repositories/example-notebooks/books/workflows/output/working_dir/data_input/_subject_id_02/dg\".\n",
      "250606-01:28:12,544 nipype.workflow INFO:\n",
      "\t [Node] Executing \"dg\" <nipype.interfaces.io.DataGrabber>\n",
      "250606-01:28:12,546 nipype.workflow INFO:\n",
      "\t [Node] Finished \"dg\", elapsed time 0.000316s.\n"
     ]
    },
    {
     "data": {
      "text/plain": [
       "<networkx.classes.digraph.DiGraph at 0x7f0334606450>"
      ]
     },
     "execution_count": 30,
     "metadata": {},
     "output_type": "execute_result"
    }
   ],
   "source": [
    "# Connect the nodes and run the workflow\n",
    "wf_input.connect([(infosource, dg, [(\"subject_id\", \"subject_id\")])])\n",
    "\n",
    "wf_input.run()"
   ]
  },
  {
   "cell_type": "markdown",
   "id": "e2992c7d",
   "metadata": {
    "editable": true,
    "slideshow": {
     "slide_type": "slide"
    },
    "tags": []
   },
   "source": [
    "#### 3.6. Data Output"
   ]
  },
  {
   "cell_type": "markdown",
   "id": "d979c23d",
   "metadata": {
    "editable": true,
    "slideshow": {
     "slide_type": "fragment"
    },
    "tags": []
   },
   "source": [
    "A workflow working directory is like a cache containing the outputs of various processing stages and various extraneous information such as execution reports, hashfiles determining the input state of processes."
   ]
  },
  {
   "cell_type": "code",
   "execution_count": 31,
   "id": "68695262",
   "metadata": {
    "editable": true,
    "slideshow": {
     "slide_type": "fragment"
    },
    "tags": []
   },
   "outputs": [
    {
     "name": "stdout",
     "output_type": "stream",
     "text": [
      "\u001b[01;34moutput/working_dir/smoothflow/\u001b[0m\n",
      "├── \u001b[01;34mmask\u001b[0m\n",
      "│   ├── \u001b[00m_inputs.pklz\u001b[0m\n",
      "│   ├── \u001b[00m_node.pklz\u001b[0m\n",
      "│   ├── \u001b[01;34m_report\u001b[0m\n",
      "│   │   └── \u001b[00mreport.rst\u001b[0m\n",
      "│   ├── \u001b[00mcommand.txt\u001b[0m\n",
      "│   ├── \u001b[00mresult_mask.pklz\u001b[0m\n",
      "│   └── \u001b[01;31msub-01_T1w_smooth_masked.nii.gz\u001b[0m\n",
      "├── \u001b[01;34mskullstrip\u001b[0m\n",
      "│   ├── \u001b[00m_inputs.pklz\u001b[0m\n",
      "│   ├── \u001b[00m_node.pklz\u001b[0m\n",
      "│   ├── \u001b[01;34m_report\u001b[0m\n",
      "│   │   └── \u001b[00mreport.rst\u001b[0m\n",
      "│   ├── \u001b[00mcommand.txt\u001b[0m\n",
      "│   ├── \u001b[00mresult_skullstrip.pklz\u001b[0m\n",
      "│   └── \u001b[01;31msub-01_T1w_brain_mask.nii.gz\u001b[0m\n",
      "└── \u001b[01;34msmooth\u001b[0m\n",
      "    ├── \u001b[00m_inputs.pklz\u001b[0m\n",
      "    ├── \u001b[00m_node.pklz\u001b[0m\n",
      "    ├── \u001b[01;34m_report\u001b[0m\n",
      "    │   └── \u001b[00mreport.rst\u001b[0m\n",
      "    ├── \u001b[00mcommand.txt\u001b[0m\n",
      "    ├── \u001b[00mresult_smooth.pklz\u001b[0m\n",
      "    └── \u001b[01;31msub-01_T1w_smooth.nii.gz\u001b[0m\n",
      "\n",
      "6 directories, 18 files\n"
     ]
    }
   ],
   "source": [
    "!tree  output/working_dir/smoothflow/ -I '*js|*dot|*png|*html|*json'"
   ]
  },
  {
   "cell_type": "markdown",
   "id": "fcb46561-f2ab-4b68-b4e7-4600cdee8c49",
   "metadata": {
    "editable": true,
    "raw_mimetype": "",
    "slideshow": {
     "slide_type": "subslide"
    },
    "tags": []
   },
   "source": [
    "Data output modules allow to *restructure* and *rename* computed output and to spatially differentiate relevant output files from the temporary computed intermediate files in the working directory. \n",
    "\n",
    "In this tutorial, we will look into the DataSink module:\n",
    "- __DataSink:__ Nipype's standard output module, which allows the creation of arbitrary input attributes. The names of these attributes define the directory structure to be created for storing the files or directories.\n",
    "\n",
    "Nipype also provides some simple frontends for storing values into a JSON File, MySQL and SQLite database or an XNAT Servers.\n",
    "- __JSONFileSink__ \n",
    "- __MySQLSink__ \n",
    "- __SQLiteSink__ \n",
    "- __XNATSink__ "
   ]
  },
  {
   "cell_type": "markdown",
   "id": "d666fce6",
   "metadata": {
    "editable": true,
    "slideshow": {
     "slide_type": "subslide"
    },
    "tags": []
   },
   "source": [
    "##### __Example: DataSink__\n",
    "\n",
    "The following code segment defines the DataSink node and sets the ```base_directory``` in which all outputs will be stored. The ```container``` input creates a subdirectory within the base_directory."
   ]
  },
  {
   "cell_type": "markdown",
   "id": "412d2aad-2eec-4f99-8c24-b9494ca437c4",
   "metadata": {
    "editable": true,
    "slideshow": {
     "slide_type": "fragment"
    },
    "tags": []
   },
   "source": [
    "```javascript\n",
    "from nipype.interfaces.io import DataSink\n",
    "\n",
    "\n",
    "datasink = Node(DataSink(), name='sinker')\n",
    "datasink.inputs.base_directory = '/path/to/output'\n",
    "workflow.connect(inputnode, 'subject_id', datasink, 'container')\n",
    "```"
   ]
  },
  {
   "cell_type": "markdown",
   "id": "d96bb038-8b31-4da4-b02b-e98118c15a2f",
   "metadata": {
    "editable": true,
    "slideshow": {
     "slide_type": "fragment"
    },
    "tags": []
   },
   "source": [
    "To store different outputs in the same place, a second port needs to be created with (.)  This stores the files in a separate subfolder called mask:\n",
    "```javascript\n",
    "workflow.connect(inputnode, 'mask_out_file', datasink, 'container.mask')\n",
    "```\n",
    "\n",
    "If you want to store the files in the same folder, use the .@ syntax. The @ tells the DataSink interface to not create the subfolder. This will allow to create different named input ports for DataSink and allow the user to store the files in the same folder.\n",
    "```javascript\n",
    "workflow.connect(inputnode, 'subject_id', datasink, 'container')\n",
    "workflow.connect(inputnode, 'mask_out_file', datasink, 'container.@mask')\n",
    "```"
   ]
  },
  {
   "cell_type": "markdown",
   "id": "10f73132-e85d-4245-acec-8cc3f1024c83",
   "metadata": {
    "editable": true,
    "slideshow": {
     "slide_type": "slide"
    },
    "tags": []
   },
   "source": [
    "<p class=\"important-title\" style=\"font-size: 1.5em; color: purple;\">\n",
    "    🥳 <span style=\"font-size: 1.5em;\">Final Example: Mini-Preprocessing-Workflow</span>\n",
    "</p>\n",
    "\n",
    "\n",
    "- __Input Stream__: DataGrabber to grab the functional image (run-1) of sub-01\n",
    "- __FSL-Interfaces__: Motion correction and spatial smoothing (kernel of 4 mm) of the functional image\n",
    "- __Output Stream__: DataSink to grab the motion-corrected image, the motion parameters and the smoothed image"
   ]
  },
  {
   "cell_type": "code",
   "execution_count": 32,
   "id": "749fa29a-9f06-4e45-9271-c1a7750b054a",
   "metadata": {
    "editable": true,
    "slideshow": {
     "slide_type": "subslide"
    },
    "tags": []
   },
   "outputs": [],
   "source": [
    "# Initialise Workflow\n",
    "wf_preproc = Workflow(name='preproc', base_dir=wf_work_dir)\n",
    "wf_preproc.config[\"execution\"][\"crashfile_format\"] = \"txt\"\n",
    "\n",
    "# DataGrabber Node\n",
    "dg = Node(\n",
    "    interface= DataGrabber(infields=[\"subject_id\", \"run_id\"], outfields=[\"func\"]),\n",
    "    name=\"dg\")\n",
    "\n",
    "# Location of dataset folder\n",
    "dg.inputs.base_directory = data_dir\n",
    "# Necessary default parameters\n",
    "dg.inputs.sort_filelist = True #return a sorted filelist to ensure to match files to correct runs/tasks\n",
    "dg.inputs.template = \"*\"\n",
    "dg.inputs.run_id = 1\n",
    "dg.inputs.subject_id = '01'\n",
    "dg.inputs.template_args = dict(\n",
    "    func=[[\"subject_id\", \"subject_id\", \"run_id\"]],\n",
    ")\n",
    "\n",
    "# Specify the template structure to find the specific data\n",
    "dg.inputs.field_template = dict(\n",
    "    func=\"sub-%s/func/sub-%s_task-flanker_run-%d_bold.nii.gz\",\n",
    ")"
   ]
  },
  {
   "cell_type": "code",
   "execution_count": 33,
   "id": "1fc05a07-3e28-4f18-9ab8-689d90014ddb",
   "metadata": {
    "editable": true,
    "slideshow": {
     "slide_type": "subslide"
    },
    "tags": []
   },
   "outputs": [],
   "source": [
    "# Create Motion Correction Node\n",
    "mcflirt = Node(fsl.MCFLIRT(save_plots=True), \n",
    "               name='mcflirt')\n",
    "\n",
    "# Create Smoothing node\n",
    "smooth = Node(fsl.IsotropicSmooth(fwhm=4),\n",
    "              name='smooth')\n",
    "\n",
    "# Connect the three nodes to each other\n",
    "wf_preproc.connect([(dg, mcflirt, [(\"func\", \"in_file\")]),\n",
    "                    (mcflirt, smooth, [(\"out_file\", \"in_file\")])])"
   ]
  },
  {
   "cell_type": "code",
   "execution_count": 34,
   "id": "ccec6e62",
   "metadata": {
    "editable": true,
    "slideshow": {
     "slide_type": "subslide"
    },
    "tags": []
   },
   "outputs": [],
   "source": [
    "# Create DataSink object\n",
    "sinker = Node(DataSink(), name='sinker')\n",
    "\n",
    "# Name of the output folder\n",
    "sinker.inputs.base_directory = opj(wf_work_dir, 'preproc/results')"
   ]
  },
  {
   "cell_type": "code",
   "execution_count": 35,
   "id": "3f2b8921",
   "metadata": {
    "editable": true,
    "scrolled": true,
    "slideshow": {
     "slide_type": "fragment"
    },
    "tags": []
   },
   "outputs": [
    {
     "name": "stdout",
     "output_type": "stream",
     "text": [
      "250606-01:28:13,923 nipype.workflow INFO:\n",
      "\t Generated workflow graph: /home/jovyan/Git_repositories/example-notebooks/books/workflows/output/working_dir/preproc/graph.png (graph2use=colored, simple_form=True).\n"
     ]
    },
    {
     "data": {
      "image/png": "[encoded data removed]",
      "text/plain": [
       "<IPython.core.display.Image object>"
      ]
     },
     "execution_count": 35,
     "metadata": {},
     "output_type": "execute_result"
    }
   ],
   "source": [
    "# Save output in one folder called 'preproc' with .@\n",
    "wf_preproc.connect([(smooth, sinker, [('out_file', 'sub-01.@in_file')]),\n",
    "                    (mcflirt, sinker, [('out_file', 'sub-01.@mc_img'),\n",
    "                               ('par_file', 'sub-01.@par_file')]),\n",
    "                   ])\n",
    "\n",
    "# Visualize the graph\n",
    "wf_preproc.write_graph(graph2use='colored', format='png', simple_form=True)\n",
    "Image(filename=opj(wf_preproc.base_dir, wf_preproc.name, 'graph.png'))"
   ]
  },
  {
   "cell_type": "code",
   "execution_count": 36,
   "id": "63dd9168-ac35-4b24-92da-ed6d0cdec86f",
   "metadata": {
    "editable": true,
    "slideshow": {
     "slide_type": "fragment"
    },
    "tags": [
     "scroll-output"
    ]
   },
   "outputs": [
    {
     "name": "stdout",
     "output_type": "stream",
     "text": [
      "250606-01:28:13,932 nipype.workflow INFO:\n",
      "\t Workflow preproc settings: ['check', 'execution', 'logging', 'monitoring']\n",
      "250606-01:28:13,943 nipype.workflow INFO:\n",
      "\t Running in parallel.\n",
      "250606-01:28:13,958 nipype.workflow INFO:\n",
      "\t [MultiProc] Running 0 tasks, and 1 jobs ready. Free memory (GB): 219.48/219.48, Free processors: 32/32.\n",
      "250606-01:28:15,12 nipype.workflow INFO:\n",
      "\t [Node] Setting-up \"preproc.dg\" in \"/home/jovyan/Git_repositories/example-notebooks/books/workflows/output/working_dir/preproc/dg\".\n",
      "250606-01:28:15,26 nipype.workflow INFO:\n",
      "\t [Node] Executing \"dg\" <nipype.interfaces.io.DataGrabber>\n",
      "250606-01:28:15,30 nipype.workflow INFO:\n",
      "\t [Node] Finished \"dg\", elapsed time 0.000948s.\n",
      "250606-01:28:15,960 nipype.workflow INFO:\n",
      "\t [Job 0] Completed (preproc.dg).\n",
      "250606-01:28:15,964 nipype.workflow INFO:\n",
      "\t [MultiProc] Running 0 tasks, and 1 jobs ready. Free memory (GB): 219.48/219.48, Free processors: 32/32.\n",
      "250606-01:28:16,481 nipype.workflow INFO:\n",
      "\t [Node] Setting-up \"preproc.mcflirt\" in \"/home/jovyan/Git_repositories/example-notebooks/books/workflows/output/working_dir/preproc/mcflirt\".\n",
      "250606-01:28:16,504 nipype.workflow INFO:\n",
      "\t [Node] Executing \"mcflirt\" <nipype.interfaces.fsl.preprocess.MCFLIRT>\n",
      "250606-01:28:17,962 nipype.workflow INFO:\n",
      "\t [MultiProc] Running 1 tasks, and 0 jobs ready. Free memory (GB): 219.28/219.48, Free processors: 31/32.\n",
      "                     Currently running:\n",
      "                       * preproc.mcflirt\n",
      "250606-01:28:48,637 nipype.workflow INFO:\n",
      "\t [Node] Finished \"mcflirt\", elapsed time 32.125453s.\n",
      "250606-01:28:49,977 nipype.workflow INFO:\n",
      "\t [Job 1] Completed (preproc.mcflirt).\n",
      "250606-01:28:49,979 nipype.workflow INFO:\n",
      "\t [MultiProc] Running 0 tasks, and 1 jobs ready. Free memory (GB): 219.48/219.48, Free processors: 32/32.\n",
      "250606-01:28:50,115 nipype.workflow INFO:\n",
      "\t [Node] Setting-up \"preproc.smooth\" in \"/home/jovyan/Git_repositories/example-notebooks/books/workflows/output/working_dir/preproc/smooth\".\n",
      "250606-01:28:50,133 nipype.workflow INFO:\n",
      "\t [Node] Executing \"smooth\" <nipype.interfaces.fsl.maths.IsotropicSmooth>\n",
      "250606-01:28:51,973 nipype.workflow INFO:\n",
      "\t [MultiProc] Running 1 tasks, and 0 jobs ready. Free memory (GB): 219.28/219.48, Free processors: 31/32.\n",
      "                     Currently running:\n",
      "                       * preproc.smooth\n",
      "250606-01:29:02,65 nipype.workflow INFO:\n",
      "\t [Node] Finished \"smooth\", elapsed time 11.92321s.\n",
      "250606-01:29:03,975 nipype.workflow INFO:\n",
      "\t [Job 2] Completed (preproc.smooth).\n",
      "250606-01:29:03,977 nipype.workflow INFO:\n",
      "\t [MultiProc] Running 0 tasks, and 1 jobs ready. Free memory (GB): 219.48/219.48, Free processors: 32/32.\n",
      "250606-01:29:04,116 nipype.workflow INFO:\n",
      "\t [Node] Setting-up \"preproc.sinker\" in \"/home/jovyan/Git_repositories/example-notebooks/books/workflows/output/working_dir/preproc/sinker\".\n",
      "250606-01:29:04,177 nipype.workflow INFO:\n",
      "\t [Node] Executing \"sinker\" <nipype.interfaces.io.DataSink>\n",
      "250606-01:29:04,181 nipype.workflow INFO:\n",
      "\t [Node] Finished \"sinker\", elapsed time 0.001353s.\n",
      "250606-01:29:05,975 nipype.workflow INFO:\n",
      "\t [Job 3] Completed (preproc.sinker).\n",
      "250606-01:29:05,977 nipype.workflow INFO:\n",
      "\t [MultiProc] Running 0 tasks, and 0 jobs ready. Free memory (GB): 219.48/219.48, Free processors: 32/32.\n"
     ]
    },
    {
     "data": {
      "text/plain": [
       "<networkx.classes.digraph.DiGraph at 0x7f033464a6d0>"
      ]
     },
     "execution_count": 36,
     "metadata": {},
     "output_type": "execute_result"
    }
   ],
   "source": [
    "# Run workflow with distributed processing\n",
    "wf_preproc.run('MultiProc')"
   ]
  },
  {
   "cell_type": "code",
   "execution_count": 37,
   "id": "e6744209",
   "metadata": {
    "editable": true,
    "slideshow": {
     "slide_type": "subslide"
    },
    "tags": []
   },
   "outputs": [
    {
     "name": "stdout",
     "output_type": "stream",
     "text": [
      "\u001b[01;34moutput/working_dir/preproc/results\u001b[0m\n",
      "└── \u001b[01;34msub-01\u001b[0m\n",
      "    ├── \u001b[01;31msub-01_task-flanker_run-1_bold_mcf.nii.gz\u001b[0m\n",
      "    ├── \u001b[00msub-01_task-flanker_run-1_bold_mcf.nii.gz.par\u001b[0m\n",
      "    └── \u001b[01;31msub-01_task-flanker_run-1_bold_mcf_smooth.nii.gz\u001b[0m\n",
      "\n",
      "1 directory, 3 files\n"
     ]
    }
   ],
   "source": [
    "! tree output/working_dir/preproc/results"
   ]
  },
  {
   "cell_type": "markdown",
   "id": "0307bb6f",
   "metadata": {
    "editable": true,
    "slideshow": {
     "slide_type": "subslide"
    },
    "tags": []
   },
   "source": [
    "<p class=\"important-title\" style=\"font-size: 1.5em; color: gold;\"><i class=\"fas fa-lightbulb\" style=\"color: gold;\"></i> <span style=\"font-size: 1.5em;\">Tip</span></p>\n",
    "<ul>\n",
    "DataSink offers the substitution input field to rename output files.\n",
    "For example, to get rid of the string 'bold' and to adapt the file ending of the motion parameter file:\n",
    "</ul>"
   ]
  },
  {
   "cell_type": "code",
   "execution_count": 38,
   "id": "1d4991d4",
   "metadata": {
    "editable": true,
    "slideshow": {
     "slide_type": "fragment"
    },
    "tags": [
     "scroll-output"
    ]
   },
   "outputs": [
    {
     "name": "stdout",
     "output_type": "stream",
     "text": [
      "250606-01:29:12,288 nipype.workflow INFO:\n",
      "\t Workflow preproc settings: ['check', 'execution', 'logging', 'monitoring']\n",
      "250606-01:29:12,294 nipype.workflow INFO:\n",
      "\t Running serially.\n",
      "250606-01:29:12,295 nipype.workflow INFO:\n",
      "\t [Node] Setting-up \"preproc.dg\" in \"/home/jovyan/Git_repositories/example-notebooks/books/workflows/output/working_dir/preproc/dg\".\n",
      "250606-01:29:12,298 nipype.workflow INFO:\n",
      "\t [Node] Executing \"dg\" <nipype.interfaces.io.DataGrabber>\n",
      "250606-01:29:12,300 nipype.workflow INFO:\n",
      "\t [Node] Finished \"dg\", elapsed time 0.00033s.\n",
      "250606-01:29:12,307 nipype.workflow INFO:\n",
      "\t [Node] Setting-up \"preproc.mcflirt\" in \"/home/jovyan/Git_repositories/example-notebooks/books/workflows/output/working_dir/preproc/mcflirt\".\n",
      "250606-01:29:12,309 nipype.workflow INFO:\n",
      "\t [Node] Cached \"preproc.mcflirt\" - collecting precomputed outputs\n",
      "250606-01:29:12,310 nipype.workflow INFO:\n",
      "\t [Node] \"preproc.mcflirt\" found cached.\n",
      "250606-01:29:12,310 nipype.workflow INFO:\n",
      "\t [Node] Setting-up \"preproc.smooth\" in \"/home/jovyan/Git_repositories/example-notebooks/books/workflows/output/working_dir/preproc/smooth\".\n",
      "250606-01:29:12,312 nipype.workflow INFO:\n",
      "\t [Node] Cached \"preproc.smooth\" - collecting precomputed outputs\n",
      "250606-01:29:12,312 nipype.workflow INFO:\n",
      "\t [Node] \"preproc.smooth\" found cached.\n",
      "250606-01:29:12,313 nipype.workflow INFO:\n",
      "\t [Node] Setting-up \"preproc.sinker\" in \"/home/jovyan/Git_repositories/example-notebooks/books/workflows/output/working_dir/preproc/sinker\".\n",
      "250606-01:29:12,315 nipype.workflow INFO:\n",
      "\t [Node] Outdated cache found for \"preproc.sinker\".\n",
      "250606-01:29:12,318 nipype.workflow INFO:\n",
      "\t [Node] Executing \"sinker\" <nipype.interfaces.io.DataSink>\n",
      "250606-01:29:12,319 nipype.interface INFO:\n",
      "\t sub: /home/jovyan/Git_repositories/example-notebooks/books/workflows/output/working_dir/preproc/results/sub-01/sub-01_task-flanker_run-1_bold_mcf_smooth.nii.gz -> /home/jovyan/Git_repositories/example-notebooks/books/workflows/output/working_dir/preproc/results/sub-01/sub-01_task-flanker_run-1_mcf_smooth.nii.gz\n",
      "250606-01:29:12,320 nipype.interface INFO:\n",
      "\t sub: /home/jovyan/Git_repositories/example-notebooks/books/workflows/output/working_dir/preproc/results/sub-01/sub-01_task-flanker_run-1_bold_mcf.nii.gz -> /home/jovyan/Git_repositories/example-notebooks/books/workflows/output/working_dir/preproc/results/sub-01/sub-01_task-flanker_run-1_mcf.nii.gz\n",
      "250606-01:29:12,321 nipype.interface INFO:\n",
      "\t sub: /home/jovyan/Git_repositories/example-notebooks/books/workflows/output/working_dir/preproc/results/sub-01/sub-01_task-flanker_run-1_bold_mcf.nii.gz.par -> /home/jovyan/Git_repositories/example-notebooks/books/workflows/output/working_dir/preproc/results/sub-01/sub-01_task-flanker_run-1_mcf.par\n",
      "250606-01:29:12,322 nipype.workflow INFO:\n",
      "\t [Node] Finished \"sinker\", elapsed time 0.002846s.\n"
     ]
    },
    {
     "data": {
      "text/plain": [
       "<networkx.classes.digraph.DiGraph at 0x7f033442f4d0>"
      ]
     },
     "execution_count": 38,
     "metadata": {},
     "output_type": "execute_result"
    }
   ],
   "source": [
    "# Define substitution strings\n",
    "substitutions = [('_bold', ''),\n",
    "                 ('.nii.gz.par', '.par')]\n",
    "\n",
    "# Feed the substitution strings to the DataSink node\n",
    "sinker.inputs.substitutions = substitutions\n",
    "\n",
    "# Run the workflow again with the substitutions in place\n",
    "wf_preproc.run()"
   ]
  },
  {
   "cell_type": "code",
   "execution_count": 39,
   "id": "71a4fae5",
   "metadata": {
    "editable": true,
    "slideshow": {
     "slide_type": "subslide"
    },
    "tags": []
   },
   "outputs": [
    {
     "name": "stdout",
     "output_type": "stream",
     "text": [
      "\u001b[01;34moutput/working_dir/preproc/results\u001b[0m\n",
      "└── \u001b[01;34msub-01\u001b[0m\n",
      "    ├── \u001b[01;31msub-01_task-flanker_run-1_bold_mcf.nii.gz\u001b[0m\n",
      "    ├── \u001b[00msub-01_task-flanker_run-1_bold_mcf.nii.gz.par\u001b[0m\n",
      "    ├── \u001b[01;31msub-01_task-flanker_run-1_bold_mcf_smooth.nii.gz\u001b[0m\n",
      "    ├── \u001b[01;31msub-01_task-flanker_run-1_mcf.nii.gz\u001b[0m\n",
      "    ├── \u001b[00msub-01_task-flanker_run-1_mcf.par\u001b[0m\n",
      "    └── \u001b[01;31msub-01_task-flanker_run-1_mcf_smooth.nii.gz\u001b[0m\n",
      "\n",
      "1 directory, 6 files\n"
     ]
    }
   ],
   "source": [
    "! tree output/working_dir/preproc/results"
   ]
  },
  {
   "cell_type": "markdown",
   "id": "002b13a2-f5ad-4930-bd32-ac39638c83e5",
   "metadata": {
    "editable": true,
    "slideshow": {
     "slide_type": "slide"
    },
    "tags": []
   },
   "source": [
    "<p class=\"important-title\" style=\"font-size: 1.1em; color: green;\"><i class=\"fas fa-check-circle\" style=\"color: green;\"></i> <span style=\"font-size: 1.5em;\">Nipype in a Nutshell</span></p>\n",
    "\n",
    "\n",
    "Nipype offers easy to use building blocks for:\n",
    "\n",
    "- establishing neuroimaging data processing services\n",
    "- constructing tailored data processing pipelines"
   ]
  },
  {
   "cell_type": "markdown",
   "id": "cf74fcfc",
   "metadata": {
    "editable": true,
    "slideshow": {
     "slide_type": "slide"
    },
    "tags": []
   },
   "source": [
    "## 4. Pydra: A modern dataflow engine developed for the Nipype project\n",
    "\n",
    "\n",
    "<img src=\"https://github.com/nipype/pydra/blob/main/docs/source/_static/logo/pydra_logo.jpg?raw=true\" style=\"float: center; margin: 0 auto; padding: 5px;\" width=\"30%\" height=\"30%\">\n"
   ]
  },
  {
   "cell_type": "markdown",
   "id": "68a50932-c152-48f7-96ed-33b49cb22a55",
   "metadata": {
    "editable": true,
    "slideshow": {
     "slide_type": "fragment"
    },
    "tags": []
   },
   "source": [
    "- Pydra is a rewrite of the Nipype engine and forms the core of the Nipype 2.0 ecosystem and is meant to provide **additional flexibility** allowing users to define custom processing steps, interfaces and nested workflows."
   ]
  },
  {
   "cell_type": "markdown",
   "id": "c435371c-efe1-45dc-8f22-e922f5c0f9f4",
   "metadata": {
    "editable": true,
    "slideshow": {
     "slide_type": "fragment"
    },
    "tags": []
   },
   "source": [
    "- Is a standalone project and designed to support analytics in **any scientific domain** (whereas Nipype is specifically designed for neuroimaging data analysis pipelines)."
   ]
  },
  {
   "cell_type": "markdown",
   "id": "babad477-67c5-4ad1-8804-553a035ea8ab",
   "metadata": {
    "editable": true,
    "slideshow": {
     "slide_type": "fragment"
    },
    "tags": []
   },
   "source": [
    "$\\rightarrow$  Pydra aims to offer a lightweight Python (3.7+) dataflow engine for the construction, manipulation, and distributed execution of computational graphs. It serves as a tool for building reproducible, scalable, reusable, and fully automated scientific workflows."
   ]
  },
  {
   "cell_type": "markdown",
   "id": "97734720-2afb-41ea-be98-25630986e943",
   "metadata": {
    "editable": true,
    "slideshow": {
     "slide_type": "slide"
    },
    "tags": []
   },
   "source": [
    "The architecture in combination with several key features makes Pydra a customizable and powerful dataflow engine: \n",
    "- __Architecture with three core components:__ Tasks (basic runnable components) including Workflows, Submitter (Classes for unpacking Tasks into standalone jobs) and Workers (Classes used to execute Tasks coordinate resource managment).\n",
    "- __Composable dataflows:__ Nested dataflows of arbitrary depths encouraging the creation of reusable dataflows.\n",
    "- __Global cache__ support to reduce recomputation.\n",
    "- Support for dataflow execution in __containerized environments__ enabling greater consistency for reproducibility.\n",
    "- __Splitting & combining semantics__ for creating nested loops over input sets (MapReduce extended to graphs)."
   ]
  },
  {
   "cell_type": "markdown",
   "id": "a37f4fa6-257c-49c1-b068-8b14c22225b7",
   "metadata": {
    "editable": true,
    "slideshow": {
     "slide_type": "slide"
    },
    "tags": []
   },
   "source": [
    "#### Key features in more detail:\n",
    "- __Composable dataflows:__ A dataflow is represented as a directed acyclic graph, where each Task represents a Python function, execution of an external tool, or another dataflow. This enables the creation of simpe linear pipelines to complex nested dataflows of any depth. This approach promotes the development of reusable dataflows, enhancing modularity and scalability."
   ]
  },
  {
   "cell_type": "markdown",
   "id": "99e7f798-b730-4a19-91e9-1fd0d8788441",
   "metadata": {
    "editable": true,
    "slideshow": {
     "slide_type": ""
    },
    "tags": []
   },
   "source": [
    "<center><img src= \"https://github.com/nipype/pydra-tutorial/blob/master/figures/nested_workflow.png?raw=true\" width=\"30%\" height=\"30%\"></center>\n",
    "<figcaption><b>Figure 7:</b> Nested workflow</figcaption>\n"
   ]
  },
  {
   "cell_type": "markdown",
   "id": "a3a365f4-695c-40a4-8dbf-6e1ae42b6178",
   "metadata": {
    "editable": true,
    "slideshow": {
     "slide_type": ""
    },
    "tags": []
   },
   "source": [
    "<div class=\"important\">\n",
    "  <p class=\"important-title\" style=\"font-size: 1.3em; color: orange;\"><i class=\"fas fa-search\" style=\"color: orange;\"></i> <span style=\"font-size: 1.3em;\">Nipype-Pydra architectures</span></p>\n",
    "  <ul>\n",
    "    <li>Pydra dataflow components: Task (basic runnable component with named inputs and outputs) with subclass Workflow</li>\n",
    "    <li>Nipype basic concepts: Node (defined inputs and outputs), Workflow</li>\n",
    "  </ul>\n",
    "</div>\n"
   ]
  },
  {
   "cell_type": "markdown",
   "id": "a78eec2b-df74-47d5-bac9-13be4c1a8c77",
   "metadata": {
    "editable": true,
    "slideshow": {
     "slide_type": "slide"
    },
    "tags": []
   },
   "source": [
    "- __Support for Python functions (FunctionTask) and external (shell) commands (ShellCommandTask):__ Pydra enables the seamless incorporation and utilization of pre-existing functions within Python libraries, as well as external command-line tools. This facilitates straightforward integration of existing code and software into Pydra workflows.\n",
    "\n",
    "- __Support for execution of Tasks in containerized environments (ContainerTask):__ Any dataflow or Task can be executed in an associated container (via Docker or Singularity) enabling greater consistency for reproducibility."
   ]
  },
  {
   "cell_type": "markdown",
   "id": "e09d7ca6-034c-4d4d-ac36-4aad4a86a5f2",
   "metadata": {
    "editable": true,
    "slideshow": {
     "slide_type": "slide"
    },
    "tags": []
   },
   "source": [
    "<div class=\"important\">\n",
    "  <p class=\"important-title\" style=\"font-size: 1.3em; color: orange;\"><i class=\"fas fa-search\" style=\"color: orange;\"></i> <span style=\"font-size: 1.3em;\">Nipype-Pydra architectures</span></p>\n",
    "  <ul>\n",
    "      <li>Pydra Task subclasses: FunctionTask, ShellCommandTask, ContainerTask (Docker, Singularity) </li>\n",
    "    <li>Nipype advanced concepts: base interfaces or interfaces for using existing functionality in other packages: wrapping of command line tools (nipype.interfaces.base CommandLine), run arbitrary function as nipype interface (nipype.interfaces.utility Function)</li>\n",
    "  </ul>\n",
    "</div>"
   ]
  },
  {
   "cell_type": "markdown",
   "id": "5e8d4f52-0b6e-42ef-8efe-daa79608144b",
   "metadata": {
    "editable": true,
    "slideshow": {
     "slide_type": "slide"
    },
    "tags": []
   },
   "source": [
    "- __Splitting & combining semantics for creating nested loops over input sets:__ Versatile functionality for nested loop creation across input sets: Tasks or dataflows can iterate over input parameter sets, and their outputs can be recombined. This functionality resembles the Map-Reduce model, but Pydra extends this capability to graphs with nested dataflows."
   ]
  },
  {
   "cell_type": "markdown",
   "id": "a056b44d-d8c4-4314-975f-cd0ffb4cd4cc",
   "metadata": {
    "editable": true,
    "slideshow": {
     "slide_type": ""
    },
    "tags": []
   },
   "source": [
    "\n",
    "<center><img src=https://nipype.github.io/pydra/_images/nd_spl_1.png></center>\n",
    "<figcaption><b>Figure 8:</b> Flexible splitting and merging in Pydra</figcaption>\n",
    "\n"
   ]
  },
  {
   "cell_type": "markdown",
   "id": "9e3c9767-3cec-486e-936e-36b310ee2733",
   "metadata": {
    "editable": true,
    "slideshow": {
     "slide_type": ""
    },
    "tags": []
   },
   "source": [
    "<div class=\"important\">\n",
    "  <p class=\"important-title\" style=\"font-size: 1.3em; color: orange;\"><i class=\"fas fa-search\" style=\"color: orange;\"></i> <span style=\"font-size: 1.3em;\">Pydra-Nipype architectures</span></p>\n",
    "  <ul>\n",
    "    <li>Pydra: Optional State class: splitter and combiner attribute to specify how inputs should be split into parameter sets, and combined after Task execution</li>\n",
    "    <li>Nipype: MapNode, Iterables/ Synchronize, JoinNode</li>\n",
    "  </ul>\n",
    "</div>\n"
   ]
  },
  {
   "cell_type": "markdown",
   "id": "831d6b7d-fd43-45f0-b8b5-7945810e931f",
   "metadata": {
    "editable": true,
    "slideshow": {
     "slide_type": "slide"
    },
    "tags": []
   },
   "source": [
    "- Both Pydra and Nipype offer similar functionalities regarding\n",
    "\n",
    "    - __Hashing__ to manage task execution and caching of intermediate results. Hashes are computed for task inputs and parameters and used to determine task dependencies and to avoid unnecessary recomputation.\n",
    "    - __Provenance Tracking__ capabilities to captures dataflow execution activities as a provenance graph. It tracks inputs, outputs, and resources consumed by each task in a workflow, providing a detailed record of the workflow execution."
   ]
  },
  {
   "cell_type": "markdown",
   "id": "98a6e623-f657-4e7d-9a41-e708a01e6940",
   "metadata": {
    "editable": true,
    "slideshow": {
     "slide_type": ""
    },
    "tags": []
   },
   "source": [
    "__A content-addressable global cache to reduce recomputation:__ Hash values are computed for each graph and each Task. This supports reusing of previously computed and stored dataflows and Tasks. It also allows multiple people in or across laboratories to use each others's execution outputs on the same data without having to rerun the same computation.\n",
    "\n",
    "__Auditing and provenance tracking:__ Pydra provides a simple JSON-LD-based message passing mechanism to capture the dataflow execution activities as a provenance graph. These messages track inputs and outputs of each task in a dataflow, and the resources consumed by the task. "
   ]
  },
  {
   "cell_type": "markdown",
   "id": "70a117fb-328a-4305-86b4-e9b9d81555fa",
   "metadata": {
    "editable": true,
    "slideshow": {
     "slide_type": "slide"
    },
    "tags": []
   },
   "source": [
    "  <p class=\"important-title\" style=\"font-size: 1.3em; color: green;\"><i class=\"fas fa-check-circle\" style=\"color: green;\"></i> <span style=\"font-size: 1.3em;\">Take Home Message</span></p>\n",
    "  <ul>\n",
    "    <p><b>Pydra and Nipype are both open-source Python projects and offer similar functionalities for building and executing computational pipelines, including caching. However, they differ in their :</b></p>\n",
    "    <li>\n",
    "      <b>Design Philosophy:</b> Building pipelines for neuroimaging in vs. pipelines for any scientific domain \n",
    "    </li>\n",
    "    <li>\n",
    "      <b>Flexibility:</b> Very flexible splitting and merging semantics in Pydra to create complex pipelines of any depth\n",
    "    </li>\n",
    "    <li>\n",
    "      <b>Execution Model:</b> Pydra leverages modern parallel and distributed computing frameworks such as Dask\n",
    "    </li>\n",
    "    <li>\n",
    "      <b>Community and Ecosystem:</b> Well-established community and ecosystem vs. a growing community \n",
    "    </li>\n",
    "  </ul>\n",
    "\n"
   ]
  },
  {
   "cell_type": "markdown",
   "id": "7818fa5a",
   "metadata": {
    "editable": true,
    "slideshow": {
     "slide_type": "slide"
    },
    "tags": []
   },
   "source": [
    "## Dependencies in Jupyter/Python\n",
    "\n",
    "- Using the package [watermark](https://github.com/rasbt/watermark) to print out computer characteristics and software versions."
   ]
  },
  {
   "cell_type": "code",
   "execution_count": 40,
   "id": "1afa30e1-0de1-428b-949e-c55f7cc7455f",
   "metadata": {
    "editable": true,
    "slideshow": {
     "slide_type": ""
    },
    "tags": [
     "scroll-output"
    ]
   },
   "outputs": [],
   "source": [
    "%%capture\n",
    "!pip install watermark"
   ]
  },
  {
   "cell_type": "code",
   "execution_count": 41,
   "id": "8436dc64",
   "metadata": {
    "editable": true,
    "slideshow": {
     "slide_type": ""
    },
    "tags": []
   },
   "outputs": [
    {
     "name": "stdout",
     "output_type": "stream",
     "text": [
      "Last updated: 2025-06-06T01:29:15.338246+00:00\n",
      "\n",
      "Python implementation: CPython\n",
      "Python version       : 3.11.6\n",
      "IPython version      : 9.1.0\n",
      "\n",
      "Compiler    : GCC 12.3.0\n",
      "OS          : Linux\n",
      "Release     : 5.4.0-204-generic\n",
      "Machine     : x86_64\n",
      "Processor   : x86_64\n",
      "CPU cores   : 32\n",
      "Architecture: 64bit\n",
      "\n",
      "nibabel   : 5.3.2\n",
      "matplotlib: 3.10.3\n",
      "IPython   : 9.1.0\n",
      "nipype    : 1.8.6\n",
      "nilearn   : 0.11.1\n",
      "numpy     : 2.2.6\n",
      "\n"
     ]
    }
   ],
   "source": [
    "%load_ext watermark\n",
    "\n",
    "%watermark\n",
    "%watermark --iversions"
   ]
  },
  {
   "cell_type": "markdown",
   "id": "1e747686",
   "metadata": {
    "editable": true,
    "slideshow": {
     "slide_type": "slide"
    },
    "tags": []
   },
   "source": [
    "## References/ Resources\n",
    "\n",
    "- Gorgolewski K, Burns CD, Madison C, Clark D, Halchenko YO, Waskom ML, Ghosh SS. (2011). Nipype: a flexible, lightweight and extensible neuroimaging data processing framework in Python. Front. Neuroinform. 5:13.\n",
    "\n",
    "    - [Nipype Documentation](https://nipype.readthedocs.io/en/latest/)\n",
    "    - [Nipype Github](https://github.com/nipy/nipype)\n",
    "    - [Nipype Tutorial](https://miykael.github.io/nipype_tutorial/)\n",
    "\n",
    "- Jarecka, Dorota & Goncalves, Mathias & Markiewicz, Christopher & Esteban, Oscar & Lo, Nicole & Kaczmarzyk, Jakub & Ghosh, Satrajit. (2020). Pydra - a flexible and lightweight dataflow engine for scientific analyses. 132-139. 10.25080/Majora-342d178e-012. \n",
    "\n",
    "    - [Pydra Documentation](https://pydra.readthedocs.io/en/latest/)\n",
    "    - [Pydra Github](https://github.com/nipype/pydra)\n",
    "    - [Pydra Tutorial](https://github.com/nipype/pydra-tutorial)\n",
    "    - [Pydra-ML](https://github.com/nipype/pydra-ml)\n",
    "\n",
    "- Renton, A.I., Dao, T.T., Johnstone, T. et al. Neurodesk: an accessible, flexible and portable data analysis environment for reproducible neuroimaging. Nat Methods (2024). https://doi.org/10.1038/s41592-023-02145-x\n",
    "    - [Neurodesk Website](https://www.neurodesk.org/)\n",
    "    - [Jupyter Notebook Examples on Neurodesk](https://www.neurodesk.org/example-notebooks/intro.html)\n"
   ]
  }
 ],
 "metadata": {
  "celltoolbar": "Slideshow",
  "kernelspec": {
   "display_name": "Python 3 (ipykernel)",
   "language": "python",
   "name": "python3"
  },
  "language_info": {
   "codemirror_mode": {
    "name": "ipython",
    "version": 3
   },
   "file_extension": ".py",
   "mimetype": "text/x-python",
   "name": "python",
   "nbconvert_exporter": "python",
   "pygments_lexer": "ipython3",
   "version": "3.11.6"
  },
  "rise": {
   "autolaunch": true,
   "scroll": true,
   "theme": "sky"
  },
  "toc": {
   "base_numbering": 1
  }
 },
 "nbformat": 4,
 "nbformat_minor": 5
}
