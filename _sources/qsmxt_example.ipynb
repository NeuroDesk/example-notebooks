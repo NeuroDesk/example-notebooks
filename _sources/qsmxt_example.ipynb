{
 "cells": [
  {
   "cell_type": "markdown",
   "id": "d3309945",
   "metadata": {
    "colab_type": "text",
    "id": "view-in-github"
   },
   "source": [
    "<a href=\"https://play-iowa.neurodesk.org/hub/user-redirect/lab/tree/example-notebooks/books/structural_imaging/qsmxt_example.ipynb\" target=\"_parent\"><img src=\"https://img.shields.io/badge/launch-binder-579aca.svg?logo=data:image/png;base64,iVBORw0KGgoAAAANSUhEUgAAABAAAAAQCAYAAAAf8/9hAAADUElEQVR4nCyTzUtkRxfGn6pTtz/FtvsVp32NKBgF6QiBCU505xBpBdsJiMkyi2SRxSSEZPI3JKuEbGYREgaCi0zMENBeSCSCqwzRCCIzSBtHuqEl9ihif9zbfe+tqnCaqdXh1q1znuec31EAkM/nEYlEcH5+jmw2K5VSwvM8rVT3GmEYIh6PUxiGtlKpmNHRUQRBgK2tLdDi4iLOzs4wMjKCaDRKxhijlLIRx0kmk8lhIkoHQeArpTpaa5vJZCgej9vj42NMT09DVSoVXF5ewm21SAihAbwJ4HM/CO42ms2slJIT/wvgD2vtN9baQ8/zqFqtaiKCYIlLS0uklNJBEHwspfyu2WpF+lIpTIyPo9Fs4sXZGYzWiMVinTAMPyWi7621VCwWtSgUCuxNSynfl1L+zDLvzs3pd+/do/8PDsJrt1EqlfDL+rp+9vw5xWIxobV+T2u97jgOScdxjLU2o5R66LquffvOHfPJ/fuqL5USFxcXgs9bt2+LLx88UIPZrAmCwBLRQwBpfistayFaBZCBELqvr4+01uAJOI6DiOPg5uYG2Vu3MDc3R51ORwsh+olopft2cnISxpgvhBBvdNptWyqVZOnkBP/LZPD6xARe1mqonp+jVqvh1ydPcHV1ZdiGtbZORL91m7i8vLzt+/47+Xxe53I5+vPpU9xcX+O14WEcHBygv78fuVwOPP/t7W19eHhI0Wj0942NjbxaXV1Fu91uEhFb6c52fn4ejUYD+/v73XhsbIxBQrlcxs7ODqSUFkBjZWUFMpPJwFq7z/Stra1ZrthqtdgWewZb9DyPi6BYLHIC+2oSf/f29kIODQ1Ba/2YIerp6RG+79tkMgm+dF23i3E6nWYGGF/L/xhjQmvt41QqBbm3t8cQ/QPgaykllUqlIAgCI4RAIpFgCsFxo1E35XI5UEoRgK+klC9OT09JLCwsCMdx5NHRkZmamnqktf5gYGAAMzMzmJ2dNaxid3dXsrV6vQ4ierS5uflhoVCQYRgawcsEQLDsRCJhr6+vP/J9/7NOp5Nj2dwL3rxYLPZMKfVtOp3+0XVdwX0CYBXL44ArWWsZrB9yudxP1Wp12vO88VfLdNLTk/yrVnvpu64rm82m4e98/gsAAP//Lbmu802E+U4AAAAASUVORK5CYII=\" alt=\"Open In Binder\"/>  </a>\n",
    "<a href=\"https://colab.research.google.com/github/NeuroDesk/example-notebooks/blob/main/books/structural_imaging/qsmxt_example.ipynb\" target=\"_parent\"><img src=\"https://colab.research.google.com/assets/colab-badge.svg\" alt=\"Open In Colab\"/>   </a>"
   ]
  },
  {
   "cell_type": "markdown",
   "id": "fed47b4b",
   "metadata": {},
   "source": [
    "## QSMxT Example\n",
    "\n",
    "Author: Ashley Stewart\n",
    "\n",
    "Original paper: https://onlinelibrary.wiley.com/doi/10.1002/mrm.29048"
   ]
  },
  {
   "cell_type": "markdown",
   "id": "ckuhhu-sU5V9",
   "metadata": {
    "id": "ckuhhu-sU5V9"
   },
   "source": [
    "## Setup Neurodesk"
   ]
  },
  {
   "cell_type": "code",
   "execution_count": null,
   "id": "Ahb472oJU1YX",
   "metadata": {
    "colab": {
     "base_uri": "https://localhost:8080/"
    },
    "id": "Ahb472oJU1YX",
    "outputId": "7d7a95f1-9b05-4614-97bc-e6d954bcee66"
   },
   "outputs": [],
   "source": [
    "%%capture\n",
    "import os\n",
    "import sys\n",
    "IN_COLAB = 'google.colab' in sys.modules\n",
    "\n",
    "if IN_COLAB:\n",
    "  os.environ[\"LD_PRELOAD\"] = \"\";\n",
    "  os.environ[\"APPTAINER_BINDPATH\"] = \"/content,/tmp,/cvmfs\"\n",
    "  os.environ[\"MPLCONFIGDIR\"] = \"/content/matplotlib-mpldir\"\n",
    "  os.environ[\"LMOD_CMD\"] = \"/usr/share/lmod/lmod/libexec/lmod\"\n",
    "\n",
    "  !curl -J -O https://raw.githubusercontent.com/NeuroDesk/neurocommand/main/googlecolab_setup.sh\n",
    "  !chmod +x googlecolab_setup.sh\n",
    "  !./googlecolab_setup.sh\n",
    "\n",
    "  os.environ[\"MODULEPATH\"] = ':'.join(map(str, list(map(lambda x: os.path.join(os.path.abspath('/cvmfs/neurodesk.ardc.edu.au/neurodesk-modules/'), x),os.listdir('/cvmfs/neurodesk.ardc.edu.au/neurodesk-modules/')))))\n"
   ]
  },
  {
   "cell_type": "code",
   "execution_count": null,
   "id": "1c268140-a6c5-4abb-b38e-4b86c3c680b4",
   "metadata": {
    "tags": []
   },
   "outputs": [],
   "source": [
    "# Output CPU information:\n",
    "!cat /proc/cpuinfo | grep 'vendor' | uniq\n",
    "!cat /proc/cpuinfo | grep 'model name' | uniq"
   ]
  },
  {
   "cell_type": "markdown",
   "id": "c423654b-67b3-4f42-89e9-8c752eaba94d",
   "metadata": {
    "id": "c423654b-67b3-4f42-89e9-8c752eaba94d",
    "tags": []
   },
   "source": [
    "# QSMxT Interactive Notebook\n",
    "\n",
    "This interactive notebook estimates Quantitative Susceptibility Maps (QSMs) for two gradient-echo (GRE) MRI acquisitions using [QSMxT](https://github.com/QSMxT/QSMxT) provided by the [Neurodesk](https://neurodesk.org) project."
   ]
  },
  {
   "cell_type": "markdown",
   "id": "28e5430f-2e02-4183-ba3d-66fbbe010837",
   "metadata": {
    "id": "28e5430f-2e02-4183-ba3d-66fbbe010837"
   },
   "source": [
    "## What is QSM?\n",
    "\n",
    "QSM is a form of quantitative MRI (qMRI) that estimates the magnetic susceptibility distribution across an imaged object. Magnetic susceptibility is the degree to which a material becomes magnetised by an external magnetic field. Major contributors to susceptibility include iron, calcium, and myelin, with the susceptibility of water typically approximating a zero-reference, though it is slightly diamagnetic. Read more about QSM [here](https://onlinelibrary.wiley.com/doi/10.1002/mrm.25358)."
   ]
  },
  {
   "cell_type": "markdown",
   "id": "41c95447-80c5-49c1-954b-50a26ffa23ef",
   "metadata": {
    "id": "41c95447-80c5-49c1-954b-50a26ffa23ef",
    "tags": []
   },
   "source": [
    "## What is QSMxT?\n",
    "\n",
    "[QSMxT](https://qsmxt.github.io) is a suite of tools for building and running automated pipelines for QSM that:\n",
    "\n",
    "- is available open-source without any licensing required;\n",
    "- is distributed as a software container making it straightforward to access and install (Neurodesk!)\n",
    "- scales its processing to execute across many acquisitions through jobs parallelisation (using multiple processors or HPCs) provided by [Nipype](https://nipype.readthedocs.io);\n",
    "- automates steps that usually require manual intervention and scripting, including:\n",
    "  - DICOM to [BIDS](https://bids-specification.readthedocs.io/en/stable/index.html) conversion;\n",
    "  - QSM reconstruction using a range of algorithms;\n",
    "  - segmentation using [FastSurfer](https://github.com/Deep-MI/FastSurfer);\n",
    "  - group space generation using [ANTs](https://github.com/ANTsX/ANTs);\n",
    "  - export of susceptibility statistics by subject and region of interest (ROI) to CSV.\n",
    "\n",
    "![image.png](../images/image.png)"
   ]
  },
  {
   "cell_type": "markdown",
   "id": "44417598-f83e-46d8-bc4c-ceb61f63e395",
   "metadata": {
    "id": "44417598-f83e-46d8-bc4c-ceb61f63e395"
   },
   "source": [
    "## How do I access QSMxT?\n",
    "\n",
    "There are a few ways you can access QSMxT:\n",
    "\n",
    " - **This notebook**: You can access QSMxT in this notebook right now!\n",
    "   - If you are running this on a Neurodesk Play instance, you can upload your own data into the sidebar via drag-and-drop.\n",
    " - **Neurodesktop**: QSMxT is in the applications menu of Neurodesktop.\n",
    "   - On Neurodesk Play, upload your own data into the desktop via drag-and-drop.\n",
    "   - On a local install of Neurodesk, bring any necessary files into the shared `~/neurodesktop-storage` directory\n",
    " - **Local install**: QSMxT can also be installed via the [Docker container](https://qsmxt.github.io/QSMxT/installation)\n",
    " - **HPC install**: QSMxT can also be installed via the [Singularity container](https://qsmxt.github.io/QSMxT/installation) for use on HPCs"
   ]
  },
  {
   "cell_type": "markdown",
   "id": "051e7a38-d270-49a6-800d-6c919c1b0d20",
   "metadata": {
    "id": "051e7a38-d270-49a6-800d-6c919c1b0d20"
   },
   "source": [
    "# Download example DICOMs\n",
    "\n",
    "Here, we download some example DICOMs from our OSF repository for QSMxT.\n",
    "\n",
    "These data include GRE and T1-weighted acquisitions for one subject (duplicated to act as two subjects)."
   ]
  },
  {
   "cell_type": "code",
   "execution_count": null,
   "id": "80e4a8d2-d6bb-48e8-bdd7-36ac3d0c01c6",
   "metadata": {
    "colab": {
     "base_uri": "https://localhost:8080/"
    },
    "id": "80e4a8d2-d6bb-48e8-bdd7-36ac3d0c01c6",
    "outputId": "098cf81c-5e1d-4862-c09d-b05e759e63cf"
   },
   "outputs": [],
   "source": [
    "!pip install osfclient\n",
    "!osf -p ru43c clone . > /dev/null 2>&1\n",
    "!tar xf osfstorage/dicoms-unsorted.tar\n",
    "!rm -rf osfstorage/\n",
    "!tree dicoms-unsorted | head\n",
    "!echo -e \"...\\nThere are `ls dicoms-unsorted | wc -l` unsorted DICOMs in ./dicoms-unsorted/\""
   ]
  },
  {
   "cell_type": "markdown",
   "id": "f5d0ceb7-99cb-4e92-9326-ef69c7453d9a",
   "metadata": {
    "id": "f5d0ceb7-99cb-4e92-9326-ef69c7453d9a"
   },
   "source": [
    "# Load QSMxT\n",
    "\n",
    "To load QSMxT inside a notebook, we can use the available module system:"
   ]
  },
  {
   "cell_type": "code",
   "execution_count": null,
   "id": "da0d2db8-1cbf-4268-a536-25cdcd8f8aa6",
   "metadata": {
    "colab": {
     "base_uri": "https://localhost:8080/"
    },
    "id": "da0d2db8-1cbf-4268-a536-25cdcd8f8aa6",
    "outputId": "8b278f1c-e82c-46ff-d5ea-3db8b7901b83"
   },
   "outputs": [],
   "source": [
    "import lmod\n",
    "await lmod.load('qsmxt/6.4.4')\n",
    "!qsmxt --version"
   ]
  },
  {
   "cell_type": "markdown",
   "id": "b18f60c8-60d1-4ef5-b21d-083e91230c5d",
   "metadata": {
    "id": "b18f60c8-60d1-4ef5-b21d-083e91230c5d"
   },
   "source": [
    "# Data standardisation\n",
    "\n",
    "QSMxT requires input data to conform to the [Brain Imaging Data Structure (BIDS)](https://bids.neuroimaging.io/).\n",
    "\n",
    "Luckily, QSMxT also provides scripts that can convert unorganised NIfTI or DICOM images to BIDS. If you are using NIfTI images and do not have DICOMs, see [nifti-convert](https://qsmxt.github.io/QSMxT/using-qsmxt/data-preparation#nifti-to-bids)."
   ]
  },
  {
   "cell_type": "markdown",
   "id": "770963f9-93df-4c8e-85ac-f732b0e63a34",
   "metadata": {
    "id": "770963f9-93df-4c8e-85ac-f732b0e63a34"
   },
   "source": [
    "## Sort DICOMs\n",
    "\n",
    "Before we can convert DICOMs to BIDS cleanly, we need to sort the DICOMs by subject, session and series.\n",
    "\n",
    "We can sort the DICOMs using `dicom-sort`.\n",
    "\n",
    "Note that this script relies on accurate DICOM header information. If your data is sorted incorrectly, you may need to manually correct the sorting, or sort the files yourself. Be sure to follow the folder structure shown below."
   ]
  },
  {
   "cell_type": "code",
   "execution_count": null,
   "id": "8f3859d0-fc95-49c5-b753-e5edd0e511bd",
   "metadata": {
    "colab": {
     "base_uri": "https://localhost:8080/"
    },
    "id": "8f3859d0-fc95-49c5-b753-e5edd0e511bd",
    "outputId": "bb77d009-a852-41c9-e7ff-04c6456f3c21"
   },
   "outputs": [],
   "source": [
    "!dicom-sort dicoms-unsorted dicoms-sorted"
   ]
  },
  {
   "cell_type": "markdown",
   "id": "12903b39-3d6c-4511-9ab5-1bd564565e02",
   "metadata": {
    "id": "12903b39-3d6c-4511-9ab5-1bd564565e02"
   },
   "source": [
    "Now we can see clearly that there are two subjects, each with one session, each with three DICOM series:"
   ]
  },
  {
   "cell_type": "code",
   "execution_count": null,
   "id": "4aaf0f65-6ebf-4889-8df4-0212064bcde3",
   "metadata": {
    "colab": {
     "base_uri": "https://localhost:8080/"
    },
    "id": "4aaf0f65-6ebf-4889-8df4-0212064bcde3",
    "outputId": "d2768818-70f2-4609-e284-ad1f63e64725"
   },
   "outputs": [],
   "source": [
    "!tree dicoms-sorted -L 3"
   ]
  },
  {
   "cell_type": "markdown",
   "id": "a429994e-76c6-4b2c-84c2-135fcd976a4d",
   "metadata": {
    "id": "a429994e-76c6-4b2c-84c2-135fcd976a4d",
    "tags": []
   },
   "source": [
    "## Convert to BIDS\n",
    "\n",
    "Now that the DICOMs are sorted, we can convert to BIDS using `dicom-convert`.\n",
    "\n",
    "The DICOM to BIDS conversion must identify which series should be used for QSM reconstruction (T2*-weighted), and which series should be used for segmentation (T1-weighted). Because this information is not stored in the DICOM header, the user must provide it, or QSMxT can make a guess based on the `ProtocolName` field. By default, QSMxT assumes series matching any of the patterns in `['*qsm*', '*t2starw*']` are to be used for QSM, and series matching the pattern `['*t1w*']` are to be used for segmentation. If series cannot be identified, the user must do so. At minimum, at least one QSM series must be identified.\n",
    "\n",
    "If QSMxT is run interactively, the user will be prompted to identify the relevant series'. However, because we are running QSMxT in a notebook, we disable the interactivity using `--auto_yes` and provide the missing information using command-line arguments (`--t1w_protocol_patterns` and `--qsm_protocol_patterns`). In this case, the T1-weighted scan requires identification, so we pass `--t1w_protocol_patterns \"*mp2rage*\"`:"
   ]
  },
  {
   "cell_type": "code",
   "execution_count": null,
   "id": "cafb3971-0710-4caa-aa98-0771b9c3a194",
   "metadata": {
    "colab": {
     "base_uri": "https://localhost:8080/"
    },
    "id": "cafb3971-0710-4caa-aa98-0771b9c3a194",
    "outputId": "882fd261-bbf1-4980-982c-f33526c141d3",
    "tags": [
     "output_scroll"
    ]
   },
   "outputs": [],
   "source": [
    "!dicom-convert dicoms-sorted bids \\\n",
    "    --t1w_protocol_patterns \"*mp2rage*\" \\\n",
    "    --auto_yes"
   ]
  },
  {
   "cell_type": "code",
   "execution_count": null,
   "id": "3e8d460c-424a-419d-8b1d-59764588da94",
   "metadata": {
    "colab": {
     "base_uri": "https://localhost:8080/"
    },
    "id": "3e8d460c-424a-419d-8b1d-59764588da94",
    "outputId": "5a674999-b70b-423a-dd5f-798d4386777a"
   },
   "outputs": [],
   "source": [
    "!tree bids"
   ]
  },
  {
   "cell_type": "markdown",
   "id": "dfb3d0a2-6ef1-4855-933b-734dde1e4c7d",
   "metadata": {
    "id": "dfb3d0a2-6ef1-4855-933b-734dde1e4c7d"
   },
   "source": [
    "# Inspect input data"
   ]
  },
  {
   "cell_type": "markdown",
   "id": "40734463-b6c8-4487-a7b8-4c8b4de75716",
   "metadata": {
    "id": "40734463-b6c8-4487-a7b8-4c8b4de75716"
   },
   "source": [
    "Here we define a function we will use to visualise NIfTI images so we can view some of the input data:"
   ]
  },
  {
   "cell_type": "code",
   "execution_count": null,
   "id": "acc7b790",
   "metadata": {},
   "outputs": [],
   "source": [
    "from glob import glob\n",
    "def show_nii(nii_path, title=None, cmap='gray', **imshow_args):\n",
    "    from matplotlib import pyplot as plt\n",
    "    import numpy as np\n",
    "    import nibabel as nib\n",
    "    import glob\n",
    "\n",
    "    # load data\\n\",\n",
    "    data_1 = nib.load(nii_path).get_fdata()\n",
    "\n",
    "    # get middle slices\\n\",\n",
    "    slc_data1 = np.rot90(data_1[np.shape(data_1)[0]//2,:,:])\n",
    "    slc_data2 = np.rot90(data_1[:,np.shape(data_1)[1]//2,:])\n",
    "    slc_data3 = np.rot90(data_1[:,:,np.shape(data_1)[2]//2])\n",
    "\n",
    "    # show slices\\n\",\n",
    "    fig, axes = plt.subplots(nrows=1, ncols=3, figsize=(8,10))\n",
    "    if title: plt.suptitle(title)\n",
    "\n",
    "    axes[0].imshow(slc_data1, cmap=cmap, **imshow_args)\n",
    "    axes[1].imshow(slc_data2, cmap=cmap, **imshow_args)\n",
    "    axes[2].imshow(slc_data3, cmap=cmap, **imshow_args)\n",
    "\n",
    "    axes[0].axis('off')\n",
    "    axes[1].axis('off')\n",
    "    axes[2].axis('off')\n",
    "\n",
    "    fig.tight_layout()\n",
    "    fig.subplots_adjust(top=1.55)\n",
    "    plt.show()"
   ]
  },
  {
   "cell_type": "code",
   "execution_count": null,
   "id": "f4f5e3fe",
   "metadata": {},
   "outputs": [],
   "source": [
    "show_nii(glob(\"bids/sub-*/ses-*/anat/*mag*nii*\")[0], title=\"Magnitude\", vmax=500)\n",
    "show_nii(glob(\"bids/sub-*/ses-*/anat/*phase*nii*\")[0], title=\"Phase\")\n",
    "show_nii(glob(\"bids/sub-*/ses-*/anat/*T1w*nii*\")[0], title=\"T1-weighted\")"
   ]
  },
  {
   "cell_type": "markdown",
   "id": "dcafd4ce-ccf3-4b9c-9caf-ded440db9aa5",
   "metadata": {
    "id": "dcafd4ce-ccf3-4b9c-9caf-ded440db9aa5"
   },
   "source": [
    "# Run QSMxT"
   ]
  },
  {
   "cell_type": "markdown",
   "id": "e42f3b99-2e24-4644-9e87-dd2ed3d50e2f",
   "metadata": {
    "id": "e42f3b99-2e24-4644-9e87-dd2ed3d50e2f"
   },
   "source": [
    "We are now ready to run QSMxT! We will generate susceptibility maps and segmentations, and export analysis CSVs to file.\n",
    "\n",
    "The usual way of running QSMxT is to use `qsmxt bids_dir output_dir`. This will launch an interactive command-line interface (CLI) to setup your desired pipelines. However, since we are running this in a notebook, we need to use command-line arguments to by-pass the interface and execute a pipeline.\n",
    "\n",
    "But first, let's consider our pipeline settings. For QSM reconstruction, QSMxT provides a range of sensible defaults fit for different purposes. We can list the premade QSM pipelines using `--list_premades`. For the full pipeline details used for each premade pipeline, see [qsm_pipelines.json](https://github.com/QSMxT/QSMxT/blob/master/qsm_pipelines.json)."
   ]
  },
  {
   "cell_type": "code",
   "execution_count": null,
   "id": "5f8bfb98-e1e2-4b41-8eb7-cea7ddaf82e9",
   "metadata": {
    "colab": {
     "base_uri": "https://localhost:8080/"
    },
    "id": "5f8bfb98-e1e2-4b41-8eb7-cea7ddaf82e9",
    "outputId": "a33d5f57-cc57-4bc7-c809-98dbf9c8fc5c"
   },
   "outputs": [],
   "source": [
    "!qsmxt --list_premades"
   ]
  },
  {
   "cell_type": "markdown",
   "id": "ff22a73f-548a-4c8f-a430-0350560ef8a0",
   "metadata": {
    "id": "ff22a73f-548a-4c8f-a430-0350560ef8a0"
   },
   "source": [
    "For this demonstration, we will go with the `fast` pipeline. To export segmentations and analysis results, we will use `--do_segmentation` and `--do_analysis`. The `--auto_yes` option avoid the interactive CLI interface that cannot be used in a notebook:"
   ]
  },
  {
   "cell_type": "code",
   "execution_count": null,
   "id": "ea3157e3-f9aa-4a20-af4f-4ffd42d88694",
   "metadata": {
    "colab": {
     "base_uri": "https://localhost:8080/"
    },
    "id": "ea3157e3-f9aa-4a20-af4f-4ffd42d88694",
    "outputId": "56351221-2c6c-4c45-b2e1-84d7bdfda8c1",
    "tags": [
     "output_scroll"
    ]
   },
   "outputs": [],
   "source": [
    "!qsmxt bids qsm \\\n",
    "    --premade fast \\\n",
    "    --do_qsm \\\n",
    "    --do_segmentation \\\n",
    "    --do_analysis \\\n",
    "    --auto_yes"
   ]
  },
  {
   "cell_type": "markdown",
   "id": "5bd82d02-5fa4-4734-85d9-f949a46ce0c5",
   "metadata": {
    "id": "5bd82d02-5fa4-4734-85d9-f949a46ce0c5"
   },
   "source": [
    "# View results"
   ]
  },
  {
   "cell_type": "markdown",
   "id": "42801eb6-fcbb-40de-8a62-ffaea05c898c",
   "metadata": {
    "id": "42801eb6-fcbb-40de-8a62-ffaea05c898c"
   },
   "source": [
    "Let's have a look at the generated `qsm` folder:"
   ]
  },
  {
   "cell_type": "code",
   "execution_count": null,
   "id": "d291c6e8-caf2-4aa8-9073-248287dcef68",
   "metadata": {
    "colab": {
     "base_uri": "https://localhost:8080/"
    },
    "id": "d291c6e8-caf2-4aa8-9073-248287dcef68",
    "outputId": "8a72572c-18eb-4306-f71d-5a3e94bc4c77"
   },
   "outputs": [],
   "source": [
    "!tree qsm/ -L 1 --dirsfirst"
   ]
  },
  {
   "cell_type": "markdown",
   "id": "6b0c7f44-1bb3-4004-be03-eb3e9807618b",
   "metadata": {
    "id": "6b0c7f44-1bb3-4004-be03-eb3e9807618b"
   },
   "source": [
    "The `references.txt` file contains a list of all the algorithms used and relevant citations:"
   ]
  },
  {
   "cell_type": "code",
   "execution_count": null,
   "id": "2e86b5f3-1e73-42c0-8cd3-d75dadda7b71",
   "metadata": {
    "colab": {
     "base_uri": "https://localhost:8080/"
    },
    "id": "2e86b5f3-1e73-42c0-8cd3-d75dadda7b71",
    "outputId": "a02d2243-a25c-4175-c8e1-f4103919f5e5"
   },
   "outputs": [],
   "source": [
    "!cat qsm/references.txt"
   ]
  },
  {
   "cell_type": "markdown",
   "id": "81ff07b6-dffa-44ba-91b7-ce37399d5de4",
   "metadata": {
    "id": "81ff07b6-dffa-44ba-91b7-ce37399d5de4"
   },
   "source": [
    "Let's view one of the QSM results:"
   ]
  },
  {
   "cell_type": "markdown",
   "id": "21d6d88e-ad10-4f66-adcb-2fed3ff93ccc",
   "metadata": {},
   "source": [
    "## QSM results"
   ]
  },
  {
   "cell_type": "code",
   "execution_count": null,
   "id": "d5f8cd77-a766-477b-8b3f-af901bcb2fc1",
   "metadata": {},
   "outputs": [],
   "source": [
    "!tree qsm/qsm -L 1 --dirsfirst"
   ]
  },
  {
   "cell_type": "code",
   "execution_count": null,
   "id": "65539c09-9fdf-4faf-91eb-e296ae579159",
   "metadata": {
    "colab": {
     "base_uri": "https://localhost:8080/",
     "height": 283
    },
    "id": "65539c09-9fdf-4faf-91eb-e296ae579159",
    "outputId": "4fcdb16c-7817-42e1-f7bb-cb84fef068b6"
   },
   "outputs": [],
   "source": [
    "show_nii(glob(\"qsm/qsm/*.nii*\")[0], cmap='gray', vmin=-0.15, vmax=+0.15, interpolation='nearest')"
   ]
  },
  {
   "cell_type": "markdown",
   "id": "81070baa-330a-4abe-9388-9666cf4e4ae5",
   "metadata": {},
   "source": [
    "## Segmentations"
   ]
  },
  {
   "cell_type": "markdown",
   "id": "2a24a573-fced-42d6-b974-743b0fd9cffb",
   "metadata": {},
   "source": [
    "Segmentations are generated in both the QSM space and the T1-weighted space. Transformations are also made available."
   ]
  },
  {
   "cell_type": "code",
   "execution_count": null,
   "id": "f6f7a087-b09e-4f49-a450-ce7e8eff9e2e",
   "metadata": {},
   "outputs": [],
   "source": [
    "!tree qsm/segmentations"
   ]
  },
  {
   "cell_type": "code",
   "execution_count": null,
   "id": "4a3107eb-da80-42d7-b0fc-c8e35bb89d98",
   "metadata": {},
   "outputs": [],
   "source": [
    "show_nii(glob(\"qsm/segmentations/qsm/*.nii*\")[0], cmap='terrain', vmin=0, vmax=96, interpolation='nearest')"
   ]
  },
  {
   "cell_type": "markdown",
   "id": "2e1fbcce-2af9-4509-ab92-fe8d6992ba6d",
   "metadata": {
    "id": "2e1fbcce-2af9-4509-ab92-fe8d6992ba6d"
   },
   "source": [
    "## Analysis CSVs"
   ]
  },
  {
   "cell_type": "markdown",
   "id": "8c81ac52-bdce-4ebe-af11-ba2fde9bdad8",
   "metadata": {},
   "source": [
    "Here, we can see CSV files have been exported containing susceptibility values in regions of interest for each subject:"
   ]
  },
  {
   "cell_type": "code",
   "execution_count": null,
   "id": "e883fa82-d2dc-49de-a9bd-81e1f0e5a6b3",
   "metadata": {
    "colab": {
     "base_uri": "https://localhost:8080/"
    },
    "id": "e883fa82-d2dc-49de-a9bd-81e1f0e5a6b3",
    "outputId": "cadecdc6-424c-42ba-9ea2-a3daf5cd092e",
    "tags": []
   },
   "outputs": [],
   "source": [
    "!tree qsm/analysis"
   ]
  },
  {
   "cell_type": "markdown",
   "id": "4b3859bb-b0e9-431e-b286-0ec81907c777",
   "metadata": {},
   "source": [
    "Here we will load the CSVs, inspect the data and generate figures:"
   ]
  },
  {
   "cell_type": "code",
   "execution_count": null,
   "id": "661411db-261d-484a-a9b4-6108cc241e16",
   "metadata": {},
   "outputs": [],
   "source": [
    "!pip install seaborn numpy nibabel pandas matplotlib"
   ]
  },
  {
   "cell_type": "code",
   "execution_count": null,
   "id": "5006ee7b-7a2a-4661-bcc7-f14a77525f8e",
   "metadata": {},
   "outputs": [],
   "source": [
    "# import modules\n",
    "import numpy as np\n",
    "import nibabel as nib\n",
    "import pandas as pd\n",
    "import seaborn as sns\n",
    "from matplotlib import pyplot as plt\n",
    "from glob import glob"
   ]
  },
  {
   "cell_type": "markdown",
   "id": "b07279ea-9e7e-4cc7-966e-fea2d73143ca",
   "metadata": {},
   "source": [
    "The raw CSV files use names from FreeSurfer as exported by FastSurfer. The full list of regions is available [here](https://github.com/QSMxT/QSMxT/blob/master/aseg_labels.csv)."
   ]
  },
  {
   "cell_type": "code",
   "execution_count": null,
   "id": "099fb0cf-ebda-43a4-85d3-202dd1c1b736",
   "metadata": {},
   "outputs": [],
   "source": [
    "pd.read_csv(glob(\"qsm/analysis/sub-1*.csv\")[0])"
   ]
  },
  {
   "cell_type": "markdown",
   "id": "740ddf37-1f9d-41b3-b9dd-dcf63129196e",
   "metadata": {
    "id": "740ddf37-1f9d-41b3-b9dd-dcf63129196e"
   },
   "source": [
    "We will select a subset of these ROIs and give them more readable names:"
   ]
  },
  {
   "cell_type": "code",
   "execution_count": null,
   "id": "c0eaa5b4-5486-4930-b641-df6eb5e7fc93",
   "metadata": {
    "id": "c0eaa5b4-5486-4930-b641-df6eb5e7fc93"
   },
   "outputs": [],
   "source": [
    "# define regions of interest\n",
    "# see https://github.com/QSMxT/QSMxT/blob/master/aseg_labels.csv for a full list\n",
    "rois = { \n",
    "    \"Thalamus\" : [9, 10, 48, 49],\n",
    "    \"Pallidum\" : [12, 13, 52, 53],\n",
    "    \"Caudate\" : [11, 50],\n",
    "    \"Putamen\" : [12, 51],\n",
    "    \"Brain stem\" : [16],\n",
    "    \"CSF\" : [24, 122, 257, 701],\n",
    "    \"White matter\" : [2, 7, 41, 46, 177]\n",
    "}\n",
    "roi_names = { value: key for key in rois for value in rois[key] }\n",
    "roi_ids = [value for roi in rois.values() for value in roi]"
   ]
  },
  {
   "cell_type": "code",
   "execution_count": null,
   "id": "3823f4fd-7268-42f9-9ebe-804526cad8fa",
   "metadata": {
    "id": "3823f4fd-7268-42f9-9ebe-804526cad8fa"
   },
   "outputs": [],
   "source": [
    "# load a reconstruction\n",
    "qsm = nib.load(glob(\"qsm/qsm/*.nii*\")[0]).get_fdata().flatten()\n",
    "seg = nib.load(glob(\"qsm/segmentations/qsm/*.nii*\")[0]).get_fdata().flatten()"
   ]
  },
  {
   "cell_type": "code",
   "execution_count": null,
   "id": "d55c047a-1064-4fa9-a634-962e3aad6ba0",
   "metadata": {
    "id": "d55c047a-1064-4fa9-a634-962e3aad6ba0"
   },
   "outputs": [],
   "source": [
    "# retain only the rois\n",
    "qsm = qsm[np.isin(seg, roi_ids)]\n",
    "seg = seg[np.isin(seg, roi_ids)]"
   ]
  },
  {
   "cell_type": "code",
   "execution_count": null,
   "id": "c1153024-bff6-4a1d-9f45-5716184a7c1f",
   "metadata": {
    "id": "c1153024-bff6-4a1d-9f45-5716184a7c1f"
   },
   "outputs": [],
   "source": [
    "# convert to a dataframe for plotting purposes\n",
    "seg = pd.Series(seg).map(roi_names)\n",
    "data = pd.DataFrame({ 'qsm' : qsm, 'seg' : seg })"
   ]
  },
  {
   "cell_type": "code",
   "execution_count": null,
   "id": "5bd4f92d-5f2a-42a7-9b6c-7cf12a1743cf",
   "metadata": {
    "colab": {
     "base_uri": "https://localhost:8080/"
    },
    "id": "5bd4f92d-5f2a-42a7-9b6c-7cf12a1743cf",
    "outputId": "4791252b-87ee-4235-ff5b-1155acabb7dc"
   },
   "outputs": [],
   "source": [
    "# summarise data by region including the average and standard deviation\n",
    "data.groupby('seg')['qsm'].agg(['mean', 'std']).sort_values('mean').round(decimals=3)"
   ]
  },
  {
   "cell_type": "code",
   "execution_count": null,
   "id": "44ce39d2-38ae-404e-8f33-1768121a99d3",
   "metadata": {
    "id": "44ce39d2-38ae-404e-8f33-1768121a99d3"
   },
   "outputs": [],
   "source": [
    "medians = data.groupby('seg')['qsm'].median().sort_values()\n",
    "order = medians.index"
   ]
  },
  {
   "cell_type": "code",
   "execution_count": null,
   "id": "9459199e-54ba-499e-bcb6-01686af3978f",
   "metadata": {
    "colab": {
     "base_uri": "https://localhost:8080/",
     "height": 533
    },
    "id": "9459199e-54ba-499e-bcb6-01686af3978f",
    "outputId": "cd6bd61e-adf5-4a08-9b2b-b3f0791590c4"
   },
   "outputs": [],
   "source": [
    "# plot\n",
    "fig = plt.figure()\n",
    "ax = sns.boxplot(data, y='qsm', x='seg', fliersize=0, color='lightblue', order=order)\n",
    "ax.set_xticklabels(ax.get_xticklabels(), ha='right', rotation=45)\n",
    "ax.set_ylim(-0.2, 0.3)\n",
    "ax.axhline(y=0, color='pink', linestyle='-', linewidth=1, zorder=-1)\n",
    "ax.set_xlabel(\"Region of interest\")\n",
    "ax.set_ylabel(\"Susceptibility (ppm)\")\n",
    "ax.set_title(\"QSM\")\n",
    "plt.show()"
   ]
  }
 ],
 "metadata": {
  "colab": {
   "include_colab_link": true,
   "provenance": []
  },
  "kernelspec": {
   "display_name": "Python 3 (ipykernel)",
   "language": "python",
   "name": "python3"
  },
  "language_info": {
   "codemirror_mode": {
    "name": "ipython",
    "version": 3
   },
   "file_extension": ".py",
   "mimetype": "text/x-python",
   "name": "python",
   "nbconvert_exporter": "python",
   "pygments_lexer": "ipython3",
   "version": "3.8.0"
  }
 },
 "nbformat": 4,
 "nbformat_minor": 5
}
