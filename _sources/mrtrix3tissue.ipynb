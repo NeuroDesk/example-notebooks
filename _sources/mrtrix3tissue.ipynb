{
 "cells": [
  {
   "cell_type": "markdown",
   "metadata": {},
   "source": [
    "<a href=\"https://colab.research.google.com/github/NeuroDesk/example-notebooks/blob/main/diffusion_imaging/mrtrix3tissue.ipynb\" target=\"_parent\"><img src=\"https://colab.research.google.com/assets/colab-badge.svg\" alt=\"Open In Colab\"/>   </a>"
   ]
  },
  {
   "cell_type": "markdown",
   "metadata": {},
   "source": [
    "# MRtrix3tissue\n",
    "\n",
    "Author: Thuy Dao\n",
    "\n",
    "Citation: 3tissue.github.io/about.html"
   ]
  },
  {
   "cell_type": "markdown",
   "metadata": {},
   "source": [
    "## Setup Neurodesk"
   ]
  },
  {
   "cell_type": "code",
   "execution_count": 1,
   "metadata": {
    "vscode": {
     "languageId": "plaintext"
    }
   },
   "outputs": [],
   "source": [
    "%%capture\n",
    "import os\n",
    "import sys\n",
    "IN_COLAB = 'google.colab' in sys.modules\n",
    "\n",
    "if IN_COLAB:\n",
    "  os.environ[\"LD_PRELOAD\"] = \"\";\n",
    "  os.environ[\"APPTAINER_BINDPATH\"] = \"/content,/tmp,/cvmfs\"\n",
    "  os.environ[\"MPLCONFIGDIR\"] = \"/content/matplotlib-mpldir\"\n",
    "  os.environ[\"LMOD_CMD\"] = \"/usr/share/lmod/lmod/libexec/lmod\"\n",
    "\n",
    "  !curl -J -O https://raw.githubusercontent.com/NeuroDesk/neurocommand/main/googlecolab_setup.sh\n",
    "  !chmod +x googlecolab_setup.sh\n",
    "  !./googlecolab_setup.sh\n",
    "\n",
    "  os.environ[\"MODULEPATH\"] = ':'.join(map(str, list(map(lambda x: os.path.join(os.path.abspath('/cvmfs/neurodesk.ardc.edu.au/neurodesk-modules/'), x),os.listdir('/cvmfs/neurodesk.ardc.edu.au/neurodesk-modules/')))))"
   ]
  },
  {
   "cell_type": "code",
   "execution_count": 2,
   "metadata": {
    "tags": []
   },
   "outputs": [
    {
     "name": "stdout",
     "output_type": "stream",
     "text": [
      "vendor_id\t: AuthenticAMD\n",
      "model name\t: AMD EPYC 7742 64-Core Processor\n"
     ]
    }
   ],
   "source": [
    "# Output CPU information:\n",
    "!cat /proc/cpuinfo | grep 'vendor' | uniq\n",
    "!cat /proc/cpuinfo | grep 'model name' | uniq"
   ]
  },
  {
   "cell_type": "code",
   "execution_count": 1,
   "metadata": {},
   "outputs": [],
   "source": [
    "import subprocess\n",
    "import nibabel as nib\n",
    "import numpy as np\n",
    "import matplotlib.pyplot as plt\n",
    "import tempfile"
   ]
  },
  {
   "cell_type": "markdown",
   "metadata": {},
   "source": [
    "## Introduction"
   ]
  },
  {
   "cell_type": "code",
   "execution_count": 1,
   "metadata": {
    "vscode": {
     "languageId": "plaintext"
    }
   },
   "outputs": [
    {
     "data": {
      "text/plain": [
       "['mrtrix3/3.0.4']"
      ]
     },
     "execution_count": 1,
     "metadata": {},
     "output_type": "execute_result"
    }
   ],
   "source": [
    "# load fmriprep\n",
    "import lmod\n",
    "import os\n",
    "# await lmod.load('mrtrix3/3.0.4')\n",
    "await lmod.load('mrtrix3tissue/5.2.8')\n",
    "await lmod.list()"
   ]
  },
  {
   "cell_type": "markdown",
   "metadata": {},
   "source": [
    "## Data preparation"
   ]
  },
  {
   "cell_type": "code",
   "execution_count": 4,
   "metadata": {
    "scrolled": true,
    "vscode": {
     "languageId": "plaintext"
    }
   },
   "outputs": [
    {
     "name": "stdout",
     "output_type": "stream",
     "text": [
      "Cloning:   0%|                             | 0.00/2.00 [00:00<?, ? candidates/s]\n",
      "Enumerating: 0.00 Objects [00:00, ? Objects/s]\u001b[A\n",
      "                                              \u001b[A\n",
      "Counting:   0%|                              | 0.00/20.6k [00:00<?, ? Objects/s]\u001b[A\n",
      "                                                                                \u001b[A\n",
      "Compressing:   0%|                           | 0.00/12.7k [00:00<?, ? Objects/s]\u001b[A\n",
      "                                                                                \u001b[A\n",
      "Receiving:   0%|                             | 0.00/22.6k [00:00<?, ? Objects/s]\u001b[A\n",
      "Receiving:   9%|█▊                  | 2.03k/22.6k [00:00<00:01, 18.3k Objects/s]\u001b[A\n",
      "Receiving:  31%|██████▏             | 6.99k/22.6k [00:00<00:00, 35.3k Objects/s]\u001b[A\n",
      "Receiving:  49%|█████████▊          | 11.1k/22.6k [00:00<00:00, 37.2k Objects/s]\u001b[A\n",
      "Receiving:  83%|████████████████▌   | 18.7k/22.6k [00:00<00:00, 52.1k Objects/s]\u001b[A\n",
      "                                                                                \u001b[A\n",
      "Resolving:   0%|                              | 0.00/5.65k [00:00<?, ? Deltas/s]\u001b[A\n",
      "Resolving:  31%|██████▌              | 1.75k/5.65k [00:00<00:00, 17.4k Deltas/s]\u001b[A\n",
      "Resolving:  62%|█████████████        | 3.50k/5.65k [00:00<00:00, 16.0k Deltas/s]\u001b[A\n",
      "Resolving:  91%|███████████████████  | 5.14k/5.65k [00:00<00:00, 14.4k Deltas/s]\u001b[A\n",
      "[INFO   ] scanning for unlocked files (this may take some time)                 \u001b[A\n",
      "[INFO   ] Remote origin not usable by git-annex; setting annex-ignore \n",
      "\u001b[1;1minstall\u001b[0m(\u001b[1;32mok\u001b[0m): /data/books/diffusion_imaging/ds002080 (\u001b[1;35mdataset\u001b[0m)\n",
      "Total:   0%|                                   | 0.00/97.7M [00:00<?, ? Bytes/s]\n",
      "Get sub-CON0 .. p_T1w.nii.gz:   0%|            | 0.00/8.06M [00:00<?, ? Bytes/s]\u001b[A\n",
      "Get sub-CON0 .. p_T1w.nii.gz:   0%|    | 33.3k/8.06M [00:00<00:53, 151k Bytes/s]\u001b[A\n",
      "Get sub-CON0 .. p_T1w.nii.gz:   1%|    | 87.3k/8.06M [00:00<00:37, 210k Bytes/s]\u001b[A\n",
      "Get sub-CON0 .. p_T1w.nii.gz:   2%|     | 193k/8.06M [00:00<00:22, 348k Bytes/s]\u001b[A\n",
      "Get sub-CON0 .. p_T1w.nii.gz:   5%|▎    | 418k/8.06M [00:00<00:12, 619k Bytes/s]\u001b[A\n",
      "Get sub-CON0 .. p_T1w.nii.gz:  11%|▍   | 871k/8.06M [00:01<00:06, 1.14M Bytes/s]\u001b[A\n",
      "Get sub-CON0 .. p_T1w.nii.gz:  22%|▋  | 1.74M/8.06M [00:01<00:02, 2.15M Bytes/s]\u001b[A\n",
      "Get sub-CON0 .. p_T1w.nii.gz:  30%|▉  | 2.45M/8.06M [00:01<00:01, 3.05M Bytes/s]\u001b[A\n",
      "Get sub-CON0 .. p_T1w.nii.gz:  44%|█▎ | 3.51M/8.06M [00:01<00:01, 4.51M Bytes/s]\u001b[A\n",
      "Get sub-CON0 .. p_T1w.nii.gz:  55%|█▋ | 4.43M/8.06M [00:01<00:00, 5.56M Bytes/s]\u001b[A\n",
      "Get sub-CON0 .. p_T1w.nii.gz:  67%|█▉ | 5.36M/8.06M [00:01<00:00, 6.23M Bytes/s]\u001b[A\n",
      "Get sub-CON0 .. p_T1w.nii.gz:  79%|██▎| 6.35M/8.06M [00:01<00:00, 7.10M Bytes/s]\u001b[A\n",
      "Get sub-CON0 .. p_T1w.nii.gz:  90%|██▋| 7.21M/8.06M [00:01<00:00, 7.19M Bytes/s]\u001b[A\n",
      "Total:   8%|██▏                       | 8.06M/97.7M [00:07<01:21, 1.10M Bytes/s]\u001b[A\n",
      "Get sub-CON0 .. P_dwi.nii.gz:   0%|            | 0.00/48.5M [00:00<?, ? Bytes/s]\u001b[A\n",
      "Get sub-CON0 .. P_dwi.nii.gz:   4%|   | 1.81M/48.5M [00:00<00:05, 8.99M Bytes/s]\u001b[A\n",
      "Get sub-CON0 .. P_dwi.nii.gz:   7%|▏  | 3.58M/48.5M [00:00<00:05, 8.85M Bytes/s]\u001b[A\n",
      "Get sub-CON0 .. P_dwi.nii.gz:  11%|▎  | 5.18M/48.5M [00:00<00:05, 8.42M Bytes/s]\u001b[A\n",
      "Get sub-CON0 .. P_dwi.nii.gz:  12%|▎  | 6.03M/48.5M [00:00<00:05, 8.43M Bytes/s]\u001b[A\n",
      "Get sub-CON0 .. P_dwi.nii.gz:  15%|▍  | 7.05M/48.5M [00:00<00:04, 8.85M Bytes/s]\u001b[A\n",
      "Get sub-CON0 .. P_dwi.nii.gz:  18%|▌  | 8.85M/48.5M [00:01<00:04, 8.87M Bytes/s]\u001b[A\n",
      "Get sub-CON0 .. P_dwi.nii.gz:  21%|▋  | 10.3M/48.5M [00:01<00:04, 8.21M Bytes/s]\u001b[A\n",
      "Get sub-CON0 .. P_dwi.nii.gz:  23%|▋  | 11.2M/48.5M [00:01<00:04, 8.22M Bytes/s]\u001b[A\n",
      "Get sub-CON0 .. P_dwi.nii.gz:  25%|▊  | 12.3M/48.5M [00:01<00:04, 8.88M Bytes/s]\u001b[A\n",
      "Get sub-CON0 .. P_dwi.nii.gz:  28%|▊  | 13.7M/48.5M [00:01<00:04, 8.23M Bytes/s]\u001b[A\n",
      "Get sub-CON0 .. P_dwi.nii.gz:  31%|▉  | 14.8M/48.5M [00:01<00:03, 8.71M Bytes/s]\u001b[A\n",
      "Get sub-CON0 .. P_dwi.nii.gz:  34%|█  | 16.7M/48.5M [00:01<00:03, 8.57M Bytes/s]\u001b[A\n",
      "Get sub-CON0 .. P_dwi.nii.gz:  38%|█▏ | 18.4M/48.5M [00:02<00:03, 8.52M Bytes/s]\u001b[A\n",
      "Get sub-CON0 .. P_dwi.nii.gz:  41%|█▏ | 19.8M/48.5M [00:02<00:04, 6.87M Bytes/s]\u001b[A\n",
      "Get sub-CON0 .. P_dwi.nii.gz:  43%|█▎ | 20.9M/48.5M [00:02<00:03, 7.53M Bytes/s]\u001b[A\n",
      "Get sub-CON0 .. P_dwi.nii.gz:  45%|█▎ | 21.9M/48.5M [00:02<00:03, 8.13M Bytes/s]\u001b[A\n",
      "Get sub-CON0 .. P_dwi.nii.gz:  47%|█▍ | 23.0M/48.5M [00:02<00:02, 8.62M Bytes/s]\u001b[A\n",
      "Get sub-CON0 .. P_dwi.nii.gz:  50%|█▍ | 24.1M/48.5M [00:02<00:02, 9.16M Bytes/s]\u001b[A\n",
      "Get sub-CON0 .. P_dwi.nii.gz:  52%|█▌ | 25.2M/48.5M [00:02<00:02, 9.57M Bytes/s]\u001b[A\n",
      "Get sub-CON0 .. P_dwi.nii.gz:  55%|█▋ | 26.9M/48.5M [00:03<00:02, 8.94M Bytes/s]\u001b[A\n",
      "Get sub-CON0 .. P_dwi.nii.gz:  57%|█▋ | 27.8M/48.5M [00:03<00:02, 9.14M Bytes/s]\u001b[A\n",
      "Get sub-CON0 .. P_dwi.nii.gz:  61%|█▊ | 29.5M/48.5M [00:03<00:02, 8.80M Bytes/s]\u001b[A\n",
      "Get sub-CON0 .. P_dwi.nii.gz:  64%|█▉ | 31.2M/48.5M [00:03<00:01, 8.72M Bytes/s]\u001b[A\n",
      "Get sub-CON0 .. P_dwi.nii.gz:  68%|██ | 32.9M/48.5M [00:03<00:01, 8.62M Bytes/s]\u001b[A\n",
      "Get sub-CON0 .. P_dwi.nii.gz:  71%|██▏| 34.5M/48.5M [00:04<00:01, 8.39M Bytes/s]\u001b[A\n",
      "Get sub-CON0 .. P_dwi.nii.gz:  73%|██▏| 35.5M/48.5M [00:04<00:01, 7.17M Bytes/s]\u001b[A\n",
      "Get sub-CON0 .. P_dwi.nii.gz:  76%|██▎| 36.7M/48.5M [00:04<00:01, 7.88M Bytes/s]\u001b[A\n",
      "Get sub-CON0 .. P_dwi.nii.gz:  78%|██▎| 37.8M/48.5M [00:04<00:01, 8.56M Bytes/s]\u001b[A\n",
      "Get sub-CON0 .. P_dwi.nii.gz:  80%|██▍| 38.7M/48.5M [00:04<00:01, 8.76M Bytes/s]\u001b[A\n",
      "Get sub-CON0 .. P_dwi.nii.gz:  82%|██▍| 39.8M/48.5M [00:04<00:00, 9.20M Bytes/s]\u001b[A\n",
      "Get sub-CON0 .. P_dwi.nii.gz:  84%|██▌| 40.8M/48.5M [00:04<00:00, 9.45M Bytes/s]\u001b[A\n",
      "Get sub-CON0 .. P_dwi.nii.gz:  88%|██▋| 42.6M/48.5M [00:04<00:00, 9.27M Bytes/s]\u001b[A\n",
      "Get sub-CON0 .. P_dwi.nii.gz:  92%|██▋| 44.4M/48.5M [00:05<00:00, 9.12M Bytes/s]\u001b[A\n",
      "Get sub-CON0 .. P_dwi.nii.gz:  96%|██▊| 46.5M/48.5M [00:05<00:00, 7.78M Bytes/s]\u001b[A\n",
      "Get sub-CON0 .. P_dwi.nii.gz:  98%|██▉| 47.5M/48.5M [00:05<00:00, 8.17M Bytes/s]\u001b[A\n",
      "Total:  58%|███████████████           | 56.5M/97.7M [00:13<00:10, 4.06M Bytes/s]\u001b[A\n",
      "Get sub-CON0 .. A_dwi.nii.gz:   0%|            | 0.00/1.18M [00:00<?, ? Bytes/s]\u001b[A\n",
      "Get sub-CON0 .. A_dwi.nii.gz:  26%|█   | 308k/1.18M [00:00<00:00, 3.07M Bytes/s]\u001b[A\n",
      "Get sub-CON0 .. A_dwi.nii.gz:  56%|██▏ | 656k/1.18M [00:00<00:00, 3.25M Bytes/s]\u001b[A\n",
      "Get sub-CON0 .. A_dwi.nii.gz:  94%|██▊| 1.11M/1.18M [00:00<00:00, 3.84M Bytes/s]\u001b[A\n",
      "                                                                                \u001b[A\n",
      "Get sub-CON0 .. _bold.nii.gz:   0%|            | 0.00/40.0M [00:00<?, ? Bytes/s]\u001b[A\n",
      "Get sub-CON0 .. _bold.nii.gz:   2%|    | 888k/40.0M [00:00<00:08, 4.43M Bytes/s]\u001b[A\n",
      "Get sub-CON0 .. _bold.nii.gz:   5%|▏  | 1.91M/40.0M [00:00<00:05, 6.81M Bytes/s]\u001b[A\n",
      "Get sub-CON0 .. _bold.nii.gz:  10%|▎  | 4.00M/40.0M [00:00<00:04, 8.80M Bytes/s]\u001b[A\n",
      "Get sub-CON0 .. _bold.nii.gz:  13%|▍  | 5.16M/40.0M [00:00<00:03, 9.56M Bytes/s]\u001b[A\n",
      "Get sub-CON0 .. _bold.nii.gz:  18%|▌  | 7.21M/40.0M [00:00<00:03, 9.83M Bytes/s]\u001b[A\n",
      "Get sub-CON0 .. _bold.nii.gz:  21%|▋  | 8.39M/40.0M [00:01<00:03, 7.97M Bytes/s]\u001b[A\n",
      "Get sub-CON0 .. _bold.nii.gz:  23%|▋  | 9.32M/40.0M [00:01<00:03, 8.23M Bytes/s]\u001b[A\n",
      "Get sub-CON0 .. _bold.nii.gz:  28%|▊  | 11.0M/40.0M [00:01<00:03, 8.34M Bytes/s]\u001b[A\n",
      "Get sub-CON0 .. _bold.nii.gz:  30%|▉  | 12.1M/40.0M [00:01<00:03, 8.84M Bytes/s]\u001b[A\n",
      "Get sub-CON0 .. _bold.nii.gz:  33%|▉  | 13.2M/40.0M [00:01<00:02, 9.27M Bytes/s]\u001b[A\n",
      "Get sub-CON0 .. _bold.nii.gz:  36%|█  | 14.3M/40.0M [00:01<00:02, 9.73M Bytes/s]\u001b[A\n",
      "Get sub-CON0 .. _bold.nii.gz:  40%|█▏ | 15.8M/40.0M [00:01<00:02, 8.67M Bytes/s]\u001b[A\n",
      "Get sub-CON0 .. _bold.nii.gz:  44%|█▎ | 17.5M/40.0M [00:02<00:02, 8.51M Bytes/s]\u001b[A\n",
      "Get sub-CON0 .. _bold.nii.gz:  46%|█▍ | 18.5M/40.0M [00:02<00:02, 8.70M Bytes/s]\u001b[A\n",
      "Get sub-CON0 .. _bold.nii.gz:  51%|█▌ | 20.3M/40.0M [00:02<00:02, 8.70M Bytes/s]\u001b[A\n",
      "Get sub-CON0 .. _bold.nii.gz:  55%|█▋ | 22.0M/40.0M [00:02<00:02, 8.73M Bytes/s]\u001b[A\n",
      "Get sub-CON0 .. _bold.nii.gz:  59%|█▊ | 23.6M/40.0M [00:02<00:01, 8.37M Bytes/s]\u001b[A\n",
      "Get sub-CON0 .. _bold.nii.gz:  61%|█▊ | 24.4M/40.0M [00:02<00:01, 8.43M Bytes/s]\u001b[A\n",
      "Get sub-CON0 .. _bold.nii.gz:  65%|█▉ | 26.1M/40.0M [00:03<00:01, 8.43M Bytes/s]\u001b[A\n",
      "Get sub-CON0 .. _bold.nii.gz:  68%|██ | 27.1M/40.0M [00:03<00:01, 8.78M Bytes/s]\u001b[A\n",
      "Get sub-CON0 .. _bold.nii.gz:  72%|██▏| 28.9M/40.0M [00:03<00:01, 8.66M Bytes/s]\u001b[A\n",
      "Get sub-CON0 .. _bold.nii.gz:  76%|██▎| 30.6M/40.0M [00:03<00:01, 8.53M Bytes/s]\u001b[A\n",
      "Get sub-CON0 .. _bold.nii.gz:  79%|██▎| 31.5M/40.0M [00:03<00:01, 8.40M Bytes/s]\u001b[A\n",
      "Get sub-CON0 .. _bold.nii.gz:  81%|██▍| 32.4M/40.0M [00:03<00:00, 8.51M Bytes/s]\u001b[A\n",
      "Get sub-CON0 .. _bold.nii.gz:  83%|██▌| 33.4M/40.0M [00:03<00:00, 8.45M Bytes/s]\u001b[A\n",
      "Get sub-CON0 .. _bold.nii.gz:  86%|██▌| 34.4M/40.0M [00:03<00:00, 8.81M Bytes/s]\u001b[A\n",
      "Get sub-CON0 .. _bold.nii.gz:  90%|██▋| 36.0M/40.0M [00:04<00:00, 8.40M Bytes/s]\u001b[A\n",
      "Get sub-CON0 .. _bold.nii.gz:  93%|██▊| 37.1M/40.0M [00:04<00:00, 8.34M Bytes/s]\u001b[A\n",
      "Get sub-CON0 .. _bold.nii.gz:  95%|██▊| 37.9M/40.0M [00:04<00:00, 8.37M Bytes/s]\u001b[A\n",
      "Get sub-CON0 .. _bold.nii.gz:  97%|██▉| 38.9M/40.0M [00:04<00:00, 8.44M Bytes/s]\u001b[A\n",
      "Get sub-CON0 .. _bold.nii.gz: 100%|██▉| 39.9M/40.0M [00:04<00:00, 8.74M Bytes/s]\u001b[A\n",
      "\u001b[1;1mget\u001b[0m(\u001b[1;32mok\u001b[0m): sub-CON02/ses-postop/anat/sub-CON02_ses-postop_T1w.nii.gz (\u001b[1;35mfile\u001b[0m)\n",
      "\u001b[1;1mget\u001b[0m(\u001b[1;32mok\u001b[0m): sub-CON02/ses-postop/dwi/sub-CON02_ses-postop_acq-AP_dwi.nii.gz (\u001b[1;35mfile\u001b[0m)\n",
      "\u001b[1;1mget\u001b[0m(\u001b[1;32mok\u001b[0m): sub-CON02/ses-postop/dwi/sub-CON02_ses-postop_acq-PA_dwi.nii.gz (\u001b[1;35mfile\u001b[0m)\n",
      "\u001b[1;1mget\u001b[0m(\u001b[1;32mok\u001b[0m): sub-CON02/ses-postop/func/sub-CON02_ses-postop_task-rest_bold.nii.gz (\u001b[1;35mfile\u001b[0m)\n",
      "\u001b[1;1mget\u001b[0m(\u001b[1;32mok\u001b[0m): sub-CON02 (\u001b[1;35mdirectory\u001b[0m)\n",
      "action summary:\n",
      "  get (ok: 5)\n",
      "\u001b[0m"
     ]
    }
   ],
   "source": [
    "# download data\n",
    "!datalad install https://github.com/OpenNeuroDatasets/ds002080.git\n",
    "!cd ds002080 && datalad get sub-CON02"
   ]
  },
  {
   "cell_type": "markdown",
   "metadata": {},
   "source": [
    "### Convert to .mif file\n",
    "Once data is downloaded, it is recommended to import and store it as .mif file(s), the so-called “MRtrix Image Format”.\n",
    "\n",
    "`mrconvert` is the tool to convert between all sorts of image formats (or extract parts of images or change properties) and enables you to read from e.g. DICOM folders or NIfTI (.nii) images and store an image as a .mif file.\n",
    "\n",
    "If your diffusion MRI data comes as a NIfTI (.nii) image instead, the gradient orientations and b-values will typically be stored in 2 separate files (a “bvecs” and “bvals” file)."
   ]
  },
  {
   "cell_type": "code",
   "execution_count": 3,
   "metadata": {},
   "outputs": [
    {
     "name": "stdout",
     "output_type": "stream",
     "text": [
      "mrconvert: [100%] uncompressing image \"ds002080/sub-CON02/ses-postop/dwi/sub-CON02_ses-postop_acq-AP_dwi.nii.gz\"\u001b[0K[0K\u001b[?7h\u001b[?7l\u001b[?7l\u001b[?7l\u001b[?7l\u001b[?7l\u001b[?7l\u001b[?7l\u001b[?7l\u001b[?7l\u001b[?7l\u001b[?7l\u001b[?7l\u001b[?7l\u001b[?7l\u001b[?7l\u001b[?7l\u001b[?7l\u001b[?7l\u001b[?7l\u001b[?7l\u001b[?7l\u001b[?7l\u001b[?7l\u001b[?7l\u001b[?7l\u001b[?7l\n",
      "mrconvert: [100%] copying from \"ds002080/s...es-postop_acq-AP_dwi.nii.gz\" to \"AP.mif\"\u001b[0K[0K\u001b[?7h\u001b[?7l\u001b[?7l\u001b[?7l\u001b[?7l\u001b[?7l\u001b[?7l\u001b[?7l\u001b[?7l\u001b[?7l\u001b[?7l\u001b[?7l\u001b[?7l\u001b[?7l\u001b[?7l\u001b[?7l\u001b[?7l\u001b[?7l\u001b[?7l\u001b[?7l\u001b[?7l\u001b[?7l\u001b[?7l\u001b[?7l\u001b[?7l\u001b[?7l\u001b[?7l\n"
     ]
    }
   ],
   "source": [
    "!mrconvert ds002080/sub-CON02/ses-postop/dwi/sub-CON02_ses-postop_acq-AP_dwi.nii.gz AP.mif -fslgrad ds002080/sub-CON02/ses-postop/dwi/sub-CON02_ses-postop_acq-AP_dwi.bvec ds002080/sub-CON02/ses-postop/dwi/sub-CON02_ses-postop_acq-AP_dwi.bval\n",
    "!mrconvert ds002080/sub-CON02/ses-postop/dwi/sub-CON02_ses-postop_acq-PA_dwi.nii.gz PA.mif -fslgrad ds002080/sub-CON02/ses-postop/dwi/sub-CON02_ses-postop_acq-PA_dwi.bvec ds002080/sub-CON02/ses-postop/dwi/sub-CON02_ses-postop_acq-PA_dwi.bval"
   ]
  },
  {
   "cell_type": "markdown",
   "metadata": {},
   "source": [
    "## Preprocessing\n",
    "The following are common preprocessing steps done with MRtrix. If you have used the software package FSL to analyze diffusion data, note that some of the FSL commands - such as eddy and topup - are used in some of the MRtrix libraries. \n",
    "\n",
    "### Denoising and Gibbs ringing removal (“unringing”)\n"
   ]
  },
  {
   "cell_type": "code",
   "execution_count": 4,
   "metadata": {},
   "outputs": [
    {
     "name": "stdout",
     "output_type": "stream",
     "text": [
      "dwidenoise: [100%] preloading data for \"AP.mif\"\u001b[0K[0K\u001b[?7h\u001b[?7l\u001b[?7l\u001b[?7l\u001b[?7l\u001b[?7l\u001b[?7l\u001b[?7l\u001b[?7l\u001b[?7l\u001b[?7l\u001b[?7l\u001b[?7l\u001b[?7l\u001b[?7l\u001b[?7l\u001b[?7l\u001b[?7l\u001b[?7l\u001b[?7l\u001b[?7l\u001b[?7l\u001b[?7l\u001b[?7l\u001b[?7l\u001b[?7l\u001b[?7l\u001b[?7l\u001b[?7l\u001b[?7l\u001b[?7l\u001b[?7l\u001b[?7l\u001b[?7l\u001b[?7l\u001b[?7l\u001b[?7l\u001b[?7l\u001b[?7l\u001b[?7l\u001b[?7l\u001b[?7l\u001b[?7l\u001b[?7l\u001b[?7l\u001b[?7l\u001b[?7l\n",
      "dwidenoise: [100%] running MP-PCA denoising\u001b[0K[0K\u001b[?7h\u001b[?7l\u001b[?7l\u001b[?7l\u001b[?7l\u001b[?7l\u001b[?7l\u001b[?7l\u001b[?7l\u001b[?7l\u001b[?7l\u001b[?7l\u001b[?7l\u001b[?7l\u001b[?7l\u001b[?7l\u001b[?7l\u001b[?7l\u001b[?7l\u001b[?7l\u001b[?7l\u001b[?7l\u001b[?7l\u001b[?7l\u001b[?7l\u001b[?7l\u001b[?7l\u001b[?7l\u001b[?7l\u001b[?7l\u001b[?7l\u001b[?7l\u001b[?7l\u001b[?7l\u001b[?7l\u001b[?7l\u001b[?7l\u001b[?7l\u001b[?7l\u001b[?7l\u001b[?7l\u001b[?7l\u001b[?7l\u001b[?7l\u001b[?7l\u001b[?7l\u001b[?7l\u001b[?7l\u001b[?7l\u001b[?7l\u001b[?7l\u001b[?7l\u001b[?7l\u001b[?7l\u001b[?7l\u001b[?7l\u001b[?7l\u001b[?7l\u001b[?7l\u001b[?7l\u001b[?7l\u001b[?7l\u001b[?7l\u001b[?7l\u001b[?7l\u001b[?7l\u001b[?7l\u001b[?7l\u001b[?7l\u001b[?7l\u001b[?7l\u001b[?7l\u001b[?7l\u001b[?7l\u001b[?7l\u001b[?7l\u001b[?7l\u001b[?7l\u001b[?7l\u001b[?7l\u001b[?7l\u001b[?7l\u001b[?7l\u001b[?7l\u001b[?7l\u001b[?7l\u001b[?7l\u001b[?7l\u001b[?7l\u001b[?7l\u001b[?7l\u001b[?7l\u001b[?7l\u001b[?7l\u001b[?7l\u001b[?7l\u001b[?7l\u001b[?7l\u001b[?7l\u001b[?7l\u001b[?7l\n",
      "mrdegibbs: [100%] performing Gibbs ringing removal\u001b[0K[0K\u001b[?7h\u001b[?7l\u001b[?7l\u001b[?7l\u001b[?7l\u001b[?7l\u001b[?7l\u001b[?7l\u001b[?7l\u001b[?7l\u001b[?7l\u001b[?7l\u001b[?7l\u001b[?7l\u001b[?7l\u001b[?7l\u001b[?7l\u001b[?7l\u001b[?7l\u001b[?7l\u001b[?7l\u001b[?7l\u001b[?7l\u001b[?7l\u001b[?7l\u001b[?7l\u001b[?7l\u001b[?7l\u001b[?7l\u001b[?7l\u001b[?7l\u001b[?7l\u001b[?7l\u001b[?7l\u001b[?7l\u001b[?7l\u001b[?7l\u001b[?7l\u001b[?7l\u001b[?7l\u001b[?7l\u001b[?7l\u001b[?7l\u001b[?7l\u001b[?7l\u001b[?7l\u001b[?7l\u001b[?7l\u001b[?7l\u001b[?7l\u001b[?7l\u001b[?7l\u001b[?7l\u001b[?7l\u001b[?7l\u001b[?7l\u001b[?7l\u001b[?7l\u001b[?7l\u001b[?7l\u001b[?7l\u001b[?7l\u001b[?7l\u001b[?7l\u001b[?7l\u001b[?7l\u001b[?7l\u001b[?7l\u001b[?7l\u001b[?7l\u001b[?7l\u001b[?7l\u001b[?7l\u001b[?7l\u001b[?7l\u001b[?7l\u001b[?7l\u001b[?7l\u001b[?7l\u001b[?7l\u001b[?7l\u001b[?7l\u001b[?7l\u001b[?7l\u001b[?7l\u001b[?7l\u001b[?7l\u001b[?7l\u001b[?7l\u001b[?7l\u001b[?7l\u001b[?7l\u001b[?7l\u001b[?7l\u001b[?7l\u001b[?7l\u001b[?7l\u001b[?7l\u001b[?7l\u001b[?7l\u001b[?7l\n"
     ]
    }
   ],
   "source": [
    "!dwidenoise AP.mif dwi_denoised.mif -noise noise.mif\n",
    "!mrdegibbs dwi_denoised.mif dwi_denoised_unringed.mif"
   ]
  },
  {
   "cell_type": "markdown",
   "metadata": {},
   "source": [
    "### Motion and distortion correction\n",
    "\n",
    "Motion and distortion correction are performed by the `dwifslpreproc` command, most of the heavy lifting is done automatically by FSL’s `topup` and `eddy` tools.\n",
    "\n",
    "If you have also scanned a pair of reverse phase-encoded b=0 images, you can correct for susceptibility-induced EPI distortions by concatenating the reverse phase-encoded b=0 images using `mrcat`."
   ]
  },
  {
   "cell_type": "code",
   "execution_count": 4,
   "metadata": {},
   "outputs": [
    {
     "name": "stdout",
     "output_type": "stream",
     "text": [
      "mrconvert: [100%] uncompressing image \"ds002080/sub-CON02/ses-postop/dwi/sub-CON02_ses-postop_acq-PA_dwi.nii.gz\"\u001b[0K\u001b[0K\u001b[?7h\u001b[?7l\n",
      "mrconvert: [100%] copying from \"ds002080/s...es-postop_acq-PA_dwi.nii.gz\" to \"PA.mif\"\u001b[0K\u001b[0K\u001b[?7h\u001b[?7l\n"
     ]
    }
   ],
   "source": [
    "# !mrconvert ds002080/sub-CON02/ses-postop/dwi/sub-CON02_ses-postop_acq-PA_dwi.nii.gz PA.mif\n",
    "# !mrconvert PA.mif -fslgrad ds002080/sub-CON02/ses-postop/dwi/sub-CON02_ses-postop_acq-PA_dwi.bvec ds002080/sub-CON02/ses-postop/dwi/sub-CON02_ses-postop_acq-PA_dwi.bval - | mrmath - mean mean_b0_PA.mif -axis 3\n"
   ]
  },
  {
   "cell_type": "code",
   "execution_count": 3,
   "metadata": {},
   "outputs": [
    {
     "name": "stdout",
     "output_type": "stream",
     "text": [
      "mrcat: [100%] concatenating \"AP.mif\"\u001b[0K\u001b[0K\u001b[?7h\u001b[?7l\u001b[?7l\u001b[?7l\u001b[?7l\u001b[?7l\u001b[?7l\u001b[?7l\u001b[?7l\u001b[?7l\u001b[?7l\u001b[?7l\u001b[?7l\u001b[?7l\u001b[?7l\u001b[?7l\u001b[?7l\u001b[?7l\u001b[?7l\u001b[?7l\u001b[?7l\u001b[?7l\u001b[?7l\u001b[?7l\u001b[?7l\u001b[?7l\u001b[?7l\u001b[?7l\u001b[?7l\u001b[?7l\u001b[?7l\u001b[?7l\u001b[?7l\u001b[?7l\u001b[?7l\u001b[?7l\u001b[?7l\u001b[?7l\u001b[?7l\u001b[?7l\u001b[?7l\u001b[?7l\u001b[?7l\u001b[?7l\u001b[?7l\u001b[?7l\u001b[?7l\u001b[?7l\u001b[?7l\u001b[?7l\u001b[?7l\u001b[?7l\u001b[?7l\u001b[?7l\u001b[?7l\u001b[?7l\u001b[?7l\u001b[?7l\u001b[?7l\u001b[?7l\u001b[?7l\u001b[?7l\u001b[?7l\u001b[?7l\u001b[?7l\u001b[?7l\u001b[?7l\u001b[?7l\u001b[?7l\u001b[?7l\u001b[?7l\u001b[?7l\u001b[?7l\u001b[?7l\u001b[?7l\u001b[?7l\u001b[?7l\u001b[?7l\u001b[?7l\u001b[?7l\u001b[?7l\u001b[?7l\u001b[?7l\u001b[?7l\u001b[?7l\u001b[?7l\u001b[?7l\u001b[?7l\u001b[?7l\u001b[?7l\u001b[?7l\u001b[?7l\u001b[?7l\u001b[?7l\u001b[?7l\u001b[?7l\u001b[?7l\u001b[?7l\u001b[?7l\u001b[?7l\u001b[?7l\u001b[?7l\u001b[?7l\u001b[?7l\u001b[?7l\u001b[?7l\u001b[?7l\u001b[?7l\u001b[?7l\u001b[?7l\u001b[?7l\u001b[?7l\u001b[?7l\u001b[?7l\u001b[?7l\u001b[?7l\u001b[?7l\n",
      "mrcat: [100%] concatenating \"PA.mif\"\u001b[0K\u001b[0K\u001b[?7h\u001b[?7l\u001b[?7l\u001b[?7l\u001b[?7l\n",
      "dwifslpreproc: \u001b[03;32m\u001b[0m\n",
      "dwifslpreproc: \u001b[03;32mNote that this script makes use of commands / algorithms that have relevant articles for citation; INCLUDING FROM EXTERNAL SOFTWARE PACKAGES. Please consult the help page (-help option) for more information.\u001b[0m\n",
      "dwifslpreproc: \u001b[03;32m\u001b[0m\n",
      "dwifslpreproc: \u001b[03;32mGenerated scratch directory: /data/books/diffusion_imaging/dwifslpreproc-tmp-H6QPID/\u001b[0m\n",
      "\u001b[03;36mCommand:\u001b[0m  mrconvert /data/books/diffusion_imaging/dwi_denoised_unringed.mif /data/books/diffusion_imaging/dwifslpreproc-tmp-H6QPID/dwi.mif -json_export /data/books/diffusion_imaging/dwifslpreproc-tmp-H6QPID/dwi.json\n",
      "\u001b[03;36mCommand:\u001b[0m  mrconvert /data/books/diffusion_imaging/bzero_pair.mif /data/books/diffusion_imaging/dwifslpreproc-tmp-H6QPID/se_epi.mif\n",
      "dwifslpreproc: \u001b[03;32mChanging to scratch directory (/data/books/diffusion_imaging/dwifslpreproc-tmp-H6QPID/)\u001b[0m\n",
      "\u001b[03;36mCommand:\u001b[0m  dirstat dwi.mif -output asym\n",
      "dwifslpreproc: \u001b[00;31m[WARNING] sampling of b=700 shell is moderately asymmetric; distortion correction may benefit from use of: -eddy_options \" ... --slm=linear ... \"\u001b[0m\n",
      "dwifslpreproc: \u001b[03;32mTotal readout time not provided at command-line; assuming sane default of 0.1\u001b[0m\n",
      "\u001b[03;36mCommand:\u001b[0m  mrinfo dwi.mif -export_grad_mrtrix grad.b\n",
      "\u001b[03;36mCommand:\u001b[0m  mrconvert se_epi.mif topup_in.nii -import_pe_table se_epi_manual_pe_scheme.txt -strides -1,+2,+3,+4 -export_pe_table topup_datain.txt\n",
      "\u001b[03;36mCommand:\u001b[0m  topup --imain=topup_in.nii --datain=topup_datain.txt --out=field --fout=field_map.nii.gz --config=/opt/fsl-6.0.3/etc/flirtsch/b02b0.cnf --verbose\n",
      "^C\n",
      "\n",
      "dwifslpreproc: \u001b[01;31m[SYSTEM FATAL CODE: SIGINT (2)] Program manually interrupted by terminal\u001b[0m\n"
     ]
    }
   ],
   "source": [
    "# !dwiextract dwi.mif - -fslgrad ds002080/sub-CON02/ses-postop/dwi/sub-CON02_ses-postop_acq-AP_dwi.bvec ds002080/sub-CON02/ses-postop/dwi/sub-CON02_ses-postop_acq-AP_dwi.bval -bzero | mrmath - mean mean_b0_AP.mif -axis 3\n",
    "# !mrcat mean_b0_AP.mif mean_b0_PA.mif -axis 3 b0_pair.mif\n",
    "!mrcat AP.mif PA.mif bzero_pair.mif -axis 3\n",
    "!dwifslpreproc dwi_denoised_unringed.mif dwi_denoised_unringed_preproc.mif -pe_dir AP -rpe_pair -se_epi bzero_pair.mif  -eddy_options \" --slm=linear --data_is_shelled\""
   ]
  },
  {
   "cell_type": "code",
   "execution_count": 8,
   "metadata": {
    "scrolled": true,
    "vscode": {
     "languageId": "plaintext"
    }
   },
   "outputs": [
    {
     "name": "stdout",
     "output_type": "stream",
     "text": [
      "dwifslpreproc: \u001b[03;32m\u001b[0m\n",
      "dwifslpreproc: \u001b[03;32mNote that this script makes use of commands / algorithms that have relevant articles for citation; INCLUDING FROM EXTERNAL SOFTWARE PACKAGES. Please consult the help page (-help option) for more information.\u001b[0m\n",
      "dwifslpreproc: \u001b[03;32m\u001b[0m\n",
      "dwifslpreproc: \u001b[03;32mGenerated scratch directory: /data/books/diffusion_imaging/dwifslpreproc-tmp-K2AGQ4/\u001b[0m\n",
      "\u001b[03;36mCommand:\u001b[0m  mrconvert /data/books/diffusion_imaging/dwi.mif /data/books/diffusion_imaging/dwifslpreproc-tmp-K2AGQ4/dwi.mif -fslgrad /data/books/diffusion_imaging/ds002080/sub-CON02/ses-postop/dwi/sub-CON02_ses-postop_acq-AP_dwi.bvec /data/books/diffusion_imaging/ds002080/sub-CON02/ses-postop/dwi/sub-CON02_ses-postop_acq-AP_dwi.bval -json_export /data/books/diffusion_imaging/dwifslpreproc-tmp-K2AGQ4/dwi.json\n",
      "\u001b[03;36mCommand:\u001b[0m  mrconvert /data/books/diffusion_imaging/b0_pair.mif /data/books/diffusion_imaging/dwifslpreproc-tmp-K2AGQ4/se_epi.mif\n",
      "dwifslpreproc: \u001b[03;32mChanging to scratch directory (/data/books/diffusion_imaging/dwifslpreproc-tmp-K2AGQ4/)\u001b[0m\n",
      "dwifslpreproc: \u001b[03;32mTotal readout time not provided at command-line; assuming sane default of 0.1\u001b[0m\n",
      "\u001b[03;36mCommand:\u001b[0m  mrinfo dwi.mif -export_grad_mrtrix grad.b\n",
      "\u001b[03;36mCommand:\u001b[0m  mrconvert se_epi.mif topup_in.nii -import_pe_table se_epi_manual_pe_scheme.txt -strides -1,+2,+3,+4 -export_pe_table topup_datain.txt\n",
      "\u001b[03;36mCommand:\u001b[0m  topup --imain=topup_in.nii --datain=topup_datain.txt --out=field --fout=field_map.nii.gz --config=/opt/fsl-6.0.5.1/etc/flirtsch/b02b0.cnf --verbose\n",
      "\u001b[03;36mCommand:\u001b[0m  mrconvert dwi.mif -import_pe_table dwi_manual_pe_scheme.txt - | mrinfo - -export_pe_eddy applytopup_config.txt applytopup_indices.txt\n",
      "\u001b[03;36mCommand:\u001b[0m  mrconvert dwi.mif dwi_pe_0.nii -coord 3 0,1,2,3,4,5,6,7,8,9,10,11,12,13,14,15,16,17,18,19,20,21,22,23,24,25,26,27,28,29,30,31,32,33,34,35,36,37,38,39,40,41,42,43,44,45,46,47,48,49,50,51,52,53,54,55,56,57,58,59,60,61,62,63,64,65,66,67,68,69,70,71,72,73,74,75,76,77,78,79,80,81,82,83,84,85,86,87,88,89,90,91,92,93,94,95,96,97,98,99,100,101 -strides -1,+2,+3,+4 -json_export dwi_pe_0.json\n",
      "\u001b[03;36mCommand:\u001b[0m  applytopup --imain=dwi_pe_0.nii --datain=applytopup_config.txt --inindex=1 --topup=field --out=dwi_pe_0_applytopup.nii --method=jac\n",
      "\u001b[03;36mCommand:\u001b[0m  mrconvert dwi_pe_0_applytopup.nii.gz dwi_pe_0_applytopup.mif -json_import dwi_pe_0.json\n",
      "\u001b[03;36mCommand:\u001b[0m  dwi2mask dwi_pe_0_applytopup.mif - | maskfilter - dilate - | mrconvert - eddy_mask.nii -datatype float32 -strides -1,+2,+3\n",
      "\u001b[03;36mCommand:\u001b[0m  mrconvert dwi.mif -import_pe_table dwi_manual_pe_scheme.txt eddy_in.nii -strides -1,+2,+3,+4 -export_grad_fsl bvecs bvals -export_pe_eddy eddy_config.txt eddy_indices.txt\n",
      "\u001b[03;36mCommand:\u001b[0m  eddy_cuda --imain=eddy_in.nii --mask=eddy_mask.nii --acqp=eddy_config.txt --index=eddy_indices.txt --bvecs=bvecs --bvals=bvals --topup=field --slm=linear --data_is_shelled --out=dwi_post_eddy --verbose\n",
      "dwifslpreproc: \u001b[03;32mCUDA version of 'eddy' was not successful; attempting OpenMP version\u001b[0m\n",
      "\u001b[03;36mCommand:\u001b[0m  eddy_openmp --imain=eddy_in.nii --mask=eddy_mask.nii --acqp=eddy_config.txt --index=eddy_indices.txt --bvecs=bvecs --bvals=bvals --topup=field --slm=linear --data_is_shelled --out=dwi_post_eddy --verbose\n",
      "\u001b[03;36mCommand:\u001b[0m  mrconvert dwi_post_eddy.nii.gz result.mif -strides -1,2,3,4 -fslgrad dwi_post_eddy.eddy_rotated_bvecs bvals\n",
      "\u001b[03;36mCommand:\u001b[0m  mrconvert result.mif /data/books/diffusion_imaging/dwi_preproc.mif\n",
      "dwifslpreproc: \u001b[03;32mChanging back to original directory (/data/books/diffusion_imaging)\u001b[0m\n",
      "dwifslpreproc: \u001b[03;32mDeleting scratch directory (/data/books/diffusion_imaging/dwifslpreproc-tmp-K2AGQ4/)\u001b[0m\n"
     ]
    }
   ],
   "source": [
    "# !dwifslpreproc dwi.mif dwi_preproc.mif -fslgrad ds002080/sub-CON02/ses-postop/dwi/sub-CON02_ses-postop_acq-AP_dwi.bvec ds002080/sub-CON02/ses-postop/dwi/sub-CON02_ses-postop_acq-AP_dwi.bval -pe_dir AP -rpe_pair -se_epi b0_pair.mif -eddy_options \" --slm=linear --data_is_shelled\""
   ]
  },
  {
   "cell_type": "markdown",
   "metadata": {},
   "source": [
    "####\n",
    "When it has finished running, examine the output to see how eddy current correction and unwarping have changed the data; ideally, you should see more signal restored in regions such as the orbitofrontal cortex, which is particularly susceptible to signal dropout.\n",
    "\n",
    "Let's display the newly preprocessed data, with the original diffusion data overlaid on top of it and colored in red. You should see a noticeable difference between the two images, especially in the frontal lobes of the brain near the eyes, which are most susceptible to eddy currents."
   ]
  },
  {
   "cell_type": "code",
   "execution_count": null,
   "metadata": {},
   "outputs": [],
   "source": [
    "# File paths for both images\n",
    "mif_file_path1 = 'dwi_denoised_unringed_preproc.mif'  \n",
    "mif_file_path2 = 'ds002080/sub-CON02/ses-postop/dwi/sub-CON02_ses-postop_acq-AP_dwi.nii.gz'          \n",
    "\n",
    "# Convert both .mif files to temporary .nii.gz files with -force flag\n",
    "with tempfile.NamedTemporaryFile(suffix=\".nii.gz\") as temp_file1, \\\n",
    "     tempfile.NamedTemporaryFile(suffix=\".nii.gz\") as temp_file2:\n",
    "         \n",
    "    # Convert main image\n",
    "    result1 = subprocess.run([\"mrconvert\", mif_file_path1, temp_file1.name, \"-force\"], capture_output=True, text=True)\n",
    "    if result1.returncode != 0:\n",
    "        print(f\"Error in mrconvert for preprocessed image: {result1.stderr}\")\n",
    "        exit()\n",
    "    \n",
    "    # Convert overlay image\n",
    "    result2 = subprocess.run([\"mrconvert\", mif_file_path2, temp_file2.name, \"-force\"], capture_output=True, text=True)\n",
    "    if result2.returncode != 0:\n",
    "        print(f\"Error in mrconvert for original image: {result2.stderr}\")\n",
    "        exit()\n",
    "         \n",
    "    # Load the converted images\n",
    "    nii_image1 = nib.load(temp_file1.name)\n",
    "    nii_image2 = nib.load(temp_file2.name)\n",
    "\n",
    "    data1 = nii_image1.get_fdata()\n",
    "    data2 = nii_image2.get_fdata()\n",
    "\n",
    "    # Select middle slice \n",
    "    slice_index = data1.shape[2] // 3\n",
    "\n",
    "    fig, axes = plt.subplots(1, 2, figsize=(10, 5))\n",
    "    # Plot preprocessed data\n",
    "    axes[0].imshow(np.rot90(data1[:, :, slice_index, 0]), cmap=\"Greys_r\", vmin=0, vmax=1000)\n",
    "    axes[0].set_title(\"Preprocessed data\")\n",
    "    axes[0].axis(\"off\")\n",
    "\n",
    "    # Plot original diffusion data as overlay\n",
    "    axes[1].imshow(np.rot90(data1[:, :, slice_index, 0]), cmap=\"Greys_r\", vmin=0, vmax=1000) \n",
    "    axes[1].imshow(np.rot90(data2[:, :, slice_index, 0]), cmap=\"hot\", alpha=0.4, vmin=0, vmax=1000) \n",
    "    axes[1].set_title(\"Preprocessed data with original diffusion data as overlay\")\n",
    "    axes[1].axis(\"off\")\n",
    "    plt.show()"
   ]
  },
  {
   "cell_type": "code",
   "execution_count": null,
   "metadata": {
    "scrolled": true
   },
   "outputs": [],
   "source": [
    "# !dwibiascorrect ants dwi_preproc.mif dwi_denoised_preproc_unbiased.mif -bias bias.mif\n",
    "!dwibiascorrect ants dwi_denoised_unringed_preproc.mif dwi_denoised_unringed_preproc_unbiased.mif"
   ]
  },
  {
   "cell_type": "code",
   "execution_count": null,
   "metadata": {},
   "outputs": [],
   "source": [
    "!dwi2mask dwi_denoised_unringed_preproc_unbiased.mif dwi_mask.mif"
   ]
  },
  {
   "cell_type": "markdown",
   "metadata": {},
   "source": [
    "## 3-tissue response function estimation\n",
    "A robust and fully automated unsupervised method to obtain 3-tissue response functions representing single-fibre white matter (WM), grey matter (GM) and CSF from the data itself, is available as the so-called dwi2response dhollander comman from `MRtrix3Tissue` package "
   ]
  },
  {
   "cell_type": "code",
   "execution_count": 11,
   "metadata": {},
   "outputs": [],
   "source": [
    "# await lmod.load('mrtrix3tissue/5.2.8')"
   ]
  },
  {
   "cell_type": "code",
   "execution_count": null,
   "metadata": {
    "scrolled": true
   },
   "outputs": [],
   "source": [
    "!dwi2response dhollander dwi_denoised_unringed_preproc_unbiased.mif response_wm.txt response_gm.txt response_csf.txt"
   ]
  },
  {
   "cell_type": "code",
   "execution_count": null,
   "metadata": {},
   "outputs": [],
   "source": [
    "!mrgrid dwi_mask.mif regrid - -template dwi_denoised_unringed_preproc_unbiased_upsampled.mif -interp linear -datatype bit | maskfilter - median dwi_mask_upsampled.mif"
   ]
  },
  {
   "cell_type": "code",
   "execution_count": 5,
   "metadata": {
    "scrolled": true
   },
   "outputs": [
    {
     "name": "stdout",
     "output_type": "stream",
     "text": [
      "dwi2mask: [100%] preloading data for \"dwi_denoised_preproc_unbiased_upsampled.mif\"\u001b[0K[0K\u001b[?7h\u001b[?7l\u001b[?7l\u001b[?7l\u001b[?7l\u001b[?7l\u001b[?7l\u001b[?7l\u001b[?7l\u001b[?7l\u001b[?7l\u001b[?7l\u001b[?7l\u001b[?7l\u001b[?7l\u001b[?7l\u001b[?7l\u001b[?7l\u001b[?7l\u001b[?7l\u001b[?7l\u001b[?7l\u001b[?7l\u001b[?7l\u001b[?7l\u001b[?7l\u001b[?7l\u001b[?7l\u001b[?7l\u001b[?7l\u001b[?7l\u001b[?7l\u001b[?7l\u001b[?7l\u001b[?7l\u001b[?7l\u001b[?7l\u001b[?7l\u001b[?7l\u001b[?7l\u001b[?7l\u001b[?7l\u001b[?7l\u001b[?7l\u001b[?7l\u001b[?7l\u001b[?7l\u001b[?7l\u001b[?7l\u001b[?7l\u001b[?7l\u001b[?7l\u001b[?7l\u001b[?7l\u001b[?7l\u001b[?7l\u001b[?7l\u001b[?7l\u001b[?7l\u001b[?7l\u001b[?7l\u001b[?7l\u001b[?7l\u001b[?7l\u001b[?7l\u001b[?7l\u001b[?7l\u001b[?7l\u001b[?7l\u001b[?7l\u001b[?7l\u001b[?7l\u001b[?7l\u001b[?7l\u001b[?7l\u001b[?7l\u001b[?7l\u001b[?7l\u001b[?7l\u001b[?7l\u001b[?7l\u001b[?7l\u001b[?7l\u001b[?7l\u001b[?7l\u001b[?7l\u001b[?7l\u001b[?7l\u001b[?7l\u001b[?7l\u001b[?7l\u001b[?7l\u001b[?7l\u001b[?7l\u001b[?7l\u001b[?7l\u001b[?7l\u001b[?7l\u001b[?7l\u001b[?7l\u001b[?7l\n",
      "dwi2mask: [done] computing dwi brain mask\u001b[0K[0K\u001b[?7h\u001b[?7l\u001b[?7l\u001b[?7l\u001b[?7l\u001b[?7l\u001b[?7l\u001b[?7l\u001b[?7l\u001b[?7l\u001b[?7l\n",
      "dwi2mask: \u001b[01;31m[ERROR] output file \"dwi_mask_upsampled.mif\" already exists (use -force option to force overwrite)\u001b[0m\n",
      "dwi2mask: \u001b[01;31m[ERROR] error creating image \"dwi_mask_upsampled.mif\"\u001b[0m\n"
     ]
    }
   ],
   "source": [
    "# !dwi2mask dwi_denoised_preproc_unbiased_upsampled.mif dwi_mask_upsampled.mif"
   ]
  },
  {
   "cell_type": "markdown",
   "metadata": {},
   "source": [
    "## 3-tissue CSD modelling\n",
    "Your data is now ready for 3-tissue CSD modelling with the previously obtained 3-tissue response functions, which will result in modelling the diffusion MRI data using WM-like (FOD), GM-like and CSF-like compartments. There are 2 different methods (or algorithms) available to perform 3-tissue CSD. The choice between both depends on what (part of your) data you intend to perform 3-tissue CSD modelling for.\n",
    "\n",
    "If you want to perform 3-tissue CSD modelling for multi-shell data, this can be achieved using the multi-shell multi-tissue CSD (MSMT-CSD) method or algorithm, as follows:"
   ]
  },
  {
   "cell_type": "code",
   "execution_count": null,
   "metadata": {
    "scrolled": true
   },
   "outputs": [],
   "source": [
    "!dwi2fod msmt_csd dwi_denoised_unringed_preproc_unbiased_upsampled.mif response_wm.txt wmfod.mif response_gm.txt gm.mif response_csf.txt csf.mif -mask dwi_mask_upsampled.mif"
   ]
  },
  {
   "cell_type": "code",
   "execution_count": null,
   "metadata": {},
   "outputs": [],
   "source": [
    "!mtnormalise wmfod.mif wmfod_norm.mif gm.mif gm_norm.mif csf.mif csf_norm.mif -mask dwi_mask_upsampled.mif"
   ]
  },
  {
   "cell_type": "markdown",
   "metadata": {},
   "source": [
    " get CSF mask from csf spherical harmonic coefficients applying the first criteria (aka the csf.mif file):"
   ]
  },
  {
   "cell_type": "code",
   "execution_count": null,
   "metadata": {
    "scrolled": true
   },
   "outputs": [],
   "source": [
    "!mrconvert wmfod_norm.mif -coord 3 0 -axes 0,1,2 - | mrcalc csf_norm.mif gm_norm.mif - -add 5 -mult -gt csf_mask1.mif -datatype bit"
   ]
  },
  {
   "cell_type": "markdown",
   "metadata": {},
   "source": [
    "get CSF mask from second criteria (note: 0.141047 might be half of max response function)"
   ]
  },
  {
   "cell_type": "code",
   "execution_count": null,
   "metadata": {},
   "outputs": [],
   "source": [
    "!mrthreshold csf_norm.mif csf_mask2.mif -abs 0.141047"
   ]
  },
  {
   "cell_type": "markdown",
   "metadata": {},
   "source": [
    "Getting the overlap of both masks:"
   ]
  },
  {
   "cell_type": "code",
   "execution_count": null,
   "metadata": {},
   "outputs": [],
   "source": [
    "!mrcalc csf_mask1.mif csf_mask2.mif -mult csf_maskcombined.mif -datatype bit"
   ]
  },
  {
   "cell_type": "code",
   "execution_count": null,
   "metadata": {},
   "outputs": [],
   "source": [
    "bvals = np.loadtxt(\"ds002080/sub-CON02/ses-postop/dwi/sub-CON02_ses-postop_acq-AP_dwi.bval\")\n",
    "bvals_filtered = np.where(bvals < 1000)\n",
    "\n",
    "with open(\"bval_less_1000.txt\", \"w\") as txt_file:\n",
    "    txt_file.write(\",\".join((str(x) for x in bvals_filtered[0])))"
   ]
  },
  {
   "cell_type": "code",
   "execution_count": null,
   "metadata": {},
   "outputs": [],
   "source": [
    "!mrconvert dwi_denoised_unringed_preproc_unbiased_upsampled.mif reduced.mif -coord 3 $(cat bval_less_1000.txt)"
   ]
  },
  {
   "cell_type": "code",
   "execution_count": null,
   "metadata": {},
   "outputs": [],
   "source": [
    "!dwi2adc reduced.mif dwi_adc.mif"
   ]
  },
  {
   "cell_type": "code",
   "execution_count": null,
   "metadata": {},
   "outputs": [],
   "source": [
    "!mrconvert dwi_adc.mif extracted_adc.mif -coord 3 1"
   ]
  },
  {
   "cell_type": "code",
   "execution_count": null,
   "metadata": {},
   "outputs": [],
   "source": [
    "!mrcalc extracted_adc.mif csf_maskcombined.mif -mult masked_adc.mif"
   ]
  },
  {
   "cell_type": "markdown",
   "metadata": {},
   "source": [
    "## Results"
   ]
  },
  {
   "cell_type": "code",
   "execution_count": null,
   "metadata": {},
   "outputs": [],
   "source": [
    "!mrcalc 2256.74 4.39221 masked_adc.mif -divide -log -divide 273.15 -subtract masked_temperature.mif"
   ]
  },
  {
   "cell_type": "code",
   "execution_count": null,
   "metadata": {},
   "outputs": [],
   "source": [
    "# File paths for both images\n",
    "mif_file_path1 = 'dwi_denoised_unringed_preproc_unbiased_upsampled.mif'  \n",
    "mif_file_path2 = 'masked_temperature.mif'          \n",
    "\n",
    "# Convert both .mif files to temporary .nii.gz files with -force flag\n",
    "with tempfile.NamedTemporaryFile(suffix=\".nii.gz\") as temp_file1, \\\n",
    "     tempfile.NamedTemporaryFile(suffix=\".nii.gz\") as temp_file2:\n",
    "         \n",
    "    # Convert main image\n",
    "    result1 = subprocess.run([\"mrconvert\", mif_file_path1, temp_file1.name, \"-force\"], capture_output=True, text=True)\n",
    "    if result1.returncode != 0:\n",
    "        print(f\"Error in mrconvert for preprocessed image: {result1.stderr}\")\n",
    "        exit()\n",
    "    \n",
    "    # Convert overlay image\n",
    "    result2 = subprocess.run([\"mrconvert\", mif_file_path2, temp_file2.name, \"-force\"], capture_output=True, text=True)\n",
    "    if result2.returncode != 0:\n",
    "        print(f\"Error in mrconvert for original image: {result2.stderr}\")\n",
    "        exit()\n",
    "         \n",
    "    # Load the converted images\n",
    "    nii_image1 = nib.load(temp_file1.name)\n",
    "    nii_image2 = nib.load(temp_file2.name)\n",
    "\n",
    "    data1 = nii_image1.get_fdata()\n",
    "    data2 = nii_image2.get_fdata()\n",
    "\n",
    "    # Select middle slice \n",
    "    slice_index = data1.shape[2] // 3\n",
    "\n",
    "    fig, axes = plt.subplots(1, 2, figsize=(10, 5))\n",
    "    # Plot preprocessed data\n",
    "    axes[0].imshow(np.rot90(data1[:, :, slice_index, 0]), cmap=\"Greys_r\", vmin=0, vmax=1000)\n",
    "    axes[0].set_title(\"Preprocessed data\")\n",
    "    axes[0].axis(\"off\")\n",
    "\n",
    "    # Plot original diffusion data as overlay\n",
    "    axes[1].imshow(np.rot90(data1[:, :, slice_index, 0]), cmap=\"Greys_r\", vmin=0, vmax=1000) \n",
    "    axes[1].imshow(np.rot90(data2[:, :, slice_index, 0]), cmap=\"hot\", alpha=0.4, vmin=-50, vmax=50) \n",
    "    axes[1].set_title(\"Preprocessed data with original diffusion data as overlay\")\n",
    "    axes[1].axis(\"off\")\n",
    "    plt.show()"
   ]
  }
 ],
 "metadata": {
  "kernelspec": {
   "display_name": "Python 3 (ipykernel)",
   "language": "python",
   "name": "python3"
  },
  "language_info": {
   "codemirror_mode": {
    "name": "ipython",
    "version": 3
   },
   "file_extension": ".py",
   "mimetype": "text/x-python",
   "name": "python",
   "nbconvert_exporter": "python",
   "pygments_lexer": "ipython3",
   "version": "3.11.6"
  }
 },
 "nbformat": 4,
 "nbformat_minor": 4
}
