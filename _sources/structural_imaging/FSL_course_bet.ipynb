{
 "cells": [
  {
   "cell_type": "markdown",
   "metadata": {},
   "source": [
    "# FSL course - BET\n",
    "\n",
    "This interactive demonstration is based on the official FSL course **\"Introductory FSL Practicals/ Introduction - BET\"**.\n",
    "\n",
    "Brain extraction is a fundamental preprocessing step in neuroimaging analysis, particularly critical for structural image segmentation where precision matters most. While BET is straightforward to use, achieving optimal results often requires understanding how to fine-tune parameters for challenging datasets.\n",
    "This interactive version covers the core BET fundamentals, including parameter adjustment techniques for difficult images, and troubleshooting approaches for problematic cases. The hands-on format allows you to experiment with different settings and immediately see their effects on brain extraction quality.\n",
    "\n",
    "**Author:** Monika Doerig\n",
    "\n",
    "**Citation/ Resources:** \n",
    "- Jenkinson, M., Beckmann, C. F., Behrens, T. E. J., Woolrich, M. W., & Smith, S. M. (2012). FSL. NeuroImage, 62(2), 782–790. [https://doi.org/10.1016/j.neuroimage.2011.09.015](https://doi.org/10.1016/j.neuroimage.2011.09.015)\n",
    "\n",
    "- [FSL course online materials](https://open.win.ox.ac.uk/pages/fslcourse/website/online_materials.html)\n",
    "- [FSL course practicals BET](https://open.win.ox.ac.uk/pages/fslcourse/practicals/intro2/index.html)\n",
    "- [FSL Wiki BET](https://fsl.fmrib.ox.ac.uk/fsl/docs/#/structural/bet?id=bet-brain-extraction-tool)"
   ]
  },
  {
   "cell_type": "markdown",
   "metadata": {},
   "source": [
    "### Output CPU information"
   ]
  },
  {
   "cell_type": "code",
   "execution_count": 1,
   "metadata": {
    "editable": true,
    "slideshow": {
     "slide_type": ""
    },
    "tags": []
   },
   "outputs": [
    {
     "name": "stdout",
     "output_type": "stream",
     "text": [
      "vendor_id\t: GenuineIntel\n",
      "model name\t: Intel(R) Xeon(R) Gold 6126 CPU @ 2.60GHz\n"
     ]
    }
   ],
   "source": [
    "!cat /proc/cpuinfo | grep 'vendor' | uniq\n",
    "!cat /proc/cpuinfo | grep 'model name' | uniq"
   ]
  },
  {
   "cell_type": "code",
   "execution_count": 2,
   "metadata": {
    "editable": true,
    "slideshow": {
     "slide_type": ""
    },
    "tags": []
   },
   "outputs": [
    {
     "data": {
      "text/plain": [
       "['mrtrix3/3.0.4', 'fsl/6.0.7.16']"
      ]
     },
     "execution_count": 2,
     "metadata": {},
     "output_type": "execute_result"
    }
   ],
   "source": [
    "import module\n",
    "await module.load('fsl/6.0.7.16') # specific version\n",
    "await module.list()"
   ]
  },
  {
   "cell_type": "markdown",
   "metadata": {
    "editable": true,
    "slideshow": {
     "slide_type": ""
    },
    "tags": []
   },
   "source": [
    "## Download course material"
   ]
  },
  {
   "cell_type": "code",
   "execution_count": 3,
   "metadata": {
    "editable": true,
    "scrolled": true,
    "slideshow": {
     "slide_type": ""
    },
    "tags": [
     "scroll-output"
    ],
    "vscode": {
     "languageId": "plaintext"
    }
   },
   "outputs": [
    {
     "name": "stdout",
     "output_type": "stream",
     "text": [
      "--2025-06-12 21:02:46--  https://fsl.fmrib.ox.ac.uk/fslcourse/downloads/preCourse.tar.gz\n",
      "Resolving fsl.fmrib.ox.ac.uk (fsl.fmrib.ox.ac.uk)... 129.67.248.66\n",
      "Connecting to fsl.fmrib.ox.ac.uk (fsl.fmrib.ox.ac.uk)|129.67.248.66|:443... connected.\n",
      "HTTP request sent, awaiting response... 200 OK\n",
      "Length: 239640893 (229M) [application/x-gzip]\n",
      "Saving to: ‘preCourse.tar.gz’\n",
      "\n",
      "preCourse.tar.gz    100%[===================>] 228.54M  89.7MB/s    in 2.5s    \n",
      "\n",
      "2025-06-12 21:02:49 (89.7 MB/s) - ‘preCourse.tar.gz’ saved [239640893/239640893]\n",
      "\n",
      "fsl_course_data/intro/\n",
      "tar: fsl_course_data/intro: skipping existing file\n",
      "fsl_course_data/intro/highres.nii.gz\n",
      "tar: fsl_course_data/intro/highres.nii.gz: skipping existing file\n",
      "fsl_course_data/intro/bighead.nii.gz\n",
      "tar: fsl_course_data/intro/bighead.nii.gz: skipping existing file\n",
      "fsl_course_data/intro/filtered_func_data.nii.gz\n",
      "tar: fsl_course_data/intro/filtered_func_data.nii.gz: skipping existing file\n",
      "fsl_course_data/intro/example_func.nii.gz\n",
      "tar: fsl_course_data/intro/example_func.nii.gz: skipping existing file\n",
      "fsl_course_data/intro/structural.nii.gz\n",
      "tar: fsl_course_data/intro/structural.nii.gz: skipping existing file\n",
      "fsl_course_data/intro/egfmri.nii.gz\n",
      "tar: fsl_course_data/intro/egfmri.nii.gz: skipping existing file\n",
      "fsl_course_data/intro/example_func2highres.mat\n",
      "tar: fsl_course_data/intro/example_func2highres.mat: skipping existing file\n",
      "fsl_course_data/intro/diffdata.nii.gz\n",
      "tar: fsl_course_data/intro/diffdata.nii.gz: skipping existing file\n",
      "fsl_course_data/intro/image0.nii.gz\n",
      "tar: fsl_course_data/intro/image0.nii.gz: skipping existing file\n",
      "fsl_course_data/intro/egepi.nii.gz\n",
      "tar: fsl_course_data/intro/egepi.nii.gz: skipping existing file\n",
      "fsl_course_data/intro/standard.nii.gz\n",
      "tar: fsl_course_data/intro/standard.nii.gz: skipping existing file\n",
      "fsl_course_data/intro/LThal_mask_func.nii.gz\n",
      "tar: fsl_course_data/intro/LThal_mask_func.nii.gz: skipping existing file\n",
      "fsl_course_data/intro/LThal_mask_std.nii.gz\n",
      "tar: fsl_course_data/intro/LThal_mask_std.nii.gz: skipping existing file\n",
      "fsl_course_data/intro/cst2standard_73_46_26.nii.gz\n",
      "tar: fsl_course_data/intro/cst2standard_73_46_26.nii.gz: skipping existing file\n",
      "fsl_course_data/intro/sub3m0.nii.gz\n",
      "tar: fsl_course_data/intro/sub3m0.nii.gz: skipping existing file\n",
      "fsl_course_data/intro/bvals\n",
      "tar: fsl_course_data/intro/bvals: skipping existing file\n",
      "fsl_course_data/intro/newfmri.nii.gz\n",
      "tar: fsl_course_data/intro/newfmri.nii.gz: skipping existing file\n",
      "fsl_course_data/intro/thresh_zstat1.nii.gz\n",
      "tar: fsl_course_data/intro/thresh_zstat1.nii.gz: skipping existing file\n",
      "fsl_course_data/intro/wrapped.nii.gz\n",
      "tar: fsl_course_data/intro/wrapped.nii.gz: skipping existing file\n",
      "fsl_course_data/intro/image1.nii.gz\n",
      "tar: fsl_course_data/intro/image1.nii.gz: skipping existing file\n",
      "fsl_course_data/intro/example_func2standard.mat\n",
      "tar: fsl_course_data/intro/example_func2standard.mat: skipping existing file\n",
      "fsl_course_data/fmri/\n",
      "tar: fsl_course_data/fmri: skipping existing file\n",
      "fsl_course_data/fmri/ptt/\n",
      "tar: fsl_course_data/fmri/ptt: skipping existing file\n",
      "fsl_course_data/fmri/ptt/at/\n",
      "tar: fsl_course_data/fmri/ptt/at: skipping existing file\n",
      "fsl_course_data/fmri/ptt/at/at_left.feat/\n",
      "tar: fsl_course_data/fmri/ptt/at/at_left.feat: skipping existing file\n",
      "fsl_course_data/fmri/ptt/at/at_left.feat/rendered_thresh_zstat3.nii.gz\n",
      "tar: fsl_course_data/fmri/ptt/at/at_left.feat/rendered_thresh_zstat3.nii.gz: skipping existing file\n",
      "fsl_course_data/fmri/ptt/at/at_left.feat/cluster_mask_zstat1.nii.gz\n",
      "tar: fsl_course_data/fmri/ptt/at/at_left.feat/cluster_mask_zstat1.nii.gz: skipping existing file\n",
      "fsl_course_data/fmri/ptt/at/at_left.feat/example_func.nii.gz\n",
      "tar: fsl_course_data/fmri/ptt/at/at_left.feat/example_func.nii.gz: skipping existing file\n",
      "fsl_course_data/fmri/ptt/at/at_left.feat/tsplot/\n",
      "tar: fsl_course_data/fmri/ptt/at/at_left.feat/tsplot: skipping existing file\n",
      "fsl_course_data/fmri/ptt/at/at_left.feat/tsplot/ps_tsplotc_zfstat1_ev5.txt\n",
      "tar: fsl_course_data/fmri/ptt/at/at_left.feat/tsplot/ps_tsplotc_zfstat1_ev5.txt: skipping existing file\n",
      "fsl_course_data/fmri/ptt/at/at_left.feat/tsplot/ps_tsplotc_zstat5_ev2.txt\n",
      "tar: fsl_course_data/fmri/ptt/at/at_left.feat/tsplot/ps_tsplotc_zstat5_ev2.txt: skipping existing file\n",
      "fsl_course_data/fmri/ptt/at/at_left.feat/tsplot/ps_tsplot_zstat3_ev3p.png\n",
      "tar: fsl_course_data/fmri/ptt/at/at_left.feat/tsplot/ps_tsplot_zstat3_ev3p.png: skipping existing file\n",
      "fsl_course_data/fmri/ptt/at/at_left.feat/tsplot/tsplot_zstat3.png\n",
      "tar: fsl_course_data/fmri/ptt/at/at_left.feat/tsplot/tsplot_zstat3.png: skipping existing file\n",
      "fsl_course_data/fmri/ptt/at/at_left.feat/tsplot/ps_tsplotc_zstat1_ev2.txt\n",
      "tar: fsl_course_data/fmri/ptt/at/at_left.feat/tsplot/ps_tsplotc_zstat1_ev2.txt: skipping existing file\n",
      "fsl_course_data/fmri/ptt/at/at_left.feat/tsplot/ps_tsplot_zstat2_ev4.png\n",
      "tar: fsl_course_data/fmri/ptt/at/at_left.feat/tsplot/ps_tsplot_zstat2_ev4.png: skipping existing file\n",
      "fsl_course_data/fmri/ptt/at/at_left.feat/tsplot/ps_tsplotc_zstat5_ev4p.png\n",
      "tar: fsl_course_data/fmri/ptt/at/at_left.feat/tsplot/ps_tsplotc_zstat5_ev4p.png: skipping existing file\n",
      "fsl_course_data/fmri/ptt/at/at_left.feat/tsplot/ps_tsplotc_zstat1_ev5.txt\n",
      "tar: fsl_course_data/fmri/ptt/at/at_left.feat/tsplot/ps_tsplotc_zstat1_ev5.txt: skipping existing file\n",
      "fsl_course_data/fmri/ptt/at/at_left.feat/tsplot/ps_tsplot_zstat2_ev3.png\n",
      "tar: fsl_course_data/fmri/ptt/at/at_left.feat/tsplot/ps_tsplot_zstat2_ev3.png: skipping existing file\n",
      "fsl_course_data/fmri/ptt/at/at_left.feat/tsplot/tsplot_zstat4.html\n",
      "tar: fsl_course_data/fmri/ptt/at/at_left.feat/tsplot/tsplot_zstat4.html: skipping existing file\n",
      "fsl_course_data/fmri/ptt/at/at_left.feat/tsplot/ps_tsplotc_zfstat1_ev2p.png\n",
      "tar: fsl_course_data/fmri/ptt/at/at_left.feat/tsplot/ps_tsplotc_zfstat1_ev2p.png: skipping existing file\n",
      "fsl_course_data/fmri/ptt/at/at_left.feat/tsplot/ps_tsplotc_zfstat1_ev2.txt\n",
      "tar: fsl_course_data/fmri/ptt/at/at_left.feat/tsplot/ps_tsplotc_zfstat1_ev2.txt: skipping existing file\n",
      "fsl_course_data/fmri/ptt/at/at_left.feat/tsplot/ps_tsplotc_zstat5_ev5.txt\n",
      "tar: fsl_course_data/fmri/ptt/at/at_left.feat/tsplot/ps_tsplotc_zstat5_ev5.txt: skipping existing file\n",
      "fsl_course_data/fmri/ptt/at/at_left.feat/tsplot/ps_tsplot_zfstat1_ev3p.png\n",
      "tar: fsl_course_data/fmri/ptt/at/at_left.feat/tsplot/ps_tsplot_zfstat1_ev3p.png: skipping existing file\n",
      "fsl_course_data/fmri/ptt/at/at_left.feat/tsplot/tsplot_zstat4.png\n",
      "tar: fsl_course_data/fmri/ptt/at/at_left.feat/tsplot/tsplot_zstat4.png: skipping existing file\n",
      "fsl_course_data/fmri/ptt/at/at_left.feat/tsplot/ps_tsplotc_zstat4_ev6.png\n",
      "tar: fsl_course_data/fmri/ptt/at/at_left.feat/tsplot/ps_tsplotc_zstat4_ev6.png: skipping existing file\n",
      "fsl_course_data/fmri/ptt/at/at_left.feat/tsplot/ps_tsplotc_zstat1_ev2p.png\n",
      "tar: fsl_course_data/fmri/ptt/at/at_left.feat/tsplot/ps_tsplotc_zstat1_ev2p.png: skipping existing file\n",
      "fsl_course_data/fmri/ptt/at/at_left.feat/tsplot/ps_tsplotc_zstat3_ev1p.png\n",
      "tar: fsl_course_data/fmri/ptt/at/at_left.feat/tsplot/ps_tsplotc_zstat3_ev1p.png: skipping existing file\n",
      "fsl_course_data/fmri/ptt/at/at_left.feat/tsplot/ps_tsplot_zstat5_ev6p.png\n",
      "tar: fsl_course_data/fmri/ptt/at/at_left.feat/tsplot/ps_tsplot_zstat5_ev6p.png: skipping existing file\n",
      "fsl_course_data/fmri/ptt/at/at_left.feat/tsplot/ps_tsplotc_zstat4_ev1.png\n",
      "tar: fsl_course_data/fmri/ptt/at/at_left.feat/tsplot/ps_tsplotc_zstat4_ev1.png: skipping existing file\n",
      "fsl_course_data/fmri/ptt/at/at_left.feat/tsplot/ps_tsplot_zstat1_ev1.png\n",
      "tar: fsl_course_data/fmri/ptt/at/at_left.feat/tsplot/ps_tsplot_zstat1_ev1.png: skipping existing file\n",
      "fsl_course_data/fmri/ptt/at/at_left.feat/tsplot/ps_tsplot_zstat1_ev4p.png\n",
      "tar: fsl_course_data/fmri/ptt/at/at_left.feat/tsplot/ps_tsplot_zstat1_ev4p.png: skipping existing file\n",
      "fsl_course_data/fmri/ptt/at/at_left.feat/tsplot/tsplotc_zstat2.txt\n",
      "tar: fsl_course_data/fmri/ptt/at/at_left.feat/tsplot/tsplotc_zstat2.txt: skipping existing file\n",
      "fsl_course_data/fmri/ptt/at/at_left.feat/tsplot/ps_tsplotc_zfstat1_ev6p.png\n",
      "tar: fsl_course_data/fmri/ptt/at/at_left.feat/tsplot/ps_tsplotc_zfstat1_ev6p.png: skipping existing file\n",
      "fsl_course_data/fmri/ptt/at/at_left.feat/tsplot/ps_tsplot_zstat5_ev1.png\n",
      "tar: fsl_course_data/fmri/ptt/at/at_left.feat/tsplot/ps_tsplot_zstat5_ev1.png: skipping existing file\n",
      "fsl_course_data/fmri/ptt/at/at_left.feat/tsplot/tsplotc_zstat5.txt\n",
      "tar: fsl_course_data/fmri/ptt/at/at_left.feat/tsplot/tsplotc_zstat5.txt: skipping existing file\n",
      "fsl_course_data/fmri/ptt/at/at_left.feat/tsplot/ps_tsplot_zstat5_ev6.png\n",
      "tar: fsl_course_data/fmri/ptt/at/at_left.feat/tsplot/ps_tsplot_zstat5_ev6.png: skipping existing file\n",
      "fsl_course_data/fmri/ptt/at/at_left.feat/tsplot/ps_tsplot_zstat1_ev6.png\n",
      "tar: fsl_course_data/fmri/ptt/at/at_left.feat/tsplot/ps_tsplot_zstat1_ev6.png: skipping existing file\n",
      "fsl_course_data/fmri/ptt/at/at_left.feat/tsplot/ps_tsplotc_zstat3_ev3.png\n",
      "tar: fsl_course_data/fmri/ptt/at/at_left.feat/tsplot/ps_tsplotc_zstat3_ev3.png: skipping existing file\n",
      "fsl_course_data/fmri/ptt/at/at_left.feat/tsplot/ps_tsplotc_zstat3_ev5p.png\n",
      "tar: fsl_course_data/fmri/ptt/at/at_left.feat/tsplot/ps_tsplotc_zstat3_ev5p.png: skipping existing file\n",
      "fsl_course_data/fmri/ptt/at/at_left.feat/tsplot/tsplot_zstat3p.png\n",
      "tar: fsl_course_data/fmri/ptt/at/at_left.feat/tsplot/tsplot_zstat3p.png: skipping existing file\n",
      "fsl_course_data/fmri/ptt/at/at_left.feat/tsplot/ps_tsplot_zstat5_ev2p.png\n",
      "tar: fsl_course_data/fmri/ptt/at/at_left.feat/tsplot/ps_tsplot_zstat5_ev2p.png: skipping existing file\n",
      "fsl_course_data/fmri/ptt/at/at_left.feat/tsplot/ps_tsplot_zfstat1_ev3.png\n",
      "tar: fsl_course_data/fmri/ptt/at/at_left.feat/tsplot/ps_tsplot_zfstat1_ev3.png: skipping existing file\n",
      "fsl_course_data/fmri/ptt/at/at_left.feat/tsplot/ps_tsplot_zstat4_ev5.txt\n",
      "tar: fsl_course_data/fmri/ptt/at/at_left.feat/tsplot/ps_tsplot_zstat4_ev5.txt: skipping existing file\n",
      "fsl_course_data/fmri/ptt/at/at_left.feat/tsplot/ps_tsplotc_zstat1_ev6p.png\n",
      "tar: fsl_course_data/fmri/ptt/at/at_left.feat/tsplot/ps_tsplotc_zstat1_ev6p.png: skipping existing file\n",
      "fsl_course_data/fmri/ptt/at/at_left.feat/tsplot/ps_tsplot_zfstat1_ev4.png\n",
      "tar: fsl_course_data/fmri/ptt/at/at_left.feat/tsplot/ps_tsplot_zfstat1_ev4.png: skipping existing file\n",
      "fsl_course_data/fmri/ptt/at/at_left.feat/tsplot/ps_tsplot_zstat4_ev2.txt\n",
      "tar: fsl_course_data/fmri/ptt/at/at_left.feat/tsplot/ps_tsplot_zstat4_ev2.txt: skipping existing file\n",
      "fsl_course_data/fmri/ptt/at/at_left.feat/tsplot/ps_tsplotc_zstat3_ev4.png\n",
      "tar: fsl_course_data/fmri/ptt/at/at_left.feat/tsplot/ps_tsplotc_zstat3_ev4.png: skipping existing file\n",
      "fsl_course_data/fmri/ptt/at/at_left.feat/tsplot/ps_tsplotc_zstat2_ev2.png\n",
      "tar: fsl_course_data/fmri/ptt/at/at_left.feat/tsplot/ps_tsplotc_zstat2_ev2.png: skipping existing file\n",
      "fsl_course_data/fmri/ptt/at/at_left.feat/tsplot/ps_tsplot_zstat1_ev4.txt\n",
      "tar: fsl_course_data/fmri/ptt/at/at_left.feat/tsplot/ps_tsplot_zstat1_ev4.txt: skipping existing file\n",
      "fsl_course_data/fmri/ptt/at/at_left.feat/tsplot/ps_tsplot_zstat5_ev4.txt\n",
      "tar: fsl_course_data/fmri/ptt/at/at_left.feat/tsplot/ps_tsplot_zstat5_ev4.txt: skipping existing file\n",
      "fsl_course_data/fmri/ptt/at/at_left.feat/tsplot/ps_tsplot_zstat5_ev3.txt\n",
      "tar: fsl_course_data/fmri/ptt/at/at_left.feat/tsplot/ps_tsplot_zstat5_ev3.txt: skipping existing file\n",
      "fsl_course_data/fmri/ptt/at/at_left.feat/tsplot/ps_tsplotc_zstat4_ev1p.png\n",
      "tar: fsl_course_data/fmri/ptt/at/at_left.feat/tsplot/ps_tsplotc_zstat4_ev1p.png: skipping existing file\n",
      "fsl_course_data/fmri/ptt/at/at_left.feat/tsplot/ps_tsplotc_zstat2_ev5.png\n",
      "tar: fsl_course_data/fmri/ptt/at/at_left.feat/tsplot/ps_tsplotc_zstat2_ev5.png: skipping existing file\n",
      "fsl_course_data/fmri/ptt/at/at_left.feat/tsplot/ps_tsplot_zstat1_ev3.txt\n",
      "tar: fsl_course_data/fmri/ptt/at/at_left.feat/tsplot/ps_tsplot_zstat1_ev3.txt: skipping existing file\n",
      "fsl_course_data/fmri/ptt/at/at_left.feat/tsplot/tsplotc_zstat1p.png\n",
      "tar: fsl_course_data/fmri/ptt/at/at_left.feat/tsplot/tsplotc_zstat1p.png: skipping existing file\n",
      "fsl_course_data/fmri/ptt/at/at_left.feat/tsplot/ps_tsplot_zstat2_ev6p.png\n",
      "tar: fsl_course_data/fmri/ptt/at/at_left.feat/tsplot/ps_tsplot_zstat2_ev6p.png: skipping existing file\n",
      "fsl_course_data/fmri/ptt/at/at_left.feat/tsplot/ps_tsplot_zstat4_ev3p.png\n",
      "tar: fsl_course_data/fmri/ptt/at/at_left.feat/tsplot/ps_tsplot_zstat4_ev3p.png: skipping existing file\n",
      "fsl_course_data/fmri/ptt/at/at_left.feat/tsplot/ps_tsplotc_zstat3_ev6.txt\n",
      "tar: fsl_course_data/fmri/ptt/at/at_left.feat/tsplot/ps_tsplotc_zstat3_ev6.txt: skipping existing file\n",
      "fsl_course_data/fmri/ptt/at/at_left.feat/tsplot/ps_tsplotc_zstat2_ev4p.png\n",
      "tar: fsl_course_data/fmri/ptt/at/at_left.feat/tsplot/ps_tsplotc_zstat2_ev4p.png: skipping existing file\n",
      "fsl_course_data/fmri/ptt/at/at_left.feat/tsplot/ps_tsplot_zfstat1_ev6.txt\n",
      "tar: fsl_course_data/fmri/ptt/at/at_left.feat/tsplot/ps_tsplot_zfstat1_ev6.txt: skipping existing file\n",
      "fsl_course_data/fmri/ptt/at/at_left.feat/tsplot/ps_tsplot_zfstat1_ev1.txt\n",
      "tar: fsl_course_data/fmri/ptt/at/at_left.feat/tsplot/ps_tsplot_zfstat1_ev1.txt: skipping existing file\n",
      "fsl_course_data/fmri/ptt/at/at_left.feat/tsplot/tsplot_zfstat1.html\n",
      "tar: fsl_course_data/fmri/ptt/at/at_left.feat/tsplot/tsplot_zfstat1.html: skipping existing file\n",
      "fsl_course_data/fmri/ptt/at/at_left.feat/tsplot/ps_tsplotc_zstat3_ev1.txt\n",
      "tar: fsl_course_data/fmri/ptt/at/at_left.feat/tsplot/ps_tsplotc_zstat3_ev1.txt: skipping existing file\n",
      "fsl_course_data/fmri/ptt/at/at_left.feat/tsplot/ps_tsplotc_zstat4_ev5p.png\n",
      "tar: fsl_course_data/fmri/ptt/at/at_left.feat/tsplot/ps_tsplotc_zstat4_ev5p.png: skipping existing file\n",
      "fsl_course_data/fmri/ptt/at/at_left.feat/tsplot/ps_tsplot_zstat2_ev1.txt\n",
      "tar: fsl_course_data/fmri/ptt/at/at_left.feat/tsplot/ps_tsplot_zstat2_ev1.txt: skipping existing file\n",
      "fsl_course_data/fmri/ptt/at/at_left.feat/tsplot/ps_tsplot_zstat2_ev2p.png\n",
      "tar: fsl_course_data/fmri/ptt/at/at_left.feat/tsplot/ps_tsplot_zstat2_ev2p.png: skipping existing file\n",
      "fsl_course_data/fmri/ptt/at/at_left.feat/tsplot/tsplotc_zstat5p.png\n",
      "tar: fsl_course_data/fmri/ptt/at/at_left.feat/tsplot/tsplotc_zstat5p.png: skipping existing file\n",
      "fsl_course_data/fmri/ptt/at/at_left.feat/tsplot/ps_tsplot_zstat2_ev6.txt\n",
      "tar: fsl_course_data/fmri/ptt/at/at_left.feat/tsplot/ps_tsplot_zstat2_ev6.txt: skipping existing file\n",
      "fsl_course_data/fmri/ptt/at/at_left.feat/tsplot/tsplot_zstat1.txt\n",
      "tar: fsl_course_data/fmri/ptt/at/at_left.feat/tsplot/tsplot_zstat1.txt: skipping existing file\n",
      "fsl_course_data/fmri/ptt/at/at_left.feat/tsplot/tsplot_index\n",
      "tar: fsl_course_data/fmri/ptt/at/at_left.feat/tsplot/tsplot_index: skipping existing file\n",
      "fsl_course_data/fmri/ptt/at/at_left.feat/tsplot/ps_tsplotc_zstat4_ev3.txt\n",
      "tar: fsl_course_data/fmri/ptt/at/at_left.feat/tsplot/ps_tsplotc_zstat4_ev3.txt: skipping existing file\n",
      "fsl_course_data/fmri/ptt/at/at_left.feat/tsplot/ps_tsplot_zstat3_ev5.png\n",
      "tar: fsl_course_data/fmri/ptt/at/at_left.feat/tsplot/ps_tsplot_zstat3_ev5.png: skipping existing file\n",
      "fsl_course_data/fmri/ptt/at/at_left.feat/tsplot/ps_tsplot_zstat3_ev2.png\n",
      "tar: fsl_course_data/fmri/ptt/at/at_left.feat/tsplot/ps_tsplot_zstat3_ev2.png: skipping existing file\n",
      "fsl_course_data/fmri/ptt/at/at_left.feat/tsplot/tsplot_zfstat1.png\n",
      "tar: fsl_course_data/fmri/ptt/at/at_left.feat/tsplot/tsplot_zfstat1.png: skipping existing file\n",
      "fsl_course_data/fmri/ptt/at/at_left.feat/tsplot/ps_tsplotc_zstat4_ev4.txt\n",
      "tar: fsl_course_data/fmri/ptt/at/at_left.feat/tsplot/ps_tsplotc_zstat4_ev4.txt: skipping existing file\n",
      "fsl_course_data/fmri/ptt/at/at_left.feat/tsplot/ps_tsplot_zfstat1_ev5.png\n",
      "tar: fsl_course_data/fmri/ptt/at/at_left.feat/tsplot/ps_tsplot_zfstat1_ev5.png: skipping existing file\n",
      "fsl_course_data/fmri/ptt/at/at_left.feat/tsplot/ps_tsplot_zstat4_ev3.txt\n",
      "tar: fsl_course_data/fmri/ptt/at/at_left.feat/tsplot/ps_tsplot_zstat4_ev3.txt: skipping existing file\n",
      "fsl_course_data/fmri/ptt/at/at_left.feat/tsplot/ps_tsplotc_zstat3_ev5.png\n",
      "tar: fsl_course_data/fmri/ptt/at/at_left.feat/tsplot/ps_tsplotc_zstat3_ev5.png: skipping existing file\n",
      "fsl_course_data/fmri/ptt/at/at_left.feat/tsplot/ps_tsplotc_zstat3_ev2.png\n",
      "tar: fsl_course_data/fmri/ptt/at/at_left.feat/tsplot/ps_tsplotc_zstat3_ev2.png: skipping existing file\n",
      "fsl_course_data/fmri/ptt/at/at_left.feat/tsplot/ps_tsplot_zfstat1_ev2.png\n",
      "tar: fsl_course_data/fmri/ptt/at/at_left.feat/tsplot/ps_tsplot_zfstat1_ev2.png: skipping existing file\n",
      "fsl_course_data/fmri/ptt/at/at_left.feat/tsplot/ps_tsplot_zstat4_ev4.txt\n",
      "tar: fsl_course_data/fmri/ptt/at/at_left.feat/tsplot/ps_tsplot_zstat4_ev4.txt: skipping existing file\n",
      "fsl_course_data/fmri/ptt/at/at_left.feat/tsplot/tsplotc_zstat4.txt\n",
      "tar: fsl_course_data/fmri/ptt/at/at_left.feat/tsplot/tsplotc_zstat4.txt: skipping existing file\n",
      "fsl_course_data/fmri/ptt/at/at_left.feat/tsplot/ps_tsplot_zstat4_ev2p.png\n",
      "tar: fsl_course_data/fmri/ptt/at/at_left.feat/tsplot/ps_tsplot_zstat4_ev2p.png: skipping existing file\n",
      "fsl_course_data/fmri/ptt/at/at_left.feat/tsplot/ps_tsplotc_zstat2_ev1.txt\n",
      "tar: fsl_course_data/fmri/ptt/at/at_left.feat/tsplot/ps_tsplotc_zstat2_ev1.txt: skipping existing file\n",
      "fsl_course_data/fmri/ptt/at/at_left.feat/tsplot/ps_tsplotc_zstat2_ev5p.png\n",
      "tar: fsl_course_data/fmri/ptt/at/at_left.feat/tsplot/ps_tsplotc_zstat2_ev5p.png: skipping existing file\n",
      "fsl_course_data/fmri/ptt/at/at_left.feat/tsplot/ps_tsplotc_zstat2_ev6.txt\n",
      "tar: fsl_course_data/fmri/ptt/at/at_left.feat/tsplot/ps_tsplotc_zstat2_ev6.txt: skipping existing file\n",
      "fsl_course_data/fmri/ptt/at/at_left.feat/tsplot/tsplotc_zfstat1.txt\n",
      "tar: fsl_course_data/fmri/ptt/at/at_left.feat/tsplot/tsplotc_zfstat1.txt: skipping existing file\n",
      "fsl_course_data/fmri/ptt/at/at_left.feat/tsplot/tsplotc_zstat3.txt\n",
      "tar: fsl_course_data/fmri/ptt/at/at_left.feat/tsplot/tsplotc_zstat3.txt: skipping existing file\n",
      "fsl_course_data/fmri/ptt/at/at_left.feat/tsplot/ps_tsplot_zstat3_ev6.txt\n",
      "tar: fsl_course_data/fmri/ptt/at/at_left.feat/tsplot/ps_tsplot_zstat3_ev6.txt: skipping existing file\n",
      "fsl_course_data/fmri/ptt/at/at_left.feat/tsplot/ps_tsplotc_zstat4_ev4p.png\n",
      "tar: fsl_course_data/fmri/ptt/at/at_left.feat/tsplot/ps_tsplotc_zstat4_ev4p.png: skipping existing file\n",
      "fsl_course_data/fmri/ptt/at/at_left.feat/tsplot/tsplotc_zstat4p.png\n",
      "tar: fsl_course_data/fmri/ptt/at/at_left.feat/tsplot/tsplotc_zstat4p.png: skipping existing file\n",
      "fsl_course_data/fmri/ptt/at/at_left.feat/tsplot/ps_tsplot_zstat2_ev3p.png\n",
      "tar: fsl_course_data/fmri/ptt/at/at_left.feat/tsplot/ps_tsplot_zstat2_ev3p.png: skipping existing file\n",
      "fsl_course_data/fmri/ptt/at/at_left.feat/tsplot/tsplot_index.html\n",
      "tar: fsl_course_data/fmri/ptt/at/at_left.feat/tsplot/tsplot_index.html: skipping existing file\n",
      "fsl_course_data/fmri/ptt/at/at_left.feat/tsplot/ps_tsplot_zstat3_ev1.txt\n",
      "tar: fsl_course_data/fmri/ptt/at/at_left.feat/tsplot/ps_tsplot_zstat3_ev1.txt: skipping existing file\n",
      "fsl_course_data/fmri/ptt/at/at_left.feat/tsplot/ps_tsplotc_zstat1_ev4.txt\n",
      "tar: fsl_course_data/fmri/ptt/at/at_left.feat/tsplot/ps_tsplotc_zstat1_ev4.txt: skipping existing file\n",
      "fsl_course_data/fmri/ptt/at/at_left.feat/tsplot/ps_tsplot_zstat2_ev2.png\n",
      "tar: fsl_course_data/fmri/ptt/at/at_left.feat/tsplot/ps_tsplot_zstat2_ev2.png: skipping existing file\n",
      "fsl_course_data/fmri/ptt/at/at_left.feat/tsplot/ps_tsplotc_zfstat1_ev3.txt\n",
      "tar: fsl_course_data/fmri/ptt/at/at_left.feat/tsplot/ps_tsplotc_zfstat1_ev3.txt: skipping existing file\n",
      "fsl_course_data/fmri/ptt/at/at_left.feat/tsplot/ps_tsplotc_zstat5_ev4.txt\n",
      "tar: fsl_course_data/fmri/ptt/at/at_left.feat/tsplot/ps_tsplotc_zstat5_ev4.txt: skipping existing file\n",
      "fsl_course_data/fmri/ptt/at/at_left.feat/tsplot/tsplot_zstat5.png\n",
      "tar: fsl_course_data/fmri/ptt/at/at_left.feat/tsplot/tsplot_zstat5.png: skipping existing file\n",
      "fsl_course_data/fmri/ptt/at/at_left.feat/tsplot/ps_tsplotc_zfstat1_ev4.txt\n",
      "tar: fsl_course_data/fmri/ptt/at/at_left.feat/tsplot/ps_tsplotc_zfstat1_ev4.txt: skipping existing file\n",
      "fsl_course_data/fmri/ptt/at/at_left.feat/tsplot/ps_tsplotc_zstat5_ev3.txt\n",
      "tar: fsl_course_data/fmri/ptt/at/at_left.feat/tsplot/ps_tsplotc_zstat5_ev3.txt: skipping existing file\n",
      "fsl_course_data/fmri/ptt/at/at_left.feat/tsplot/ps_tsplot_zstat4_ev6p.png\n",
      "tar: fsl_course_data/fmri/ptt/at/at_left.feat/tsplot/ps_tsplot_zstat4_ev6p.png: skipping existing file\n",
      "fsl_course_data/fmri/ptt/at/at_left.feat/tsplot/tsplot_zstat2.png\n",
      "tar: fsl_course_data/fmri/ptt/at/at_left.feat/tsplot/tsplot_zstat2.png: skipping existing file\n",
      "fsl_course_data/fmri/ptt/at/at_left.feat/tsplot/ps_tsplotc_zstat1_ev3.txt\n",
      "tar: fsl_course_data/fmri/ptt/at/at_left.feat/tsplot/ps_tsplotc_zstat1_ev3.txt: skipping existing file\n",
      "fsl_course_data/fmri/ptt/at/at_left.feat/tsplot/ps_tsplot_zstat2_ev5.png\n",
      "tar: fsl_course_data/fmri/ptt/at/at_left.feat/tsplot/ps_tsplot_zstat2_ev5.png: skipping existing file\n",
      "fsl_course_data/fmri/ptt/at/at_left.feat/tsplot/ps_tsplotc_zstat2_ev1p.png\n",
      "tar: fsl_course_data/fmri/ptt/at/at_left.feat/tsplot/ps_tsplotc_zstat2_ev1p.png: skipping existing file\n",
      "fsl_course_data/fmri/ptt/at/at_left.feat/tsplot/ps_tsplot_zstat3_ev3.png\n",
      "tar: fsl_course_data/fmri/ptt/at/at_left.feat/tsplot/ps_tsplot_zstat3_ev3.png: skipping existing file\n",
      "fsl_course_data/fmri/ptt/at/at_left.feat/tsplot/ps_tsplot_zstat3_ev2p.png\n",
      "tar: fsl_course_data/fmri/ptt/at/at_left.feat/tsplot/ps_tsplot_zstat3_ev2p.png: skipping existing file\n",
      "fsl_course_data/fmri/ptt/at/at_left.feat/tsplot/ps_tsplotc_zstat5_ev5p.png\n",
      "tar: fsl_course_data/fmri/ptt/at/at_left.feat/tsplot/ps_tsplotc_zstat5_ev5p.png: skipping existing file\n",
      "fsl_course_data/fmri/ptt/at/at_left.feat/tsplot/ps_tsplotc_zstat4_ev5.txt\n",
      "tar: fsl_course_data/fmri/ptt/at/at_left.feat/tsplot/ps_tsplotc_zstat4_ev5.txt: skipping existing file\n",
      "fsl_course_data/fmri/ptt/at/at_left.feat/tsplot/tsplot_zstat5.html\n",
      "tar: fsl_course_data/fmri/ptt/at/at_left.feat/tsplot/tsplot_zstat5.html: skipping existing file\n",
      "fsl_course_data/fmri/ptt/at/at_left.feat/tsplot/ps_tsplotc_zstat4_ev2.txt\n",
      "tar: fsl_course_data/fmri/ptt/at/at_left.feat/tsplot/ps_tsplotc_zstat4_ev2.txt: skipping existing file\n",
      "fsl_course_data/fmri/ptt/at/at_left.feat/tsplot/ps_tsplot_zstat1_ev1p.png\n",
      "tar: fsl_course_data/fmri/ptt/at/at_left.feat/tsplot/ps_tsplot_zstat1_ev1p.png: skipping existing file\n",
      "fsl_course_data/fmri/ptt/at/at_left.feat/tsplot/ps_tsplot_zstat3_ev4.png\n",
      "tar: fsl_course_data/fmri/ptt/at/at_left.feat/tsplot/ps_tsplot_zstat3_ev4.png: skipping existing file\n",
      "fsl_course_data/fmri/ptt/at/at_left.feat/tsplot/ps_tsplot_zfstat1_ev2p.png\n",
      "tar: fsl_course_data/fmri/ptt/at/at_left.feat/tsplot/ps_tsplot_zfstat1_ev2p.png: skipping existing file\n",
      "fsl_course_data/fmri/ptt/at/at_left.feat/tsplot/ps_tsplotc_zfstat1_ev3p.png\n",
      "tar: fsl_course_data/fmri/ptt/at/at_left.feat/tsplot/ps_tsplotc_zfstat1_ev3p.png: skipping existing file\n",
      "fsl_course_data/fmri/ptt/at/at_left.feat/tsplot/ps_tsplotc_zstat1_ev3p.png\n",
      "tar: fsl_course_data/fmri/ptt/at/at_left.feat/tsplot/ps_tsplotc_zstat1_ev3p.png: skipping existing file\n",
      "fsl_course_data/fmri/ptt/at/at_left.feat/tsplot/ps_tsplotc_zstat1_ev1.png\n",
      "tar: fsl_course_data/fmri/ptt/at/at_left.feat/tsplot/ps_tsplotc_zstat1_ev1.png: skipping existing file\n",
      "fsl_course_data/fmri/ptt/at/at_left.feat/tsplot/ps_tsplotc_zfstat1_ev6.png\n",
      "tar: fsl_course_data/fmri/ptt/at/at_left.feat/tsplot/ps_tsplotc_zfstat1_ev6.png: skipping existing file\n",
      "fsl_course_data/fmri/ptt/at/at_left.feat/tsplot/ps_tsplotc_zstat5_ev1.png\n",
      "tar: fsl_course_data/fmri/ptt/at/at_left.feat/tsplot/ps_tsplotc_zstat5_ev1.png: skipping existing file\n",
      "fsl_course_data/fmri/ptt/at/at_left.feat/tsplot/ps_tsplotc_zfstat1_ev1.png\n",
      "tar: fsl_course_data/fmri/ptt/at/at_left.feat/tsplot/ps_tsplotc_zfstat1_ev1.png: skipping existing file\n",
      "fsl_course_data/fmri/ptt/at/at_left.feat/tsplot/ps_tsplotc_zstat5_ev6.png\n",
      "tar: fsl_course_data/fmri/ptt/at/at_left.feat/tsplot/ps_tsplotc_zstat5_ev6.png: skipping existing file\n",
      "fsl_course_data/fmri/ptt/at/at_left.feat/tsplot/ps_tsplotc_zstat1_ev6.png\n",
      "tar: fsl_course_data/fmri/ptt/at/at_left.feat/tsplot/ps_tsplotc_zstat1_ev6.png: skipping existing file\n",
      "fsl_course_data/fmri/ptt/at/at_left.feat/tsplot/tsplot_zstat1.html\n",
      "tar: fsl_course_data/fmri/ptt/at/at_left.feat/tsplot/tsplot_zstat1.html: skipping existing file\n",
      "fsl_course_data/fmri/ptt/at/at_left.feat/tsplot/ps_tsplot_zstat4_ev6.png\n",
      "tar: fsl_course_data/fmri/ptt/at/at_left.feat/tsplot/ps_tsplot_zstat4_ev6.png: skipping existing file\n",
      "fsl_course_data/fmri/ptt/at/at_left.feat/tsplot/ps_tsplot_zstat1_ev5p.png\n",
      "tar: fsl_course_data/fmri/ptt/at/at_left.feat/tsplot/ps_tsplot_zstat1_ev5p.png: skipping existing file\n",
      "fsl_course_data/fmri/ptt/at/at_left.feat/tsplot/ps_tsplot_zfstat1_ev6p.png\n",
      "tar: fsl_course_data/fmri/ptt/at/at_left.feat/tsplot/ps_tsplot_zfstat1_ev6p.png: skipping existing file\n",
      "fsl_course_data/fmri/ptt/at/at_left.feat/tsplot/ps_tsplot_zstat3_ev6p.png\n",
      "tar: fsl_course_data/fmri/ptt/at/at_left.feat/tsplot/ps_tsplot_zstat3_ev6p.png: skipping existing file\n",
      "fsl_course_data/fmri/ptt/at/at_left.feat/tsplot/ps_tsplotc_zstat5_ev1p.png\n",
      "tar: fsl_course_data/fmri/ptt/at/at_left.feat/tsplot/ps_tsplotc_zstat5_ev1p.png: skipping existing file\n",
      "fsl_course_data/fmri/ptt/at/at_left.feat/tsplot/ps_tsplot_zstat4_ev1.png\n",
      "tar: fsl_course_data/fmri/ptt/at/at_left.feat/tsplot/ps_tsplot_zstat4_ev1.png: skipping existing file\n",
      "fsl_course_data/fmri/ptt/at/at_left.feat/tsplot/tsplot_zstat2p.png\n",
      "tar: fsl_course_data/fmri/ptt/at/at_left.feat/tsplot/tsplot_zstat2p.png: skipping existing file\n",
      "fsl_course_data/fmri/ptt/at/at_left.feat/tsplot/tsplotc_zstat1.png\n",
      "tar: fsl_course_data/fmri/ptt/at/at_left.feat/tsplot/tsplotc_zstat1.png: skipping existing file\n",
      "fsl_course_data/fmri/ptt/at/at_left.feat/tsplot/ps_tsplotc_zstat3_ev4p.png\n",
      "tar: fsl_course_data/fmri/ptt/at/at_left.feat/tsplot/ps_tsplotc_zstat3_ev4p.png: skipping existing file\n",
      "fsl_course_data/fmri/ptt/at/at_left.feat/tsplot/ps_tsplot_zstat5_ev2.txt\n",
      "tar: fsl_course_data/fmri/ptt/at/at_left.feat/tsplot/ps_tsplot_zstat5_ev2.txt: skipping existing file\n",
      "fsl_course_data/fmri/ptt/at/at_left.feat/tsplot/ps_tsplotc_zstat2_ev4.png\n",
      "tar: fsl_course_data/fmri/ptt/at/at_left.feat/tsplot/ps_tsplotc_zstat2_ev4.png: skipping existing file\n",
      "fsl_course_data/fmri/ptt/at/at_left.feat/tsplot/ps_tsplot_zstat1_ev2.txt\n",
      "tar: fsl_course_data/fmri/ptt/at/at_left.feat/tsplot/ps_tsplot_zstat1_ev2.txt: skipping existing file\n",
      "fsl_course_data/fmri/ptt/at/at_left.feat/tsplot/ps_tsplot_zstat5_ev3p.png\n",
      "tar: fsl_course_data/fmri/ptt/at/at_left.feat/tsplot/ps_tsplot_zstat5_ev3p.png: skipping existing file\n",
      "fsl_course_data/fmri/ptt/at/at_left.feat/tsplot/ps_tsplotc_zstat2_ev3.png\n",
      "tar: fsl_course_data/fmri/ptt/at/at_left.feat/tsplot/ps_tsplotc_zstat2_ev3.png: skipping existing file\n",
      "fsl_course_data/fmri/ptt/at/at_left.feat/tsplot/ps_tsplot_zstat1_ev5.txt\n",
      "tar: fsl_course_data/fmri/ptt/at/at_left.feat/tsplot/ps_tsplot_zstat1_ev5.txt: skipping existing file\n",
      "fsl_course_data/fmri/ptt/at/at_left.feat/tsplot/ps_tsplot_zstat5_ev5.txt\n",
      "tar: fsl_course_data/fmri/ptt/at/at_left.feat/tsplot/ps_tsplot_zstat5_ev5.txt: skipping existing file\n",
      "fsl_course_data/fmri/ptt/at/at_left.feat/tsplot/ps_tsplotc_zstat4_ev1.txt\n",
      "tar: fsl_course_data/fmri/ptt/at/at_left.feat/tsplot/ps_tsplotc_zstat4_ev1.txt: skipping existing file\n",
      "fsl_course_data/fmri/ptt/at/at_left.feat/tsplot/ps_tsplot_zstat2_ev5p.png\n",
      "tar: fsl_course_data/fmri/ptt/at/at_left.feat/tsplot/ps_tsplot_zstat2_ev5p.png: skipping existing file\n",
      "fsl_course_data/fmri/ptt/at/at_left.feat/tsplot/tsplotc_zstat2p.png\n",
      "tar: fsl_course_data/fmri/ptt/at/at_left.feat/tsplot/tsplotc_zstat2p.png: skipping existing file\n",
      "fsl_course_data/fmri/ptt/at/at_left.feat/tsplot/ps_tsplotc_zstat4_ev6.txt\n",
      "tar: fsl_course_data/fmri/ptt/at/at_left.feat/tsplot/ps_tsplotc_zstat4_ev6.txt: skipping existing file\n",
      "fsl_course_data/fmri/ptt/at/at_left.feat/tsplot/ps_tsplotc_zstat4_ev2p.png\n",
      "tar: fsl_course_data/fmri/ptt/at/at_left.feat/tsplot/ps_tsplotc_zstat4_ev2p.png: skipping existing file\n",
      "fsl_course_data/fmri/ptt/at/at_left.feat/tsplot/tsplot_zstat4.txt\n",
      "tar: fsl_course_data/fmri/ptt/at/at_left.feat/tsplot/tsplot_zstat4.txt: skipping existing file\n",
      "fsl_course_data/fmri/ptt/at/at_left.feat/tsplot/ps_tsplotc_zstat5_ev5.png\n",
      "tar: fsl_course_data/fmri/ptt/at/at_left.feat/tsplot/ps_tsplotc_zstat5_ev5.png: skipping existing file\n",
      "fsl_course_data/fmri/ptt/at/at_left.feat/tsplot/ps_tsplotc_zfstat1_ev2.png\n",
      "tar: fsl_course_data/fmri/ptt/at/at_left.feat/tsplot/ps_tsplotc_zfstat1_ev2.png: skipping existing file\n",
      "fsl_course_data/fmri/ptt/at/at_left.feat/tsplot/ps_tsplot_zstat2_ev3.txt\n",
      "tar: fsl_course_data/fmri/ptt/at/at_left.feat/tsplot/ps_tsplot_zstat2_ev3.txt: skipping existing file\n",
      "fsl_course_data/fmri/ptt/at/at_left.feat/tsplot/ps_tsplotc_zstat1_ev5.png\n",
      "tar: fsl_course_data/fmri/ptt/at/at_left.feat/tsplot/ps_tsplotc_zstat1_ev5.png: skipping existing file\n",
      "fsl_course_data/fmri/ptt/at/at_left.feat/tsplot/ps_tsplot_zstat2_ev4.txt\n",
      "tar: fsl_course_data/fmri/ptt/at/at_left.feat/tsplot/ps_tsplot_zstat2_ev4.txt: skipping existing file\n",
      "fsl_course_data/fmri/ptt/at/at_left.feat/tsplot/ps_tsplotc_zstat1_ev2.png\n",
      "tar: fsl_course_data/fmri/ptt/at/at_left.feat/tsplot/ps_tsplotc_zstat1_ev2.png: skipping existing file\n",
      "fsl_course_data/fmri/ptt/at/at_left.feat/tsplot/tsplot_zstat3.txt\n",
      "tar: fsl_course_data/fmri/ptt/at/at_left.feat/tsplot/tsplot_zstat3.txt: skipping existing file\n",
      "fsl_course_data/fmri/ptt/at/at_left.feat/tsplot/ps_tsplotc_zstat5_ev2.png\n",
      "tar: fsl_course_data/fmri/ptt/at/at_left.feat/tsplot/ps_tsplotc_zstat5_ev2.png: skipping existing file\n",
      "fsl_course_data/fmri/ptt/at/at_left.feat/tsplot/ps_tsplotc_zfstat1_ev5.png\n",
      "tar: fsl_course_data/fmri/ptt/at/at_left.feat/tsplot/ps_tsplotc_zfstat1_ev5.png: skipping existing file\n",
      "fsl_course_data/fmri/ptt/at/at_left.feat/tsplot/ps_tsplotc_zstat3_ev4.txt\n",
      "tar: fsl_course_data/fmri/ptt/at/at_left.feat/tsplot/ps_tsplotc_zstat3_ev4.txt: skipping existing file\n",
      "fsl_course_data/fmri/ptt/at/at_left.feat/tsplot/ps_tsplot_zstat2_ev1p.png\n",
      "tar: fsl_course_data/fmri/ptt/at/at_left.feat/tsplot/ps_tsplot_zstat2_ev1p.png: skipping existing file\n",
      "fsl_course_data/fmri/ptt/at/at_left.feat/tsplot/ps_tsplot_zstat4_ev2.png\n",
      "tar: fsl_course_data/fmri/ptt/at/at_left.feat/tsplot/ps_tsplot_zstat4_ev2.png: skipping existing file\n",
      "fsl_course_data/fmri/ptt/at/at_left.feat/tsplot/ps_tsplotc_zstat4_ev6p.png\n",
      "tar: fsl_course_data/fmri/ptt/at/at_left.feat/tsplot/ps_tsplotc_zstat4_ev6p.png: skipping existing file\n",
      "fsl_course_data/fmri/ptt/at/at_left.feat/tsplot/ps_tsplot_zfstat1_ev4.txt\n",
      "tar: fsl_course_data/fmri/ptt/at/at_left.feat/tsplot/ps_tsplot_zfstat1_ev4.txt: skipping existing file\n",
      "fsl_course_data/fmri/ptt/at/at_left.feat/tsplot/ps_tsplot_zstat4_ev5.png\n",
      "tar: fsl_course_data/fmri/ptt/at/at_left.feat/tsplot/ps_tsplot_zstat4_ev5.png: skipping existing file\n",
      "fsl_course_data/fmri/ptt/at/at_left.feat/tsplot/ps_tsplot_zfstat1_ev3.txt\n",
      "tar: fsl_course_data/fmri/ptt/at/at_left.feat/tsplot/ps_tsplot_zfstat1_ev3.txt: skipping existing file\n",
      "fsl_course_data/fmri/ptt/at/at_left.feat/tsplot/ps_tsplotc_zstat3_ev3.txt\n",
      "tar: fsl_course_data/fmri/ptt/at/at_left.feat/tsplot/ps_tsplotc_zstat3_ev3.txt: skipping existing file\n",
      "fsl_course_data/fmri/ptt/at/at_left.feat/tsplot/ps_tsplot_zstat1_ev6.txt\n",
      "tar: fsl_course_data/fmri/ptt/at/at_left.feat/tsplot/ps_tsplot_zstat1_ev6.txt: skipping existing file\n",
      "fsl_course_data/fmri/ptt/at/at_left.feat/tsplot/tsplotc_zstat5.png\n",
      "tar: fsl_course_data/fmri/ptt/at/at_left.feat/tsplot/tsplotc_zstat5.png: skipping existing file\n",
      "fsl_course_data/fmri/ptt/at/at_left.feat/tsplot/ps_tsplot_zstat5_ev6.txt\n",
      "tar: fsl_course_data/fmri/ptt/at/at_left.feat/tsplot/ps_tsplot_zstat5_ev6.txt: skipping existing file\n",
      "fsl_course_data/fmri/ptt/at/at_left.feat/tsplot/ps_tsplotc_zstat2_ev3p.png\n",
      "tar: fsl_course_data/fmri/ptt/at/at_left.feat/tsplot/ps_tsplotc_zstat2_ev3p.png: skipping existing file\n",
      "fsl_course_data/fmri/ptt/at/at_left.feat/tsplot/tsplotc_zstat2.png\n",
      "tar: fsl_course_data/fmri/ptt/at/at_left.feat/tsplot/tsplotc_zstat2.png: skipping existing file\n",
      "fsl_course_data/fmri/ptt/at/at_left.feat/tsplot/ps_tsplot_zstat5_ev1.txt\n",
      "tar: fsl_course_data/fmri/ptt/at/at_left.feat/tsplot/ps_tsplot_zstat5_ev1.txt: skipping existing file\n",
      "fsl_course_data/fmri/ptt/at/at_left.feat/tsplot/ps_tsplot_zstat4_ev4p.png\n",
      "tar: fsl_course_data/fmri/ptt/at/at_left.feat/tsplot/ps_tsplot_zstat4_ev4p.png: skipping existing file\n",
      "fsl_course_data/fmri/ptt/at/at_left.feat/tsplot/ps_tsplot_zstat1_ev1.txt\n",
      "tar: fsl_course_data/fmri/ptt/at/at_left.feat/tsplot/ps_tsplot_zstat1_ev1.txt: skipping existing file\n",
      "fsl_course_data/fmri/ptt/at/at_left.feat/tsplot/ps_tsplotc_zstat3_ev1.png\n",
      "tar: fsl_course_data/fmri/ptt/at/at_left.feat/tsplot/ps_tsplotc_zstat3_ev1.png: skipping existing file\n",
      "fsl_course_data/fmri/ptt/at/at_left.feat/tsplot/ps_tsplot_zfstat1_ev1.png\n",
      "tar: fsl_course_data/fmri/ptt/at/at_left.feat/tsplot/ps_tsplot_zfstat1_ev1.png: skipping existing file\n",
      "fsl_course_data/fmri/ptt/at/at_left.feat/tsplot/ps_tsplotc_zfstat1_ev1p.png\n",
      "tar: fsl_course_data/fmri/ptt/at/at_left.feat/tsplot/ps_tsplotc_zfstat1_ev1p.png: skipping existing file\n",
      "fsl_course_data/fmri/ptt/at/at_left.feat/tsplot/ps_tsplot_zfstat1_ev6.png\n",
      "tar: fsl_course_data/fmri/ptt/at/at_left.feat/tsplot/ps_tsplot_zfstat1_ev6.png: skipping existing file\n",
      "fsl_course_data/fmri/ptt/at/at_left.feat/tsplot/ps_tsplotc_zstat3_ev6.png\n",
      "tar: fsl_course_data/fmri/ptt/at/at_left.feat/tsplot/ps_tsplotc_zstat3_ev6.png: skipping existing file\n",
      "fsl_course_data/fmri/ptt/at/at_left.feat/tsplot/ps_tsplot_zstat1_ev3p.png\n",
      "tar: fsl_course_data/fmri/ptt/at/at_left.feat/tsplot/ps_tsplot_zstat1_ev3p.png: skipping existing file\n",
      "fsl_course_data/fmri/ptt/at/at_left.feat/tsplot/ps_tsplot_zstat1_ev3.png\n",
      "tar: fsl_course_data/fmri/ptt/at/at_left.feat/tsplot/ps_tsplot_zstat1_ev3.png: skipping existing file\n",
      "fsl_course_data/fmri/ptt/at/at_left.feat/tsplot/ps_tsplotc_zstat2_ev5.txt\n",
      "tar: fsl_course_data/fmri/ptt/at/at_left.feat/tsplot/ps_tsplotc_zstat2_ev5.txt: skipping existing file\n",
      "fsl_course_data/fmri/ptt/at/at_left.feat/tsplot/ps_tsplot_zstat5_ev3.png\n",
      "tar: fsl_course_data/fmri/ptt/at/at_left.feat/tsplot/ps_tsplot_zstat5_ev3.png: skipping existing file\n",
      "fsl_course_data/fmri/ptt/at/at_left.feat/tsplot/ps_tsplotc_zstat1_ev1p.png\n",
      "tar: fsl_course_data/fmri/ptt/at/at_left.feat/tsplot/ps_tsplotc_zstat1_ev1p.png: skipping existing file\n",
      "fsl_course_data/fmri/ptt/at/at_left.feat/tsplot/ps_tsplot_zstat5_ev5p.png\n",
      "tar: fsl_course_data/fmri/ptt/at/at_left.feat/tsplot/ps_tsplot_zstat5_ev5p.png: skipping existing file\n",
      "fsl_course_data/fmri/ptt/at/at_left.feat/tsplot/ps_tsplot_zstat5_ev4.png\n",
      "tar: fsl_course_data/fmri/ptt/at/at_left.feat/tsplot/ps_tsplot_zstat5_ev4.png: skipping existing file\n",
      "fsl_course_data/fmri/ptt/at/at_left.feat/tsplot/ps_tsplotc_zstat3_ev2p.png\n",
      "tar: fsl_course_data/fmri/ptt/at/at_left.feat/tsplot/ps_tsplotc_zstat3_ev2p.png: skipping existing file\n",
      "fsl_course_data/fmri/ptt/at/at_left.feat/tsplot/ps_tsplot_zstat1_ev4.png\n",
      "tar: fsl_course_data/fmri/ptt/at/at_left.feat/tsplot/ps_tsplot_zstat1_ev4.png: skipping existing file\n",
      "fsl_course_data/fmri/ptt/at/at_left.feat/tsplot/ps_tsplotc_zstat2_ev2.txt\n",
      "tar: fsl_course_data/fmri/ptt/at/at_left.feat/tsplot/ps_tsplotc_zstat2_ev2.txt: skipping existing file\n",
      "fsl_course_data/fmri/ptt/at/at_left.feat/tsplot/tsplot_zstat4p.png\n",
      "tar: fsl_course_data/fmri/ptt/at/at_left.feat/tsplot/tsplot_zstat4p.png: skipping existing file\n",
      "fsl_course_data/fmri/ptt/at/at_left.feat/tsplot/ps_tsplotc_zfstat1_ev5p.png\n",
      "tar: fsl_course_data/fmri/ptt/at/at_left.feat/tsplot/ps_tsplotc_zfstat1_ev5p.png: skipping existing file\n",
      "fsl_course_data/fmri/ptt/at/at_left.feat/tsplot/ps_tsplot_zfstat1_ev4p.png\n",
      "tar: fsl_course_data/fmri/ptt/at/at_left.feat/tsplot/ps_tsplot_zfstat1_ev4p.png: skipping existing file\n",
      "fsl_course_data/fmri/ptt/at/at_left.feat/tsplot/ps_tsplotc_zstat4_ev4.png\n",
      "tar: fsl_course_data/fmri/ptt/at/at_left.feat/tsplot/ps_tsplotc_zstat4_ev4.png: skipping existing file\n",
      "fsl_course_data/fmri/ptt/at/at_left.feat/tsplot/ps_tsplot_zstat3_ev2.txt\n",
      "tar: fsl_course_data/fmri/ptt/at/at_left.feat/tsplot/ps_tsplot_zstat3_ev2.txt: skipping existing file\n",
      "fsl_course_data/fmri/ptt/at/at_left.feat/tsplot/tsplot_zstat3.html\n",
      "tar: fsl_course_data/fmri/ptt/at/at_left.feat/tsplot/tsplot_zstat3.html: skipping existing file\n",
      "fsl_course_data/fmri/ptt/at/at_left.feat/tsplot/tsplot_zfstat1.txt\n",
      "tar: fsl_course_data/fmri/ptt/at/at_left.feat/tsplot/tsplot_zfstat1.txt: skipping existing file\n",
      "fsl_course_data/fmri/ptt/at/at_left.feat/tsplot/ps_tsplot_zstat3_ev5.txt\n",
      "tar: fsl_course_data/fmri/ptt/at/at_left.feat/tsplot/ps_tsplot_zstat3_ev5.txt: skipping existing file\n",
      "fsl_course_data/fmri/ptt/at/at_left.feat/tsplot/ps_tsplotc_zstat5_ev3p.png\n",
      "tar: fsl_course_data/fmri/ptt/at/at_left.feat/tsplot/ps_tsplotc_zstat5_ev3p.png: skipping existing file\n",
      "fsl_course_data/fmri/ptt/at/at_left.feat/tsplot/ps_tsplot_zstat3_ev4p.png\n",
      "tar: fsl_course_data/fmri/ptt/at/at_left.feat/tsplot/ps_tsplot_zstat3_ev4p.png: skipping existing file\n",
      "fsl_course_data/fmri/ptt/at/at_left.feat/tsplot/ps_tsplotc_zstat4_ev3.png\n",
      "tar: fsl_course_data/fmri/ptt/at/at_left.feat/tsplot/ps_tsplotc_zstat4_ev3.png: skipping existing file\n",
      "fsl_course_data/fmri/ptt/at/at_left.feat/tsplot/ps_tsplot_zstat5_ev1p.png\n",
      "tar: fsl_course_data/fmri/ptt/at/at_left.feat/tsplot/ps_tsplot_zstat5_ev1p.png: skipping existing file\n",
      "fsl_course_data/fmri/ptt/at/at_left.feat/tsplot/tsplot_zstat1.png\n",
      "tar: fsl_course_data/fmri/ptt/at/at_left.feat/tsplot/tsplot_zstat1.png: skipping existing file\n",
      "fsl_course_data/fmri/ptt/at/at_left.feat/tsplot/ps_tsplot_zstat2_ev6.png\n",
      "tar: fsl_course_data/fmri/ptt/at/at_left.feat/tsplot/ps_tsplot_zstat2_ev6.png: skipping existing file\n",
      "fsl_course_data/fmri/ptt/at/at_left.feat/tsplot/ps_tsplotc_zstat3_ev6p.png\n",
      "tar: fsl_course_data/fmri/ptt/at/at_left.feat/tsplot/ps_tsplotc_zstat3_ev6p.png: skipping existing file\n",
      "fsl_course_data/fmri/ptt/at/at_left.feat/tsplot/ps_tsplot_zstat2_ev1.png\n",
      "tar: fsl_course_data/fmri/ptt/at/at_left.feat/tsplot/ps_tsplot_zstat2_ev1.png: skipping existing file\n",
      "fsl_course_data/fmri/ptt/at/at_left.feat/tsplot/ps_tsplotc_zstat1_ev5p.png\n",
      "tar: fsl_course_data/fmri/ptt/at/at_left.feat/tsplot/ps_tsplotc_zstat1_ev5p.png: skipping existing file\n",
      "fsl_course_data/fmri/ptt/at/at_left.feat/tsplot/ps_tsplotc_zstat5_ev6p.png\n",
      "tar: fsl_course_data/fmri/ptt/at/at_left.feat/tsplot/ps_tsplotc_zstat5_ev6p.png: skipping existing file\n",
      "fsl_course_data/fmri/ptt/at/at_left.feat/tsplot/tsplotc_zstat3.png\n",
      "tar: fsl_course_data/fmri/ptt/at/at_left.feat/tsplot/tsplotc_zstat3.png: skipping existing file\n",
      "fsl_course_data/fmri/ptt/at/at_left.feat/tsplot/tsplotc_zfstat1.png\n",
      "tar: fsl_course_data/fmri/ptt/at/at_left.feat/tsplot/tsplotc_zfstat1.png: skipping existing file\n",
      "fsl_course_data/fmri/ptt/at/at_left.feat/tsplot/ps_tsplotc_zstat2_ev6.png\n",
      "tar: fsl_course_data/fmri/ptt/at/at_left.feat/tsplot/ps_tsplotc_zstat2_ev6.png: skipping existing file\n",
      "fsl_course_data/fmri/ptt/at/at_left.feat/tsplot/ps_tsplot_zstat3_ev1p.png\n",
      "tar: fsl_course_data/fmri/ptt/at/at_left.feat/tsplot/ps_tsplot_zstat3_ev1p.png: skipping existing file\n",
      "fsl_course_data/fmri/ptt/at/at_left.feat/tsplot/ps_tsplotc_zstat2_ev1.png\n",
      "tar: fsl_course_data/fmri/ptt/at/at_left.feat/tsplot/ps_tsplotc_zstat2_ev1.png: skipping existing file\n",
      "fsl_course_data/fmri/ptt/at/at_left.feat/tsplot/ps_tsplot_zfstat1_ev1p.png\n",
      "tar: fsl_course_data/fmri/ptt/at/at_left.feat/tsplot/ps_tsplot_zfstat1_ev1p.png: skipping existing file\n",
      "fsl_course_data/fmri/ptt/at/at_left.feat/tsplot/tsplotc_zstat4.png\n",
      "tar: fsl_course_data/fmri/ptt/at/at_left.feat/tsplot/tsplotc_zstat4.png: skipping existing file\n",
      "fsl_course_data/fmri/ptt/at/at_left.feat/tsplot/ps_tsplot_zstat1_ev2p.png\n",
      "tar: fsl_course_data/fmri/ptt/at/at_left.feat/tsplot/ps_tsplot_zstat1_ev2p.png: skipping existing file\n",
      "fsl_course_data/fmri/ptt/at/at_left.feat/tsplot/ps_tsplot_zstat4_ev4.png\n",
      "tar: fsl_course_data/fmri/ptt/at/at_left.feat/tsplot/ps_tsplot_zstat4_ev4.png: skipping existing file\n",
      "fsl_course_data/fmri/ptt/at/at_left.feat/tsplot/ps_tsplot_zfstat1_ev2.txt\n",
      "tar: fsl_course_data/fmri/ptt/at/at_left.feat/tsplot/ps_tsplot_zfstat1_ev2.txt: skipping existing file\n",
      "fsl_course_data/fmri/ptt/at/at_left.feat/tsplot/ps_tsplotc_zstat3_ev2.txt\n",
      "tar: fsl_course_data/fmri/ptt/at/at_left.feat/tsplot/ps_tsplotc_zstat3_ev2.txt: skipping existing file\n",
      "fsl_course_data/fmri/ptt/at/at_left.feat/tsplot/ps_tsplotc_zstat3_ev5.txt\n",
      "tar: fsl_course_data/fmri/ptt/at/at_left.feat/tsplot/ps_tsplotc_zstat3_ev5.txt: skipping existing file\n",
      "fsl_course_data/fmri/ptt/at/at_left.feat/tsplot/ps_tsplot_zstat5_ev4p.png\n",
      "tar: fsl_course_data/fmri/ptt/at/at_left.feat/tsplot/ps_tsplot_zstat5_ev4p.png: skipping existing file\n",
      "fsl_course_data/fmri/ptt/at/at_left.feat/tsplot/tsplot_zstat5p.png\n",
      "tar: fsl_course_data/fmri/ptt/at/at_left.feat/tsplot/tsplot_zstat5p.png: skipping existing file\n",
      "fsl_course_data/fmri/ptt/at/at_left.feat/tsplot/ps_tsplot_zstat4_ev3.png\n",
      "tar: fsl_course_data/fmri/ptt/at/at_left.feat/tsplot/ps_tsplot_zstat4_ev3.png: skipping existing file\n",
      "fsl_course_data/fmri/ptt/at/at_left.feat/tsplot/ps_tsplotc_zstat3_ev3p.png\n",
      "tar: fsl_course_data/fmri/ptt/at/at_left.feat/tsplot/ps_tsplotc_zstat3_ev3p.png: skipping existing file\n",
      "fsl_course_data/fmri/ptt/at/at_left.feat/tsplot/ps_tsplot_zfstat1_ev5.txt\n",
      "tar: fsl_course_data/fmri/ptt/at/at_left.feat/tsplot/ps_tsplot_zfstat1_ev5.txt: skipping existing file\n",
      "fsl_course_data/fmri/ptt/at/at_left.feat/tsplot/ps_tsplot_zstat2_ev5.txt\n",
      "tar: fsl_course_data/fmri/ptt/at/at_left.feat/tsplot/ps_tsplot_zstat2_ev5.txt: skipping existing file\n",
      "fsl_course_data/fmri/ptt/at/at_left.feat/tsplot/ps_tsplot_zfstat1_ev5p.png\n",
      "tar: fsl_course_data/fmri/ptt/at/at_left.feat/tsplot/ps_tsplot_zfstat1_ev5p.png: skipping existing file\n",
      "fsl_course_data/fmri/ptt/at/at_left.feat/tsplot/ps_tsplotc_zstat1_ev3.png\n",
      "tar: fsl_course_data/fmri/ptt/at/at_left.feat/tsplot/ps_tsplotc_zstat1_ev3.png: skipping existing file\n",
      "fsl_course_data/fmri/ptt/at/at_left.feat/tsplot/ps_tsplotc_zfstat1_ev4p.png\n",
      "tar: fsl_course_data/fmri/ptt/at/at_left.feat/tsplot/ps_tsplotc_zfstat1_ev4p.png: skipping existing file\n",
      "fsl_course_data/fmri/ptt/at/at_left.feat/tsplot/tsplot_zstat2.html\n",
      "tar: fsl_course_data/fmri/ptt/at/at_left.feat/tsplot/tsplot_zstat2.html: skipping existing file\n",
      "fsl_course_data/fmri/ptt/at/at_left.feat/tsplot/tsplot_zstat2.txt\n",
      "tar: fsl_course_data/fmri/ptt/at/at_left.feat/tsplot/tsplot_zstat2.txt: skipping existing file\n",
      "fsl_course_data/fmri/ptt/at/at_left.feat/tsplot/ps_tsplotc_zstat5_ev3.png\n",
      "tar: fsl_course_data/fmri/ptt/at/at_left.feat/tsplot/ps_tsplotc_zstat5_ev3.png: skipping existing file\n",
      "fsl_course_data/fmri/ptt/at/at_left.feat/tsplot/ps_tsplot_zstat1_ev6p.png\n",
      "tar: fsl_course_data/fmri/ptt/at/at_left.feat/tsplot/ps_tsplot_zstat1_ev6p.png: skipping existing file\n",
      "fsl_course_data/fmri/ptt/at/at_left.feat/tsplot/ps_tsplotc_zfstat1_ev4.png\n",
      "tar: fsl_course_data/fmri/ptt/at/at_left.feat/tsplot/ps_tsplotc_zfstat1_ev4.png: skipping existing file\n",
      "fsl_course_data/fmri/ptt/at/at_left.feat/tsplot/ps_tsplotc_zstat5_ev2p.png\n",
      "tar: fsl_course_data/fmri/ptt/at/at_left.feat/tsplot/ps_tsplotc_zstat5_ev2p.png: skipping existing file\n",
      "fsl_course_data/fmri/ptt/at/at_left.feat/tsplot/tsplot_zstat5.txt\n",
      "tar: fsl_course_data/fmri/ptt/at/at_left.feat/tsplot/tsplot_zstat5.txt: skipping existing file\n",
      "fsl_course_data/fmri/ptt/at/at_left.feat/tsplot/ps_tsplotc_zstat5_ev4.png\n",
      "tar: fsl_course_data/fmri/ptt/at/at_left.feat/tsplot/ps_tsplotc_zstat5_ev4.png: skipping existing file\n",
      "fsl_course_data/fmri/ptt/at/at_left.feat/tsplot/ps_tsplotc_zfstat1_ev3.png\n",
      "tar: fsl_course_data/fmri/ptt/at/at_left.feat/tsplot/ps_tsplotc_zfstat1_ev3.png: skipping existing file\n",
      "fsl_course_data/fmri/ptt/at/at_left.feat/tsplot/ps_tsplot_zstat2_ev2.txt\n",
      "tar: fsl_course_data/fmri/ptt/at/at_left.feat/tsplot/ps_tsplot_zstat2_ev2.txt: skipping existing file\n",
      "fsl_course_data/fmri/ptt/at/at_left.feat/tsplot/ps_tsplot_zstat3_ev5p.png\n",
      "tar: fsl_course_data/fmri/ptt/at/at_left.feat/tsplot/ps_tsplot_zstat3_ev5p.png: skipping existing file\n",
      "fsl_course_data/fmri/ptt/at/at_left.feat/tsplot/ps_tsplotc_zstat1_ev4.png\n",
      "tar: fsl_course_data/fmri/ptt/at/at_left.feat/tsplot/ps_tsplotc_zstat1_ev4.png: skipping existing file\n",
      "fsl_course_data/fmri/ptt/at/at_left.feat/tsplot/ps_tsplot_zstat3_ev1.png\n",
      "tar: fsl_course_data/fmri/ptt/at/at_left.feat/tsplot/ps_tsplot_zstat3_ev1.png: skipping existing file\n",
      "fsl_course_data/fmri/ptt/at/at_left.feat/tsplot/tsplot_zstat1p.png\n",
      "tar: fsl_course_data/fmri/ptt/at/at_left.feat/tsplot/tsplot_zstat1p.png: skipping existing file\n",
      "fsl_course_data/fmri/ptt/at/at_left.feat/tsplot/ps_tsplotc_zstat1_ev4p.png\n",
      "tar: fsl_course_data/fmri/ptt/at/at_left.feat/tsplot/ps_tsplotc_zstat1_ev4p.png: skipping existing file\n",
      "fsl_course_data/fmri/ptt/at/at_left.feat/tsplot/ps_tsplot_zstat3_ev6.png\n",
      "tar: fsl_course_data/fmri/ptt/at/at_left.feat/tsplot/ps_tsplot_zstat3_ev6.png: skipping existing file\n",
      "fsl_course_data/fmri/ptt/at/at_left.feat/tsplot/ps_tsplotc_zstat1_ev6.txt\n",
      "tar: fsl_course_data/fmri/ptt/at/at_left.feat/tsplot/ps_tsplotc_zstat1_ev6.txt: skipping existing file\n",
      "fsl_course_data/fmri/ptt/at/at_left.feat/tsplot/ps_tsplotc_zstat5_ev6.txt\n",
      "tar: fsl_course_data/fmri/ptt/at/at_left.feat/tsplot/ps_tsplotc_zstat5_ev6.txt: skipping existing file\n",
      "fsl_course_data/fmri/ptt/at/at_left.feat/tsplot/ps_tsplotc_zfstat1_ev1.txt\n",
      "tar: fsl_course_data/fmri/ptt/at/at_left.feat/tsplot/ps_tsplotc_zfstat1_ev1.txt: skipping existing file\n",
      "fsl_course_data/fmri/ptt/at/at_left.feat/tsplot/tsplotc_zstat3p.png\n",
      "tar: fsl_course_data/fmri/ptt/at/at_left.feat/tsplot/tsplotc_zstat3p.png: skipping existing file\n",
      "fsl_course_data/fmri/ptt/at/at_left.feat/tsplot/ps_tsplot_zstat2_ev4p.png\n",
      "tar: fsl_course_data/fmri/ptt/at/at_left.feat/tsplot/ps_tsplot_zstat2_ev4p.png: skipping existing file\n",
      "fsl_course_data/fmri/ptt/at/at_left.feat/tsplot/ps_tsplotc_zstat5_ev1.txt\n",
      "tar: fsl_course_data/fmri/ptt/at/at_left.feat/tsplot/ps_tsplotc_zstat5_ev1.txt: skipping existing file\n",
      "fsl_course_data/fmri/ptt/at/at_left.feat/tsplot/ps_tsplotc_zfstat1_ev6.txt\n",
      "tar: fsl_course_data/fmri/ptt/at/at_left.feat/tsplot/ps_tsplotc_zfstat1_ev6.txt: skipping existing file\n",
      "fsl_course_data/fmri/ptt/at/at_left.feat/tsplot/ps_tsplotc_zstat1_ev1.txt\n",
      "tar: fsl_course_data/fmri/ptt/at/at_left.feat/tsplot/ps_tsplotc_zstat1_ev1.txt: skipping existing file\n",
      "fsl_course_data/fmri/ptt/at/at_left.feat/tsplot/ps_tsplotc_zstat4_ev3p.png\n",
      "tar: fsl_course_data/fmri/ptt/at/at_left.feat/tsplot/ps_tsplotc_zstat4_ev3p.png: skipping existing file\n",
      "fsl_course_data/fmri/ptt/at/at_left.feat/tsplot/ps_tsplot_zstat3_ev4.txt\n",
      "tar: fsl_course_data/fmri/ptt/at/at_left.feat/tsplot/ps_tsplot_zstat3_ev4.txt: skipping existing file\n",
      "fsl_course_data/fmri/ptt/at/at_left.feat/tsplot/ps_tsplotc_zstat2_ev6p.png\n",
      "tar: fsl_course_data/fmri/ptt/at/at_left.feat/tsplot/ps_tsplotc_zstat2_ev6p.png: skipping existing file\n",
      "fsl_course_data/fmri/ptt/at/at_left.feat/tsplot/ps_tsplot_zstat4_ev1p.png\n",
      "tar: fsl_course_data/fmri/ptt/at/at_left.feat/tsplot/ps_tsplot_zstat4_ev1p.png: skipping existing file\n",
      "fsl_course_data/fmri/ptt/at/at_left.feat/tsplot/ps_tsplotc_zstat4_ev2.png\n",
      "tar: fsl_course_data/fmri/ptt/at/at_left.feat/tsplot/ps_tsplotc_zstat4_ev2.png: skipping existing file\n",
      "fsl_course_data/fmri/ptt/at/at_left.feat/tsplot/ps_tsplotc_zstat4_ev5.png\n",
      "tar: fsl_course_data/fmri/ptt/at/at_left.feat/tsplot/ps_tsplotc_zstat4_ev5.png: skipping existing file\n",
      "fsl_course_data/fmri/ptt/at/at_left.feat/tsplot/ps_tsplot_zstat3_ev3.txt\n",
      "tar: fsl_course_data/fmri/ptt/at/at_left.feat/tsplot/ps_tsplot_zstat3_ev3.txt: skipping existing file\n",
      "fsl_course_data/fmri/ptt/at/at_left.feat/tsplot/ps_tsplot_zstat5_ev5.png\n",
      "tar: fsl_course_data/fmri/ptt/at/at_left.feat/tsplot/ps_tsplot_zstat5_ev5.png: skipping existing file\n",
      "fsl_course_data/fmri/ptt/at/at_left.feat/tsplot/ps_tsplot_zstat1_ev5.png\n",
      "tar: fsl_course_data/fmri/ptt/at/at_left.feat/tsplot/ps_tsplot_zstat1_ev5.png: skipping existing file\n",
      "fsl_course_data/fmri/ptt/at/at_left.feat/tsplot/ps_tsplotc_zstat2_ev3.txt\n",
      "tar: fsl_course_data/fmri/ptt/at/at_left.feat/tsplot/ps_tsplotc_zstat2_ev3.txt: skipping existing file\n",
      "fsl_course_data/fmri/ptt/at/at_left.feat/tsplot/ps_tsplot_zstat1_ev2.png\n",
      "tar: fsl_course_data/fmri/ptt/at/at_left.feat/tsplot/ps_tsplot_zstat1_ev2.png: skipping existing file\n",
      "fsl_course_data/fmri/ptt/at/at_left.feat/tsplot/ps_tsplotc_zstat2_ev4.txt\n",
      "tar: fsl_course_data/fmri/ptt/at/at_left.feat/tsplot/ps_tsplotc_zstat2_ev4.txt: skipping existing file\n",
      "fsl_course_data/fmri/ptt/at/at_left.feat/tsplot/tsplotc_zstat1.txt\n",
      "tar: fsl_course_data/fmri/ptt/at/at_left.feat/tsplot/tsplotc_zstat1.txt: skipping existing file\n",
      "fsl_course_data/fmri/ptt/at/at_left.feat/tsplot/ps_tsplot_zstat5_ev2.png\n",
      "tar: fsl_course_data/fmri/ptt/at/at_left.feat/tsplot/ps_tsplot_zstat5_ev2.png: skipping existing file\n",
      "fsl_course_data/fmri/ptt/at/at_left.feat/tsplot/ps_tsplot_zstat4_ev1.txt\n",
      "tar: fsl_course_data/fmri/ptt/at/at_left.feat/tsplot/ps_tsplot_zstat4_ev1.txt: skipping existing file\n",
      "fsl_course_data/fmri/ptt/at/at_left.feat/tsplot/ps_tsplotc_zstat2_ev2p.png\n",
      "tar: fsl_course_data/fmri/ptt/at/at_left.feat/tsplot/ps_tsplotc_zstat2_ev2p.png: skipping existing file\n",
      "fsl_course_data/fmri/ptt/at/at_left.feat/tsplot/ps_tsplot_zstat4_ev6.txt\n",
      "tar: fsl_course_data/fmri/ptt/at/at_left.feat/tsplot/ps_tsplot_zstat4_ev6.txt: skipping existing file\n",
      "fsl_course_data/fmri/ptt/at/at_left.feat/tsplot/ps_tsplot_zstat4_ev5p.png\n",
      "tar: fsl_course_data/fmri/ptt/at/at_left.feat/tsplot/ps_tsplot_zstat4_ev5p.png: skipping existing file\n",
      "fsl_course_data/fmri/ptt/at/at_left.feat/rendered_thresh_zfstat1.nii.gz\n",
      "tar: fsl_course_data/fmri/ptt/at/at_left.feat/rendered_thresh_zfstat1.nii.gz: skipping existing file\n",
      "fsl_course_data/fmri/ptt/at/at_left.feat/report_prestats.html\n",
      "tar: fsl_course_data/fmri/ptt/at/at_left.feat/report_prestats.html: skipping existing file\n",
      "fsl_course_data/fmri/ptt/at/at_left.feat/cluster_zstat1_std.html\n",
      "tar: fsl_course_data/fmri/ptt/at/at_left.feat/cluster_zstat1_std.html: skipping existing file\n",
      "fsl_course_data/fmri/ptt/at/at_left.feat/cluster_zstat1.txt\n",
      "tar: fsl_course_data/fmri/ptt/at/at_left.feat/cluster_zstat1.txt: skipping existing file\n",
      "fsl_course_data/fmri/ptt/at/at_left.feat/filtered_func_data.nii.gz\n",
      "tar: fsl_course_data/fmri/ptt/at/at_left.feat/filtered_func_data.nii.gz: skipping existing file\n",
      "fsl_course_data/fmri/ptt/at/at_left.feat/thresh_zstat5.vol\n",
      "tar: fsl_course_data/fmri/ptt/at/at_left.feat/thresh_zstat5.vol: skipping existing file\n",
      "fsl_course_data/fmri/ptt/at/at_left.feat/rendered_thresh_zstat2.png\n",
      "tar: fsl_course_data/fmri/ptt/at/at_left.feat/rendered_thresh_zstat2.png: skipping existing file\n",
      "fsl_course_data/fmri/ptt/at/at_left.feat/design.con\n",
      "tar: fsl_course_data/fmri/ptt/at/at_left.feat/design.con: skipping existing file\n",
      "fsl_course_data/fmri/ptt/at/at_left.feat/rendered_thresh_zstat5.png\n",
      "tar: fsl_course_data/fmri/ptt/at/at_left.feat/rendered_thresh_zstat5.png: skipping existing file\n",
      "fsl_course_data/fmri/ptt/at/at_left.feat/lmax_zfstat1.txt\n",
      "tar: fsl_course_data/fmri/ptt/at/at_left.feat/lmax_zfstat1.txt: skipping existing file\n",
      "fsl_course_data/fmri/ptt/at/at_left.feat/cluster_zstat4.html\n",
      "tar: fsl_course_data/fmri/ptt/at/at_left.feat/cluster_zstat4.html: skipping existing file\n",
      "fsl_course_data/fmri/ptt/at/at_left.feat/thresh_zstat2.vol\n",
      "tar: fsl_course_data/fmri/ptt/at/at_left.feat/thresh_zstat2.vol: skipping existing file\n",
      "fsl_course_data/fmri/ptt/at/at_left.feat/cluster_mask_zstat3.nii.gz\n",
      "tar: fsl_course_data/fmri/ptt/at/at_left.feat/cluster_mask_zstat3.nii.gz: skipping existing file\n",
      "fsl_course_data/fmri/ptt/at/at_left.feat/thresh_zstat2.nii.gz\n",
      "tar: fsl_course_data/fmri/ptt/at/at_left.feat/thresh_zstat2.nii.gz: skipping existing file\n",
      "fsl_course_data/fmri/ptt/at/at_left.feat/rendered_thresh_zstat1.nii.gz\n",
      "tar: fsl_course_data/fmri/ptt/at/at_left.feat/rendered_thresh_zstat1.nii.gz: skipping existing file\n",
      "fsl_course_data/fmri/ptt/at/at_left.feat/mean_func.nii.gz\n",
      "tar: fsl_course_data/fmri/ptt/at/at_left.feat/mean_func.nii.gz: skipping existing file\n",
      "fsl_course_data/fmri/ptt/at/at_left.feat/stats/\n",
      "tar: fsl_course_data/fmri/ptt/at/at_left.feat/stats: skipping existing file\n",
      "fsl_course_data/fmri/ptt/at/at_left.feat/stats/tstat4.nii.gz\n",
      "tar: fsl_course_data/fmri/ptt/at/at_left.feat/stats/tstat4.nii.gz: skipping existing file\n",
      "fsl_course_data/fmri/ptt/at/at_left.feat/stats/zstat5.nii.gz\n",
      "tar: fsl_course_data/fmri/ptt/at/at_left.feat/stats/zstat5.nii.gz: skipping existing file\n",
      "fsl_course_data/fmri/ptt/at/at_left.feat/stats/pe1.nii.gz\n",
      "tar: fsl_course_data/fmri/ptt/at/at_left.feat/stats/pe1.nii.gz: skipping existing file\n",
      "fsl_course_data/fmri/ptt/at/at_left.feat/stats/varcope5.nii.gz\n",
      "tar: fsl_course_data/fmri/ptt/at/at_left.feat/stats/varcope5.nii.gz: skipping existing file\n",
      "fsl_course_data/fmri/ptt/at/at_left.feat/stats/neff2.nii.gz\n",
      "tar: fsl_course_data/fmri/ptt/at/at_left.feat/stats/neff2.nii.gz: skipping existing file\n",
      "fsl_course_data/fmri/ptt/at/at_left.feat/stats/cope2.nii.gz\n",
      "tar: fsl_course_data/fmri/ptt/at/at_left.feat/stats/cope2.nii.gz: skipping existing file\n",
      "fsl_course_data/fmri/ptt/at/at_left.feat/stats/pe3.nii.gz\n",
      "tar: fsl_course_data/fmri/ptt/at/at_left.feat/stats/pe3.nii.gz: skipping existing file\n",
      "fsl_course_data/fmri/ptt/at/at_left.feat/stats/zfstat1.nii.gz\n",
      "tar: fsl_course_data/fmri/ptt/at/at_left.feat/stats/zfstat1.nii.gz: skipping existing file\n",
      "fsl_course_data/fmri/ptt/at/at_left.feat/stats/varcope1.nii.gz\n",
      "tar: fsl_course_data/fmri/ptt/at/at_left.feat/stats/varcope1.nii.gz: skipping existing file\n",
      "fsl_course_data/fmri/ptt/at/at_left.feat/stats/pe5.nii.gz\n",
      "tar: fsl_course_data/fmri/ptt/at/at_left.feat/stats/pe5.nii.gz: skipping existing file\n",
      "fsl_course_data/fmri/ptt/at/at_left.feat/stats/smoothness\n",
      "tar: fsl_course_data/fmri/ptt/at/at_left.feat/stats/smoothness: skipping existing file\n",
      "fsl_course_data/fmri/ptt/at/at_left.feat/stats/zstat1.nii.gz\n",
      "tar: fsl_course_data/fmri/ptt/at/at_left.feat/stats/zstat1.nii.gz: skipping existing file\n",
      "fsl_course_data/fmri/ptt/at/at_left.feat/stats/epivolume.nii.gz\n",
      "tar: fsl_course_data/fmri/ptt/at/at_left.feat/stats/epivolume.nii.gz: skipping existing file\n",
      "fsl_course_data/fmri/ptt/at/at_left.feat/stats/cmlogfile\n",
      "tar: fsl_course_data/fmri/ptt/at/at_left.feat/stats/cmlogfile: skipping existing file\n",
      "fsl_course_data/fmri/ptt/at/at_left.feat/stats/probs\n",
      "tar: fsl_course_data/fmri/ptt/at/at_left.feat/stats/probs: skipping existing file\n",
      "fsl_course_data/fmri/ptt/at/at_left.feat/stats/fstat1.nii.gz\n",
      "tar: fsl_course_data/fmri/ptt/at/at_left.feat/stats/fstat1.nii.gz: skipping existing file\n",
      "fsl_course_data/fmri/ptt/at/at_left.feat/stats/varcope3.nii.gz\n",
      "tar: fsl_course_data/fmri/ptt/at/at_left.feat/stats/varcope3.nii.gz: skipping existing file\n",
      "fsl_course_data/fmri/ptt/at/at_left.feat/stats/neff4.nii.gz\n",
      "tar: fsl_course_data/fmri/ptt/at/at_left.feat/stats/neff4.nii.gz: skipping existing file\n",
      "fsl_course_data/fmri/ptt/at/at_left.feat/stats/threshac1.nii.gz\n",
      "tar: fsl_course_data/fmri/ptt/at/at_left.feat/stats/threshac1.nii.gz: skipping existing file\n",
      "fsl_course_data/fmri/ptt/at/at_left.feat/stats/tstat2.nii.gz\n",
      "tar: fsl_course_data/fmri/ptt/at/at_left.feat/stats/tstat2.nii.gz: skipping existing file\n",
      "fsl_course_data/fmri/ptt/at/at_left.feat/stats/zstat3.nii.gz\n",
      "tar: fsl_course_data/fmri/ptt/at/at_left.feat/stats/zstat3.nii.gz: skipping existing file\n",
      "fsl_course_data/fmri/ptt/at/at_left.feat/stats/cope4.nii.gz\n",
      "tar: fsl_course_data/fmri/ptt/at/at_left.feat/stats/cope4.nii.gz: skipping existing file\n",
      "fsl_course_data/fmri/ptt/at/at_left.feat/stats/pe4.nii.gz\n",
      "tar: fsl_course_data/fmri/ptt/at/at_left.feat/stats/pe4.nii.gz: skipping existing file\n",
      "fsl_course_data/fmri/ptt/at/at_left.feat/stats/tstat1.nii.gz\n",
      "tar: fsl_course_data/fmri/ptt/at/at_left.feat/stats/tstat1.nii.gz: skipping existing file\n",
      "fsl_course_data/fmri/ptt/at/at_left.feat/stats/cope5.nii.gz\n",
      "tar: fsl_course_data/fmri/ptt/at/at_left.feat/stats/cope5.nii.gz: skipping existing file\n",
      "fsl_course_data/fmri/ptt/at/at_left.feat/stats/corrections.nii.gz\n",
      "tar: fsl_course_data/fmri/ptt/at/at_left.feat/stats/corrections.nii.gz: skipping existing file\n",
      "fsl_course_data/fmri/ptt/at/at_left.feat/stats/tstat3.nii.gz\n",
      "tar: fsl_course_data/fmri/ptt/at/at_left.feat/stats/tstat3.nii.gz: skipping existing file\n",
      "fsl_course_data/fmri/ptt/at/at_left.feat/stats/zstat2.nii.gz\n",
      "tar: fsl_course_data/fmri/ptt/at/at_left.feat/stats/zstat2.nii.gz: skipping existing file\n",
      "fsl_course_data/fmri/ptt/at/at_left.feat/stats/pe6.nii.gz\n",
      "tar: fsl_course_data/fmri/ptt/at/at_left.feat/stats/pe6.nii.gz: skipping existing file\n",
      "fsl_course_data/fmri/ptt/at/at_left.feat/stats/varcope2.nii.gz\n",
      "tar: fsl_course_data/fmri/ptt/at/at_left.feat/stats/varcope2.nii.gz: skipping existing file\n",
      "fsl_course_data/fmri/ptt/at/at_left.feat/stats/neff5.nii.gz\n",
      "tar: fsl_course_data/fmri/ptt/at/at_left.feat/stats/neff5.nii.gz: skipping existing file\n",
      "fsl_course_data/fmri/ptt/at/at_left.feat/stats/sigmasquareds.nii.gz\n",
      "tar: fsl_course_data/fmri/ptt/at/at_left.feat/stats/sigmasquareds.nii.gz: skipping existing file\n",
      "fsl_course_data/fmri/ptt/at/at_left.feat/stats/cope3.nii.gz\n",
      "tar: fsl_course_data/fmri/ptt/at/at_left.feat/stats/cope3.nii.gz: skipping existing file\n",
      "fsl_course_data/fmri/ptt/at/at_left.feat/stats/varcope4.nii.gz\n",
      "tar: fsl_course_data/fmri/ptt/at/at_left.feat/stats/varcope4.nii.gz: skipping existing file\n",
      "fsl_course_data/fmri/ptt/at/at_left.feat/stats/neff3.nii.gz\n",
      "tar: fsl_course_data/fmri/ptt/at/at_left.feat/stats/neff3.nii.gz: skipping existing file\n",
      "fsl_course_data/fmri/ptt/at/at_left.feat/stats/logfile\n",
      "tar: fsl_course_data/fmri/ptt/at/at_left.feat/stats/logfile: skipping existing file\n",
      "fsl_course_data/fmri/ptt/at/at_left.feat/stats/tstat5.nii.gz\n",
      "tar: fsl_course_data/fmri/ptt/at/at_left.feat/stats/tstat5.nii.gz: skipping existing file\n",
      "fsl_course_data/fmri/ptt/at/at_left.feat/stats/zstat4.nii.gz\n",
      "tar: fsl_course_data/fmri/ptt/at/at_left.feat/stats/zstat4.nii.gz: skipping existing file\n",
      "fsl_course_data/fmri/ptt/at/at_left.feat/stats/dof\n",
      "tar: fsl_course_data/fmri/ptt/at/at_left.feat/stats/dof: skipping existing file\n",
      "fsl_course_data/fmri/ptt/at/at_left.feat/stats/ratios\n",
      "tar: fsl_course_data/fmri/ptt/at/at_left.feat/stats/ratios: skipping existing file\n",
      "fsl_course_data/fmri/ptt/at/at_left.feat/stats/cope1.nii.gz\n",
      "tar: fsl_course_data/fmri/ptt/at/at_left.feat/stats/cope1.nii.gz: skipping existing file\n",
      "fsl_course_data/fmri/ptt/at/at_left.feat/stats/neff1.nii.gz\n",
      "tar: fsl_course_data/fmri/ptt/at/at_left.feat/stats/neff1.nii.gz: skipping existing file\n",
      "fsl_course_data/fmri/ptt/at/at_left.feat/stats/res4d.nii.gz\n",
      "tar: fsl_course_data/fmri/ptt/at/at_left.feat/stats/res4d.nii.gz: skipping existing file\n",
      "fsl_course_data/fmri/ptt/at/at_left.feat/stats/pe2.nii.gz\n",
      "tar: fsl_course_data/fmri/ptt/at/at_left.feat/stats/pe2.nii.gz: skipping existing file\n",
      "fsl_course_data/fmri/ptt/at/at_left.feat/cluster_zstat4_std.txt\n",
      "tar: fsl_course_data/fmri/ptt/at/at_left.feat/cluster_zstat4_std.txt: skipping existing file\n",
      "fsl_course_data/fmri/ptt/at/at_left.feat/lmax_zstat4.txt\n",
      "tar: fsl_course_data/fmri/ptt/at/at_left.feat/lmax_zstat4.txt: skipping existing file\n",
      "fsl_course_data/fmri/ptt/at/at_left.feat/.ramp.gif\n",
      "tar: fsl_course_data/fmri/ptt/at/at_left.feat/.ramp.gif: skipping existing file\n",
      "fsl_course_data/fmri/ptt/at/at_left.feat/lmax_zstat2_std.txt\n",
      "tar: fsl_course_data/fmri/ptt/at/at_left.feat/lmax_zstat2_std.txt: skipping existing file\n",
      "fsl_course_data/fmri/ptt/at/at_left.feat/lmax_zstat3.txt\n",
      "tar: fsl_course_data/fmri/ptt/at/at_left.feat/lmax_zstat3.txt: skipping existing file\n",
      "fsl_course_data/fmri/ptt/at/at_left.feat/rendered_thresh_zstat4.png\n",
      "tar: fsl_course_data/fmri/ptt/at/at_left.feat/rendered_thresh_zstat4.png: skipping existing file\n",
      "fsl_course_data/fmri/ptt/at/at_left.feat/thresh_zstat3.vol\n",
      "tar: fsl_course_data/fmri/ptt/at/at_left.feat/thresh_zstat3.vol: skipping existing file\n",
      "fsl_course_data/fmri/ptt/at/at_left.feat/absbrainthresh.txt\n",
      "tar: fsl_course_data/fmri/ptt/at/at_left.feat/absbrainthresh.txt: skipping existing file\n",
      "fsl_course_data/fmri/ptt/at/at_left.feat/thresh_zstat4.vol\n",
      "tar: fsl_course_data/fmri/ptt/at/at_left.feat/thresh_zstat4.vol: skipping existing file\n",
      "fsl_course_data/fmri/ptt/at/at_left.feat/rendered_thresh_zstat3.png\n",
      "tar: fsl_course_data/fmri/ptt/at/at_left.feat/rendered_thresh_zstat3.png: skipping existing file\n",
      "fsl_course_data/fmri/ptt/at/at_left.feat/report_log.html\n",
      "tar: fsl_course_data/fmri/ptt/at/at_left.feat/report_log.html: skipping existing file\n",
      "fsl_course_data/fmri/ptt/at/at_left.feat/cluster_zstat1_std.txt\n",
      "tar: fsl_course_data/fmri/ptt/at/at_left.feat/cluster_zstat1_std.txt: skipping existing file\n",
      "fsl_course_data/fmri/ptt/at/at_left.feat/cluster_zstat5_std.txt\n",
      "tar: fsl_course_data/fmri/ptt/at/at_left.feat/cluster_zstat5_std.txt: skipping existing file\n",
      "fsl_course_data/fmri/ptt/at/at_left.feat/cluster_mask_zstat5.nii.gz\n",
      "tar: fsl_course_data/fmri/ptt/at/at_left.feat/cluster_mask_zstat5.nii.gz: skipping existing file\n",
      "fsl_course_data/fmri/ptt/at/at_left.feat/thresh_zstat4.nii.gz\n",
      "tar: fsl_course_data/fmri/ptt/at/at_left.feat/thresh_zstat4.nii.gz: skipping existing file\n",
      "fsl_course_data/fmri/ptt/at/at_left.feat/cluster_zfstat1_std.html\n",
      "tar: fsl_course_data/fmri/ptt/at/at_left.feat/cluster_zfstat1_std.html: skipping existing file\n",
      "fsl_course_data/fmri/ptt/at/at_left.feat/reg/\n",
      "tar: fsl_course_data/fmri/ptt/at/at_left.feat/reg: skipping existing file\n",
      "fsl_course_data/fmri/ptt/at/at_left.feat/reg/standard.nii.gz\n",
      "tar: fsl_course_data/fmri/ptt/at/at_left.feat/reg/standard.nii.gz: skipping existing file\n",
      "fsl_course_data/fmri/ptt/at/at_left.feat/reg/highres2standard2.png\n",
      "tar: fsl_course_data/fmri/ptt/at/at_left.feat/reg/highres2standard2.png: skipping existing file\n",
      "fsl_course_data/fmri/ptt/at/at_left.feat/reg/example_func2standard.png\n",
      "tar: fsl_course_data/fmri/ptt/at/at_left.feat/reg/example_func2standard.png: skipping existing file\n",
      "fsl_course_data/fmri/ptt/at/at_left.feat/reg/example_func2standard.mat\n",
      "tar: fsl_course_data/fmri/ptt/at/at_left.feat/reg/example_func2standard.mat: skipping existing file\n",
      "fsl_course_data/fmri/ptt/at/at_left.feat/reg/example_func2standard2.png\n",
      "tar: fsl_course_data/fmri/ptt/at/at_left.feat/reg/example_func2standard2.png: skipping existing file\n",
      "fsl_course_data/fmri/ptt/at/at_left.feat/reg/example_func2highres1.png\n",
      "tar: fsl_course_data/fmri/ptt/at/at_left.feat/reg/example_func2highres1.png: skipping existing file\n",
      "fsl_course_data/fmri/ptt/at/at_left.feat/reg/example_func2highres.mat\n",
      "tar: fsl_course_data/fmri/ptt/at/at_left.feat/reg/example_func2highres.mat: skipping existing file\n",
      "fsl_course_data/fmri/ptt/at/at_left.feat/reg/example_func2highres2.png\n",
      "tar: fsl_course_data/fmri/ptt/at/at_left.feat/reg/example_func2highres2.png: skipping existing file\n",
      "fsl_course_data/fmri/ptt/at/at_left.feat/reg/example_func.nii.gz\n",
      "tar: fsl_course_data/fmri/ptt/at/at_left.feat/reg/example_func.nii.gz: skipping existing file\n",
      "fsl_course_data/fmri/ptt/at/at_left.feat/reg/highres2standard.png\n",
      "tar: fsl_course_data/fmri/ptt/at/at_left.feat/reg/highres2standard.png: skipping existing file\n",
      "fsl_course_data/fmri/ptt/at/at_left.feat/reg/highres.nii.gz\n",
      "tar: fsl_course_data/fmri/ptt/at/at_left.feat/reg/highres.nii.gz: skipping existing file\n",
      "fsl_course_data/fmri/ptt/at/at_left.feat/reg/example_func2standard1.png\n",
      "tar: fsl_course_data/fmri/ptt/at/at_left.feat/reg/example_func2standard1.png: skipping existing file\n",
      "fsl_course_data/fmri/ptt/at/at_left.feat/reg/highres2standard1.png\n",
      "tar: fsl_course_data/fmri/ptt/at/at_left.feat/reg/highres2standard1.png: skipping existing file\n",
      "fsl_course_data/fmri/ptt/at/at_left.feat/reg/highres2standard.mat\n",
      "tar: fsl_course_data/fmri/ptt/at/at_left.feat/reg/highres2standard.mat: skipping existing file\n",
      "fsl_course_data/fmri/ptt/at/at_left.feat/reg/highres2standard.nii.gz\n",
      "tar: fsl_course_data/fmri/ptt/at/at_left.feat/reg/highres2standard.nii.gz: skipping existing file\n",
      "fsl_course_data/fmri/ptt/at/at_left.feat/reg/example_func2standard.nii.gz\n",
      "tar: fsl_course_data/fmri/ptt/at/at_left.feat/reg/example_func2standard.nii.gz: skipping existing file\n",
      "fsl_course_data/fmri/ptt/at/at_left.feat/reg/example_func2highres.png\n",
      "tar: fsl_course_data/fmri/ptt/at/at_left.feat/reg/example_func2highres.png: skipping existing file\n",
      "fsl_course_data/fmri/ptt/at/at_left.feat/reg/highres2example_func.mat\n",
      "tar: fsl_course_data/fmri/ptt/at/at_left.feat/reg/highres2example_func.mat: skipping existing file\n",
      "fsl_course_data/fmri/ptt/at/at_left.feat/reg/standard2example_func.mat\n",
      "tar: fsl_course_data/fmri/ptt/at/at_left.feat/reg/standard2example_func.mat: skipping existing file\n",
      "fsl_course_data/fmri/ptt/at/at_left.feat/reg/standard2highres.mat\n",
      "tar: fsl_course_data/fmri/ptt/at/at_left.feat/reg/standard2highres.mat: skipping existing file\n",
      "fsl_course_data/fmri/ptt/at/at_left.feat/reg/example_func2highres.nii.gz\n",
      "tar: fsl_course_data/fmri/ptt/at/at_left.feat/reg/example_func2highres.nii.gz: skipping existing file\n",
      "fsl_course_data/fmri/ptt/at/at_left.feat/design.fts\n",
      "tar: fsl_course_data/fmri/ptt/at/at_left.feat/design.fts: skipping existing file\n",
      "fsl_course_data/fmri/ptt/at/at_left.feat/lmax_zstat3_std.txt\n",
      "tar: fsl_course_data/fmri/ptt/at/at_left.feat/lmax_zstat3_std.txt: skipping existing file\n",
      "fsl_course_data/fmri/ptt/at/at_left.feat/cluster_zfstat1.html\n",
      "tar: fsl_course_data/fmri/ptt/at/at_left.feat/cluster_zfstat1.html: skipping existing file\n",
      "fsl_course_data/fmri/ptt/at/at_left.feat/cluster_zfstat1_std.txt\n",
      "tar: fsl_course_data/fmri/ptt/at/at_left.feat/cluster_zfstat1_std.txt: skipping existing file\n",
      "fsl_course_data/fmri/ptt/at/at_left.feat/lmax_zstat2.txt\n",
      "tar: fsl_course_data/fmri/ptt/at/at_left.feat/lmax_zstat2.txt: skipping existing file\n",
      "fsl_course_data/fmri/ptt/at/at_left.feat/mc/\n",
      "tar: fsl_course_data/fmri/ptt/at/at_left.feat/mc: skipping existing file\n",
      "fsl_course_data/fmri/ptt/at/at_left.feat/mc/prefiltered_func_data_mcf_abs_mean.rms\n",
      "tar: fsl_course_data/fmri/ptt/at/at_left.feat/mc/prefiltered_func_data_mcf_abs_mean.rms: skipping existing file\n",
      "fsl_course_data/fmri/ptt/at/at_left.feat/mc/prefiltered_func_data_mcf_abs.rms\n",
      "tar: fsl_course_data/fmri/ptt/at/at_left.feat/mc/prefiltered_func_data_mcf_abs.rms: skipping existing file\n",
      "fsl_course_data/fmri/ptt/at/at_left.feat/mc/prefiltered_func_data_mcf.par\n",
      "tar: fsl_course_data/fmri/ptt/at/at_left.feat/mc/prefiltered_func_data_mcf.par: skipping existing file\n",
      "fsl_course_data/fmri/ptt/at/at_left.feat/mc/prefiltered_func_data_mcf_rel_mean.rms\n",
      "tar: fsl_course_data/fmri/ptt/at/at_left.feat/mc/prefiltered_func_data_mcf_rel_mean.rms: skipping existing file\n",
      "fsl_course_data/fmri/ptt/at/at_left.feat/mc/rot.png\n",
      "tar: fsl_course_data/fmri/ptt/at/at_left.feat/mc/rot.png: skipping existing file\n",
      "fsl_course_data/fmri/ptt/at/at_left.feat/mc/trans.png\n",
      "tar: fsl_course_data/fmri/ptt/at/at_left.feat/mc/trans.png: skipping existing file\n",
      "fsl_course_data/fmri/ptt/at/at_left.feat/mc/prefiltered_func_data_mcf.mat/\n",
      "tar: fsl_course_data/fmri/ptt/at/at_left.feat/mc/prefiltered_func_data_mcf.mat: skipping existing file\n",
      "fsl_course_data/fmri/ptt/at/at_left.feat/mc/prefiltered_func_data_mcf.mat/MAT_0037\n",
      "tar: fsl_course_data/fmri/ptt/at/at_left.feat/mc/prefiltered_func_data_mcf.mat/MAT_0037: skipping existing file\n",
      "fsl_course_data/fmri/ptt/at/at_left.feat/mc/prefiltered_func_data_mcf.mat/MAT_0040\n",
      "tar: fsl_course_data/fmri/ptt/at/at_left.feat/mc/prefiltered_func_data_mcf.mat/MAT_0040: skipping existing file\n",
      "fsl_course_data/fmri/ptt/at/at_left.feat/mc/prefiltered_func_data_mcf.mat/MAT_0078\n",
      "tar: fsl_course_data/fmri/ptt/at/at_left.feat/mc/prefiltered_func_data_mcf.mat/MAT_0078: skipping existing file\n",
      "fsl_course_data/fmri/ptt/at/at_left.feat/mc/prefiltered_func_data_mcf.mat/MAT_0096\n",
      "tar: fsl_course_data/fmri/ptt/at/at_left.feat/mc/prefiltered_func_data_mcf.mat/MAT_0096: skipping existing file\n",
      "fsl_course_data/fmri/ptt/at/at_left.feat/mc/prefiltered_func_data_mcf.mat/MAT_0102\n",
      "tar: fsl_course_data/fmri/ptt/at/at_left.feat/mc/prefiltered_func_data_mcf.mat/MAT_0102: skipping existing file\n",
      "fsl_course_data/fmri/ptt/at/at_left.feat/mc/prefiltered_func_data_mcf.mat/MAT_0072\n",
      "tar: fsl_course_data/fmri/ptt/at/at_left.feat/mc/prefiltered_func_data_mcf.mat/MAT_0072: skipping existing file\n",
      "fsl_course_data/fmri/ptt/at/at_left.feat/mc/prefiltered_func_data_mcf.mat/MAT_0005\n",
      "tar: fsl_course_data/fmri/ptt/at/at_left.feat/mc/prefiltered_func_data_mcf.mat/MAT_0005: skipping existing file\n",
      "fsl_course_data/fmri/ptt/at/at_left.feat/mc/prefiltered_func_data_mcf.mat/MAT_0108\n",
      "tar: fsl_course_data/fmri/ptt/at/at_left.feat/mc/prefiltered_func_data_mcf.mat/MAT_0108: skipping existing file\n",
      "fsl_course_data/fmri/ptt/at/at_left.feat/mc/prefiltered_func_data_mcf.mat/MAT_0024\n",
      "tar: fsl_course_data/fmri/ptt/at/at_left.feat/mc/prefiltered_func_data_mcf.mat/MAT_0024: skipping existing file\n",
      "fsl_course_data/fmri/ptt/at/at_left.feat/mc/prefiltered_func_data_mcf.mat/MAT_0053\n",
      "tar: fsl_course_data/fmri/ptt/at/at_left.feat/mc/prefiltered_func_data_mcf.mat/MAT_0053: skipping existing file\n",
      "fsl_course_data/fmri/ptt/at/at_left.feat/mc/prefiltered_func_data_mcf.mat/MAT_0059\n",
      "tar: fsl_course_data/fmri/ptt/at/at_left.feat/mc/prefiltered_func_data_mcf.mat/MAT_0059: skipping existing file\n",
      "fsl_course_data/fmri/ptt/at/at_left.feat/mc/prefiltered_func_data_mcf.mat/MAT_0061\n",
      "tar: fsl_course_data/fmri/ptt/at/at_left.feat/mc/prefiltered_func_data_mcf.mat/MAT_0061: skipping existing file\n",
      "fsl_course_data/fmri/ptt/at/at_left.feat/mc/prefiltered_func_data_mcf.mat/MAT_0016\n",
      "tar: fsl_course_data/fmri/ptt/at/at_left.feat/mc/prefiltered_func_data_mcf.mat/MAT_0016: skipping existing file\n",
      "fsl_course_data/fmri/ptt/at/at_left.feat/mc/prefiltered_func_data_mcf.mat/MAT_0085\n",
      "tar: fsl_course_data/fmri/ptt/at/at_left.feat/mc/prefiltered_func_data_mcf.mat/MAT_0085: skipping existing file\n",
      "fsl_course_data/fmri/ptt/at/at_left.feat/mc/prefiltered_func_data_mcf.mat/MAT_0111\n",
      "tar: fsl_course_data/fmri/ptt/at/at_left.feat/mc/prefiltered_func_data_mcf.mat/MAT_0111: skipping existing file\n",
      "fsl_course_data/fmri/ptt/at/at_left.feat/mc/prefiltered_func_data_mcf.mat/MAT_0011\n",
      "tar: fsl_course_data/fmri/ptt/at/at_left.feat/mc/prefiltered_func_data_mcf.mat/MAT_0011: skipping existing file\n",
      "fsl_course_data/fmri/ptt/at/at_left.feat/mc/prefiltered_func_data_mcf.mat/MAT_0066\n",
      "tar: fsl_course_data/fmri/ptt/at/at_left.feat/mc/prefiltered_func_data_mcf.mat/MAT_0066: skipping existing file\n",
      "fsl_course_data/fmri/ptt/at/at_left.feat/mc/prefiltered_func_data_mcf.mat/MAT_0088\n",
      "tar: fsl_course_data/fmri/ptt/at/at_left.feat/mc/prefiltered_func_data_mcf.mat/MAT_0088: skipping existing file\n",
      "fsl_course_data/fmri/ptt/at/at_left.feat/mc/prefiltered_func_data_mcf.mat/MAT_0116\n",
      "tar: fsl_course_data/fmri/ptt/at/at_left.feat/mc/prefiltered_func_data_mcf.mat/MAT_0116: skipping existing file\n",
      "fsl_course_data/fmri/ptt/at/at_left.feat/mc/prefiltered_func_data_mcf.mat/MAT_0082\n",
      "tar: fsl_course_data/fmri/ptt/at/at_left.feat/mc/prefiltered_func_data_mcf.mat/MAT_0082: skipping existing file\n",
      "fsl_course_data/fmri/ptt/at/at_left.feat/mc/prefiltered_func_data_mcf.mat/MAT_0054\n",
      "tar: fsl_course_data/fmri/ptt/at/at_left.feat/mc/prefiltered_func_data_mcf.mat/MAT_0054: skipping existing file\n",
      "fsl_course_data/fmri/ptt/at/at_left.feat/mc/prefiltered_func_data_mcf.mat/MAT_0023\n",
      "tar: fsl_course_data/fmri/ptt/at/at_left.feat/mc/prefiltered_func_data_mcf.mat/MAT_0023: skipping existing file\n",
      "fsl_course_data/fmri/ptt/at/at_left.feat/mc/prefiltered_func_data_mcf.mat/MAT_0029\n",
      "tar: fsl_course_data/fmri/ptt/at/at_left.feat/mc/prefiltered_func_data_mcf.mat/MAT_0029: skipping existing file\n",
      "fsl_course_data/fmri/ptt/at/at_left.feat/mc/prefiltered_func_data_mcf.mat/MAT_0105\n",
      "tar: fsl_course_data/fmri/ptt/at/at_left.feat/mc/prefiltered_func_data_mcf.mat/MAT_0105: skipping existing file\n",
      "fsl_course_data/fmri/ptt/at/at_left.feat/mc/prefiltered_func_data_mcf.mat/MAT_0091\n",
      "tar: fsl_course_data/fmri/ptt/at/at_left.feat/mc/prefiltered_func_data_mcf.mat/MAT_0091: skipping existing file\n",
      "fsl_course_data/fmri/ptt/at/at_left.feat/mc/prefiltered_func_data_mcf.mat/MAT_0008\n",
      "tar: fsl_course_data/fmri/ptt/at/at_left.feat/mc/prefiltered_func_data_mcf.mat/MAT_0008: skipping existing file\n",
      "fsl_course_data/fmri/ptt/at/at_left.feat/mc/prefiltered_func_data_mcf.mat/MAT_0002\n",
      "tar: fsl_course_data/fmri/ptt/at/at_left.feat/mc/prefiltered_func_data_mcf.mat/MAT_0002: skipping existing file\n",
      "fsl_course_data/fmri/ptt/at/at_left.feat/mc/prefiltered_func_data_mcf.mat/MAT_0075\n",
      "tar: fsl_course_data/fmri/ptt/at/at_left.feat/mc/prefiltered_func_data_mcf.mat/MAT_0075: skipping existing file\n",
      "fsl_course_data/fmri/ptt/at/at_left.feat/mc/prefiltered_func_data_mcf.mat/MAT_0047\n",
      "tar: fsl_course_data/fmri/ptt/at/at_left.feat/mc/prefiltered_func_data_mcf.mat/MAT_0047: skipping existing file\n",
      "fsl_course_data/fmri/ptt/at/at_left.feat/mc/prefiltered_func_data_mcf.mat/MAT_0030\n",
      "tar: fsl_course_data/fmri/ptt/at/at_left.feat/mc/prefiltered_func_data_mcf.mat/MAT_0030: skipping existing file\n",
      "fsl_course_data/fmri/ptt/at/at_left.feat/mc/prefiltered_func_data_mcf.mat/MAT_0043\n",
      "tar: fsl_course_data/fmri/ptt/at/at_left.feat/mc/prefiltered_func_data_mcf.mat/MAT_0043: skipping existing file\n",
      "fsl_course_data/fmri/ptt/at/at_left.feat/mc/prefiltered_func_data_mcf.mat/MAT_0034\n",
      "tar: fsl_course_data/fmri/ptt/at/at_left.feat/mc/prefiltered_func_data_mcf.mat/MAT_0034: skipping existing file\n",
      "fsl_course_data/fmri/ptt/at/at_left.feat/mc/prefiltered_func_data_mcf.mat/MAT_0049\n",
      "tar: fsl_course_data/fmri/ptt/at/at_left.feat/mc/prefiltered_func_data_mcf.mat/MAT_0049: skipping existing file\n",
      "fsl_course_data/fmri/ptt/at/at_left.feat/mc/prefiltered_func_data_mcf.mat/MAT_0006\n",
      "tar: fsl_course_data/fmri/ptt/at/at_left.feat/mc/prefiltered_func_data_mcf.mat/MAT_0006: skipping existing file\n",
      "fsl_course_data/fmri/ptt/at/at_left.feat/mc/prefiltered_func_data_mcf.mat/MAT_0071\n",
      "tar: fsl_course_data/fmri/ptt/at/at_left.feat/mc/prefiltered_func_data_mcf.mat/MAT_0071: skipping existing file\n",
      "fsl_course_data/fmri/ptt/at/at_left.feat/mc/prefiltered_func_data_mcf.mat/MAT_0095\n",
      "tar: fsl_course_data/fmri/ptt/at/at_left.feat/mc/prefiltered_func_data_mcf.mat/MAT_0095: skipping existing file\n",
      "fsl_course_data/fmri/ptt/at/at_left.feat/mc/prefiltered_func_data_mcf.mat/MAT_0101\n",
      "tar: fsl_course_data/fmri/ptt/at/at_left.feat/mc/prefiltered_func_data_mcf.mat/MAT_0101: skipping existing file\n",
      "fsl_course_data/fmri/ptt/at/at_left.feat/mc/prefiltered_func_data_mcf.mat/MAT_0120\n",
      "tar: fsl_course_data/fmri/ptt/at/at_left.feat/mc/prefiltered_func_data_mcf.mat/MAT_0120: skipping existing file\n",
      "fsl_course_data/fmri/ptt/at/at_left.feat/mc/prefiltered_func_data_mcf.mat/MAT_0050\n",
      "tar: fsl_course_data/fmri/ptt/at/at_left.feat/mc/prefiltered_func_data_mcf.mat/MAT_0050: skipping existing file\n",
      "fsl_course_data/fmri/ptt/at/at_left.feat/mc/prefiltered_func_data_mcf.mat/MAT_0027\n",
      "tar: fsl_course_data/fmri/ptt/at/at_left.feat/mc/prefiltered_func_data_mcf.mat/MAT_0027: skipping existing file\n",
      "fsl_course_data/fmri/ptt/at/at_left.feat/mc/prefiltered_func_data_mcf.mat/MAT_0086\n",
      "tar: fsl_course_data/fmri/ptt/at/at_left.feat/mc/prefiltered_func_data_mcf.mat/MAT_0086: skipping existing file\n",
      "fsl_course_data/fmri/ptt/at/at_left.feat/mc/prefiltered_func_data_mcf.mat/MAT_0112\n",
      "tar: fsl_course_data/fmri/ptt/at/at_left.feat/mc/prefiltered_func_data_mcf.mat/MAT_0112: skipping existing file\n",
      "fsl_course_data/fmri/ptt/at/at_left.feat/mc/prefiltered_func_data_mcf.mat/MAT_0068\n",
      "tar: fsl_course_data/fmri/ptt/at/at_left.feat/mc/prefiltered_func_data_mcf.mat/MAT_0068: skipping existing file\n",
      "fsl_course_data/fmri/ptt/at/at_left.feat/mc/prefiltered_func_data_mcf.mat/MAT_0118\n",
      "tar: fsl_course_data/fmri/ptt/at/at_left.feat/mc/prefiltered_func_data_mcf.mat/MAT_0118: skipping existing file\n",
      "fsl_course_data/fmri/ptt/at/at_left.feat/mc/prefiltered_func_data_mcf.mat/MAT_0015\n",
      "tar: fsl_course_data/fmri/ptt/at/at_left.feat/mc/prefiltered_func_data_mcf.mat/MAT_0015: skipping existing file\n",
      "fsl_course_data/fmri/ptt/at/at_left.feat/mc/prefiltered_func_data_mcf.mat/MAT_0062\n",
      "tar: fsl_course_data/fmri/ptt/at/at_left.feat/mc/prefiltered_func_data_mcf.mat/MAT_0062: skipping existing file\n",
      "fsl_course_data/fmri/ptt/at/at_left.feat/mc/prefiltered_func_data_mcf.mat/MAT_0018\n",
      "tar: fsl_course_data/fmri/ptt/at/at_left.feat/mc/prefiltered_func_data_mcf.mat/MAT_0018: skipping existing file\n",
      "fsl_course_data/fmri/ptt/at/at_left.feat/mc/prefiltered_func_data_mcf.mat/MAT_0115\n",
      "tar: fsl_course_data/fmri/ptt/at/at_left.feat/mc/prefiltered_func_data_mcf.mat/MAT_0115: skipping existing file\n",
      "fsl_course_data/fmri/ptt/at/at_left.feat/mc/prefiltered_func_data_mcf.mat/MAT_0081\n",
      "tar: fsl_course_data/fmri/ptt/at/at_left.feat/mc/prefiltered_func_data_mcf.mat/MAT_0081: skipping existing file\n",
      "fsl_course_data/fmri/ptt/at/at_left.feat/mc/prefiltered_func_data_mcf.mat/MAT_0065\n",
      "tar: fsl_course_data/fmri/ptt/at/at_left.feat/mc/prefiltered_func_data_mcf.mat/MAT_0065: skipping existing file\n",
      "fsl_course_data/fmri/ptt/at/at_left.feat/mc/prefiltered_func_data_mcf.mat/MAT_0012\n",
      "tar: fsl_course_data/fmri/ptt/at/at_left.feat/mc/prefiltered_func_data_mcf.mat/MAT_0012: skipping existing file\n",
      "fsl_course_data/fmri/ptt/at/at_left.feat/mc/prefiltered_func_data_mcf.mat/MAT_0020\n",
      "tar: fsl_course_data/fmri/ptt/at/at_left.feat/mc/prefiltered_func_data_mcf.mat/MAT_0020: skipping existing file\n",
      "fsl_course_data/fmri/ptt/at/at_left.feat/mc/prefiltered_func_data_mcf.mat/MAT_0057\n",
      "tar: fsl_course_data/fmri/ptt/at/at_left.feat/mc/prefiltered_func_data_mcf.mat/MAT_0057: skipping existing file\n",
      "fsl_course_data/fmri/ptt/at/at_left.feat/mc/prefiltered_func_data_mcf.mat/MAT_0098\n",
      "tar: fsl_course_data/fmri/ptt/at/at_left.feat/mc/prefiltered_func_data_mcf.mat/MAT_0098: skipping existing file\n",
      "fsl_course_data/fmri/ptt/at/at_left.feat/mc/prefiltered_func_data_mcf.mat/MAT_0076\n",
      "tar: fsl_course_data/fmri/ptt/at/at_left.feat/mc/prefiltered_func_data_mcf.mat/MAT_0076: skipping existing file\n",
      "fsl_course_data/fmri/ptt/at/at_left.feat/mc/prefiltered_func_data_mcf.mat/MAT_0001\n",
      "tar: fsl_course_data/fmri/ptt/at/at_left.feat/mc/prefiltered_func_data_mcf.mat/MAT_0001: skipping existing file\n",
      "fsl_course_data/fmri/ptt/at/at_left.feat/mc/prefiltered_func_data_mcf.mat/MAT_0106\n",
      "tar: fsl_course_data/fmri/ptt/at/at_left.feat/mc/prefiltered_func_data_mcf.mat/MAT_0106: skipping existing file\n",
      "fsl_course_data/fmri/ptt/at/at_left.feat/mc/prefiltered_func_data_mcf.mat/MAT_0092\n",
      "tar: fsl_course_data/fmri/ptt/at/at_left.feat/mc/prefiltered_func_data_mcf.mat/MAT_0092: skipping existing file\n",
      "fsl_course_data/fmri/ptt/at/at_left.feat/mc/prefiltered_func_data_mcf.mat/MAT_0033\n",
      "tar: fsl_course_data/fmri/ptt/at/at_left.feat/mc/prefiltered_func_data_mcf.mat/MAT_0033: skipping existing file\n",
      "fsl_course_data/fmri/ptt/at/at_left.feat/mc/prefiltered_func_data_mcf.mat/MAT_0044\n",
      "tar: fsl_course_data/fmri/ptt/at/at_left.feat/mc/prefiltered_func_data_mcf.mat/MAT_0044: skipping existing file\n",
      "fsl_course_data/fmri/ptt/at/at_left.feat/mc/prefiltered_func_data_mcf.mat/MAT_0039\n",
      "tar: fsl_course_data/fmri/ptt/at/at_left.feat/mc/prefiltered_func_data_mcf.mat/MAT_0039: skipping existing file\n",
      "fsl_course_data/fmri/ptt/at/at_left.feat/mc/prefiltered_func_data_mcf.mat/MAT_0074\n",
      "tar: fsl_course_data/fmri/ptt/at/at_left.feat/mc/prefiltered_func_data_mcf.mat/MAT_0074: skipping existing file\n",
      "fsl_course_data/fmri/ptt/at/at_left.feat/mc/prefiltered_func_data_mcf.mat/MAT_0003\n",
      "tar: fsl_course_data/fmri/ptt/at/at_left.feat/mc/prefiltered_func_data_mcf.mat/MAT_0003: skipping existing file\n",
      "fsl_course_data/fmri/ptt/at/at_left.feat/mc/prefiltered_func_data_mcf.mat/MAT_0104\n",
      "tar: fsl_course_data/fmri/ptt/at/at_left.feat/mc/prefiltered_func_data_mcf.mat/MAT_0104: skipping existing file\n",
      "fsl_course_data/fmri/ptt/at/at_left.feat/mc/prefiltered_func_data_mcf.mat/MAT_0090\n",
      "tar: fsl_course_data/fmri/ptt/at/at_left.feat/mc/prefiltered_func_data_mcf.mat/MAT_0090: skipping existing file\n",
      "fsl_course_data/fmri/ptt/at/at_left.feat/mc/prefiltered_func_data_mcf.mat/MAT_0009\n",
      "tar: fsl_course_data/fmri/ptt/at/at_left.feat/mc/prefiltered_func_data_mcf.mat/MAT_0009: skipping existing file\n",
      "fsl_course_data/fmri/ptt/at/at_left.feat/mc/prefiltered_func_data_mcf.mat/MAT_0031\n",
      "tar: fsl_course_data/fmri/ptt/at/at_left.feat/mc/prefiltered_func_data_mcf.mat/MAT_0031: skipping existing file\n",
      "fsl_course_data/fmri/ptt/at/at_left.feat/mc/prefiltered_func_data_mcf.mat/MAT_0046\n",
      "tar: fsl_course_data/fmri/ptt/at/at_left.feat/mc/prefiltered_func_data_mcf.mat/MAT_0046: skipping existing file\n",
      "fsl_course_data/fmri/ptt/at/at_left.feat/mc/prefiltered_func_data_mcf.mat/MAT_0117\n",
      "tar: fsl_course_data/fmri/ptt/at/at_left.feat/mc/prefiltered_func_data_mcf.mat/MAT_0117: skipping existing file\n",
      "fsl_course_data/fmri/ptt/at/at_left.feat/mc/prefiltered_func_data_mcf.mat/MAT_0083\n",
      "tar: fsl_course_data/fmri/ptt/at/at_left.feat/mc/prefiltered_func_data_mcf.mat/MAT_0083: skipping existing file\n",
      "fsl_course_data/fmri/ptt/at/at_left.feat/mc/prefiltered_func_data_mcf.mat/MAT_0067\n",
      "tar: fsl_course_data/fmri/ptt/at/at_left.feat/mc/prefiltered_func_data_mcf.mat/MAT_0067: skipping existing file\n",
      "fsl_course_data/fmri/ptt/at/at_left.feat/mc/prefiltered_func_data_mcf.mat/MAT_0010\n",
      "tar: fsl_course_data/fmri/ptt/at/at_left.feat/mc/prefiltered_func_data_mcf.mat/MAT_0010: skipping existing file\n",
      "fsl_course_data/fmri/ptt/at/at_left.feat/mc/prefiltered_func_data_mcf.mat/MAT_0089\n",
      "tar: fsl_course_data/fmri/ptt/at/at_left.feat/mc/prefiltered_func_data_mcf.mat/MAT_0089: skipping existing file\n",
      "fsl_course_data/fmri/ptt/at/at_left.feat/mc/prefiltered_func_data_mcf.mat/MAT_0028\n",
      "tar: fsl_course_data/fmri/ptt/at/at_left.feat/mc/prefiltered_func_data_mcf.mat/MAT_0028: skipping existing file\n",
      "fsl_course_data/fmri/ptt/at/at_left.feat/mc/prefiltered_func_data_mcf.mat/MAT_0022\n",
      "tar: fsl_course_data/fmri/ptt/at/at_left.feat/mc/prefiltered_func_data_mcf.mat/MAT_0022: skipping existing file\n",
      "fsl_course_data/fmri/ptt/at/at_left.feat/mc/prefiltered_func_data_mcf.mat/MAT_0055\n",
      "tar: fsl_course_data/fmri/ptt/at/at_left.feat/mc/prefiltered_func_data_mcf.mat/MAT_0055: skipping existing file\n",
      "fsl_course_data/fmri/ptt/at/at_left.feat/mc/prefiltered_func_data_mcf.mat/MAT_0058\n",
      "tar: fsl_course_data/fmri/ptt/at/at_left.feat/mc/prefiltered_func_data_mcf.mat/MAT_0058: skipping existing file\n",
      "fsl_course_data/fmri/ptt/at/at_left.feat/mc/prefiltered_func_data_mcf.mat/MAT_0052\n",
      "tar: fsl_course_data/fmri/ptt/at/at_left.feat/mc/prefiltered_func_data_mcf.mat/MAT_0052: skipping existing file\n",
      "fsl_course_data/fmri/ptt/at/at_left.feat/mc/prefiltered_func_data_mcf.mat/MAT_0025\n",
      "tar: fsl_course_data/fmri/ptt/at/at_left.feat/mc/prefiltered_func_data_mcf.mat/MAT_0025: skipping existing file\n",
      "fsl_course_data/fmri/ptt/at/at_left.feat/mc/prefiltered_func_data_mcf.mat/MAT_0084\n",
      "tar: fsl_course_data/fmri/ptt/at/at_left.feat/mc/prefiltered_func_data_mcf.mat/MAT_0084: skipping existing file\n",
      "fsl_course_data/fmri/ptt/at/at_left.feat/mc/prefiltered_func_data_mcf.mat/MAT_0110\n",
      "tar: fsl_course_data/fmri/ptt/at/at_left.feat/mc/prefiltered_func_data_mcf.mat/MAT_0110: skipping existing file\n",
      "fsl_course_data/fmri/ptt/at/at_left.feat/mc/prefiltered_func_data_mcf.mat/MAT_0017\n",
      "tar: fsl_course_data/fmri/ptt/at/at_left.feat/mc/prefiltered_func_data_mcf.mat/MAT_0017: skipping existing file\n",
      "fsl_course_data/fmri/ptt/at/at_left.feat/mc/prefiltered_func_data_mcf.mat/MAT_0060\n",
      "tar: fsl_course_data/fmri/ptt/at/at_left.feat/mc/prefiltered_func_data_mcf.mat/MAT_0060: skipping existing file\n",
      "fsl_course_data/fmri/ptt/at/at_left.feat/mc/prefiltered_func_data_mcf.mat/MAT_0041\n",
      "tar: fsl_course_data/fmri/ptt/at/at_left.feat/mc/prefiltered_func_data_mcf.mat/MAT_0041: skipping existing file\n",
      "fsl_course_data/fmri/ptt/at/at_left.feat/mc/prefiltered_func_data_mcf.mat/MAT_0036\n",
      "tar: fsl_course_data/fmri/ptt/at/at_left.feat/mc/prefiltered_func_data_mcf.mat/MAT_0036: skipping existing file\n",
      "fsl_course_data/fmri/ptt/at/at_left.feat/mc/prefiltered_func_data_mcf.mat/MAT_0004\n",
      "tar: fsl_course_data/fmri/ptt/at/at_left.feat/mc/prefiltered_func_data_mcf.mat/MAT_0004: skipping existing file\n",
      "fsl_course_data/fmri/ptt/at/at_left.feat/mc/prefiltered_func_data_mcf.mat/MAT_0073\n",
      "tar: fsl_course_data/fmri/ptt/at/at_left.feat/mc/prefiltered_func_data_mcf.mat/MAT_0073: skipping existing file\n",
      "fsl_course_data/fmri/ptt/at/at_left.feat/mc/prefiltered_func_data_mcf.mat/MAT_0109\n",
      "tar: fsl_course_data/fmri/ptt/at/at_left.feat/mc/prefiltered_func_data_mcf.mat/MAT_0109: skipping existing file\n",
      "fsl_course_data/fmri/ptt/at/at_left.feat/mc/prefiltered_func_data_mcf.mat/MAT_0079\n",
      "tar: fsl_course_data/fmri/ptt/at/at_left.feat/mc/prefiltered_func_data_mcf.mat/MAT_0079: skipping existing file\n",
      "fsl_course_data/fmri/ptt/at/at_left.feat/mc/prefiltered_func_data_mcf.mat/MAT_0097\n",
      "tar: fsl_course_data/fmri/ptt/at/at_left.feat/mc/prefiltered_func_data_mcf.mat/MAT_0097: skipping existing file\n",
      "fsl_course_data/fmri/ptt/at/at_left.feat/mc/prefiltered_func_data_mcf.mat/MAT_0103\n",
      "tar: fsl_course_data/fmri/ptt/at/at_left.feat/mc/prefiltered_func_data_mcf.mat/MAT_0103: skipping existing file\n",
      "fsl_course_data/fmri/ptt/at/at_left.feat/mc/prefiltered_func_data_mcf.mat/MAT_0107\n",
      "tar: fsl_course_data/fmri/ptt/at/at_left.feat/mc/prefiltered_func_data_mcf.mat/MAT_0107: skipping existing file\n",
      "fsl_course_data/fmri/ptt/at/at_left.feat/mc/prefiltered_func_data_mcf.mat/MAT_0093\n",
      "tar: fsl_course_data/fmri/ptt/at/at_left.feat/mc/prefiltered_func_data_mcf.mat/MAT_0093: skipping existing file\n",
      "fsl_course_data/fmri/ptt/at/at_left.feat/mc/prefiltered_func_data_mcf.mat/MAT_0099\n",
      "tar: fsl_course_data/fmri/ptt/at/at_left.feat/mc/prefiltered_func_data_mcf.mat/MAT_0099: skipping existing file\n",
      "fsl_course_data/fmri/ptt/at/at_left.feat/mc/prefiltered_func_data_mcf.mat/MAT_0000\n",
      "tar: fsl_course_data/fmri/ptt/at/at_left.feat/mc/prefiltered_func_data_mcf.mat/MAT_0000: skipping existing file\n",
      "fsl_course_data/fmri/ptt/at/at_left.feat/mc/prefiltered_func_data_mcf.mat/MAT_0077\n",
      "tar: fsl_course_data/fmri/ptt/at/at_left.feat/mc/prefiltered_func_data_mcf.mat/MAT_0077: skipping existing file\n",
      "fsl_course_data/fmri/ptt/at/at_left.feat/mc/prefiltered_func_data_mcf.mat/MAT_0038\n",
      "tar: fsl_course_data/fmri/ptt/at/at_left.feat/mc/prefiltered_func_data_mcf.mat/MAT_0038: skipping existing file\n",
      "fsl_course_data/fmri/ptt/at/at_left.feat/mc/prefiltered_func_data_mcf.mat/MAT_0045\n",
      "tar: fsl_course_data/fmri/ptt/at/at_left.feat/mc/prefiltered_func_data_mcf.mat/MAT_0045: skipping existing file\n",
      "fsl_course_data/fmri/ptt/at/at_left.feat/mc/prefiltered_func_data_mcf.mat/MAT_0032\n",
      "tar: fsl_course_data/fmri/ptt/at/at_left.feat/mc/prefiltered_func_data_mcf.mat/MAT_0032: skipping existing file\n",
      "fsl_course_data/fmri/ptt/at/at_left.feat/mc/prefiltered_func_data_mcf.mat/MAT_0013\n",
      "tar: fsl_course_data/fmri/ptt/at/at_left.feat/mc/prefiltered_func_data_mcf.mat/MAT_0013: skipping existing file\n",
      "fsl_course_data/fmri/ptt/at/at_left.feat/mc/prefiltered_func_data_mcf.mat/MAT_0064\n",
      "tar: fsl_course_data/fmri/ptt/at/at_left.feat/mc/prefiltered_func_data_mcf.mat/MAT_0064: skipping existing file\n",
      "fsl_course_data/fmri/ptt/at/at_left.feat/mc/prefiltered_func_data_mcf.mat/MAT_0019\n",
      "tar: fsl_course_data/fmri/ptt/at/at_left.feat/mc/prefiltered_func_data_mcf.mat/MAT_0019: skipping existing file\n",
      "fsl_course_data/fmri/ptt/at/at_left.feat/mc/prefiltered_func_data_mcf.mat/MAT_0114\n",
      "tar: fsl_course_data/fmri/ptt/at/at_left.feat/mc/prefiltered_func_data_mcf.mat/MAT_0114: skipping existing file\n",
      "fsl_course_data/fmri/ptt/at/at_left.feat/mc/prefiltered_func_data_mcf.mat/MAT_0080\n",
      "tar: fsl_course_data/fmri/ptt/at/at_left.feat/mc/prefiltered_func_data_mcf.mat/MAT_0080: skipping existing file\n",
      "fsl_course_data/fmri/ptt/at/at_left.feat/mc/prefiltered_func_data_mcf.mat/MAT_0056\n",
      "tar: fsl_course_data/fmri/ptt/at/at_left.feat/mc/prefiltered_func_data_mcf.mat/MAT_0056: skipping existing file\n",
      "fsl_course_data/fmri/ptt/at/at_left.feat/mc/prefiltered_func_data_mcf.mat/MAT_0021\n",
      "tar: fsl_course_data/fmri/ptt/at/at_left.feat/mc/prefiltered_func_data_mcf.mat/MAT_0021: skipping existing file\n",
      "fsl_course_data/fmri/ptt/at/at_left.feat/mc/prefiltered_func_data_mcf.mat/MAT_0026\n",
      "tar: fsl_course_data/fmri/ptt/at/at_left.feat/mc/prefiltered_func_data_mcf.mat/MAT_0026: skipping existing file\n",
      "fsl_course_data/fmri/ptt/at/at_left.feat/mc/prefiltered_func_data_mcf.mat/MAT_0051\n",
      "tar: fsl_course_data/fmri/ptt/at/at_left.feat/mc/prefiltered_func_data_mcf.mat/MAT_0051: skipping existing file\n",
      "fsl_course_data/fmri/ptt/at/at_left.feat/mc/prefiltered_func_data_mcf.mat/MAT_0121\n",
      "tar: fsl_course_data/fmri/ptt/at/at_left.feat/mc/prefiltered_func_data_mcf.mat/MAT_0121: skipping existing file\n",
      "fsl_course_data/fmri/ptt/at/at_left.feat/mc/prefiltered_func_data_mcf.mat/MAT_0119\n",
      "tar: fsl_course_data/fmri/ptt/at/at_left.feat/mc/prefiltered_func_data_mcf.mat/MAT_0119: skipping existing file\n",
      "fsl_course_data/fmri/ptt/at/at_left.feat/mc/prefiltered_func_data_mcf.mat/MAT_0063\n",
      "tar: fsl_course_data/fmri/ptt/at/at_left.feat/mc/prefiltered_func_data_mcf.mat/MAT_0063: skipping existing file\n",
      "fsl_course_data/fmri/ptt/at/at_left.feat/mc/prefiltered_func_data_mcf.mat/MAT_0014\n",
      "tar: fsl_course_data/fmri/ptt/at/at_left.feat/mc/prefiltered_func_data_mcf.mat/MAT_0014: skipping existing file\n",
      "fsl_course_data/fmri/ptt/at/at_left.feat/mc/prefiltered_func_data_mcf.mat/MAT_0087\n",
      "tar: fsl_course_data/fmri/ptt/at/at_left.feat/mc/prefiltered_func_data_mcf.mat/MAT_0087: skipping existing file\n",
      "fsl_course_data/fmri/ptt/at/at_left.feat/mc/prefiltered_func_data_mcf.mat/MAT_0113\n",
      "tar: fsl_course_data/fmri/ptt/at/at_left.feat/mc/prefiltered_func_data_mcf.mat/MAT_0113: skipping existing file\n",
      "fsl_course_data/fmri/ptt/at/at_left.feat/mc/prefiltered_func_data_mcf.mat/MAT_0069\n",
      "tar: fsl_course_data/fmri/ptt/at/at_left.feat/mc/prefiltered_func_data_mcf.mat/MAT_0069: skipping existing file\n",
      "fsl_course_data/fmri/ptt/at/at_left.feat/mc/prefiltered_func_data_mcf.mat/MAT_0048\n",
      "tar: fsl_course_data/fmri/ptt/at/at_left.feat/mc/prefiltered_func_data_mcf.mat/MAT_0048: skipping existing file\n",
      "fsl_course_data/fmri/ptt/at/at_left.feat/mc/prefiltered_func_data_mcf.mat/MAT_0035\n",
      "tar: fsl_course_data/fmri/ptt/at/at_left.feat/mc/prefiltered_func_data_mcf.mat/MAT_0035: skipping existing file\n",
      "fsl_course_data/fmri/ptt/at/at_left.feat/mc/prefiltered_func_data_mcf.mat/MAT_0042\n",
      "tar: fsl_course_data/fmri/ptt/at/at_left.feat/mc/prefiltered_func_data_mcf.mat/MAT_0042: skipping existing file\n",
      "fsl_course_data/fmri/ptt/at/at_left.feat/mc/prefiltered_func_data_mcf.mat/MAT_0094\n",
      "tar: fsl_course_data/fmri/ptt/at/at_left.feat/mc/prefiltered_func_data_mcf.mat/MAT_0094: skipping existing file\n",
      "fsl_course_data/fmri/ptt/at/at_left.feat/mc/prefiltered_func_data_mcf.mat/MAT_0100\n",
      "tar: fsl_course_data/fmri/ptt/at/at_left.feat/mc/prefiltered_func_data_mcf.mat/MAT_0100: skipping existing file\n",
      "fsl_course_data/fmri/ptt/at/at_left.feat/mc/prefiltered_func_data_mcf.mat/MAT_0070\n",
      "tar: fsl_course_data/fmri/ptt/at/at_left.feat/mc/prefiltered_func_data_mcf.mat/MAT_0070: skipping existing file\n",
      "fsl_course_data/fmri/ptt/at/at_left.feat/mc/prefiltered_func_data_mcf.mat/MAT_0007\n",
      "tar: fsl_course_data/fmri/ptt/at/at_left.feat/mc/prefiltered_func_data_mcf.mat/MAT_0007: skipping existing file\n",
      "fsl_course_data/fmri/ptt/at/at_left.feat/mc/disp.png\n",
      "tar: fsl_course_data/fmri/ptt/at/at_left.feat/mc/disp.png: skipping existing file\n",
      "fsl_course_data/fmri/ptt/at/at_left.feat/mc/prefiltered_func_data_mcf_rel.rms\n",
      "tar: fsl_course_data/fmri/ptt/at/at_left.feat/mc/prefiltered_func_data_mcf_rel.rms: skipping existing file\n",
      "fsl_course_data/fmri/ptt/at/at_left.feat/thresh_zfstat1.nii.gz\n",
      "tar: fsl_course_data/fmri/ptt/at/at_left.feat/thresh_zfstat1.nii.gz: skipping existing file\n",
      "fsl_course_data/fmri/ptt/at/at_left.feat/lmax_zstat5.txt\n",
      "tar: fsl_course_data/fmri/ptt/at/at_left.feat/lmax_zstat5.txt: skipping existing file\n",
      "fsl_course_data/fmri/ptt/at/at_left.feat/cluster_zstat1.html\n",
      "tar: fsl_course_data/fmri/ptt/at/at_left.feat/cluster_zstat1.html: skipping existing file\n",
      "fsl_course_data/fmri/ptt/at/at_left.feat/mask.nii.gz\n",
      "tar: fsl_course_data/fmri/ptt/at/at_left.feat/mask.nii.gz: skipping existing file\n",
      "fsl_course_data/fmri/ptt/at/at_left.feat/rendered_thresh_zstat5.nii.gz\n",
      "tar: fsl_course_data/fmri/ptt/at/at_left.feat/rendered_thresh_zstat5.nii.gz: skipping existing file\n",
      "fsl_course_data/fmri/ptt/at/at_left.feat/rendered_thresh_zfstat1.png\n",
      "tar: fsl_course_data/fmri/ptt/at/at_left.feat/rendered_thresh_zfstat1.png: skipping existing file\n",
      "fsl_course_data/fmri/ptt/at/at_left.feat/cluster_zstat5.html\n",
      "tar: fsl_course_data/fmri/ptt/at/at_left.feat/cluster_zstat5.html: skipping existing file\n",
      "fsl_course_data/fmri/ptt/at/at_left.feat/cluster_zstat3_std.txt\n",
      "tar: fsl_course_data/fmri/ptt/at/at_left.feat/cluster_zstat3_std.txt: skipping existing file\n",
      "fsl_course_data/fmri/ptt/at/at_left.feat/lmax_zstat1.txt\n",
      "tar: fsl_course_data/fmri/ptt/at/at_left.feat/lmax_zstat1.txt: skipping existing file\n",
      "fsl_course_data/fmri/ptt/at/at_left.feat/design.frf\n",
      "tar: fsl_course_data/fmri/ptt/at/at_left.feat/design.frf: skipping existing file\n",
      "fsl_course_data/fmri/ptt/at/at_left.feat/lmax_zstat1_std.txt\n",
      "tar: fsl_course_data/fmri/ptt/at/at_left.feat/lmax_zstat1_std.txt: skipping existing file\n",
      "fsl_course_data/fmri/ptt/at/at_left.feat/cluster_mask_zstat4.nii.gz\n",
      "tar: fsl_course_data/fmri/ptt/at/at_left.feat/cluster_mask_zstat4.nii.gz: skipping existing file\n",
      "fsl_course_data/fmri/ptt/at/at_left.feat/design.trg\n",
      "tar: fsl_course_data/fmri/ptt/at/at_left.feat/design.trg: skipping existing file\n",
      "fsl_course_data/fmri/ptt/at/at_left.feat/lmax_zstat5_std.txt\n",
      "tar: fsl_course_data/fmri/ptt/at/at_left.feat/lmax_zstat5_std.txt: skipping existing file\n",
      "fsl_course_data/fmri/ptt/at/at_left.feat/design_cov.png\n",
      "tar: fsl_course_data/fmri/ptt/at/at_left.feat/design_cov.png: skipping existing file\n",
      "fsl_course_data/fmri/ptt/at/at_left.feat/thresh_zstat5.nii.gz\n",
      "tar: fsl_course_data/fmri/ptt/at/at_left.feat/thresh_zstat5.nii.gz: skipping existing file\n",
      "fsl_course_data/fmri/ptt/at/at_left.feat/cluster_zstat4_std.html\n",
      "tar: fsl_course_data/fmri/ptt/at/at_left.feat/cluster_zstat4_std.html: skipping existing file\n",
      "fsl_course_data/fmri/ptt/at/at_left.feat/thresh_zfstat1.vol\n",
      "tar: fsl_course_data/fmri/ptt/at/at_left.feat/thresh_zfstat1.vol: skipping existing file\n",
      "fsl_course_data/fmri/ptt/at/at_left.feat/design.png\n",
      "tar: fsl_course_data/fmri/ptt/at/at_left.feat/design.png: skipping existing file\n",
      "fsl_course_data/fmri/ptt/at/at_left.feat/lmax_zfstat1_std.txt\n",
      "tar: fsl_course_data/fmri/ptt/at/at_left.feat/lmax_zfstat1_std.txt: skipping existing file\n",
      "fsl_course_data/fmri/ptt/at/at_left.feat/cluster_zstat4.txt\n",
      "tar: fsl_course_data/fmri/ptt/at/at_left.feat/cluster_zstat4.txt: skipping existing file\n",
      "fsl_course_data/fmri/ptt/at/at_left.feat/logs/\n",
      "tar: fsl_course_data/fmri/ptt/at/at_left.feat/logs: skipping existing file\n",
      "fsl_course_data/fmri/ptt/at/at_left.feat/logs/feat4_post.o684739\n",
      "tar: fsl_course_data/fmri/ptt/at/at_left.feat/logs/feat4_post.o684739: skipping existing file\n",
      "fsl_course_data/fmri/ptt/at/at_left.feat/logs/feat4_post.e684741\n",
      "tar: fsl_course_data/fmri/ptt/at/at_left.feat/logs/feat4_post.e684741: skipping existing file\n",
      "fsl_course_data/fmri/ptt/at/at_left.feat/logs/feat5_reg\n",
      "tar: fsl_course_data/fmri/ptt/at/at_left.feat/logs/feat5_reg: skipping existing file\n",
      "fsl_course_data/fmri/ptt/at/at_left.feat/logs/feat5_stop.o684742\n",
      "tar: fsl_course_data/fmri/ptt/at/at_left.feat/logs/feat5_stop.o684742: skipping existing file\n",
      "fsl_course_data/fmri/ptt/at/at_left.feat/logs/feat4_post\n",
      "tar: fsl_course_data/fmri/ptt/at/at_left.feat/logs/feat4_post: skipping existing file\n",
      "fsl_course_data/fmri/ptt/at/at_left.feat/logs/feat3_film\n",
      "tar: fsl_course_data/fmri/ptt/at/at_left.feat/logs/feat3_film: skipping existing file\n",
      "fsl_course_data/fmri/ptt/at/at_left.feat/logs/feat3_film.e684738\n",
      "tar: fsl_course_data/fmri/ptt/at/at_left.feat/logs/feat3_film.e684738: skipping existing file\n",
      "fsl_course_data/fmri/ptt/at/at_left.feat/logs/feat1\n",
      "tar: fsl_course_data/fmri/ptt/at/at_left.feat/logs/feat1: skipping existing file\n",
      "fsl_course_data/fmri/ptt/at/at_left.feat/logs/feat5_reg.e684740\n",
      "tar: fsl_course_data/fmri/ptt/at/at_left.feat/logs/feat5_reg.e684740: skipping existing file\n",
      "fsl_course_data/fmri/ptt/at/at_left.feat/logs/feat2_pre.e684737\n",
      "tar: fsl_course_data/fmri/ptt/at/at_left.feat/logs/feat2_pre.e684737: skipping existing file\n",
      "fsl_course_data/fmri/ptt/at/at_left.feat/logs/feat2_pre\n",
      "tar: fsl_course_data/fmri/ptt/at/at_left.feat/logs/feat2_pre: skipping existing file\n",
      "fsl_course_data/fmri/ptt/at/at_left.feat/logs/feat5_stop.e684742\n",
      "tar: fsl_course_data/fmri/ptt/at/at_left.feat/logs/feat5_stop.e684742: skipping existing file\n",
      "fsl_course_data/fmri/ptt/at/at_left.feat/logs/feat9\n",
      "tar: fsl_course_data/fmri/ptt/at/at_left.feat/logs/feat9: skipping existing file\n",
      "fsl_course_data/fmri/ptt/at/at_left.feat/logs/feat3_film.o684738\n",
      "tar: fsl_course_data/fmri/ptt/at/at_left.feat/logs/feat3_film.o684738: skipping existing file\n",
      "fsl_course_data/fmri/ptt/at/at_left.feat/logs/feat5_reg.o684740\n",
      "tar: fsl_course_data/fmri/ptt/at/at_left.feat/logs/feat5_reg.o684740: skipping existing file\n",
      "fsl_course_data/fmri/ptt/at/at_left.feat/logs/feat2_pre.o684737\n",
      "tar: fsl_course_data/fmri/ptt/at/at_left.feat/logs/feat2_pre.o684737: skipping existing file\n",
      "fsl_course_data/fmri/ptt/at/at_left.feat/logs/feat4_post.e684739\n",
      "tar: fsl_course_data/fmri/ptt/at/at_left.feat/logs/feat4_post.e684739: skipping existing file\n",
      "fsl_course_data/fmri/ptt/at/at_left.feat/logs/feat4_post.o684741\n",
      "tar: fsl_course_data/fmri/ptt/at/at_left.feat/logs/feat4_post.o684741: skipping existing file\n",
      "fsl_course_data/fmri/ptt/at/at_left.feat/logs/feat0\n",
      "tar: fsl_course_data/fmri/ptt/at/at_left.feat/logs/feat0: skipping existing file\n",
      "fsl_course_data/fmri/ptt/at/at_left.feat/report_stats.html\n",
      "tar: fsl_course_data/fmri/ptt/at/at_left.feat/report_stats.html: skipping existing file\n",
      "fsl_course_data/fmri/ptt/at/at_left.feat/reg_standard/\n",
      "tar: fsl_course_data/fmri/ptt/at/at_left.feat/reg_standard: skipping existing file\n",
      "fsl_course_data/fmri/ptt/at/at_left.feat/reg_standard/mean_func.nii.gz\n",
      "tar: fsl_course_data/fmri/ptt/at/at_left.feat/reg_standard/mean_func.nii.gz: skipping existing file\n",
      "fsl_course_data/fmri/ptt/at/at_left.feat/reg_standard/mask.nii.gz\n",
      "tar: fsl_course_data/fmri/ptt/at/at_left.feat/reg_standard/mask.nii.gz: skipping existing file\n",
      "fsl_course_data/fmri/ptt/at/at_left.feat/reg_standard/reg/\n",
      "tar: fsl_course_data/fmri/ptt/at/at_left.feat/reg_standard/reg: skipping existing file\n",
      "fsl_course_data/fmri/ptt/at/at_left.feat/reg_standard/reg/highres.nii.gz\n",
      "tar: fsl_course_data/fmri/ptt/at/at_left.feat/reg_standard/reg/highres.nii.gz: skipping existing file\n",
      "fsl_course_data/fmri/ptt/at/at_left.feat/reg_standard/stats/\n",
      "tar: fsl_course_data/fmri/ptt/at/at_left.feat/reg_standard/stats: skipping existing file\n",
      "fsl_course_data/fmri/ptt/at/at_left.feat/reg_standard/stats/cope1.nii.gz\n",
      "tar: fsl_course_data/fmri/ptt/at/at_left.feat/reg_standard/stats/cope1.nii.gz: skipping existing file\n",
      "fsl_course_data/fmri/ptt/at/at_left.feat/reg_standard/stats/cope3.nii.gz\n",
      "tar: fsl_course_data/fmri/ptt/at/at_left.feat/reg_standard/stats/cope3.nii.gz: skipping existing file\n",
      "fsl_course_data/fmri/ptt/at/at_left.feat/reg_standard/stats/varcope2.nii.gz\n",
      "tar: fsl_course_data/fmri/ptt/at/at_left.feat/reg_standard/stats/varcope2.nii.gz: skipping existing file\n",
      "fsl_course_data/fmri/ptt/at/at_left.feat/reg_standard/stats/cope5.nii.gz\n",
      "tar: fsl_course_data/fmri/ptt/at/at_left.feat/reg_standard/stats/cope5.nii.gz: skipping existing file\n",
      "fsl_course_data/fmri/ptt/at/at_left.feat/reg_standard/stats/varcope4.nii.gz\n",
      "tar: fsl_course_data/fmri/ptt/at/at_left.feat/reg_standard/stats/varcope4.nii.gz: skipping existing file\n",
      "fsl_course_data/fmri/ptt/at/at_left.feat/reg_standard/stats/varcope5.nii.gz\n",
      "tar: fsl_course_data/fmri/ptt/at/at_left.feat/reg_standard/stats/varcope5.nii.gz: skipping existing file\n",
      "fsl_course_data/fmri/ptt/at/at_left.feat/reg_standard/stats/cope4.nii.gz\n",
      "tar: fsl_course_data/fmri/ptt/at/at_left.feat/reg_standard/stats/cope4.nii.gz: skipping existing file\n",
      "fsl_course_data/fmri/ptt/at/at_left.feat/reg_standard/stats/varcope1.nii.gz\n",
      "tar: fsl_course_data/fmri/ptt/at/at_left.feat/reg_standard/stats/varcope1.nii.gz: skipping existing file\n",
      "fsl_course_data/fmri/ptt/at/at_left.feat/reg_standard/stats/varcope3.nii.gz\n",
      "tar: fsl_course_data/fmri/ptt/at/at_left.feat/reg_standard/stats/varcope3.nii.gz: skipping existing file\n",
      "fsl_course_data/fmri/ptt/at/at_left.feat/reg_standard/stats/cope2.nii.gz\n",
      "tar: fsl_course_data/fmri/ptt/at/at_left.feat/reg_standard/stats/cope2.nii.gz: skipping existing file\n",
      "fsl_course_data/fmri/ptt/at/at_left.feat/reg_standard/example_func.nii.gz\n",
      "tar: fsl_course_data/fmri/ptt/at/at_left.feat/reg_standard/example_func.nii.gz: skipping existing file\n",
      "fsl_course_data/fmri/ptt/at/at_left.feat/cluster_zfstat1.txt\n",
      "tar: fsl_course_data/fmri/ptt/at/at_left.feat/cluster_zfstat1.txt: skipping existing file\n",
      "fsl_course_data/fmri/ptt/at/at_left.feat/cluster_zstat3.html\n",
      "tar: fsl_course_data/fmri/ptt/at/at_left.feat/cluster_zstat3.html: skipping existing file\n",
      "fsl_course_data/fmri/ptt/at/at_left.feat/cluster_zstat3.txt\n",
      "tar: fsl_course_data/fmri/ptt/at/at_left.feat/cluster_zstat3.txt: skipping existing file\n",
      "fsl_course_data/fmri/ptt/at/at_left.feat/rendered_thresh_zstat4.nii.gz\n",
      "tar: fsl_course_data/fmri/ptt/at/at_left.feat/rendered_thresh_zstat4.nii.gz: skipping existing file\n",
      "fsl_course_data/fmri/ptt/at/at_left.feat/cluster_zstat3_std.html\n",
      "tar: fsl_course_data/fmri/ptt/at/at_left.feat/cluster_zstat3_std.html: skipping existing file\n",
      "fsl_course_data/fmri/ptt/at/at_left.feat/design.ppm\n",
      "tar: fsl_course_data/fmri/ptt/at/at_left.feat/design.ppm: skipping existing file\n",
      "fsl_course_data/fmri/ptt/at/at_left.feat/cluster_zstat5_std.html\n",
      "tar: fsl_course_data/fmri/ptt/at/at_left.feat/cluster_zstat5_std.html: skipping existing file\n",
      "fsl_course_data/fmri/ptt/at/at_left.feat/cluster_zstat2.html\n",
      "tar: fsl_course_data/fmri/ptt/at/at_left.feat/cluster_zstat2.html: skipping existing file\n",
      "fsl_course_data/fmri/ptt/at/at_left.feat/design_cov.ppm\n",
      "tar: fsl_course_data/fmri/ptt/at/at_left.feat/design_cov.ppm: skipping existing file\n",
      "fsl_course_data/fmri/ptt/at/at_left.feat/report_reg.html\n",
      "tar: fsl_course_data/fmri/ptt/at/at_left.feat/report_reg.html: skipping existing file\n",
      "fsl_course_data/fmri/ptt/at/at_left.feat/thresh_zstat1.nii.gz\n",
      "tar: fsl_course_data/fmri/ptt/at/at_left.feat/thresh_zstat1.nii.gz: skipping existing file\n",
      "fsl_course_data/fmri/ptt/at/at_left.feat/rendered_thresh_zstat2.nii.gz\n",
      "tar: fsl_course_data/fmri/ptt/at/at_left.feat/rendered_thresh_zstat2.nii.gz: skipping existing file\n",
      "fsl_course_data/fmri/ptt/at/at_left.feat/cluster_mask_zfstat1.nii.gz\n",
      "tar: fsl_course_data/fmri/ptt/at/at_left.feat/cluster_mask_zfstat1.nii.gz: skipping existing file\n",
      "fsl_course_data/fmri/ptt/at/at_left.feat/design.fsf\n",
      "tar: fsl_course_data/fmri/ptt/at/at_left.feat/design.fsf: skipping existing file\n",
      "fsl_course_data/fmri/ptt/at/at_left.feat/cluster_zstat2_std.html\n",
      "tar: fsl_course_data/fmri/ptt/at/at_left.feat/cluster_zstat2_std.html: skipping existing file\n",
      "fsl_course_data/fmri/ptt/at/at_left.feat/cluster_zstat2_std.txt\n",
      "tar: fsl_course_data/fmri/ptt/at/at_left.feat/cluster_zstat2_std.txt: skipping existing file\n",
      "fsl_course_data/fmri/ptt/at/at_left.feat/report_poststats.html\n",
      "tar: fsl_course_data/fmri/ptt/at/at_left.feat/report_poststats.html: skipping existing file\n",
      "fsl_course_data/fmri/ptt/at/at_left.feat/custom_timing_files/\n",
      "tar: fsl_course_data/fmri/ptt/at/at_left.feat/custom_timing_files: skipping existing file\n",
      "fsl_course_data/fmri/ptt/at/at_left.feat/custom_timing_files/ev3.txt\n",
      "tar: fsl_course_data/fmri/ptt/at/at_left.feat/custom_timing_files/ev3.txt: skipping existing file\n",
      "fsl_course_data/fmri/ptt/at/at_left.feat/custom_timing_files/ev2.txt\n",
      "tar: fsl_course_data/fmri/ptt/at/at_left.feat/custom_timing_files/ev2.txt: skipping existing file\n",
      "fsl_course_data/fmri/ptt/at/at_left.feat/custom_timing_files/ev1.txt\n",
      "tar: fsl_course_data/fmri/ptt/at/at_left.feat/custom_timing_files/ev1.txt: skipping existing file\n",
      "fsl_course_data/fmri/ptt/at/at_left.feat/cluster_zstat2.txt\n",
      "tar: fsl_course_data/fmri/ptt/at/at_left.feat/cluster_zstat2.txt: skipping existing file\n",
      "fsl_course_data/fmri/ptt/at/at_left.feat/report.html\n",
      "tar: fsl_course_data/fmri/ptt/at/at_left.feat/report.html: skipping existing file\n",
      "fsl_course_data/fmri/ptt/at/at_left.feat/cluster_zstat5.txt\n",
      "tar: fsl_course_data/fmri/ptt/at/at_left.feat/cluster_zstat5.txt: skipping existing file\n",
      "fsl_course_data/fmri/ptt/at/at_left.feat/design.mat\n",
      "tar: fsl_course_data/fmri/ptt/at/at_left.feat/design.mat: skipping existing file\n",
      "fsl_course_data/fmri/ptt/at/at_left.feat/lmax_zstat4_std.txt\n",
      "tar: fsl_course_data/fmri/ptt/at/at_left.feat/lmax_zstat4_std.txt: skipping existing file\n",
      "fsl_course_data/fmri/ptt/at/at_left.feat/cluster_mask_zstat2.nii.gz\n",
      "tar: fsl_course_data/fmri/ptt/at/at_left.feat/cluster_mask_zstat2.nii.gz: skipping existing file\n",
      "fsl_course_data/fmri/ptt/at/at_left.feat/thresh_zstat1.vol\n",
      "tar: fsl_course_data/fmri/ptt/at/at_left.feat/thresh_zstat1.vol: skipping existing file\n",
      "fsl_course_data/fmri/ptt/at/at_left.feat/rendered_thresh_zstat1.png\n",
      "tar: fsl_course_data/fmri/ptt/at/at_left.feat/rendered_thresh_zstat1.png: skipping existing file\n",
      "fsl_course_data/fmri/ptt/at/at_left.feat/thresh_zstat3.nii.gz\n",
      "tar: fsl_course_data/fmri/ptt/at/at_left.feat/thresh_zstat3.nii.gz: skipping existing file\n"
     ]
    }
   ],
   "source": [
    "!wget -c -nc https://fsl.fmrib.ox.ac.uk/fslcourse/downloads/preCourse.tar.gz\n",
    "!tar -xzvf preCourse.tar.gz --skip-old-files"
   ]
  },
  {
   "cell_type": "markdown",
   "metadata": {
    "editable": true,
    "slideshow": {
     "slide_type": ""
    },
    "tags": []
   },
   "source": [
    "## BET basics\n",
    "BET performs brain extraction by removing non-brain tissue from structural MRI images:\n",
    "\n",
    "`bet <input> <output> [options]`\n",
    "\n",
    "- Input: Structural image (e.g., structural.nii.gz)\n",
    "- Output: Brain-extracted image\n",
    "- Options: Additional outputs like binary mask or skull surface (optional)\n",
    "\n",
    "For detailed instructions, see the complete FSL tutorial and the help page."
   ]
  },
  {
   "cell_type": "code",
   "execution_count": 4,
   "metadata": {
    "editable": true,
    "slideshow": {
     "slide_type": ""
    },
    "tags": []
   },
   "outputs": [
    {
     "name": "stdout",
     "output_type": "stream",
     "text": [
      "\n",
      "Usage:    bet <input> <output> [options]\n",
      "\n",
      "Main bet2 options:\n",
      "  -o          generate brain surface outline overlaid onto original image\n",
      "  -m          generate binary brain mask\n",
      "  -s          generate approximate skull image\n",
      "  -n          don't generate segmented brain image output\n",
      "  -f <f>      fractional intensity threshold (0->1); default=0.5; smaller values give larger brain outline estimates\n",
      "  -g <g>      vertical gradient in fractional intensity threshold (-1->1); default=0; positive values give larger brain outline at bottom, smaller at top\n",
      "  -r <r>      head radius (mm not voxels); initial surface sphere is set to half of this\n",
      "  -c <x y z>  centre-of-gravity (voxels not mm) of initial mesh surface.\n",
      "  -t          apply thresholding to segmented brain image and mask\n",
      "  -e          generates brain surface as mesh in .vtk format\n",
      "\n",
      "Variations on default bet2 functionality (mutually exclusive options):\n",
      "  (default)   just run bet2\n",
      "  -R          robust brain centre estimation (iterates BET several times)\n",
      "  -S          eye & optic nerve cleanup (can be useful in SIENA - disables -o option)\n",
      "  -B          bias field & neck cleanup (can be useful in SIENA)\n",
      "  -Z          improve BET if FOV is very small in Z (by temporarily padding end slices)\n",
      "  -F          apply to 4D FMRI data (uses -f 0.3 and dilates brain mask slightly)\n",
      "  -A          run bet2 and then betsurf to get additional skull and scalp surfaces (includes registrations)\n",
      "  -A2 <T2>    as with -A, when also feeding in non-brain-extracted T2 (includes registrations)\n",
      "\n",
      "Miscellaneous options:\n",
      "  -v          verbose (switch on diagnostic messages)\n",
      "  -h          display this help, then exits\n",
      "  -d          debug (don't delete temporary intermediate images)\n",
      "\n"
     ]
    }
   ],
   "source": [
    "!bet"
   ]
  },
  {
   "cell_type": "code",
   "execution_count": 5,
   "metadata": {
    "editable": true,
    "slideshow": {
     "slide_type": ""
    },
    "tags": []
   },
   "outputs": [],
   "source": [
    "! bet ./fsl_course_data/intro/structural.nii.gz ./output/structural_brain -m -s"
   ]
  },
  {
   "cell_type": "code",
   "execution_count": 6,
   "metadata": {
    "editable": true,
    "scrolled": true,
    "slideshow": {
     "slide_type": ""
    },
    "tags": [
     "scroll-output"
    ]
   },
   "outputs": [
    {
     "name": "stdout",
     "output_type": "stream",
     "text": [
      "total 401260\n",
      "-rw-r--r-- 1 jovyan users   2314427 May 27 06:14 synth_stripped.nii.gz\n",
      "-rw-r--r-- 1 jovyan users    140331 May 27 06:14 synth_mask.nii.gz\n",
      "-rw-r--r-- 1 jovyan users      9720 May 27 06:14 motion.1D\n",
      "-rw-r--r-- 1 jovyan users  38384424 May 27 06:14 epi_volreg.nii.gz\n",
      "-rw-r--r-- 1 jovyan users       187 May 27 06:15 synth_stripped_flirt_T1MNI.mat\n",
      "-rw-r--r-- 1 jovyan users    375206 May 27 06:15 synth_stripped_flirt_T1MNI.nii.gz\n",
      "-rw-r--r-- 1 jovyan users 112810148 May 27 06:15 sub-02_dwi.mif\n",
      "-rw-r--r-- 1 jovyan users 225614132 May 27 06:15 sub-02_den.mif\n",
      "-rw-r--r-- 1 jovyan users   2218284 May 27 06:15 noise.mif\n",
      "-rw-r--r-- 1 jovyan users   2536082 May 27 06:15 nipype_bet.nii.gz\n",
      "-rw-r--r-- 1 jovyan users   1662446 May 27 06:15 nipype_afni_edges.nii.gz\n",
      "-rw-r--r-- 1 jovyan users   1239990 May 27 06:16 colorfa.nii.gz\n",
      "-rw-r--r-- 1 jovyan users    264855 May 27 06:16 tensor_odfs.png\n",
      "-rw-r--r-- 1 jovyan users    312322 May 27 06:16 mosaic.png\n",
      "-rw-r--r-- 1 jovyan users   1476214 May 29 23:14 sub3m0_f03g02.nii.gz\n",
      "-rw-r--r-- 1 jovyan users   1385878 May 29 23:16 sub3m0_brain.nii.gz\n",
      "-rw-r--r-- 1 jovyan users   1824515 May 29 23:23 bighead_brain.nii.gz\n",
      "-rw-r--r-- 1 jovyan users   6193578 May 29 23:28 bighead_crop.nii.gz\n",
      "-rw-r--r-- 1 jovyan users   3835998 May 29 23:56 structural_brain_f02.nii.gz\n",
      "-rw-r--r-- 1 jovyan users     75293 May 29 23:56 structural_brain_f02_mask.nii.gz\n",
      "-rw-r--r-- 1 jovyan users    125927 May 29 23:56 structural_brain_f02_skull.nii.gz\n",
      "-rw-r--r-- 1 jovyan users   2508495 May 29 23:56 structural_brain_f08.nii.gz\n",
      "-rw-r--r-- 1 jovyan users     58417 May 29 23:56 structural_brain_f08_mask.nii.gz\n",
      "-rw-r--r-- 1 jovyan users     75207 May 29 23:56 structural_brain_f08_skull.nii.gz\n",
      "-rw-r--r-- 1 jovyan users   1680987 Jun  2 21:59 bighead_crop_brain.nii.gz\n",
      "-rw-r--r-- 1 jovyan users   3516911 Jun 12 21:03 structural_brain.nii.gz\n",
      "-rw-r--r-- 1 jovyan users     73650 Jun 12 21:03 structural_brain_mask.nii.gz\n",
      "-rw-r--r-- 1 jovyan users    114340 Jun 12 21:03 structural_brain_skull.nii.gz\n"
     ]
    }
   ],
   "source": [
    "! ls output -lrt"
   ]
  },
  {
   "cell_type": "markdown",
   "metadata": {},
   "source": [
    "### Visualization with ipyniivue"
   ]
  },
  {
   "cell_type": "code",
   "execution_count": 7,
   "metadata": {
    "editable": true,
    "slideshow": {
     "slide_type": ""
    },
    "tags": []
   },
   "outputs": [
    {
     "data": {
      "application/vnd.jupyter.widget-view+json": {
       "model_id": "f69deefcfb9049899cb893049cf19e61",
       "version_major": 2,
       "version_minor": 1
      },
      "text/plain": [
       "NiiVue(height=300)"
      ]
     },
     "execution_count": 7,
     "metadata": {},
     "output_type": "execute_result"
    }
   ],
   "source": [
    "from ipyniivue import NiiVue\n",
    "nv = NiiVue()\n",
    "nv.load_volumes( [{\"path\": \"./fsl_course_data/intro/structural.nii.gz\", \"colormap\": \"gray\"},\n",
    "                {\"path\": \"./output/structural_brain.nii.gz\", \"colormap\": \"red\" },\n",
    "                 {\"path\": \"./output/structural_brain_skull.nii.gz\", \"colormap\": \"blue\" }])\n",
    "nv"
   ]
  },
  {
   "cell_type": "code",
   "execution_count": 27,
   "metadata": {
    "editable": true,
    "slideshow": {
     "slide_type": ""
    },
    "tags": []
   },
   "outputs": [
    {
     "data": {
      "text/html": [
       "<img src=\"https://raw.githubusercontent.com/NeuroDesk/example-notebooks/refs/heads/main/books/images/fsl_course_bet05.png\"/>"
      ],
      "text/plain": [
       "<IPython.core.display.Image object>"
      ]
     },
     "execution_count": 27,
     "metadata": {},
     "output_type": "execute_result"
    }
   ],
   "source": [
    "from IPython.display import Image\n",
    "Image(url='https://raw.githubusercontent.com/NeuroDesk/example-notebooks/refs/heads/main/books/images/fsl_course_bet05.png')"
   ]
  },
  {
   "cell_type": "markdown",
   "metadata": {},
   "source": [
    "### Varying the fractional intensity threshold parameter (-f)\n",
    "The fractional intensity threshold is BET's key parameter for distinguishing brain tissue from non-brain tissue. This interactive demonstration shows how different `-f` values affect brain extraction results:\n",
    "\n",
    "- Lower values (e.g., -f 0.2): More inclusive extraction - captures more tissue but may include non-brain areas\n",
    "- Higher values (e.g., -f 0.8): More conservative extraction - tighter brain boundary but may exclude brain tissue\n",
    "- Default (-f 0.5): Balanced approach suitable for most cases\n",
    "\n",
    "The folowing visualization shows three different threshold results overlaid on the original image, demonstrating how this single parameter dramatically changes the extraction outcome."
   ]
  },
  {
   "cell_type": "code",
   "execution_count": 9,
   "metadata": {
    "editable": true,
    "slideshow": {
     "slide_type": ""
    },
    "tags": []
   },
   "outputs": [],
   "source": [
    "! bet ./fsl_course_data/intro/structural.nii.gz ./output/structural_brain_f02 -m -s -f 0.2\n",
    "! bet ./fsl_course_data/intro/structural.nii.gz ./output/structural_brain_f08 -m -s -f 0.8"
   ]
  },
  {
   "cell_type": "code",
   "execution_count": 10,
   "metadata": {
    "editable": true,
    "slideshow": {
     "slide_type": ""
    },
    "tags": []
   },
   "outputs": [
    {
     "data": {
      "application/vnd.jupyter.widget-view+json": {
       "model_id": "92ed447df1c84cde955ffd8713490884",
       "version_major": 2,
       "version_minor": 1
      },
      "text/plain": [
       "NiiVue(height=300)"
      ]
     },
     "execution_count": 10,
     "metadata": {},
     "output_type": "execute_result"
    }
   ],
   "source": [
    "nv = NiiVue()\n",
    "nv.load_volumes( [{\"path\": \"./output/structural_brain_f02.nii.gz\", \"colormap\": \"gray\"},\n",
    "                 {\"path\": \"./output/structural_brain.nii.gz\", \"colormap\": \"green\"}, \n",
    "                  {\"path\": \"./output/structural_brain_f08.nii.gz\", \"colormap\": \"red\"}])\n",
    "nv"
   ]
  },
  {
   "cell_type": "code",
   "execution_count": 28,
   "metadata": {
    "editable": true,
    "slideshow": {
     "slide_type": ""
    },
    "tags": []
   },
   "outputs": [
    {
     "data": {
      "text/html": [
       "<img src=\"https://raw.githubusercontent.com/NeuroDesk/example-notebooks/refs/heads/main/books/images/fsl_course_bet_f.png\"/>"
      ],
      "text/plain": [
       "<IPython.core.display.Image object>"
      ]
     },
     "execution_count": 28,
     "metadata": {},
     "output_type": "execute_result"
    }
   ],
   "source": [
    "Image(url='https://raw.githubusercontent.com/NeuroDesk/example-notebooks/refs/heads/main/books/images/fsl_course_bet_f.png')"
   ]
  },
  {
   "cell_type": "markdown",
   "metadata": {},
   "source": [
    "## Troubleshooting Brain Extraction\n",
    "\n",
    "### Cerebellum Underestimation: Using the gradient threshold option (-g)\n",
    "\n",
    "- **Problem:** Lower brain regions (cerebellum) get cut off\n"
   ]
  },
  {
   "cell_type": "code",
   "execution_count": 12,
   "metadata": {
    "editable": true,
    "slideshow": {
     "slide_type": ""
    },
    "tags": []
   },
   "outputs": [],
   "source": [
    "! bet ./fsl_course_data/intro/sub3m0.nii.gz ./output/sub3m0_brain"
   ]
  },
  {
   "cell_type": "code",
   "execution_count": 13,
   "metadata": {
    "editable": true,
    "slideshow": {
     "slide_type": ""
    },
    "tags": []
   },
   "outputs": [
    {
     "data": {
      "application/vnd.jupyter.widget-view+json": {
       "model_id": "92b1e26e64d44714986f3186c6dac5b9",
       "version_major": 2,
       "version_minor": 1
      },
      "text/plain": [
       "NiiVue(height=300)"
      ]
     },
     "execution_count": 13,
     "metadata": {},
     "output_type": "execute_result"
    }
   ],
   "source": [
    "nv = NiiVue()\n",
    "nv.load_volumes( [{\"path\": \"./output/sub3m0_brain.nii.gz\"}])\n",
    "nv"
   ]
  },
  {
   "cell_type": "code",
   "execution_count": 31,
   "metadata": {
    "editable": true,
    "slideshow": {
     "slide_type": ""
    },
    "tags": []
   },
   "outputs": [
    {
     "data": {
      "text/html": [
       "<img src=\"https://raw.githubusercontent.com/NeuroDesk/example-notebooks/refs/heads/main/books/images/fsl_course_bet_sub3m0.png\"/>"
      ],
      "text/plain": [
       "<IPython.core.display.Image object>"
      ]
     },
     "execution_count": 31,
     "metadata": {},
     "output_type": "execute_result"
    }
   ],
   "source": [
    "Image(url='https://raw.githubusercontent.com/NeuroDesk/example-notebooks/refs/heads/main/books/images/fsl_course_bet_sub3m0.png')"
   ]
  },
  {
   "cell_type": "markdown",
   "metadata": {},
   "source": [
    "- **Solution:** Use gradient threshold (-g) to vary the intensity threshold linearly by slice (getting smaller at the bottom and bigger at the top, or vice versa)\n",
    "- **Example:** Try -f 0.3 -g 0.2 for balanced results"
   ]
  },
  {
   "cell_type": "code",
   "execution_count": 15,
   "metadata": {
    "editable": true,
    "slideshow": {
     "slide_type": ""
    },
    "tags": []
   },
   "outputs": [],
   "source": [
    "! bet ./fsl_course_data/intro/sub3m0.nii.gz ./output/sub3m0_f03g02 -f 0.3 -g 0.2"
   ]
  },
  {
   "cell_type": "code",
   "execution_count": 16,
   "metadata": {
    "editable": true,
    "slideshow": {
     "slide_type": ""
    },
    "tags": []
   },
   "outputs": [
    {
     "data": {
      "application/vnd.jupyter.widget-view+json": {
       "model_id": "930422b77a4942edb079a2d085ab23d5",
       "version_major": 2,
       "version_minor": 1
      },
      "text/plain": [
       "NiiVue(height=300)"
      ]
     },
     "execution_count": 16,
     "metadata": {},
     "output_type": "execute_result"
    }
   ],
   "source": [
    "nv = NiiVue()\n",
    "nv.load_volumes([{\"path\": \"./output/sub3m0_f03g02.nii.gz\", \"colormap\": \"gray\"},\n",
    "                 {\"path\": \"./output/sub3m0_brain.nii.gz\", \"colormap\": \"green\"}])\n",
    "nv"
   ]
  },
  {
   "cell_type": "code",
   "execution_count": 32,
   "metadata": {
    "editable": true,
    "slideshow": {
     "slide_type": ""
    },
    "tags": []
   },
   "outputs": [
    {
     "data": {
      "text/html": [
       "<img src=\"https://raw.githubusercontent.com/NeuroDesk/example-notebooks/refs/heads/main/books/images/fsl_course_bet_sub3m0_g.png\"/>"
      ],
      "text/plain": [
       "<IPython.core.display.Image object>"
      ]
     },
     "execution_count": 32,
     "metadata": {},
     "output_type": "execute_result"
    }
   ],
   "source": [
    "Image(url='https://raw.githubusercontent.com/NeuroDesk/example-notebooks/refs/heads/main/books/images/fsl_course_bet_sub3m0_g.png')"
   ]
  },
  {
   "cell_type": "markdown",
   "metadata": {},
   "source": [
    "### Dealing with large FOV images\n",
    "\n",
    "- **Problem:** Large amount of neck/extra tissue confuses brain detection (initial brain surface is initialised too low):"
   ]
  },
  {
   "cell_type": "code",
   "execution_count": 18,
   "metadata": {
    "editable": true,
    "slideshow": {
     "slide_type": ""
    },
    "tags": []
   },
   "outputs": [],
   "source": [
    "! bet ./fsl_course_data/intro/bighead.nii.gz ./output/bighead_brain"
   ]
  },
  {
   "cell_type": "code",
   "execution_count": 19,
   "metadata": {
    "editable": true,
    "slideshow": {
     "slide_type": ""
    },
    "tags": []
   },
   "outputs": [
    {
     "data": {
      "application/vnd.jupyter.widget-view+json": {
       "model_id": "46010a6c5ac441c786130868a1bccbc5",
       "version_major": 2,
       "version_minor": 1
      },
      "text/plain": [
       "NiiVue(height=300)"
      ]
     },
     "execution_count": 19,
     "metadata": {},
     "output_type": "execute_result"
    }
   ],
   "source": [
    "nv = NiiVue()\n",
    "nv.load_volumes( [{\"path\": \"./fsl_course_data/intro/bighead.nii.gz\", \"colormap\": \"gray\"},\n",
    "                  {\"path\": \"./output/bighead_brain.nii.gz\", \"colormap\": \"red\"}])\n",
    "\n",
    "nv"
   ]
  },
  {
   "cell_type": "code",
   "execution_count": 33,
   "metadata": {
    "editable": true,
    "slideshow": {
     "slide_type": ""
    },
    "tags": []
   },
   "outputs": [
    {
     "data": {
      "text/html": [
       "<img src=\"https://raw.githubusercontent.com/NeuroDesk/example-notebooks/refs/heads/main/books/images/fsl_course_bet_bighead.png\"/>"
      ],
      "text/plain": [
       "<IPython.core.display.Image object>"
      ]
     },
     "execution_count": 33,
     "metadata": {},
     "output_type": "execute_result"
    }
   ],
   "source": [
    "Image(url='https://raw.githubusercontent.com/NeuroDesk/example-notebooks/refs/heads/main/books/images/fsl_course_bet_bighead.png')"
   ]
  },
  {
   "cell_type": "markdown",
   "metadata": {},
   "source": [
    "- **Solutions:**\n",
    "\n",
    "- Crop the image first to remove the neck: `robustfov -i input -r output_crop` (recommended)\n",
    "- Leave large FOV, but set brain centre-of-gravity: `-c <x y z> option`  (manual coordinate specification)\n",
    "- Robust brain centre estimation: `-R   option` (iterates BET several times)\n",
    "\n",
    "Different images may need different approaches - having multiple strategies available is essential for handling problematic cases.\n",
    "\n",
    "**Recommended Practice**: Combine cropping with `-R` option for most robust results across different image types:"
   ]
  },
  {
   "cell_type": "code",
   "execution_count": 21,
   "metadata": {
    "editable": true,
    "slideshow": {
     "slide_type": ""
    },
    "tags": []
   },
   "outputs": [
    {
     "name": "stdout",
     "output_type": "stream",
     "text": [
      "Final FOV is: \n",
      "0.000000 160.000000 0.000000 224.000000 61.000000 170.000000 \n",
      "\n"
     ]
    }
   ],
   "source": [
    "# crop the image\n",
    "!robustfov -i ./fsl_course_data/intro/bighead.nii.gz -r ./output/bighead_crop"
   ]
  },
  {
   "cell_type": "code",
   "execution_count": 22,
   "metadata": {
    "editable": true,
    "slideshow": {
     "slide_type": ""
    },
    "tags": []
   },
   "outputs": [
    {
     "data": {
      "application/vnd.jupyter.widget-view+json": {
       "model_id": "dfe9156e5fca4d01a4dcfdf801d68824",
       "version_major": 2,
       "version_minor": 1
      },
      "text/plain": [
       "NiiVue(height=300)"
      ]
     },
     "execution_count": 22,
     "metadata": {},
     "output_type": "execute_result"
    }
   ],
   "source": [
    "nv = NiiVue()\n",
    "nv.load_volumes( [{\"path\": \"./fsl_course_data/intro/bighead.nii.gz\", \"colormap\": \"gray\", \"opacity\": 1.0},\n",
    "                  {\"path\": \"./output/bighead_crop.nii.gz\", \"colormap\": \"blue\", \"opacity\": 1.0}])\n",
    "\n",
    "nv"
   ]
  },
  {
   "cell_type": "code",
   "execution_count": 34,
   "metadata": {
    "editable": true,
    "slideshow": {
     "slide_type": ""
    },
    "tags": []
   },
   "outputs": [
    {
     "data": {
      "text/html": [
       "<img src=\"https://raw.githubusercontent.com/NeuroDesk/example-notebooks/refs/heads/main/books/images/fsl_course_bet_bighead_crop.png\"/>"
      ],
      "text/plain": [
       "<IPython.core.display.Image object>"
      ]
     },
     "execution_count": 34,
     "metadata": {},
     "output_type": "execute_result"
    }
   ],
   "source": [
    "Image(url='https://raw.githubusercontent.com/NeuroDesk/example-notebooks/refs/heads/main/books/images/fsl_course_bet_bighead_crop.png')"
   ]
  },
  {
   "cell_type": "code",
   "execution_count": 24,
   "metadata": {
    "editable": true,
    "slideshow": {
     "slide_type": ""
    },
    "tags": []
   },
   "outputs": [],
   "source": [
    "! bet ./output/bighead_crop.nii.gz ./output/bighead_crop_brain -R"
   ]
  },
  {
   "cell_type": "code",
   "execution_count": 25,
   "metadata": {
    "editable": true,
    "slideshow": {
     "slide_type": ""
    },
    "tags": []
   },
   "outputs": [
    {
     "data": {
      "application/vnd.jupyter.widget-view+json": {
       "model_id": "231f28043b314de898ada72ec3b3fdca",
       "version_major": 2,
       "version_minor": 1
      },
      "text/plain": [
       "NiiVue(height=300)"
      ]
     },
     "execution_count": 25,
     "metadata": {},
     "output_type": "execute_result"
    }
   ],
   "source": [
    "nv = NiiVue()\n",
    "nv.load_volumes( [{\"path\": \"./output/bighead_brain.nii.gz\", \"colormap\": \"gray\"},\n",
    "                  {\"path\": \"./output/bighead_crop_brain.nii.gz\", \"colormap\": \"red\"}])\n",
    "\n",
    "nv"
   ]
  },
  {
   "cell_type": "code",
   "execution_count": 35,
   "metadata": {
    "editable": true,
    "slideshow": {
     "slide_type": ""
    },
    "tags": []
   },
   "outputs": [
    {
     "data": {
      "text/html": [
       "<img src=\"https://raw.githubusercontent.com/NeuroDesk/example-notebooks/refs/heads/main/books/images/fsl_course_bet_bighead_crop_brain.png\"/>"
      ],
      "text/plain": [
       "<IPython.core.display.Image object>"
      ]
     },
     "execution_count": 35,
     "metadata": {},
     "output_type": "execute_result"
    }
   ],
   "source": [
    "Image(url='https://raw.githubusercontent.com/NeuroDesk/example-notebooks/refs/heads/main/books/images/fsl_course_bet_bighead_crop_brain.png')"
   ]
  }
 ],
 "metadata": {
  "kernelspec": {
   "display_name": "Python 3 (ipykernel)",
   "language": "python",
   "name": "python3"
  },
  "language_info": {
   "codemirror_mode": {
    "name": "ipython",
    "version": 3
   },
   "file_extension": ".py",
   "mimetype": "text/x-python",
   "name": "python",
   "nbconvert_exporter": "python",
   "pygments_lexer": "ipython3",
   "version": "3.11.6"
  }
 },
 "nbformat": 4,
 "nbformat_minor": 4
}
