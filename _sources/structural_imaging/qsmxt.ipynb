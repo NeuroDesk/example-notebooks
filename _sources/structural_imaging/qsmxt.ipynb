{
 "cells": [
  {
   "cell_type": "markdown",
   "id": "fed47b4b",
   "metadata": {
    "editable": true,
    "slideshow": {
     "slide_type": ""
    },
    "tags": []
   },
   "source": [
    "# QSMxT\n",
    "\n",
    "**Author:** Ashley Stewart\n",
    "\n",
    "**Citation:**\n",
    "\n",
    "- QSMxT: Stewart AW, Robinson SD, O'Brien K, et al. QSMxT: Robust masking and artifact reduction for quantitative susceptibility mapping. Magnetic Resonance in Medicine. 2022;87(3):1289-1300. [doi:10.1002/mrm.29048](https://doi.org/10.1002/mrm.29048)\n",
    "\n",
    " - QSMxT: Stewart AW, Bollman S, et al. QSMxT/QSMxT. GitHub; 2022[. https://github.com/QSMxT/QSM](https://github.com/QSMxT/QSMxT)"
   ]
  },
  {
   "cell_type": "markdown",
   "id": "ckuhhu-sU5V9",
   "metadata": {
    "id": "ckuhhu-sU5V9"
   },
   "source": [
    "### Output CPU information"
   ]
  },
  {
   "cell_type": "code",
   "execution_count": 1,
   "id": "1c268140-a6c5-4abb-b38e-4b86c3c680b4",
   "metadata": {
    "editable": true,
    "slideshow": {
     "slide_type": ""
    },
    "tags": []
   },
   "outputs": [
    {
     "name": "stdout",
     "output_type": "stream",
     "text": [
      "vendor_id\t: GenuineIntel\n",
      "model name\t: 12th Gen Intel(R) Core(TM) i7-12700\n"
     ]
    }
   ],
   "source": [
    "!cat /proc/cpuinfo | grep 'vendor' | uniq\n",
    "!cat /proc/cpuinfo | grep 'model name' | uniq"
   ]
  },
  {
   "cell_type": "markdown",
   "id": "c423654b-67b3-4f42-89e9-8c752eaba94d",
   "metadata": {
    "id": "c423654b-67b3-4f42-89e9-8c752eaba94d",
    "tags": []
   },
   "source": [
    "# QSMxT Interactive Notebook\n",
    "\n",
    "This interactive notebook estimates Quantitative Susceptibility Maps (QSMs) for two gradient-echo (GRE) MRI acquisitions using [QSMxT](https://github.com/QSMxT/QSMxT) provided by the [Neurodesk](https://neurodesk.org) project."
   ]
  },
  {
   "cell_type": "markdown",
   "id": "28e5430f-2e02-4183-ba3d-66fbbe010837",
   "metadata": {
    "editable": true,
    "id": "28e5430f-2e02-4183-ba3d-66fbbe010837",
    "slideshow": {
     "slide_type": ""
    },
    "tags": []
   },
   "source": [
    "## What is QSM?\n",
    "\n",
    "QSM is a form of quantitative MRI (qMRI) that estimates the magnetic susceptibility distribution across an imaged object. Magnetic susceptibility is the degree to which a material becomes magnetised by an external magnetic field. Major contributors to susceptibility include iron, calcium, and myelin, with the susceptibility of water typically approximating a zero-reference, though it is slightly diamagnetic. Read more about QSM [here](https://doi.org/10.1002/mrm.25358)."
   ]
  },
  {
   "cell_type": "markdown",
   "id": "41c95447-80c5-49c1-954b-50a26ffa23ef",
   "metadata": {
    "id": "41c95447-80c5-49c1-954b-50a26ffa23ef",
    "tags": []
   },
   "source": [
    "## What is QSMxT?\n",
    "\n",
    "[QSMxT](https://qsmxt.github.io) is a suite of tools for building and running automated pipelines for QSM that:\n",
    "\n",
    "- is available open-source without any licensing required;\n",
    "- is distributed as a software container making it straightforward to access and install (Neurodesk!)\n",
    "- scales its processing to execute across many acquisitions through jobs parallelisation (using multiple processors or HPCs) provided by [Nipype](https://nipype.readthedocs.io);\n",
    "- automates steps that usually require manual intervention and scripting, including:\n",
    "  - DICOM to [BIDS](https://bids-specification.readthedocs.io/en/stable/index.html) conversion;\n",
    "  - QSM reconstruction using a range of algorithms;\n",
    "  - segmentation using [FastSurfer](https://github.com/Deep-MI/FastSurfer);\n",
    "  - group space generation using [ANTs](https://github.com/ANTsX/ANTs);\n",
    "  - export of susceptibility statistics by subject and region of interest (ROI) to CSV.\n",
    "\n",
    "![image.png](../images/image.png)"
   ]
  },
  {
   "cell_type": "markdown",
   "id": "44417598-f83e-46d8-bc4c-ceb61f63e395",
   "metadata": {
    "id": "44417598-f83e-46d8-bc4c-ceb61f63e395"
   },
   "source": [
    "## How do I access QSMxT?\n",
    "\n",
    "There are a few ways you can access QSMxT:\n",
    "\n",
    " - **This notebook**: You can access QSMxT in this notebook right now!\n",
    "   - If you are running this on a Neurodesk Play instance, you can upload your own data into the sidebar via drag-and-drop.\n",
    " - **Neurodesktop**: QSMxT is in the applications menu of Neurodesktop.\n",
    "   - On Neurodesk Play, upload your own data into the desktop via drag-and-drop.\n",
    "   - On a local install of Neurodesk, bring any necessary files into the shared `~/neurodesktop-storage` directory\n",
    " - **Local install**: QSMxT can also be installed via the [Docker container](https://qsmxt.github.io/QSMxT/installation)\n",
    " - **HPC install**: QSMxT can also be installed via the [Singularity container](https://qsmxt.github.io/QSMxT/installation) for use on HPCs"
   ]
  },
  {
   "cell_type": "markdown",
   "id": "051e7a38-d270-49a6-800d-6c919c1b0d20",
   "metadata": {
    "id": "051e7a38-d270-49a6-800d-6c919c1b0d20"
   },
   "source": [
    "# Download example DICOMs\n",
    "\n",
    "Here, we download some example DICOMs from our OSF repository for QSMxT.\n",
    "\n",
    "These data include GRE and T1-weighted acquisitions for one subject (duplicated to act as two subjects)."
   ]
  },
  {
   "cell_type": "code",
   "execution_count": 2,
   "id": "80e4a8d2-d6bb-48e8-bdd7-36ac3d0c01c6",
   "metadata": {
    "colab": {
     "base_uri": "https://localhost:8080/"
    },
    "editable": true,
    "id": "80e4a8d2-d6bb-48e8-bdd7-36ac3d0c01c6",
    "outputId": "098cf81c-5e1d-4862-c09d-b05e759e63cf",
    "scrolled": true,
    "slideshow": {
     "slide_type": ""
    },
    "tags": [
     "output_scroll"
    ]
   },
   "outputs": [
    {
     "name": "stdout",
     "output_type": "stream",
     "text": [
      "\u001b[01;34mdicoms-unsorted\u001b[0m\n",
      "├── \u001b[00mMR.1.1.dcm\u001b[0m\n",
      "├── \u001b[00mMR.1.10.dcm\u001b[0m\n",
      "├── \u001b[00mMR.1.100.dcm\u001b[0m\n",
      "├── \u001b[00mMR.1.101.dcm\u001b[0m\n",
      "├── \u001b[00mMR.1.102.dcm\u001b[0m\n",
      "├── \u001b[00mMR.1.103.dcm\u001b[0m\n",
      "├── \u001b[00mMR.1.104.dcm\u001b[0m\n",
      "├── \u001b[00mMR.1.105.dcm\u001b[0m\n",
      "├── \u001b[00mMR.1.106.dcm\u001b[0m\n",
      "...\n",
      "There are 1216 unsorted DICOMs in ./dicoms-unsorted/\n"
     ]
    }
   ],
   "source": [
    "!osf -p ru43c clone . > /dev/null 2>&1\n",
    "!tar xf osfstorage/dicoms-unsorted.tar\n",
    "!rm -rf osfstorage/\n",
    "!tree dicoms-unsorted | head\n",
    "!echo -e \"...\\nThere are `ls dicoms-unsorted | wc -l` unsorted DICOMs in ./dicoms-unsorted/\""
   ]
  },
  {
   "cell_type": "markdown",
   "id": "f5d0ceb7-99cb-4e92-9326-ef69c7453d9a",
   "metadata": {
    "id": "f5d0ceb7-99cb-4e92-9326-ef69c7453d9a"
   },
   "source": [
    "# Load QSMxT\n",
    "\n",
    "To load QSMxT inside a notebook, we can use the available module system:"
   ]
  },
  {
   "cell_type": "code",
   "execution_count": 3,
   "id": "a0a45bfd-57d4-43de-b9b8-5f27d5fe1eeb",
   "metadata": {},
   "outputs": [
    {
     "name": "stdout",
     "output_type": "stream",
     "text": [
      "[INFO]: QSMxT v7.2.2\n"
     ]
    }
   ],
   "source": [
    "import module\n",
    "await module.load('qsmxt/7.2.2')\n",
    "!qsmxt --version"
   ]
  },
  {
   "cell_type": "markdown",
   "id": "b18f60c8-60d1-4ef5-b21d-083e91230c5d",
   "metadata": {
    "id": "b18f60c8-60d1-4ef5-b21d-083e91230c5d"
   },
   "source": [
    "# Data standardisation\n",
    "\n",
    "QSMxT requires input data to conform to the [Brain Imaging Data Structure (BIDS)](https://bids.neuroimaging.io/).\n",
    "\n",
    "Luckily, QSMxT also provides scripts that can convert unorganised NIfTI or DICOM images to BIDS. If you are using NIfTI images and do not have DICOMs, see [nifti-convert](https://qsmxt.github.io/QSMxT/using-qsmxt/data-preparation#nifti-to-bids)."
   ]
  },
  {
   "cell_type": "markdown",
   "id": "770963f9-93df-4c8e-85ac-f732b0e63a34",
   "metadata": {
    "id": "770963f9-93df-4c8e-85ac-f732b0e63a34"
   },
   "source": [
    "## Sort DICOMs\n",
    "\n",
    "Before we can convert DICOMs to BIDS cleanly, we need to sort the DICOMs by subject, session and series.\n",
    "\n",
    "We can sort the DICOMs using `dicom-sort`.\n",
    "\n",
    "Note that this script relies on accurate DICOM header information. If your data is sorted incorrectly, you may need to manually correct the sorting, or sort the files yourself. Be sure to follow the folder structure shown below."
   ]
  },
  {
   "cell_type": "code",
   "execution_count": 4,
   "id": "f42a3e8e-24be-4d8e-b173-da6e04861e31",
   "metadata": {
    "colab": {
     "base_uri": "https://localhost:8080/"
    },
    "editable": true,
    "id": "8f3859d0-fc95-49c5-b753-e5edd0e511bd",
    "outputId": "bb77d009-a852-41c9-e7ff-04c6456f3c21",
    "slideshow": {
     "slide_type": ""
    },
    "tags": []
   },
   "outputs": [
    {
     "name": "stdout",
     "output_type": "stream",
     "text": [
      "[INFO]: Running QSMxT 7.2.2\n",
      "[INFO]: Command: /opt/miniconda-4.7.12.1/bin/dicom-sort dicoms-unsorted dicoms-sorted\n",
      "[INFO]: Python interpreter: /opt/miniconda-4.7.12.1/bin/python3.8\n",
      "[INFO]: Reading file list...\n",
      "[INFO]: 1216 DICOM files found.\n",
      "[INFO]: Sorting DICOMs in /data/books/structural_imaging/dicoms-sorted...\n",
      "[INFO]: Identified subject: 1\n",
      "[INFO]: Identified session: 1 #1 20170705\n",
      "[INFO]: Identified series: sub-1/ses-20170705/series-6_mp2rage_highRes_0p5iso_slab\n",
      "[INFO]: Identified series: sub-1/ses-20170705/series-5_QSM_p2_1mmIso_TE20\n",
      "[INFO]: Identified session: 2 #1 20170705\n",
      "[INFO]: Identified series: sub-2/ses-20170705/series-6_mp2rage_highRes_0p5iso_slab\n",
      "[INFO]: Identified series: sub-1/ses-20170705/series-6_QSM_p2_1mmIso_TE20\n",
      "[INFO]: Identified series: sub-2/ses-20170705/series-5_QSM_p2_1mmIso_TE20\n",
      "[INFO]: Identified series: sub-2/ses-20170705/series-6_QSM_p2_1mmIso_TE20\n",
      "[INFO]: Finished\n"
     ]
    }
   ],
   "source": [
    "!dicom-sort dicoms-unsorted dicoms-sorted"
   ]
  },
  {
   "cell_type": "markdown",
   "id": "12903b39-3d6c-4511-9ab5-1bd564565e02",
   "metadata": {
    "id": "12903b39-3d6c-4511-9ab5-1bd564565e02"
   },
   "source": [
    "Now we can see clearly that there are two subjects, each with one session, each with three DICOM series:"
   ]
  },
  {
   "cell_type": "code",
   "execution_count": 5,
   "id": "4aaf0f65-6ebf-4889-8df4-0212064bcde3",
   "metadata": {
    "colab": {
     "base_uri": "https://localhost:8080/"
    },
    "editable": true,
    "id": "4aaf0f65-6ebf-4889-8df4-0212064bcde3",
    "outputId": "d2768818-70f2-4609-e284-ad1f63e64725",
    "slideshow": {
     "slide_type": ""
    },
    "tags": []
   },
   "outputs": [
    {
     "name": "stdout",
     "output_type": "stream",
     "text": [
      "\u001b[01;34mdicoms-sorted\u001b[0m\n",
      "├── \u001b[00mlog_2025-06-18_08-30-37268492.txt\u001b[0m\n",
      "├── \u001b[00mreferences.txt\u001b[0m\n",
      "├── \u001b[01;34msub-1\u001b[0m\n",
      "│   └── \u001b[01;34mses-20170705\u001b[0m\n",
      "│       ├── \u001b[01;34mseries-5_QSM_p2_1mmIso_TE20\u001b[0m\n",
      "│       ├── \u001b[01;34mseries-6_QSM_p2_1mmIso_TE20\u001b[0m\n",
      "│       └── \u001b[01;34mseries-6_mp2rage_highRes_0p5iso_slab\u001b[0m\n",
      "└── \u001b[01;34msub-2\u001b[0m\n",
      "    └── \u001b[01;34mses-20170705\u001b[0m\n",
      "        ├── \u001b[01;34mseries-5_QSM_p2_1mmIso_TE20\u001b[0m\n",
      "        ├── \u001b[01;34mseries-6_QSM_p2_1mmIso_TE20\u001b[0m\n",
      "        └── \u001b[01;34mseries-6_mp2rage_highRes_0p5iso_slab\u001b[0m\n",
      "\n",
      "11 directories, 2 files\n"
     ]
    }
   ],
   "source": [
    "!tree dicoms-sorted -L 3"
   ]
  },
  {
   "cell_type": "markdown",
   "id": "a429994e-76c6-4b2c-84c2-135fcd976a4d",
   "metadata": {
    "id": "a429994e-76c6-4b2c-84c2-135fcd976a4d",
    "tags": []
   },
   "source": [
    "## Convert to BIDS\n",
    "\n",
    "Now that the DICOMs are sorted, we can convert to BIDS using `dicom-convert`.\n",
    "\n",
    "The DICOM to BIDS conversion must identify which series should be used for QSM reconstruction (T2*-weighted), and which series should be used for segmentation (T1-weighted). Because this information is not stored in the DICOM header, the user must provide it, or QSMxT can make a guess based on the `ProtocolName` field. By default, QSMxT assumes series matching any of the patterns in `['*qsm*', '*t2starw*']` are to be used for QSM, and series matching the pattern `['*t1w*']` are to be used for segmentation. If series cannot be identified, the user must do so. At minimum, at least one QSM series must be identified.\n",
    "\n",
    "If QSMxT is run interactively, the user will be prompted to identify the relevant series'. However, because we are running QSMxT in a notebook, we disable the interactivity using `--auto_yes` and provide the missing information using command-line arguments (`--t1w_protocol_patterns` and `--qsm_protocol_patterns`). In this case, the T1-weighted scan requires identification, so we pass `--t1w_protocol_patterns \"*mp2rage*\"`:"
   ]
  },
  {
   "cell_type": "code",
   "execution_count": 6,
   "id": "cafb3971-0710-4caa-aa98-0771b9c3a194",
   "metadata": {
    "colab": {
     "base_uri": "https://localhost:8080/"
    },
    "editable": true,
    "id": "cafb3971-0710-4caa-aa98-0771b9c3a194",
    "outputId": "882fd261-bbf1-4980-982c-f33526c141d3",
    "scrolled": true,
    "slideshow": {
     "slide_type": ""
    },
    "tags": [
     "output_scroll"
    ]
   },
   "outputs": [
    {
     "name": "stdout",
     "output_type": "stream",
     "text": [
      "[INFO]: Running QSMxT 7.2.2\n",
      "[INFO]: Command: /opt/miniconda-4.7.12.1/bin/dicom-convert dicoms-sorted bids --t1w_protocol_patterns *mp2rage* --auto_yes\n",
      "[INFO]: Python interpreter: /opt/miniconda-4.7.12.1/bin/python3.8\n",
      "[INFO]: Found 2 subjects in '/data/books/structural_imaging/dicoms-sorted'\n",
      "[INFO]: Converting all DICOMs to NIfTI...\n",
      "[INFO]: Running command: 'dcm2niix -z n -o \"/data/books/structural_imaging/bids/sub-2/ses-20170705/extra_data\" \"/data/books/structural_imaging/dicoms-sorted/sub-2/ses-20170705/series-6_mp2rage_highRes_0p5iso_slab\" >> \"/data/books/structural_imaging/bids/sub-2/ses-20170705/extra_data/dcm2niix_output.txt\"'\n",
      "[INFO]: Running command: 'dcm2niix -z n -o \"/data/books/structural_imaging/bids/sub-2/ses-20170705/extra_data\" \"/data/books/structural_imaging/dicoms-sorted/sub-2/ses-20170705/series-5_QSM_p2_1mmIso_TE20\" >> \"/data/books/structural_imaging/bids/sub-2/ses-20170705/extra_data/dcm2niix_output.txt\"'\n",
      "[INFO]: Running command: 'dcm2niix -z n -o \"/data/books/structural_imaging/bids/sub-2/ses-20170705/extra_data\" \"/data/books/structural_imaging/dicoms-sorted/sub-2/ses-20170705/series-6_QSM_p2_1mmIso_TE20\" >> \"/data/books/structural_imaging/bids/sub-2/ses-20170705/extra_data/dcm2niix_output.txt\"'\n",
      "[INFO]: Running command: 'dcm2niix -z n -o \"/data/books/structural_imaging/bids/sub-1/ses-20170705/extra_data\" \"/data/books/structural_imaging/dicoms-sorted/sub-1/ses-20170705/series-6_mp2rage_highRes_0p5iso_slab\" >> \"/data/books/structural_imaging/bids/sub-1/ses-20170705/extra_data/dcm2niix_output.txt\"'\n",
      "[INFO]: Running command: 'dcm2niix -z n -o \"/data/books/structural_imaging/bids/sub-1/ses-20170705/extra_data\" \"/data/books/structural_imaging/dicoms-sorted/sub-1/ses-20170705/series-5_QSM_p2_1mmIso_TE20\" >> \"/data/books/structural_imaging/bids/sub-1/ses-20170705/extra_data/dcm2niix_output.txt\"'\n",
      "[INFO]: Running command: 'dcm2niix -z n -o \"/data/books/structural_imaging/bids/sub-1/ses-20170705/extra_data\" \"/data/books/structural_imaging/dicoms-sorted/sub-1/ses-20170705/series-6_QSM_p2_1mmIso_TE20\" >> \"/data/books/structural_imaging/bids/sub-1/ses-20170705/extra_data/dcm2niix_output.txt\"'\n",
      "[INFO]: Loading JSON headers from '/data/books/structural_imaging/bids/.../extra_data' folders...\n",
      "[INFO]: Checking for GE data requiring correction...\n",
      "[INFO]: Loading updated JSON headers from '/data/books/structural_imaging/bids/.../extra_data' folders...\n",
      "[INFO]: Enumerating protocol names and series descriptions from JSON headers...\n",
      "[INFO]: All protocols identified: dict_keys(['qsm_p2_1mmiso_te20', 'mp2rage_highres_0p5iso_slab'])\n",
      "[INFO]: Enumerating protocol names with QSM intention using match patterns ['*t2starw*', '*qsm*']...\n",
      "[INFO]: Identified the following protocols intended for QSM: ['qsm_p2_1mmiso_te20']\n",
      "[INFO]: Enumerating T1w protocol names using match patterns ['*mp2rage*']...\n",
      "[INFO]: Identified the following protocols as T1w: ['mp2rage_highres_0p5iso_slab']\n",
      "[INFO]: Parsing relevant details from JSON headers...\n",
      "[INFO]: Parsing relevant JSON data from sub-2/ses-20170705...\n",
      "[INFO]: Parsing relevant JSON data from sub-1/ses-20170705...\n",
      "Summary of identified files and proposed renames (following BIDS standard):\n",
      "series-5_QSM_p2_1mmIso_TE20_QSM_p2_1mmIso_TE20_20170705134507_5 \n",
      "\t -> sub-1_ses-20170705_acq-qsmp21mmisote20_run-01_part-mag_T2starw\n",
      "series-6_QSM_p2_1mmIso_TE20_QSM_p2_1mmIso_TE20_20170705134507_6_ph \n",
      "\t -> sub-1_ses-20170705_acq-qsmp21mmisote20_run-01_part-phase_T2starw\n",
      "series-6_mp2rage_highRes_0p5iso_slab_mp2rage_highRes_0p5iso_slab_20170705150219_6 \n",
      "\t -> sub-1_ses-20170705_acq-mp2ragehighres0p5isoslab_run-01_T1w\n",
      "series-5_QSM_p2_1mmIso_TE20_QSM_p2_1mmIso_TE20_20170705134507_5 \n",
      "\t -> sub-2_ses-20170705_acq-qsmp21mmisote20_run-01_part-mag_T2starw\n",
      "series-6_QSM_p2_1mmIso_TE20_QSM_p2_1mmIso_TE20_20170705134507_6_ph \n",
      "\t -> sub-2_ses-20170705_acq-qsmp21mmisote20_run-01_part-phase_T2starw\n",
      "series-6_mp2rage_highRes_0p5iso_slab_mp2rage_highRes_0p5iso_slab_20170705150219_6 \n",
      "\t -> sub-2_ses-20170705_acq-mp2ragehighres0p5isoslab_run-01_T1w\n",
      "[INFO]: Renaming files...\n",
      "[INFO]: Renaming /data/books/structural_imaging/bids/sub-2/ses-20170705/extra_data/series-5_QSM_p2_1mmIso_TE20_QSM_p2_1mmIso_TE20_20170705134507_5.json -> /data/books/structural_imaging/bids/sub-2/ses-20170705/anat/sub-2_ses-20170705_acq-qsmp21mmisote20_run-01_part-mag_T2starw.json\n",
      "[INFO]: Renaming /data/books/structural_imaging/bids/sub-2/ses-20170705/extra_data/series-5_QSM_p2_1mmIso_TE20_QSM_p2_1mmIso_TE20_20170705134507_5.nii -> /data/books/structural_imaging/bids/sub-2/ses-20170705/anat/sub-2_ses-20170705_acq-qsmp21mmisote20_run-01_part-mag_T2starw.nii\n",
      "[INFO]: Renaming /data/books/structural_imaging/bids/sub-2/ses-20170705/extra_data/series-6_QSM_p2_1mmIso_TE20_QSM_p2_1mmIso_TE20_20170705134507_6_ph.json -> /data/books/structural_imaging/bids/sub-2/ses-20170705/anat/sub-2_ses-20170705_acq-qsmp21mmisote20_run-01_part-phase_T2starw.json\n",
      "[INFO]: Renaming /data/books/structural_imaging/bids/sub-2/ses-20170705/extra_data/series-6_QSM_p2_1mmIso_TE20_QSM_p2_1mmIso_TE20_20170705134507_6_ph.nii -> /data/books/structural_imaging/bids/sub-2/ses-20170705/anat/sub-2_ses-20170705_acq-qsmp21mmisote20_run-01_part-phase_T2starw.nii\n",
      "[INFO]: Renaming /data/books/structural_imaging/bids/sub-2/ses-20170705/extra_data/series-6_mp2rage_highRes_0p5iso_slab_mp2rage_highRes_0p5iso_slab_20170705150219_6.json -> /data/books/structural_imaging/bids/sub-2/ses-20170705/anat/sub-2_ses-20170705_acq-mp2ragehighres0p5isoslab_run-01_T1w.json\n",
      "[INFO]: Renaming /data/books/structural_imaging/bids/sub-2/ses-20170705/extra_data/series-6_mp2rage_highRes_0p5iso_slab_mp2rage_highRes_0p5iso_slab_20170705150219_6.nii -> /data/books/structural_imaging/bids/sub-2/ses-20170705/anat/sub-2_ses-20170705_acq-mp2ragehighres0p5isoslab_run-01_T1w.nii\n",
      "[INFO]: Renaming /data/books/structural_imaging/bids/sub-1/ses-20170705/extra_data/series-5_QSM_p2_1mmIso_TE20_QSM_p2_1mmIso_TE20_20170705134507_5.json -> /data/books/structural_imaging/bids/sub-1/ses-20170705/anat/sub-1_ses-20170705_acq-qsmp21mmisote20_run-01_part-mag_T2starw.json\n",
      "[INFO]: Renaming /data/books/structural_imaging/bids/sub-1/ses-20170705/extra_data/series-5_QSM_p2_1mmIso_TE20_QSM_p2_1mmIso_TE20_20170705134507_5.nii -> /data/books/structural_imaging/bids/sub-1/ses-20170705/anat/sub-1_ses-20170705_acq-qsmp21mmisote20_run-01_part-mag_T2starw.nii\n",
      "[INFO]: Renaming /data/books/structural_imaging/bids/sub-1/ses-20170705/extra_data/series-6_QSM_p2_1mmIso_TE20_QSM_p2_1mmIso_TE20_20170705134507_6_ph.json -> /data/books/structural_imaging/bids/sub-1/ses-20170705/anat/sub-1_ses-20170705_acq-qsmp21mmisote20_run-01_part-phase_T2starw.json\n",
      "[INFO]: Renaming /data/books/structural_imaging/bids/sub-1/ses-20170705/extra_data/series-6_QSM_p2_1mmIso_TE20_QSM_p2_1mmIso_TE20_20170705134507_6_ph.nii -> /data/books/structural_imaging/bids/sub-1/ses-20170705/anat/sub-1_ses-20170705_acq-qsmp21mmisote20_run-01_part-phase_T2starw.nii\n",
      "[INFO]: Renaming /data/books/structural_imaging/bids/sub-1/ses-20170705/extra_data/series-6_mp2rage_highRes_0p5iso_slab_mp2rage_highRes_0p5iso_slab_20170705150219_6.json -> /data/books/structural_imaging/bids/sub-1/ses-20170705/anat/sub-1_ses-20170705_acq-mp2ragehighres0p5isoslab_run-01_T1w.json\n",
      "[INFO]: Renaming /data/books/structural_imaging/bids/sub-1/ses-20170705/extra_data/series-6_mp2rage_highRes_0p5iso_slab_mp2rage_highRes_0p5iso_slab_20170705150219_6.nii -> /data/books/structural_imaging/bids/sub-1/ses-20170705/anat/sub-1_ses-20170705_acq-mp2ragehighres0p5isoslab_run-01_T1w.nii\n",
      "[INFO]: Generating details for BIDS dataset_description.json...\n",
      "[INFO]: Writing BIDS dataset_description.json...\n",
      "[INFO]: Writing BIDS .bidsignore file...\n",
      "[INFO]: Writing BIDS dataset README...\n",
      "[INFO]: Finished\n"
     ]
    }
   ],
   "source": [
    "!dicom-convert dicoms-sorted bids \\\n",
    "    --t1w_protocol_patterns \"*mp2rage*\" \\\n",
    "    --auto_yes"
   ]
  },
  {
   "cell_type": "code",
   "execution_count": 7,
   "id": "3e8d460c-424a-419d-8b1d-59764588da94",
   "metadata": {
    "colab": {
     "base_uri": "https://localhost:8080/"
    },
    "editable": true,
    "id": "3e8d460c-424a-419d-8b1d-59764588da94",
    "outputId": "5a674999-b70b-423a-dd5f-798d4386777a",
    "slideshow": {
     "slide_type": ""
    },
    "tags": []
   },
   "outputs": [
    {
     "name": "stdout",
     "output_type": "stream",
     "text": [
      "\u001b[01;34mbids\u001b[0m\n",
      "├── \u001b[00mREADME\u001b[0m\n",
      "├── \u001b[00mdataset_description.json\u001b[0m\n",
      "├── \u001b[00mlog_2025-06-18_08-30-40575159.txt\u001b[0m\n",
      "├── \u001b[00mreferences.txt\u001b[0m\n",
      "├── \u001b[01;34msub-1\u001b[0m\n",
      "│   └── \u001b[01;34mses-20170705\u001b[0m\n",
      "│       ├── \u001b[01;34manat\u001b[0m\n",
      "│       │   ├── \u001b[00msub-1_ses-20170705_acq-mp2ragehighres0p5isoslab_run-01_T1w.json\u001b[0m\n",
      "│       │   ├── \u001b[00msub-1_ses-20170705_acq-mp2ragehighres0p5isoslab_run-01_T1w.nii\u001b[0m\n",
      "│       │   ├── \u001b[00msub-1_ses-20170705_acq-qsmp21mmisote20_run-01_part-mag_T2starw.json\u001b[0m\n",
      "│       │   ├── \u001b[00msub-1_ses-20170705_acq-qsmp21mmisote20_run-01_part-mag_T2starw.nii\u001b[0m\n",
      "│       │   ├── \u001b[00msub-1_ses-20170705_acq-qsmp21mmisote20_run-01_part-phase_T2starw.json\u001b[0m\n",
      "│       │   └── \u001b[00msub-1_ses-20170705_acq-qsmp21mmisote20_run-01_part-phase_T2starw.nii\u001b[0m\n",
      "│       └── \u001b[01;34mextra_data\u001b[0m\n",
      "│           └── \u001b[00mdcm2niix_output.txt\u001b[0m\n",
      "└── \u001b[01;34msub-2\u001b[0m\n",
      "    └── \u001b[01;34mses-20170705\u001b[0m\n",
      "        ├── \u001b[01;34manat\u001b[0m\n",
      "        │   ├── \u001b[00msub-2_ses-20170705_acq-mp2ragehighres0p5isoslab_run-01_T1w.json\u001b[0m\n",
      "        │   ├── \u001b[00msub-2_ses-20170705_acq-mp2ragehighres0p5isoslab_run-01_T1w.nii\u001b[0m\n",
      "        │   ├── \u001b[00msub-2_ses-20170705_acq-qsmp21mmisote20_run-01_part-mag_T2starw.json\u001b[0m\n",
      "        │   ├── \u001b[00msub-2_ses-20170705_acq-qsmp21mmisote20_run-01_part-mag_T2starw.nii\u001b[0m\n",
      "        │   ├── \u001b[00msub-2_ses-20170705_acq-qsmp21mmisote20_run-01_part-phase_T2starw.json\u001b[0m\n",
      "        │   └── \u001b[00msub-2_ses-20170705_acq-qsmp21mmisote20_run-01_part-phase_T2starw.nii\u001b[0m\n",
      "        └── \u001b[01;34mextra_data\u001b[0m\n",
      "            └── \u001b[00mdcm2niix_output.txt\u001b[0m\n",
      "\n",
      "9 directories, 18 files\n"
     ]
    }
   ],
   "source": [
    "!tree bids"
   ]
  },
  {
   "cell_type": "markdown",
   "id": "dfb3d0a2-6ef1-4855-933b-734dde1e4c7d",
   "metadata": {
    "id": "dfb3d0a2-6ef1-4855-933b-734dde1e4c7d"
   },
   "source": [
    "# Inspect input data"
   ]
  },
  {
   "cell_type": "markdown",
   "id": "40734463-b6c8-4487-a7b8-4c8b4de75716",
   "metadata": {
    "editable": true,
    "id": "40734463-b6c8-4487-a7b8-4c8b4de75716",
    "slideshow": {
     "slide_type": ""
    },
    "tags": []
   },
   "source": [
    "Here we define a function we will use to visualise NIfTI images so we can view some of the input data:"
   ]
  },
  {
   "cell_type": "code",
   "execution_count": 8,
   "id": "3414cd7e-999c-4b59-b124-e9697b340a2b",
   "metadata": {
    "editable": true,
    "slideshow": {
     "slide_type": ""
    },
    "tags": []
   },
   "outputs": [],
   "source": [
    "%%capture\n",
    "!pip install seaborn numpy nibabel pandas"
   ]
  },
  {
   "cell_type": "code",
   "execution_count": 9,
   "id": "acc7b790",
   "metadata": {
    "editable": true,
    "slideshow": {
     "slide_type": ""
    },
    "tags": []
   },
   "outputs": [],
   "source": [
    "from glob import glob\n",
    "from matplotlib import pyplot as plt\n",
    "import numpy as np\n",
    "import nibabel as nib\n",
    "\n",
    "def show_nii(nii_path, title=None, cmap='gray', **imshow_args):\n",
    "    # load data\\n\",\n",
    "    data_1 = nib.load(nii_path).get_fdata()\n",
    "\n",
    "    # get middle slices\\n\",\n",
    "    slc_data1 = np.rot90(data_1[np.shape(data_1)[0]//2,:,:])\n",
    "    slc_data2 = np.rot90(data_1[:,np.shape(data_1)[1]//2,:])\n",
    "    slc_data3 = np.rot90(data_1[:,:,np.shape(data_1)[2]//2])\n",
    "\n",
    "    # show slices\\n\",\n",
    "    fig, axes = plt.subplots(nrows=1, ncols=3, figsize=(4,5))\n",
    "    if title: plt.suptitle(title)\n",
    "\n",
    "    axes[0].imshow(slc_data1, cmap=cmap, **imshow_args)\n",
    "    axes[1].imshow(slc_data2, cmap=cmap, **imshow_args)\n",
    "    axes[2].imshow(slc_data3, cmap=cmap, **imshow_args)\n",
    "\n",
    "    axes[0].axis('off')\n",
    "    axes[1].axis('off')\n",
    "    axes[2].axis('off')\n",
    "\n",
    "    fig.tight_layout()\n",
    "    fig.subplots_adjust(top=1.55)\n",
    "    plt.show()"
   ]
  },
  {
   "cell_type": "code",
   "execution_count": 10,
   "id": "f4f5e3fe",
   "metadata": {
    "editable": true,
    "slideshow": {
     "slide_type": ""
    },
    "tags": []
   },
   "outputs": [
    {
     "data": {
      "image/png": "[encoded data removed]",
      "text/plain": [
       "<Figure size 400x500 with 3 Axes>"
      ]
     },
     "metadata": {},
     "output_type": "display_data"
    },
    {
     "data": {
      "image/png": "[encoded data removed]",
      "text/plain": [
       "<Figure size 400x500 with 3 Axes>"
      ]
     },
     "metadata": {},
     "output_type": "display_data"
    },
    {
     "data": {
      "image/png": "[encoded data removed]",
      "text/plain": [
       "<Figure size 400x500 with 3 Axes>"
      ]
     },
     "metadata": {},
     "output_type": "display_data"
    }
   ],
   "source": [
    "show_nii(glob(\"bids/sub-*/ses-*/anat/*mag*nii*\")[0], title=\"Magnitude\", vmax=500)\n",
    "show_nii(glob(\"bids/sub-*/ses-*/anat/*phase*nii*\")[0], title=\"Phase\")\n",
    "show_nii(glob(\"bids/sub-*/ses-*/anat/*T1w*nii*\")[0], title=\"T1-weighted\")"
   ]
  },
  {
   "cell_type": "markdown",
   "id": "878e8194-c85a-4ed5-907e-e186a87cca50",
   "metadata": {},
   "source": [
    "Interactive Display using Niivue"
   ]
  },
  {
   "cell_type": "code",
   "execution_count": 11,
   "id": "6c7ec765-e905-46ce-98c4-1127817863fc",
   "metadata": {
    "editable": true,
    "slideshow": {
     "slide_type": ""
    },
    "tags": []
   },
   "outputs": [],
   "source": [
    "from ipyniivue import NiiVue\n",
    "\n",
    "nv_T1 = NiiVue()\n",
    "nv_T1.load_volumes([{\"path\": glob(\"bids/sub-*/ses-*/anat/*T1w*nii*\")[0]}])\n",
    "# Uncomment the following line to interact with the image\n",
    "# nv_T1"
   ]
  },
  {
   "cell_type": "markdown",
   "id": "dcafd4ce-ccf3-4b9c-9caf-ded440db9aa5",
   "metadata": {
    "editable": true,
    "id": "dcafd4ce-ccf3-4b9c-9caf-ded440db9aa5",
    "slideshow": {
     "slide_type": ""
    },
    "tags": []
   },
   "source": [
    "# Run QSMxT"
   ]
  },
  {
   "cell_type": "markdown",
   "id": "e42f3b99-2e24-4644-9e87-dd2ed3d50e2f",
   "metadata": {
    "id": "e42f3b99-2e24-4644-9e87-dd2ed3d50e2f"
   },
   "source": [
    "We are now ready to run QSMxT! We will generate susceptibility maps and segmentations, and export analysis CSVs to file.\n",
    "\n",
    "The usual way of running QSMxT is to use `qsmxt bids_dir`. This will launch an interactive command-line interface (CLI) to setup your desired pipelines. However, since we are running this in a notebook, we need to use command-line arguments to by-pass the interface and execute a pipeline.\n",
    "\n",
    "But first, let's consider our pipeline settings. For QSM reconstruction, QSMxT provides a range of sensible defaults fit for different purposes. We can list the premade QSM pipelines using `--list_premades`. For the full pipeline details used for each premade pipeline, see [qsm_pipelines.json](https://github.com/QSMxT/QSMxT/blob/main/qsmxt/qsm_pipelines.json)."
   ]
  },
  {
   "cell_type": "code",
   "execution_count": 12,
   "id": "5f8bfb98-e1e2-4b41-8eb7-cea7ddaf82e9",
   "metadata": {
    "colab": {
     "base_uri": "https://localhost:8080/"
    },
    "editable": true,
    "id": "5f8bfb98-e1e2-4b41-8eb7-cea7ddaf82e9",
    "outputId": "a33d5f57-cc57-4bc7-c809-98dbf9c8fc5c",
    "slideshow": {
     "slide_type": ""
    },
    "tags": []
   },
   "outputs": [
    {
     "name": "stdout",
     "output_type": "stream",
     "text": [
      "=== Premade pipelines ===\n",
      "default: Default QSMxT settings (GRE; assumes human brain)\n",
      "gre: Applies suggested settings for 3D-GRE images\n",
      "epi: Applies suggested settings for 3D-EPI images (assumes human brain)\n",
      "bet: Applies a traditional BET-masking approach (artefact reduction unavailable; assumes human brain)\n",
      "fast: Applies a set of fast algorithms\n",
      "body: Applies suggested settings for non-brain applications\n",
      "nextqsm: Applies suggested settings for running the NeXtQSM algorithm (assumes human brain)\n",
      "[INFO]: Finished\n"
     ]
    }
   ],
   "source": [
    "!qsmxt --list_premades"
   ]
  },
  {
   "cell_type": "markdown",
   "id": "ff22a73f-548a-4c8f-a430-0350560ef8a0",
   "metadata": {
    "id": "ff22a73f-548a-4c8f-a430-0350560ef8a0"
   },
   "source": [
    "For this demonstration, we will go with the `fast` pipeline. To export segmentations and analysis results, we will use `--do_segmentation` and `--do_analysis`. The `--auto_yes` option avoid the interactive CLI interface that cannot be used in a notebook:"
   ]
  },
  {
   "cell_type": "code",
   "execution_count": 13,
   "id": "ea3157e3-f9aa-4a20-af4f-4ffd42d88694",
   "metadata": {
    "colab": {
     "base_uri": "https://localhost:8080/"
    },
    "editable": true,
    "id": "ea3157e3-f9aa-4a20-af4f-4ffd42d88694",
    "outputId": "56351221-2c6c-4c45-b2e1-84d7bdfda8c1",
    "scrolled": true,
    "slideshow": {
     "slide_type": ""
    },
    "tags": [
     "output_scroll"
    ]
   },
   "outputs": [
    {
     "name": "stdout",
     "output_type": "stream",
     "text": [
      "[INFO]: QSMxT v7.2.2\n",
      "[INFO]: Python interpreter: /opt/miniconda-4.7.12.1/bin/python3.8\n",
      "[INFO]: Command: qsmxt /data/books/structural_imaging/bids --premade 'fast' --do_qsm --do_segmentation --do_analysis --auto_yes\n",
      "[WARNING]: Pipeline is NOT guidelines compliant (see https://doi.org/10.1002/mrm.30006):; Phase-quality-based masking recommended\n",
      "[INFO]: Available memory: 19.165 GB\n",
      "[INFO]: Creating QSMxT workflow for sub-1.ses-20170705.acq-qsmp21mmisote20.run-01...\n",
      "[INFO]: Creating QSMxT workflow for sub-2.ses-20170705.acq-qsmp21mmisote20.run-01...\n",
      "[INFO]: Running using MultiProc plugin with n_procs=20\n",
      "250618-08:34:23,717 nipype.workflow INFO:\n",
      "\t Workflow qsmxt-workflow settings: ['check', 'execution', 'logging', 'monitoring']\n",
      "250618-08:34:23,727 nipype.workflow INFO:\n",
      "\t Running in parallel.\n",
      "250618-08:34:23,729 nipype.workflow INFO:\n",
      "\t [MultiProc] Running 0 tasks, and 12 jobs ready. Free memory (GB): 27.93/27.93, Free processors: 20/20.\n",
      "250618-08:34:23,793 nipype.workflow INFO:\n",
      "\t [Node] Setting-up \"qsmxt-workflow.sub-1.ses-20170705.qsmxt_acq-qsmp21mmisote20_run-01.func_read-json-me\" in \"/data/books/structural_imaging/bids/derivatives/qsmxt-workflow/sub-1/ses-20170705/qsmxt_acq-qsmp21mmisote20_run-01/func_read-json-me\".\n",
      "250618-08:34:23,793 nipype.workflow INFO:\n",
      "\t [Node] Setting-up \"qsmxt-workflow.sub-1.ses-20170705.qsmxt_acq-qsmp21mmisote20_run-01.func_read-json-se\" in \"/data/books/structural_imaging/bids/derivatives/qsmxt-workflow/sub-1/ses-20170705/qsmxt_acq-qsmp21mmisote20_run-01/func_read-json-se\".\n",
      "250618-08:34:23,794 nipype.workflow INFO:\n",
      "\t [Node] Setting-up \"qsmxt-workflow.sub-2.ses-20170705.qsmxt_acq-qsmp21mmisote20_run-01.func_read-json-me\" in \"/data/books/structural_imaging/bids/derivatives/qsmxt-workflow/sub-2/ses-20170705/qsmxt_acq-qsmp21mmisote20_run-01/func_read-json-me\".\n",
      "250618-08:34:23,794 nipype.workflow INFO:\n",
      "\t [Node] Setting-up \"qsmxt-workflow.sub-1.ses-20170705.qsmxt_acq-qsmp21mmisote20_run-01.fastsurfer_segment-t1\" in \"/data/books/structural_imaging/bids/derivatives/qsmxt-workflow/sub-1/ses-20170705/qsmxt_acq-qsmp21mmisote20_run-01/fastsurfer_segment-t1\".\n",
      "250618-08:34:23,795 nipype.workflow INFO:\n",
      "\t [Node] Executing \"func_read-json-me\" <nipype.interfaces.utility.wrappers.Function>\n",
      "250618-08:34:23,795 nipype.workflow INFO:\n",
      "\t [Node] Executing \"func_read-json-me\" <nipype.interfaces.utility.wrappers.Function>\n",
      "250618-08:34:23,795 nipype.workflow INFO:\n",
      "\t [Node] Executing \"func_read-json-se\" <nipype.interfaces.utility.wrappers.Function>\n",
      "250618-08:34:23,796 nipype.workflow INFO:\n",
      "\t [Node] Finished \"func_read-json-me\", elapsed time 0.00042s.\n",
      "250618-08:34:23,796 nipype.workflow INFO:\n",
      "\t [Node] Finished \"func_read-json-me\", elapsed time 0.000382s.\n",
      "250618-08:34:23,796 nipype.workflow INFO:\n",
      "\t [Node] Finished \"func_read-json-se\", elapsed time 0.000376s.\n",
      "250618-08:34:23,793 nipype.workflow INFO:\n",
      "\t [Node] Setting-up \"qsmxt-workflow.sub-1.ses-20170705.qsmxt_acq-qsmp21mmisote20_run-01.nibabel_read-nii\" in \"/data/books/structural_imaging/bids/derivatives/qsmxt-workflow/sub-1/ses-20170705/qsmxt_acq-qsmp21mmisote20_run-01/nibabel_read-nii\".\n",
      "250618-08:34:23,795 nipype.workflow INFO:\n",
      "\t [Node] Executing \"fastsurfer_segment-t1\" <qsmxt.interfaces.nipype_interface_fastsurfer.FastSurferInterface>\n",
      "250618-08:34:23,849 nipype.workflow INFO:\n",
      "\t [Node] Executing \"nibabel_read-nii\" <nipype.interfaces.utility.wrappers.Function>\n",
      "250618-08:34:23,856 nipype.workflow INFO:\n",
      "\t [Node] Finished \"nibabel_read-nii\", elapsed time 0.004532s.\n",
      "250618-08:34:23,793 nipype.workflow INFO:\n",
      "\t [Node] Setting-up \"qsmxt-workflow.sub-1.ses-20170705.qsmxt_acq-qsmp21mmisote20_run-01.nibabel_as-canonical\" in \"/data/books/structural_imaging/bids/derivatives/qsmxt-workflow/sub-1/ses-20170705/qsmxt_acq-qsmp21mmisote20_run-01/nibabel_as-canonical\".\n",
      "250618-08:34:23,900 nipype.workflow INFO:\n",
      "\t [Node] Executing \"nibabel_as-canonical\" <nipype.interfaces.utility.wrappers.Function>\n",
      "250618-08:34:23,794 nipype.workflow INFO:\n",
      "\t [Node] Setting-up \"qsmxt-workflow.sub-2.ses-20170705.qsmxt_acq-qsmp21mmisote20_run-01.func_read-json-se\" in \"/data/books/structural_imaging/bids/derivatives/qsmxt-workflow/sub-2/ses-20170705/qsmxt_acq-qsmp21mmisote20_run-01/func_read-json-se\".\n",
      "250618-08:34:23,950 nipype.workflow INFO:\n",
      "\t [Node] Executing \"func_read-json-se\" <nipype.interfaces.utility.wrappers.Function>\n",
      "250618-08:34:23,952 nipype.workflow INFO:\n",
      "\t [Node] Finished \"func_read-json-se\", elapsed time 0.000452s.\n",
      "250618-08:34:23,794 nipype.workflow INFO:\n",
      "\t [Node] Setting-up \"qsmxt-workflow.sub-2.ses-20170705.qsmxt_acq-qsmp21mmisote20_run-01.nibabel_read-nii\" in \"/data/books/structural_imaging/bids/derivatives/qsmxt-workflow/sub-2/ses-20170705/qsmxt_acq-qsmp21mmisote20_run-01/nibabel_read-nii\".\n",
      "250618-08:34:24,0 nipype.workflow INFO:\n",
      "\t [Node] Executing \"nibabel_read-nii\" <nipype.interfaces.utility.wrappers.Function>\n",
      "250618-08:34:24,7 nipype.workflow INFO:\n",
      "\t [Node] Finished \"nibabel_read-nii\", elapsed time 0.004425s.\n",
      "250618-08:34:24,426 nipype.workflow INFO:\n",
      "\t [Node] Finished \"nibabel_as-canonical\", elapsed time 0.524224s.\n",
      "250618-08:34:25,733 nipype.workflow INFO:\n",
      "\t [Job 0] Completed (qsmxt-workflow.sub-1.ses-20170705.qsmxt_acq-qsmp21mmisote20_run-01.func_read-json-me).\n",
      "250618-08:34:27,295 nipype.workflow INFO:\n",
      "\t [Job 1] Completed (qsmxt-workflow.sub-1.ses-20170705.qsmxt_acq-qsmp21mmisote20_run-01.func_read-json-se).\n",
      "250618-08:34:27,297 nipype.workflow INFO:\n",
      "\t [Job 2] Completed (qsmxt-workflow.sub-1.ses-20170705.qsmxt_acq-qsmp21mmisote20_run-01.nibabel_read-nii).\n",
      "250618-08:34:27,298 nipype.workflow INFO:\n",
      "\t [Job 3] Completed (qsmxt-workflow.sub-1.ses-20170705.qsmxt_acq-qsmp21mmisote20_run-01.nibabel_as-canonical).\n",
      "250618-08:34:27,299 nipype.workflow INFO:\n",
      "\t [Job 6] Completed (qsmxt-workflow.sub-2.ses-20170705.qsmxt_acq-qsmp21mmisote20_run-01.func_read-json-me).\n",
      "250618-08:34:27,301 nipype.workflow INFO:\n",
      "\t [Job 7] Completed (qsmxt-workflow.sub-2.ses-20170705.qsmxt_acq-qsmp21mmisote20_run-01.func_read-json-se).\n",
      "250618-08:34:27,302 nipype.workflow INFO:\n",
      "\t [Job 8] Completed (qsmxt-workflow.sub-2.ses-20170705.qsmxt_acq-qsmp21mmisote20_run-01.nibabel_read-nii).\n",
      "250618-08:34:27,304 nipype.workflow INFO:\n",
      "\t [MultiProc] Running 1 tasks, and 6 jobs ready. Free memory (GB): 15.93/27.93, Free processors: 12/20.\n",
      "                     Currently running:\n",
      "                       * qsmxt-workflow.sub-1.ses-20170705.qsmxt_acq-qsmp21mmisote20_run-01.fastsurfer_segment-t1\n",
      "250618-08:34:27,349 nipype.workflow INFO:\n",
      "\t [Node] Setting-up \"qsmxt-workflow.sub-2.ses-20170705.qsmxt_acq-qsmp21mmisote20_run-01.nibabel_as-canonical\" in \"/data/books/structural_imaging/bids/derivatives/qsmxt-workflow/sub-2/ses-20170705/qsmxt_acq-qsmp21mmisote20_run-01/nibabel_as-canonical\".\n",
      "250618-08:34:27,349 nipype.workflow INFO:\n",
      "\t [Node] Setting-up \"qsmxt-workflow.sub-1.ses-20170705.qsmxt_acq-qsmp21mmisote20_run-01.nibabel_numpy_scale-phase\" in \"/data/books/structural_imaging/bids/derivatives/qsmxt-workflow/sub-1/ses-20170705/qsmxt_acq-qsmp21mmisote20_run-01/nibabel_numpy_scale-phase\".\n",
      "250618-08:34:27,350 nipype.workflow INFO:\n",
      "\t [Node] Executing \"nibabel_as-canonical\" <nipype.interfaces.utility.wrappers.Function>\n",
      "250618-08:34:27,351 nipype.workflow INFO:\n",
      "\t [Node] Executing \"nibabel_numpy_scale-phase\" <qsmxt.interfaces.nipype_interface_processphase.ScalePhaseInterface>\n",
      "250618-08:34:27,353 nipype.workflow INFO:\n",
      "\t [Node] Finished \"nibabel_as-canonical\", elapsed time 0.002299s.\n",
      "250618-08:34:27,349 nipype.workflow INFO:\n",
      "\t [Node] Setting-up \"qsmxt-workflow.sub-1.ses-20170705.qsmxt_acq-qsmp21mmisote20_run-01.ants_register-t1-to-qsm\" in \"/data/books/structural_imaging/bids/derivatives/qsmxt-workflow/sub-1/ses-20170705/qsmxt_acq-qsmp21mmisote20_run-01/ants_register-t1-to-qsm\".\n",
      "250618-08:34:27,401 nipype.workflow INFO:\n",
      "\t [Node] Executing \"ants_register-t1-to-qsm\" <nipype.interfaces.ants.registration.RegistrationSynQuick>\n",
      "250618-08:34:27,349 nipype.workflow INFO:\n",
      "\t [Node] Setting-up \"qsmxt-workflow.sub-1.ses-20170705.qsmxt_acq-qsmp21mmisote20_run-01.func_getfirst-canonical-magnitude\" in \"/data/books/structural_imaging/bids/derivatives/qsmxt-workflow/sub-1/ses-20170705/qsmxt_acq-qsmp21mmisote20_run-01/func_getfirst-canonical-magnitude\".\n",
      "250618-08:34:27,452 nipype.workflow INFO:\n",
      "\t [Node] Executing \"func_getfirst-canonical-magnitude\" <nipype.interfaces.utility.wrappers.Function>\n",
      "250618-08:34:27,453 nipype.workflow INFO:\n",
      "\t [Node] Finished \"func_getfirst-canonical-magnitude\", elapsed time 0.000315s.\n",
      "250618-08:34:27,585 nipype.workflow INFO:\n",
      "\t [Node] Finished \"nibabel_numpy_scale-phase\", elapsed time 0.233212s.\n",
      "250618-08:34:27,732 nipype.workflow INFO:\n",
      "\t [Job 9] Completed (qsmxt-workflow.sub-2.ses-20170705.qsmxt_acq-qsmp21mmisote20_run-01.nibabel_as-canonical).\n",
      "250618-08:34:27,732 nipype.workflow INFO:\n",
      "\t [Job 12] Completed (qsmxt-workflow.sub-1.ses-20170705.qsmxt_acq-qsmp21mmisote20_run-01.nibabel_numpy_scale-phase).\n",
      "250618-08:34:27,733 nipype.workflow INFO:\n",
      "\t [Job 13] Completed (qsmxt-workflow.sub-1.ses-20170705.qsmxt_acq-qsmp21mmisote20_run-01.func_getfirst-canonical-magnitude).\n",
      "250618-08:34:27,733 nipype.workflow INFO:\n",
      "\t [MultiProc] Running 2 tasks, and 5 jobs ready. Free memory (GB): 7.93/27.93, Free processors: 6/20.\n",
      "                     Currently running:\n",
      "                       * qsmxt-workflow.sub-1.ses-20170705.qsmxt_acq-qsmp21mmisote20_run-01.ants_register-t1-to-qsm\n",
      "                       * qsmxt-workflow.sub-1.ses-20170705.qsmxt_acq-qsmp21mmisote20_run-01.fastsurfer_segment-t1\n",
      "250618-08:34:27,760 nipype.workflow INFO:\n",
      "\t [Node] Setting-up \"qsmxt-workflow.sub-2.ses-20170705.qsmxt_acq-qsmp21mmisote20_run-01.nibabel_numpy_scale-phase\" in \"/data/books/structural_imaging/bids/derivatives/qsmxt-workflow/sub-2/ses-20170705/qsmxt_acq-qsmp21mmisote20_run-01/nibabel_numpy_scale-phase\".\n",
      "250618-08:34:27,762 nipype.workflow INFO:\n",
      "\t [Node] Executing \"nibabel_numpy_scale-phase\" <qsmxt.interfaces.nipype_interface_processphase.ScalePhaseInterface>\n",
      "250618-08:34:27,761 nipype.workflow INFO:\n",
      "\t [Node] Setting-up \"qsmxt-workflow.sub-2.ses-20170705.qsmxt_acq-qsmp21mmisote20_run-01.func_getfirst-canonical-magnitude\" in \"/data/books/structural_imaging/bids/derivatives/qsmxt-workflow/sub-2/ses-20170705/qsmxt_acq-qsmp21mmisote20_run-01/func_getfirst-canonical-magnitude\".\n",
      "250618-08:34:27,813 nipype.workflow INFO:\n",
      "\t [Node] Executing \"func_getfirst-canonical-magnitude\" <nipype.interfaces.utility.wrappers.Function>\n",
      "250618-08:34:27,814 nipype.workflow INFO:\n",
      "\t [Node] Finished \"func_getfirst-canonical-magnitude\", elapsed time 0.000292s.\n",
      "250618-08:34:27,761 nipype.workflow INFO:\n",
      "\t [Node] Setting-up \"qsmxt-workflow.sub-1.ses-20170705.qsmxt_acq-qsmp21mmisote20_run-01.nibabel_numpy_nilearn_axial-resampling\" in \"/data/books/structural_imaging/bids/derivatives/qsmxt-workflow/sub-1/ses-20170705/qsmxt_acq-qsmp21mmisote20_run-01/nibabel_numpy_nilearn_axial-resampling\".\n",
      "250618-08:34:27,864 nipype.workflow INFO:\n",
      "\t [Node] Executing \"nibabel_numpy_nilearn_axial-resampling\" <qsmxt.interfaces.nipype_interface_axialsampling.AxialSamplingInterface>\n",
      "250618-08:34:27,866 nipype.workflow INFO:\n",
      "\t [Node] Finished \"nibabel_numpy_nilearn_axial-resampling\", elapsed time 0.001483s.\n",
      "250618-08:34:27,985 nipype.workflow INFO:\n",
      "\t [Node] Finished \"nibabel_numpy_scale-phase\", elapsed time 0.221445s.\n",
      "250618-08:34:29,735 nipype.workflow INFO:\n",
      "\t [Job 15] Completed (qsmxt-workflow.sub-2.ses-20170705.qsmxt_acq-qsmp21mmisote20_run-01.nibabel_numpy_scale-phase).\n",
      "250618-08:34:29,737 nipype.workflow INFO:\n",
      "\t [Job 16] Completed (qsmxt-workflow.sub-2.ses-20170705.qsmxt_acq-qsmp21mmisote20_run-01.func_getfirst-canonical-magnitude).\n",
      "250618-08:34:29,739 nipype.workflow INFO:\n",
      "\t [Job 18] Completed (qsmxt-workflow.sub-1.ses-20170705.qsmxt_acq-qsmp21mmisote20_run-01.nibabel_numpy_nilearn_axial-resampling).\n",
      "250618-08:34:29,741 nipype.workflow INFO:\n",
      "\t [MultiProc] Running 2 tasks, and 5 jobs ready. Free memory (GB): 7.93/27.93, Free processors: 6/20.\n",
      "                     Currently running:\n",
      "                       * qsmxt-workflow.sub-1.ses-20170705.qsmxt_acq-qsmp21mmisote20_run-01.ants_register-t1-to-qsm\n",
      "                       * qsmxt-workflow.sub-1.ses-20170705.qsmxt_acq-qsmp21mmisote20_run-01.fastsurfer_segment-t1\n",
      "250618-08:34:29,774 nipype.workflow INFO:\n",
      "\t [Node] Setting-up \"qsmxt-workflow.sub-2.ses-20170705.qsmxt_acq-qsmp21mmisote20_run-01.nibabel_numpy_nilearn_axial-resampling\" in \"/data/books/structural_imaging/bids/derivatives/qsmxt-workflow/sub-2/ses-20170705/qsmxt_acq-qsmp21mmisote20_run-01/nibabel_numpy_nilearn_axial-resampling\".\n",
      "250618-08:34:29,774 nipype.workflow INFO:\n",
      "\t [Node] Setting-up \"qsmxt-workflow.sub-1.ses-20170705.qsmxt_acq-qsmp21mmisote20_run-01.qsm_workflow.mrt_romeo\" in \"/data/books/structural_imaging/bids/derivatives/qsmxt-workflow/sub-1/ses-20170705/qsmxt_acq-qsmp21mmisote20_run-01/qsm_workflow/mrt_romeo\".\n",
      "250618-08:34:29,777 nipype.workflow INFO:\n",
      "\t [Node] Executing \"nibabel_numpy_nilearn_axial-resampling\" <qsmxt.interfaces.nipype_interface_axialsampling.AxialSamplingInterface>\n",
      "250618-08:34:29,777 nipype.workflow INFO:\n",
      "\t [Node] Executing \"mrt_romeo\" <qsmxt.interfaces.nipype_interface_romeo.RomeoB0Interface>\n",
      "250618-08:34:29,779 nipype.workflow INFO:\n",
      "\t [Node] Finished \"nibabel_numpy_nilearn_axial-resampling\", elapsed time 0.001524s.\n",
      "250618-08:34:31,736 nipype.workflow INFO:\n",
      "\t [Job 21] Completed (qsmxt-workflow.sub-2.ses-20170705.qsmxt_acq-qsmp21mmisote20_run-01.nibabel_numpy_nilearn_axial-resampling).\n",
      "250618-08:34:31,740 nipype.workflow INFO:\n",
      "\t [MultiProc] Running 3 tasks, and 5 jobs ready. Free memory (GB): 5.60/27.93, Free processors: 5/20.\n",
      "                     Currently running:\n",
      "                       * qsmxt-workflow.sub-1.ses-20170705.qsmxt_acq-qsmp21mmisote20_run-01.qsm_workflow.mrt_romeo\n",
      "                       * qsmxt-workflow.sub-1.ses-20170705.qsmxt_acq-qsmp21mmisote20_run-01.ants_register-t1-to-qsm\n",
      "                       * qsmxt-workflow.sub-1.ses-20170705.qsmxt_acq-qsmp21mmisote20_run-01.fastsurfer_segment-t1\n",
      "250618-08:34:31,768 nipype.workflow INFO:\n",
      "\t [Node] Setting-up \"qsmxt-workflow.sub-2.ses-20170705.qsmxt_acq-qsmp21mmisote20_run-01.qsm_workflow.mrt_romeo\" in \"/data/books/structural_imaging/bids/derivatives/qsmxt-workflow/sub-2/ses-20170705/qsmxt_acq-qsmp21mmisote20_run-01/qsm_workflow/mrt_romeo\".\n",
      "250618-08:34:31,770 nipype.workflow INFO:\n",
      "\t [Node] Executing \"mrt_romeo\" <qsmxt.interfaces.nipype_interface_romeo.RomeoB0Interface>\n",
      "250618-08:34:33,739 nipype.workflow INFO:\n",
      "\t [MultiProc] Running 4 tasks, and 4 jobs ready. Free memory (GB): 3.26/27.93, Free processors: 4/20.\n",
      "                     Currently running:\n",
      "                       * qsmxt-workflow.sub-2.ses-20170705.qsmxt_acq-qsmp21mmisote20_run-01.qsm_workflow.mrt_romeo\n",
      "                       * qsmxt-workflow.sub-1.ses-20170705.qsmxt_acq-qsmp21mmisote20_run-01.qsm_workflow.mrt_romeo\n",
      "                       * qsmxt-workflow.sub-1.ses-20170705.qsmxt_acq-qsmp21mmisote20_run-01.ants_register-t1-to-qsm\n",
      "                       * qsmxt-workflow.sub-1.ses-20170705.qsmxt_acq-qsmp21mmisote20_run-01.fastsurfer_segment-t1\n",
      "250618-08:36:30,516 nipype.workflow INFO:\n",
      "\t [Node] Finished \"ants_register-t1-to-qsm\", elapsed time 123.114227s.\n",
      "250618-08:36:31,844 nipype.workflow INFO:\n",
      "\t [Job 5] Completed (qsmxt-workflow.sub-1.ses-20170705.qsmxt_acq-qsmp21mmisote20_run-01.ants_register-t1-to-qsm).\n",
      "250618-08:36:31,847 nipype.workflow INFO:\n",
      "\t [MultiProc] Running 3 tasks, and 4 jobs ready. Free memory (GB): 11.26/27.93, Free processors: 10/20.\n",
      "                     Currently running:\n",
      "                       * qsmxt-workflow.sub-2.ses-20170705.qsmxt_acq-qsmp21mmisote20_run-01.qsm_workflow.mrt_romeo\n",
      "                       * qsmxt-workflow.sub-1.ses-20170705.qsmxt_acq-qsmp21mmisote20_run-01.qsm_workflow.mrt_romeo\n",
      "                       * qsmxt-workflow.sub-1.ses-20170705.qsmxt_acq-qsmp21mmisote20_run-01.fastsurfer_segment-t1\n",
      "250618-08:36:31,888 nipype.workflow INFO:\n",
      "\t [Node] Setting-up \"qsmxt-workflow.sub-2.ses-20170705.qsmxt_acq-qsmp21mmisote20_run-01.ants_register-t1-to-qsm\" in \"/data/books/structural_imaging/bids/derivatives/qsmxt-workflow/sub-2/ses-20170705/qsmxt_acq-qsmp21mmisote20_run-01/ants_register-t1-to-qsm\".\n",
      "250618-08:36:31,890 nipype.workflow INFO:\n",
      "\t [Node] Executing \"ants_register-t1-to-qsm\" <nipype.interfaces.ants.registration.RegistrationSynQuick>\n",
      "250618-08:36:33,847 nipype.workflow INFO:\n",
      "\t [MultiProc] Running 4 tasks, and 3 jobs ready. Free memory (GB): 3.26/27.93, Free processors: 4/20.\n",
      "                     Currently running:\n",
      "                       * qsmxt-workflow.sub-2.ses-20170705.qsmxt_acq-qsmp21mmisote20_run-01.ants_register-t1-to-qsm\n",
      "                       * qsmxt-workflow.sub-2.ses-20170705.qsmxt_acq-qsmp21mmisote20_run-01.qsm_workflow.mrt_romeo\n",
      "                       * qsmxt-workflow.sub-1.ses-20170705.qsmxt_acq-qsmp21mmisote20_run-01.qsm_workflow.mrt_romeo\n",
      "                       * qsmxt-workflow.sub-1.ses-20170705.qsmxt_acq-qsmp21mmisote20_run-01.fastsurfer_segment-t1\n",
      "250618-08:38:39,146 nipype.workflow INFO:\n",
      "\t [Node] Finished \"ants_register-t1-to-qsm\", elapsed time 127.255431s.\n",
      "250618-08:38:39,960 nipype.workflow INFO:\n",
      "\t [Job 11] Completed (qsmxt-workflow.sub-2.ses-20170705.qsmxt_acq-qsmp21mmisote20_run-01.ants_register-t1-to-qsm).\n",
      "250618-08:38:39,962 nipype.workflow INFO:\n",
      "\t [MultiProc] Running 3 tasks, and 3 jobs ready. Free memory (GB): 11.26/27.93, Free processors: 10/20.\n",
      "                     Currently running:\n",
      "                       * qsmxt-workflow.sub-2.ses-20170705.qsmxt_acq-qsmp21mmisote20_run-01.qsm_workflow.mrt_romeo\n",
      "                       * qsmxt-workflow.sub-1.ses-20170705.qsmxt_acq-qsmp21mmisote20_run-01.qsm_workflow.mrt_romeo\n",
      "                       * qsmxt-workflow.sub-1.ses-20170705.qsmxt_acq-qsmp21mmisote20_run-01.fastsurfer_segment-t1\n",
      "250618-08:38:39,990 nipype.workflow INFO:\n",
      "\t [Node] Setting-up \"qsmxt-workflow.sub-1.ses-20170705.qsmxt_acq-qsmp21mmisote20_run-01.mask_workflow.fsl-bet\" in \"/data/books/structural_imaging/bids/derivatives/qsmxt-workflow/sub-1/ses-20170705/qsmxt_acq-qsmp21mmisote20_run-01/mask_workflow/fsl-bet\".\n",
      "250618-08:38:39,992 nipype.workflow INFO:\n",
      "\t [Node] Executing \"fsl-bet\" <qsmxt.interfaces.nipype_interface_bet2.Bet2Interface>\n",
      "250618-08:38:41,963 nipype.workflow INFO:\n",
      "\t [MultiProc] Running 4 tasks, and 2 jobs ready. Free memory (GB): 9.26/27.93, Free processors: 2/20.\n",
      "                     Currently running:\n",
      "                       * qsmxt-workflow.sub-1.ses-20170705.qsmxt_acq-qsmp21mmisote20_run-01.mask_workflow.fsl-bet\n",
      "                       * qsmxt-workflow.sub-2.ses-20170705.qsmxt_acq-qsmp21mmisote20_run-01.qsm_workflow.mrt_romeo\n",
      "                       * qsmxt-workflow.sub-1.ses-20170705.qsmxt_acq-qsmp21mmisote20_run-01.qsm_workflow.mrt_romeo\n",
      "                       * qsmxt-workflow.sub-1.ses-20170705.qsmxt_acq-qsmp21mmisote20_run-01.fastsurfer_segment-t1\n",
      "250618-08:40:34,173 nipype.workflow INFO:\n",
      "\t [Node] Finished \"fsl-bet\", elapsed time 114.180986s.\n",
      "250618-08:40:36,72 nipype.workflow INFO:\n",
      "\t [Job 24] Completed (qsmxt-workflow.sub-1.ses-20170705.qsmxt_acq-qsmp21mmisote20_run-01.mask_workflow.fsl-bet).\n",
      "250618-08:40:36,75 nipype.workflow INFO:\n",
      "\t [MultiProc] Running 3 tasks, and 3 jobs ready. Free memory (GB): 11.26/27.93, Free processors: 10/20.\n",
      "                     Currently running:\n",
      "                       * qsmxt-workflow.sub-2.ses-20170705.qsmxt_acq-qsmp21mmisote20_run-01.qsm_workflow.mrt_romeo\n",
      "                       * qsmxt-workflow.sub-1.ses-20170705.qsmxt_acq-qsmp21mmisote20_run-01.qsm_workflow.mrt_romeo\n",
      "                       * qsmxt-workflow.sub-1.ses-20170705.qsmxt_acq-qsmp21mmisote20_run-01.fastsurfer_segment-t1\n",
      "250618-08:40:36,109 nipype.workflow INFO:\n",
      "\t [Node] Setting-up \"qsmxt-workflow.sub-2.ses-20170705.qsmxt_acq-qsmp21mmisote20_run-01.mask_workflow.fsl-bet\" in \"/data/books/structural_imaging/bids/derivatives/qsmxt-workflow/sub-2/ses-20170705/qsmxt_acq-qsmp21mmisote20_run-01/mask_workflow/fsl-bet\".\n",
      "250618-08:40:36,111 nipype.workflow INFO:\n",
      "\t [Node] Executing \"fsl-bet\" <qsmxt.interfaces.nipype_interface_bet2.Bet2Interface>\n",
      "250618-08:40:36,109 nipype.workflow INFO:\n",
      "\t [Node] Setting-up \"qsmxt-workflow.sub-1.ses-20170705.qsmxt_acq-qsmp21mmisote20_run-01.mask_workflow.scipy_numpy_nibabel_bet_erode\" in \"/data/books/structural_imaging/bids/derivatives/qsmxt-workflow/sub-1/ses-20170705/qsmxt_acq-qsmp21mmisote20_run-01/mask_workflow/scipy_numpy_nibabel_bet_erode\".\n",
      "250618-08:40:36,162 nipype.workflow INFO:\n",
      "\t [Node] Executing \"scipy_numpy_nibabel_bet_erode\" <qsmxt.interfaces.nipype_interface_erode.ErosionInterface>\n",
      "250618-08:40:36,430 nipype.workflow INFO:\n",
      "\t [Node] Finished \"scipy_numpy_nibabel_bet_erode\", elapsed time 0.266889s.\n",
      "250618-08:40:38,74 nipype.workflow INFO:\n",
      "\t [Job 30] Completed (qsmxt-workflow.sub-1.ses-20170705.qsmxt_acq-qsmp21mmisote20_run-01.mask_workflow.scipy_numpy_nibabel_bet_erode).\n",
      "250618-08:40:38,77 nipype.workflow INFO:\n",
      "\t [MultiProc] Running 4 tasks, and 1 jobs ready. Free memory (GB): 9.26/27.93, Free processors: 2/20.\n",
      "                     Currently running:\n",
      "                       * qsmxt-workflow.sub-2.ses-20170705.qsmxt_acq-qsmp21mmisote20_run-01.mask_workflow.fsl-bet\n",
      "                       * qsmxt-workflow.sub-2.ses-20170705.qsmxt_acq-qsmp21mmisote20_run-01.qsm_workflow.mrt_romeo\n",
      "                       * qsmxt-workflow.sub-1.ses-20170705.qsmxt_acq-qsmp21mmisote20_run-01.qsm_workflow.mrt_romeo\n",
      "                       * qsmxt-workflow.sub-1.ses-20170705.qsmxt_acq-qsmp21mmisote20_run-01.fastsurfer_segment-t1\n",
      "250618-08:41:33,838 nipype.workflow INFO:\n",
      "\t [Node] Finished \"fsl-bet\", elapsed time 57.727169s.\n",
      "250618-08:41:34,128 nipype.workflow INFO:\n",
      "\t [Job 27] Completed (qsmxt-workflow.sub-2.ses-20170705.qsmxt_acq-qsmp21mmisote20_run-01.mask_workflow.fsl-bet).\n",
      "250618-08:41:34,131 nipype.workflow INFO:\n",
      "\t [MultiProc] Running 3 tasks, and 2 jobs ready. Free memory (GB): 11.26/27.93, Free processors: 10/20.\n",
      "                     Currently running:\n",
      "                       * qsmxt-workflow.sub-2.ses-20170705.qsmxt_acq-qsmp21mmisote20_run-01.qsm_workflow.mrt_romeo\n",
      "                       * qsmxt-workflow.sub-1.ses-20170705.qsmxt_acq-qsmp21mmisote20_run-01.qsm_workflow.mrt_romeo\n",
      "                       * qsmxt-workflow.sub-1.ses-20170705.qsmxt_acq-qsmp21mmisote20_run-01.fastsurfer_segment-t1\n",
      "250618-08:41:34,158 nipype.workflow INFO:\n",
      "\t [Node] Setting-up \"qsmxt-workflow.sub-2.ses-20170705.qsmxt_acq-qsmp21mmisote20_run-01.mask_workflow.scipy_numpy_nibabel_bet_erode\" in \"/data/books/structural_imaging/bids/derivatives/qsmxt-workflow/sub-2/ses-20170705/qsmxt_acq-qsmp21mmisote20_run-01/mask_workflow/scipy_numpy_nibabel_bet_erode\".\n",
      "250618-08:41:34,159 nipype.workflow INFO:\n",
      "\t [Node] Executing \"scipy_numpy_nibabel_bet_erode\" <qsmxt.interfaces.nipype_interface_erode.ErosionInterface>\n",
      "250618-08:41:34,423 nipype.workflow INFO:\n",
      "\t [Node] Finished \"scipy_numpy_nibabel_bet_erode\", elapsed time 0.263698s.\n",
      "250618-08:41:36,130 nipype.workflow INFO:\n",
      "\t [Job 32] Completed (qsmxt-workflow.sub-2.ses-20170705.qsmxt_acq-qsmp21mmisote20_run-01.mask_workflow.scipy_numpy_nibabel_bet_erode).\n",
      "250618-08:41:36,133 nipype.workflow INFO:\n",
      "\t [MultiProc] Running 3 tasks, and 1 jobs ready. Free memory (GB): 11.26/27.93, Free processors: 10/20.\n",
      "                     Currently running:\n",
      "                       * qsmxt-workflow.sub-2.ses-20170705.qsmxt_acq-qsmp21mmisote20_run-01.qsm_workflow.mrt_romeo\n",
      "                       * qsmxt-workflow.sub-1.ses-20170705.qsmxt_acq-qsmp21mmisote20_run-01.qsm_workflow.mrt_romeo\n",
      "                       * qsmxt-workflow.sub-1.ses-20170705.qsmxt_acq-qsmp21mmisote20_run-01.fastsurfer_segment-t1\n",
      "250618-08:46:30,705 nipype.workflow INFO:\n",
      "\t [Node] Finished \"mrt_romeo\", elapsed time 718.934141s.\n",
      "250618-08:46:30,713 nipype.workflow INFO:\n",
      "\t [Node] Finished \"mrt_romeo\", elapsed time 720.935035s.\n",
      "250618-08:46:32,412 nipype.workflow INFO:\n",
      "\t [Job 25] Completed (qsmxt-workflow.sub-1.ses-20170705.qsmxt_acq-qsmp21mmisote20_run-01.qsm_workflow.mrt_romeo).\n",
      "250618-08:46:32,415 nipype.workflow INFO:\n",
      "\t [Job 28] Completed (qsmxt-workflow.sub-2.ses-20170705.qsmxt_acq-qsmp21mmisote20_run-01.qsm_workflow.mrt_romeo).\n",
      "250618-08:46:32,417 nipype.workflow INFO:\n",
      "\t [MultiProc] Running 1 tasks, and 3 jobs ready. Free memory (GB): 15.93/27.93, Free processors: 12/20.\n",
      "                     Currently running:\n",
      "                       * qsmxt-workflow.sub-1.ses-20170705.qsmxt_acq-qsmp21mmisote20_run-01.fastsurfer_segment-t1\n",
      "250618-08:46:32,449 nipype.workflow INFO:\n",
      "\t [Node] Setting-up \"qsmxt-workflow.sub-1.ses-20170705.qsmxt_acq-qsmp21mmisote20_run-01.qsm_workflow.nibabel-numpy_normalize-phase\" in \"/data/books/structural_imaging/bids/derivatives/qsmxt-workflow/sub-1/ses-20170705/qsmxt_acq-qsmp21mmisote20_run-01/qsm_workflow/nibabel-numpy_normalize-phase\".\n",
      "250618-08:46:32,452 nipype.workflow INFO:\n",
      "\t [Node] Executing \"nibabel-numpy_normalize-phase\" <qsmxt.interfaces.nipype_interface_processphase.PhaseToNormalizedInterface>\n",
      "250618-08:46:32,450 nipype.workflow INFO:\n",
      "\t [Node] Setting-up \"qsmxt-workflow.sub-2.ses-20170705.qsmxt_acq-qsmp21mmisote20_run-01.fastsurfer_segment-t1\" in \"/data/books/structural_imaging/bids/derivatives/qsmxt-workflow/sub-2/ses-20170705/qsmxt_acq-qsmp21mmisote20_run-01/fastsurfer_segment-t1\".\n",
      "250618-08:46:32,501 nipype.workflow INFO:\n",
      "\t [Node] Executing \"fastsurfer_segment-t1\" <qsmxt.interfaces.nipype_interface_fastsurfer.FastSurferInterface>\n",
      "250618-08:46:32,506 nipype.workflow INFO:\n",
      "\t [Node] Finished \"nibabel-numpy_normalize-phase\", elapsed time 0.053693s.\n",
      "250618-08:46:34,414 nipype.workflow INFO:\n",
      "\t [Job 31] Completed (qsmxt-workflow.sub-1.ses-20170705.qsmxt_acq-qsmp21mmisote20_run-01.qsm_workflow.nibabel-numpy_normalize-phase).\n",
      "250618-08:46:34,417 nipype.workflow INFO:\n",
      "\t [MultiProc] Running 2 tasks, and 2 jobs ready. Free memory (GB): 3.93/27.93, Free processors: 4/20.\n",
      "                     Currently running:\n",
      "                       * qsmxt-workflow.sub-2.ses-20170705.qsmxt_acq-qsmp21mmisote20_run-01.fastsurfer_segment-t1\n",
      "                       * qsmxt-workflow.sub-1.ses-20170705.qsmxt_acq-qsmp21mmisote20_run-01.fastsurfer_segment-t1\n",
      "250618-08:46:34,445 nipype.workflow INFO:\n",
      "\t [Node] Setting-up \"qsmxt-workflow.sub-2.ses-20170705.qsmxt_acq-qsmp21mmisote20_run-01.qsm_workflow.nibabel-numpy_normalize-phase\" in \"/data/books/structural_imaging/bids/derivatives/qsmxt-workflow/sub-2/ses-20170705/qsmxt_acq-qsmp21mmisote20_run-01/qsm_workflow/nibabel-numpy_normalize-phase\".\n",
      "250618-08:46:34,447 nipype.workflow INFO:\n",
      "\t [Node] Executing \"nibabel-numpy_normalize-phase\" <qsmxt.interfaces.nipype_interface_processphase.PhaseToNormalizedInterface>\n",
      "250618-08:46:34,501 nipype.workflow INFO:\n",
      "\t [Node] Finished \"nibabel-numpy_normalize-phase\", elapsed time 0.053689s.\n",
      "250618-08:46:36,415 nipype.workflow INFO:\n",
      "\t [Job 33] Completed (qsmxt-workflow.sub-2.ses-20170705.qsmxt_acq-qsmp21mmisote20_run-01.qsm_workflow.nibabel-numpy_normalize-phase).\n",
      "250618-08:46:36,416 nipype.workflow INFO:\n",
      "\t [MultiProc] Running 2 tasks, and 2 jobs ready. Free memory (GB): 3.93/27.93, Free processors: 4/20.\n",
      "                     Currently running:\n",
      "                       * qsmxt-workflow.sub-2.ses-20170705.qsmxt_acq-qsmp21mmisote20_run-01.fastsurfer_segment-t1\n",
      "                       * qsmxt-workflow.sub-1.ses-20170705.qsmxt_acq-qsmp21mmisote20_run-01.fastsurfer_segment-t1\n",
      "250618-08:46:36,445 nipype.workflow INFO:\n",
      "\t [Node] Setting-up \"qsmxt-workflow.sub-1.ses-20170705.qsmxt_acq-qsmp21mmisote20_run-01.qsm_workflow.qsmjl_vsharp\" in \"/data/books/structural_imaging/bids/derivatives/qsmxt-workflow/sub-1/ses-20170705/qsmxt_acq-qsmp21mmisote20_run-01/qsm_workflow/qsmjl_vsharp\".\n",
      "250618-08:46:36,447 nipype.workflow INFO:\n",
      "\t [Node] Executing \"qsmjl_vsharp\" <qsmxt.interfaces.nipype_interface_qsmjl.VsharpInterface>\n",
      "250618-08:46:38,417 nipype.workflow INFO:\n",
      "\t [MultiProc] Running 3 tasks, and 1 jobs ready. Free memory (GB): 1.93/27.93, Free processors: 2/20.\n",
      "                     Currently running:\n",
      "                       * qsmxt-workflow.sub-1.ses-20170705.qsmxt_acq-qsmp21mmisote20_run-01.qsm_workflow.qsmjl_vsharp\n",
      "                       * qsmxt-workflow.sub-2.ses-20170705.qsmxt_acq-qsmp21mmisote20_run-01.fastsurfer_segment-t1\n",
      "                       * qsmxt-workflow.sub-1.ses-20170705.qsmxt_acq-qsmp21mmisote20_run-01.fastsurfer_segment-t1\n",
      "250618-08:46:48,936 nipype.workflow INFO:\n",
      "\t [Node] Finished \"qsmjl_vsharp\", elapsed time 12.488975s.\n",
      "250618-08:46:50,435 nipype.workflow INFO:\n",
      "\t [Job 34] Completed (qsmxt-workflow.sub-1.ses-20170705.qsmxt_acq-qsmp21mmisote20_run-01.qsm_workflow.qsmjl_vsharp).\n",
      "250618-08:46:50,437 nipype.workflow INFO:\n",
      "\t [MultiProc] Running 2 tasks, and 2 jobs ready. Free memory (GB): 3.93/27.93, Free processors: 4/20.\n",
      "                     Currently running:\n",
      "                       * qsmxt-workflow.sub-2.ses-20170705.qsmxt_acq-qsmp21mmisote20_run-01.fastsurfer_segment-t1\n",
      "                       * qsmxt-workflow.sub-1.ses-20170705.qsmxt_acq-qsmp21mmisote20_run-01.fastsurfer_segment-t1\n",
      "250618-08:46:50,521 nipype.workflow INFO:\n",
      "\t [Node] Setting-up \"qsmxt-workflow.sub-2.ses-20170705.qsmxt_acq-qsmp21mmisote20_run-01.qsm_workflow.qsmjl_vsharp\" in \"/data/books/structural_imaging/bids/derivatives/qsmxt-workflow/sub-2/ses-20170705/qsmxt_acq-qsmp21mmisote20_run-01/qsm_workflow/qsmjl_vsharp\".\n",
      "250618-08:46:50,534 nipype.workflow INFO:\n",
      "\t [Node] Executing \"qsmjl_vsharp\" <qsmxt.interfaces.nipype_interface_qsmjl.VsharpInterface>\n",
      "250618-08:46:52,438 nipype.workflow INFO:\n",
      "\t [MultiProc] Running 3 tasks, and 1 jobs ready. Free memory (GB): 1.93/27.93, Free processors: 2/20.\n",
      "                     Currently running:\n",
      "                       * qsmxt-workflow.sub-2.ses-20170705.qsmxt_acq-qsmp21mmisote20_run-01.qsm_workflow.qsmjl_vsharp\n",
      "                       * qsmxt-workflow.sub-2.ses-20170705.qsmxt_acq-qsmp21mmisote20_run-01.fastsurfer_segment-t1\n",
      "                       * qsmxt-workflow.sub-1.ses-20170705.qsmxt_acq-qsmp21mmisote20_run-01.fastsurfer_segment-t1\n",
      "250618-08:47:11,11 nipype.workflow INFO:\n",
      "\t [Node] Finished \"qsmjl_vsharp\", elapsed time 20.475996s.\n",
      "250618-08:47:12,458 nipype.workflow INFO:\n",
      "\t [Job 35] Completed (qsmxt-workflow.sub-2.ses-20170705.qsmxt_acq-qsmp21mmisote20_run-01.qsm_workflow.qsmjl_vsharp).\n",
      "250618-08:47:12,462 nipype.workflow INFO:\n",
      "\t [MultiProc] Running 2 tasks, and 2 jobs ready. Free memory (GB): 3.93/27.93, Free processors: 4/20.\n",
      "                     Currently running:\n",
      "                       * qsmxt-workflow.sub-2.ses-20170705.qsmxt_acq-qsmp21mmisote20_run-01.fastsurfer_segment-t1\n",
      "                       * qsmxt-workflow.sub-1.ses-20170705.qsmxt_acq-qsmp21mmisote20_run-01.fastsurfer_segment-t1\n",
      "250618-08:47:12,546 nipype.workflow INFO:\n",
      "\t [Node] Setting-up \"qsmxt-workflow.sub-1.ses-20170705.qsmxt_acq-qsmp21mmisote20_run-01.qsm_workflow.qsmjl_rts\" in \"/data/books/structural_imaging/bids/derivatives/qsmxt-workflow/sub-1/ses-20170705/qsmxt_acq-qsmp21mmisote20_run-01/qsm_workflow/qsmjl_rts\".\n",
      "250618-08:47:12,561 nipype.workflow INFO:\n",
      "\t [Node] Executing \"qsmjl_rts\" <qsmxt.interfaces.nipype_interface_qsmjl.RtsQsmInterface>\n",
      "250618-08:47:14,458 nipype.workflow INFO:\n",
      "\t [MultiProc] Running 3 tasks, and 1 jobs ready. Free memory (GB): 1.52/27.93, Free processors: 2/20.\n",
      "                     Currently running:\n",
      "                       * qsmxt-workflow.sub-1.ses-20170705.qsmxt_acq-qsmp21mmisote20_run-01.qsm_workflow.qsmjl_rts\n",
      "                       * qsmxt-workflow.sub-2.ses-20170705.qsmxt_acq-qsmp21mmisote20_run-01.fastsurfer_segment-t1\n",
      "                       * qsmxt-workflow.sub-1.ses-20170705.qsmxt_acq-qsmp21mmisote20_run-01.fastsurfer_segment-t1\n",
      "250618-08:47:36,738 nipype.workflow INFO:\n",
      "\t [Node] Finished \"qsmjl_rts\", elapsed time 24.17553s.\n",
      "250618-08:47:38,481 nipype.workflow INFO:\n",
      "\t [Job 36] Completed (qsmxt-workflow.sub-1.ses-20170705.qsmxt_acq-qsmp21mmisote20_run-01.qsm_workflow.qsmjl_rts).\n",
      "250618-08:47:38,483 nipype.workflow INFO:\n",
      "\t [MultiProc] Running 2 tasks, and 2 jobs ready. Free memory (GB): 3.93/27.93, Free processors: 4/20.\n",
      "                     Currently running:\n",
      "                       * qsmxt-workflow.sub-2.ses-20170705.qsmxt_acq-qsmp21mmisote20_run-01.fastsurfer_segment-t1\n",
      "                       * qsmxt-workflow.sub-1.ses-20170705.qsmxt_acq-qsmp21mmisote20_run-01.fastsurfer_segment-t1\n",
      "250618-08:47:38,549 nipype.workflow INFO:\n",
      "\t [Node] Setting-up \"qsmxt-workflow.sub-2.ses-20170705.qsmxt_acq-qsmp21mmisote20_run-01.qsm_workflow.qsmjl_rts\" in \"/data/books/structural_imaging/bids/derivatives/qsmxt-workflow/sub-2/ses-20170705/qsmxt_acq-qsmp21mmisote20_run-01/qsm_workflow/qsmjl_rts\".\n",
      "250618-08:47:38,564 nipype.workflow INFO:\n",
      "\t [Node] Executing \"qsmjl_rts\" <qsmxt.interfaces.nipype_interface_qsmjl.RtsQsmInterface>\n",
      "250618-08:47:40,484 nipype.workflow INFO:\n",
      "\t [MultiProc] Running 3 tasks, and 1 jobs ready. Free memory (GB): 1.52/27.93, Free processors: 2/20.\n",
      "                     Currently running:\n",
      "                       * qsmxt-workflow.sub-2.ses-20170705.qsmxt_acq-qsmp21mmisote20_run-01.qsm_workflow.qsmjl_rts\n",
      "                       * qsmxt-workflow.sub-2.ses-20170705.qsmxt_acq-qsmp21mmisote20_run-01.fastsurfer_segment-t1\n",
      "                       * qsmxt-workflow.sub-1.ses-20170705.qsmxt_acq-qsmp21mmisote20_run-01.fastsurfer_segment-t1\n",
      "250618-08:48:02,656 nipype.workflow INFO:\n",
      "\t [Node] Finished \"qsmjl_rts\", elapsed time 24.090853s.\n",
      "250618-08:48:04,507 nipype.workflow INFO:\n",
      "\t [Job 37] Completed (qsmxt-workflow.sub-2.ses-20170705.qsmxt_acq-qsmp21mmisote20_run-01.qsm_workflow.qsmjl_rts).\n",
      "250618-08:48:04,509 nipype.workflow INFO:\n",
      "\t [MultiProc] Running 2 tasks, and 2 jobs ready. Free memory (GB): 3.93/27.93, Free processors: 4/20.\n",
      "                     Currently running:\n",
      "                       * qsmxt-workflow.sub-2.ses-20170705.qsmxt_acq-qsmp21mmisote20_run-01.fastsurfer_segment-t1\n",
      "                       * qsmxt-workflow.sub-1.ses-20170705.qsmxt_acq-qsmp21mmisote20_run-01.fastsurfer_segment-t1\n",
      "250618-08:48:04,575 nipype.workflow INFO:\n",
      "\t [Node] Setting-up \"qsmxt-workflow.sub-1.ses-20170705.qsmxt_acq-qsmp21mmisote20_run-01.nibabel_numpy_qsm-average\" in \"/data/books/structural_imaging/bids/derivatives/qsmxt-workflow/sub-1/ses-20170705/qsmxt_acq-qsmp21mmisote20_run-01/nibabel_numpy_qsm-average\".\n",
      "250618-08:48:04,588 nipype.workflow INFO:\n",
      "\t [Node] Executing \"nibabel_numpy_qsm-average\" <qsmxt.interfaces.nipype_interface_nonzeroaverage.NonzeroAverageInterface>\n",
      "250618-08:48:04,589 nipype.workflow INFO:\n",
      "\t [Node] Finished \"nibabel_numpy_qsm-average\", elapsed time 0.000144s.\n",
      "250618-08:48:06,510 nipype.workflow INFO:\n",
      "\t [Job 38] Completed (qsmxt-workflow.sub-1.ses-20170705.qsmxt_acq-qsmp21mmisote20_run-01.nibabel_numpy_qsm-average).\n",
      "250618-08:48:06,512 nipype.workflow INFO:\n",
      "\t [MultiProc] Running 2 tasks, and 2 jobs ready. Free memory (GB): 3.93/27.93, Free processors: 4/20.\n",
      "                     Currently running:\n",
      "                       * qsmxt-workflow.sub-2.ses-20170705.qsmxt_acq-qsmp21mmisote20_run-01.fastsurfer_segment-t1\n",
      "                       * qsmxt-workflow.sub-1.ses-20170705.qsmxt_acq-qsmp21mmisote20_run-01.fastsurfer_segment-t1\n",
      "250618-08:48:06,571 nipype.workflow INFO:\n",
      "\t [Node] Setting-up \"qsmxt-workflow.sub-2.ses-20170705.qsmxt_acq-qsmp21mmisote20_run-01.nibabel_numpy_qsm-average\" in \"/data/books/structural_imaging/bids/derivatives/qsmxt-workflow/sub-2/ses-20170705/qsmxt_acq-qsmp21mmisote20_run-01/nibabel_numpy_qsm-average\".\n",
      "250618-08:48:06,573 nipype.workflow INFO:\n",
      "\t [Node] Executing \"nibabel_numpy_qsm-average\" <qsmxt.interfaces.nipype_interface_nonzeroaverage.NonzeroAverageInterface>\n",
      "250618-08:48:06,573 nipype.workflow INFO:\n",
      "\t [Node] Finished \"nibabel_numpy_qsm-average\", elapsed time 9.3e-05s.\n",
      "250618-08:48:08,514 nipype.workflow INFO:\n",
      "\t [Job 39] Completed (qsmxt-workflow.sub-2.ses-20170705.qsmxt_acq-qsmp21mmisote20_run-01.nibabel_numpy_qsm-average).\n",
      "250618-08:48:08,522 nipype.workflow INFO:\n",
      "\t [MultiProc] Running 2 tasks, and 2 jobs ready. Free memory (GB): 3.93/27.93, Free processors: 4/20.\n",
      "                     Currently running:\n",
      "                       * qsmxt-workflow.sub-2.ses-20170705.qsmxt_acq-qsmp21mmisote20_run-01.fastsurfer_segment-t1\n",
      "                       * qsmxt-workflow.sub-1.ses-20170705.qsmxt_acq-qsmp21mmisote20_run-01.fastsurfer_segment-t1\n",
      "250618-08:48:08,606 nipype.workflow INFO:\n",
      "\t [Node] Setting-up \"qsmxt-workflow.sub-1.ses-20170705.qsmxt_acq-qsmp21mmisote20_run-01.nibabel_numpy_nilearn_qsm-resampled\" in \"/data/books/structural_imaging/bids/derivatives/qsmxt-workflow/sub-1/ses-20170705/qsmxt_acq-qsmp21mmisote20_run-01/nibabel_numpy_nilearn_qsm-resampled\".\n",
      "250618-08:48:08,609 nipype.workflow INFO:\n",
      "\t [Node] Executing \"nibabel_numpy_nilearn_qsm-resampled\" <qsmxt.interfaces.nipype_interface_resample_like.ResampleLikeInterface>\n",
      "Resampling /data/books/structural_imaging/bids/derivatives/qsmxt-workflow/sub-1/ses-20170705/qsmxt_acq-qsmp21mmisote20_run-01/qsm_workflow/qsmjl_rts/sub-1_ses-20170705_acq-qsmp21mmisote20_run-01_part-phase_T2starw_scaled_romeo-unwrapped_normalized_vsharp_rts.nii to /data/books/structural_imaging/bids/sub-1/ses-20170705/anat/sub-1_ses-20170705_acq-qsmp21mmisote20_run-01_part-phase_T2starw.nii with interpolation continuous\n",
      "Loaded input and reference files\n",
      "Input image is already aligned with the reference image\n",
      "250618-08:48:08,612 nipype.workflow INFO:\n",
      "\t [Node] Finished \"nibabel_numpy_nilearn_qsm-resampled\", elapsed time 0.00145s.\n",
      "250618-08:48:10,514 nipype.workflow INFO:\n",
      "\t [Job 40] Completed (qsmxt-workflow.sub-1.ses-20170705.qsmxt_acq-qsmp21mmisote20_run-01.nibabel_numpy_nilearn_qsm-resampled).\n",
      "250618-08:48:10,516 nipype.workflow INFO:\n",
      "\t [MultiProc] Running 2 tasks, and 3 jobs ready. Free memory (GB): 3.93/27.93, Free processors: 4/20.\n",
      "                     Currently running:\n",
      "                       * qsmxt-workflow.sub-2.ses-20170705.qsmxt_acq-qsmp21mmisote20_run-01.fastsurfer_segment-t1\n",
      "                       * qsmxt-workflow.sub-1.ses-20170705.qsmxt_acq-qsmp21mmisote20_run-01.fastsurfer_segment-t1\n",
      "250618-08:48:10,556 nipype.workflow INFO:\n",
      "\t [Node] Setting-up \"qsmxt-workflow.sub-2.ses-20170705.qsmxt_acq-qsmp21mmisote20_run-01.nibabel_numpy_nilearn_qsm-resampled\" in \"/data/books/structural_imaging/bids/derivatives/qsmxt-workflow/sub-2/ses-20170705/qsmxt_acq-qsmp21mmisote20_run-01/nibabel_numpy_nilearn_qsm-resampled\".\n",
      "250618-08:48:10,558 nipype.workflow INFO:\n",
      "\t [Node] Executing \"nibabel_numpy_nilearn_qsm-resampled\" <qsmxt.interfaces.nipype_interface_resample_like.ResampleLikeInterface>\n",
      "Resampling /data/books/structural_imaging/bids/derivatives/qsmxt-workflow/sub-2/ses-20170705/qsmxt_acq-qsmp21mmisote20_run-01/qsm_workflow/qsmjl_rts/sub-2_ses-20170705_acq-qsmp21mmisote20_run-01_part-phase_T2starw_scaled_romeo-unwrapped_normalized_vsharp_rts.nii to /data/books/structural_imaging/bids/sub-2/ses-20170705/anat/sub-2_ses-20170705_acq-qsmp21mmisote20_run-01_part-phase_T2starw.nii with interpolation continuous\n",
      "Loaded input and reference files\n",
      "Input image is already aligned with the reference image\n",
      "250618-08:48:10,559 nipype.workflow INFO:\n",
      "\t [Node] Finished \"nibabel_numpy_nilearn_qsm-resampled\", elapsed time 0.000919s.\n",
      "250618-08:48:12,515 nipype.workflow INFO:\n",
      "\t [Job 41] Completed (qsmxt-workflow.sub-2.ses-20170705.qsmxt_acq-qsmp21mmisote20_run-01.nibabel_numpy_nilearn_qsm-resampled).\n",
      "250618-08:48:12,517 nipype.workflow INFO:\n",
      "\t [MultiProc] Running 2 tasks, and 4 jobs ready. Free memory (GB): 3.93/27.93, Free processors: 4/20.\n",
      "                     Currently running:\n",
      "                       * qsmxt-workflow.sub-2.ses-20170705.qsmxt_acq-qsmp21mmisote20_run-01.fastsurfer_segment-t1\n",
      "                       * qsmxt-workflow.sub-1.ses-20170705.qsmxt_acq-qsmp21mmisote20_run-01.fastsurfer_segment-t1\n",
      "250618-08:48:12,590 nipype.workflow INFO:\n",
      "\t [Node] Setting-up \"qsmxt-workflow.sub-1.ses-20170705.qsmxt_acq-qsmp21mmisote20_run-01.nibabel_numpy_qsm-referenced\" in \"/data/books/structural_imaging/bids/derivatives/qsmxt-workflow/sub-1/ses-20170705/qsmxt_acq-qsmp21mmisote20_run-01/nibabel_numpy_qsm-referenced\".\n",
      "250618-08:48:12,593 nipype.workflow INFO:\n",
      "\t [Node] Executing \"nibabel_numpy_qsm-referenced\" <qsmxt.interfaces.nipype_interface_qsm_referencing.ReferenceQSMInterface>\n",
      "250618-08:48:13,226 nipype.workflow INFO:\n",
      "\t [Node] Finished \"nibabel_numpy_qsm-referenced\", elapsed time 0.632775s.\n",
      "250618-08:48:14,517 nipype.workflow INFO:\n",
      "\t [Job 42] Completed (qsmxt-workflow.sub-1.ses-20170705.qsmxt_acq-qsmp21mmisote20_run-01.nibabel_numpy_qsm-referenced).\n",
      "250618-08:48:14,518 nipype.workflow INFO:\n",
      "\t [MultiProc] Running 2 tasks, and 3 jobs ready. Free memory (GB): 3.93/27.93, Free processors: 4/20.\n",
      "                     Currently running:\n",
      "                       * qsmxt-workflow.sub-2.ses-20170705.qsmxt_acq-qsmp21mmisote20_run-01.fastsurfer_segment-t1\n",
      "                       * qsmxt-workflow.sub-1.ses-20170705.qsmxt_acq-qsmp21mmisote20_run-01.fastsurfer_segment-t1\n",
      "250618-08:48:14,553 nipype.workflow INFO:\n",
      "\t [Node] Setting-up \"qsmxt-workflow.sub-1.ses-20170705.qsmxt_acq-qsmp21mmisote20_run-01.combine_lists1\" in \"/data/books/structural_imaging/bids/derivatives/qsmxt-workflow/sub-1/ses-20170705/qsmxt_acq-qsmp21mmisote20_run-01/combine_lists1\".\n",
      "250618-08:48:14,557 nipype.workflow INFO:\n",
      "\t [Node] Executing \"combine_lists1\" <nipype.interfaces.utility.wrappers.Function>\n",
      "250618-08:48:14,559 nipype.workflow INFO:\n",
      "\t [Node] Finished \"combine_lists1\", elapsed time 0.000468s.\n",
      "250618-08:48:16,520 nipype.workflow INFO:\n",
      "\t [Job 43] Completed (qsmxt-workflow.sub-1.ses-20170705.qsmxt_acq-qsmp21mmisote20_run-01.combine_lists1).\n",
      "250618-08:48:16,523 nipype.workflow INFO:\n",
      "\t [MultiProc] Running 2 tasks, and 2 jobs ready. Free memory (GB): 3.93/27.93, Free processors: 4/20.\n",
      "                     Currently running:\n",
      "                       * qsmxt-workflow.sub-2.ses-20170705.qsmxt_acq-qsmp21mmisote20_run-01.fastsurfer_segment-t1\n",
      "                       * qsmxt-workflow.sub-1.ses-20170705.qsmxt_acq-qsmp21mmisote20_run-01.fastsurfer_segment-t1\n",
      "250618-08:48:16,616 nipype.workflow INFO:\n",
      "\t [Node] Setting-up \"qsmxt-workflow.sub-2.ses-20170705.qsmxt_acq-qsmp21mmisote20_run-01.nibabel_numpy_qsm-referenced\" in \"/data/books/structural_imaging/bids/derivatives/qsmxt-workflow/sub-2/ses-20170705/qsmxt_acq-qsmp21mmisote20_run-01/nibabel_numpy_qsm-referenced\".\n",
      "250618-08:48:16,619 nipype.workflow INFO:\n",
      "\t [Node] Executing \"nibabel_numpy_qsm-referenced\" <qsmxt.interfaces.nipype_interface_qsm_referencing.ReferenceQSMInterface>\n",
      "250618-08:48:17,492 nipype.workflow INFO:\n",
      "\t [Node] Finished \"nibabel_numpy_qsm-referenced\", elapsed time 0.871911s.\n",
      "250618-08:48:18,524 nipype.workflow INFO:\n",
      "\t [Job 44] Completed (qsmxt-workflow.sub-2.ses-20170705.qsmxt_acq-qsmp21mmisote20_run-01.nibabel_numpy_qsm-referenced).\n",
      "250618-08:48:18,529 nipype.workflow INFO:\n",
      "\t [MultiProc] Running 2 tasks, and 1 jobs ready. Free memory (GB): 3.93/27.93, Free processors: 4/20.\n",
      "                     Currently running:\n",
      "                       * qsmxt-workflow.sub-2.ses-20170705.qsmxt_acq-qsmp21mmisote20_run-01.fastsurfer_segment-t1\n",
      "                       * qsmxt-workflow.sub-1.ses-20170705.qsmxt_acq-qsmp21mmisote20_run-01.fastsurfer_segment-t1\n",
      "250618-08:48:18,625 nipype.workflow INFO:\n",
      "\t [Node] Setting-up \"qsmxt-workflow.sub-2.ses-20170705.qsmxt_acq-qsmp21mmisote20_run-01.combine_lists1\" in \"/data/books/structural_imaging/bids/derivatives/qsmxt-workflow/sub-2/ses-20170705/qsmxt_acq-qsmp21mmisote20_run-01/combine_lists1\".\n",
      "250618-08:48:18,628 nipype.workflow INFO:\n",
      "\t [Node] Executing \"combine_lists1\" <nipype.interfaces.utility.wrappers.Function>\n",
      "250618-08:48:18,630 nipype.workflow INFO:\n",
      "\t [Node] Finished \"combine_lists1\", elapsed time 0.000765s.\n",
      "250618-08:48:20,524 nipype.workflow INFO:\n",
      "\t [Job 45] Completed (qsmxt-workflow.sub-2.ses-20170705.qsmxt_acq-qsmp21mmisote20_run-01.combine_lists1).\n",
      "250618-08:48:20,527 nipype.workflow INFO:\n",
      "\t [MultiProc] Running 2 tasks, and 0 jobs ready. Free memory (GB): 3.93/27.93, Free processors: 4/20.\n",
      "                     Currently running:\n",
      "                       * qsmxt-workflow.sub-2.ses-20170705.qsmxt_acq-qsmp21mmisote20_run-01.fastsurfer_segment-t1\n",
      "                       * qsmxt-workflow.sub-1.ses-20170705.qsmxt_acq-qsmp21mmisote20_run-01.fastsurfer_segment-t1\n",
      "250618-08:52:41,555 nipype.workflow INFO:\n",
      "\t [Node] Finished \"fastsurfer_segment-t1\", elapsed time 1097.707735s.\n",
      "250618-08:52:41,557 nipype.workflow INFO:\n",
      "\t [Node] Finished \"fastsurfer_segment-t1\", elapsed time 369.054617s.\n",
      "250618-08:52:42,780 nipype.workflow INFO:\n",
      "\t [Job 4] Completed (qsmxt-workflow.sub-1.ses-20170705.qsmxt_acq-qsmp21mmisote20_run-01.fastsurfer_segment-t1).\n",
      "250618-08:52:42,781 nipype.workflow INFO:\n",
      "\t [Job 10] Completed (qsmxt-workflow.sub-2.ses-20170705.qsmxt_acq-qsmp21mmisote20_run-01.fastsurfer_segment-t1).\n",
      "250618-08:52:42,783 nipype.workflow INFO:\n",
      "\t [MultiProc] Running 0 tasks, and 2 jobs ready. Free memory (GB): 27.93/27.93, Free processors: 20/20.\n",
      "250618-08:52:42,819 nipype.workflow INFO:\n",
      "\t [Node] Setting-up \"qsmxt-workflow.sub-1.ses-20170705.qsmxt_acq-qsmp21mmisote20_run-01.numpy_numpy_nibabel_mgz2nii\" in \"/data/books/structural_imaging/bids/derivatives/qsmxt-workflow/sub-1/ses-20170705/qsmxt_acq-qsmp21mmisote20_run-01/numpy_numpy_nibabel_mgz2nii\".\n",
      "250618-08:52:42,820 nipype.workflow INFO:\n",
      "\t [Node] Executing \"numpy_numpy_nibabel_mgz2nii\" <qsmxt.interfaces.nipype_interface_mgz2nii.Mgz2NiiInterface>\n",
      "250618-08:52:42,819 nipype.workflow INFO:\n",
      "\t [Node] Setting-up \"qsmxt-workflow.sub-2.ses-20170705.qsmxt_acq-qsmp21mmisote20_run-01.numpy_numpy_nibabel_mgz2nii\" in \"/data/books/structural_imaging/bids/derivatives/qsmxt-workflow/sub-2/ses-20170705/qsmxt_acq-qsmp21mmisote20_run-01/numpy_numpy_nibabel_mgz2nii\".\n",
      "250618-08:52:42,871 nipype.workflow INFO:\n",
      "\t [Node] Executing \"numpy_numpy_nibabel_mgz2nii\" <qsmxt.interfaces.nipype_interface_mgz2nii.Mgz2NiiInterface>\n",
      "250618-08:52:42,951 nipype.workflow INFO:\n",
      "\t [Node] Finished \"numpy_numpy_nibabel_mgz2nii\", elapsed time 0.130297s.\n",
      "250618-08:52:42,991 nipype.workflow INFO:\n",
      "\t [Node] Finished \"numpy_numpy_nibabel_mgz2nii\", elapsed time 0.120057s.\n",
      "250618-08:52:44,782 nipype.workflow INFO:\n",
      "\t [Job 14] Completed (qsmxt-workflow.sub-1.ses-20170705.qsmxt_acq-qsmp21mmisote20_run-01.numpy_numpy_nibabel_mgz2nii).\n",
      "250618-08:52:44,783 nipype.workflow INFO:\n",
      "\t [Job 17] Completed (qsmxt-workflow.sub-2.ses-20170705.qsmxt_acq-qsmp21mmisote20_run-01.numpy_numpy_nibabel_mgz2nii).\n",
      "250618-08:52:44,785 nipype.workflow INFO:\n",
      "\t [MultiProc] Running 0 tasks, and 4 jobs ready. Free memory (GB): 27.93/27.93, Free processors: 20/20.\n",
      "250618-08:52:44,819 nipype.workflow INFO:\n",
      "\t [Node] Setting-up \"qsmxt-workflow.sub-1.ses-20170705.qsmxt_acq-qsmp21mmisote20_run-01.nibabel_numpy_nilearn_t1w-seg-resampled\" in \"/data/books/structural_imaging/bids/derivatives/qsmxt-workflow/sub-1/ses-20170705/qsmxt_acq-qsmp21mmisote20_run-01/nibabel_numpy_nilearn_t1w-seg-resampled\".\n",
      "250618-08:52:44,819 nipype.workflow INFO:\n",
      "\t [Node] Setting-up \"qsmxt-workflow.sub-1.ses-20170705.qsmxt_acq-qsmp21mmisote20_run-01.ants_transform-segmentation-to-qsm\" in \"/data/books/structural_imaging/bids/derivatives/qsmxt-workflow/sub-1/ses-20170705/qsmxt_acq-qsmp21mmisote20_run-01/ants_transform-segmentation-to-qsm\".\n",
      "250618-08:52:44,820 nipype.workflow INFO:\n",
      "\t [Node] Setting-up \"qsmxt-workflow.sub-2.ses-20170705.qsmxt_acq-qsmp21mmisote20_run-01.ants_transform-segmentation-to-qsm\" in \"/data/books/structural_imaging/bids/derivatives/qsmxt-workflow/sub-2/ses-20170705/qsmxt_acq-qsmp21mmisote20_run-01/ants_transform-segmentation-to-qsm\".\n",
      "250618-08:52:44,821 nipype.workflow INFO:\n",
      "\t [Node] Executing \"nibabel_numpy_nilearn_t1w-seg-resampled\" <qsmxt.interfaces.nipype_interface_resample_like.ResampleLikeInterface>\n",
      "Resampling /data/books/structural_imaging/bids/derivatives/qsmxt-workflow/sub-1/ses-20170705/qsmxt_acq-qsmp21mmisote20_run-01/fastsurfer_segment-t1/sub-1_ses-20170705_acq-mp2ragehighres0p5isoslab_run-01_T1w_dseg_nii.nii to /data/books/structural_imaging/bids/sub-1/ses-20170705/anat/sub-1_ses-20170705_acq-mp2ragehighres0p5isoslab_run-01_T1w.nii with interpolation nearest\n",
      "Loaded input and reference files\n",
      "250618-08:52:44,822 nipype.workflow INFO:\n",
      "\t [Node] Executing \"ants_transform-segmentation-to-qsm\" <nipype.interfaces.ants.resampling.ApplyTransforms>\n",
      "250618-08:52:44,822 nipype.workflow INFO:\n",
      "\t [Node] Executing \"ants_transform-segmentation-to-qsm\" <nipype.interfaces.ants.resampling.ApplyTransforms>\n",
      "250618-08:52:44,820 nipype.workflow INFO:\n",
      "\t [Node] Setting-up \"qsmxt-workflow.sub-2.ses-20170705.qsmxt_acq-qsmp21mmisote20_run-01.nibabel_numpy_nilearn_t1w-seg-resampled\" in \"/data/books/structural_imaging/bids/derivatives/qsmxt-workflow/sub-2/ses-20170705/qsmxt_acq-qsmp21mmisote20_run-01/nibabel_numpy_nilearn_t1w-seg-resampled\".\n",
      "250618-08:52:44,871 nipype.workflow INFO:\n",
      "\t [Node] Executing \"nibabel_numpy_nilearn_t1w-seg-resampled\" <qsmxt.interfaces.nipype_interface_resample_like.ResampleLikeInterface>\n",
      "Resampling /data/books/structural_imaging/bids/derivatives/qsmxt-workflow/sub-2/ses-20170705/qsmxt_acq-qsmp21mmisote20_run-01/fastsurfer_segment-t1/sub-2_ses-20170705_acq-mp2ragehighres0p5isoslab_run-01_T1w_dseg_nii.nii to /data/books/structural_imaging/bids/sub-2/ses-20170705/anat/sub-2_ses-20170705_acq-mp2ragehighres0p5isoslab_run-01_T1w.nii with interpolation nearest\n",
      "Loaded input and reference files\n",
      "250618-08:52:46,783 nipype.workflow INFO:\n",
      "\t [MultiProc] Running 4 tasks, and 0 jobs ready. Free memory (GB): 19.93/27.93, Free processors: 16/20.\n",
      "                     Currently running:\n",
      "                       * qsmxt-workflow.sub-2.ses-20170705.qsmxt_acq-qsmp21mmisote20_run-01.ants_transform-segmentation-to-qsm\n",
      "                       * qsmxt-workflow.sub-2.ses-20170705.qsmxt_acq-qsmp21mmisote20_run-01.nibabel_numpy_nilearn_t1w-seg-resampled\n",
      "                       * qsmxt-workflow.sub-1.ses-20170705.qsmxt_acq-qsmp21mmisote20_run-01.ants_transform-segmentation-to-qsm\n",
      "                       * qsmxt-workflow.sub-1.ses-20170705.qsmxt_acq-qsmp21mmisote20_run-01.nibabel_numpy_nilearn_t1w-seg-resampled\n",
      "Resampled the image\n",
      "Resampled the image\n",
      "Saved resampled image to /data/books/structural_imaging/bids/derivatives/qsmxt-workflow/sub-2/ses-20170705/qsmxt_acq-qsmp21mmisote20_run-01/nibabel_numpy_nilearn_t1w-seg-resampled/sub-2_ses-20170705_acq-mp2ragehighres0p5isoslab_run-01_T1w_dseg_nii_resampled.nii\n",
      "Saved resampled image to /data/books/structural_imaging/bids/derivatives/qsmxt-workflow/sub-1/ses-20170705/qsmxt_acq-qsmp21mmisote20_run-01/nibabel_numpy_nilearn_t1w-seg-resampled/sub-1_ses-20170705_acq-mp2ragehighres0p5isoslab_run-01_T1w_dseg_nii_resampled.nii\n",
      "250618-08:52:46,936 nipype.workflow INFO:\n",
      "\t [Node] Finished \"nibabel_numpy_nilearn_t1w-seg-resampled\", elapsed time 2.064081s.\n",
      "250618-08:52:46,937 nipype.workflow INFO:\n",
      "\t [Node] Finished \"nibabel_numpy_nilearn_t1w-seg-resampled\", elapsed time 2.115974s.\n",
      "250618-08:52:48,520 nipype.workflow INFO:\n",
      "\t [Node] Finished \"ants_transform-segmentation-to-qsm\", elapsed time 3.697995s.\n",
      "250618-08:52:48,524 nipype.workflow INFO:\n",
      "\t [Node] Finished \"ants_transform-segmentation-to-qsm\", elapsed time 3.701939s.\n",
      "250618-08:52:48,784 nipype.workflow INFO:\n",
      "\t [Job 19] Completed (qsmxt-workflow.sub-1.ses-20170705.qsmxt_acq-qsmp21mmisote20_run-01.nibabel_numpy_nilearn_t1w-seg-resampled).\n",
      "250618-08:52:48,786 nipype.workflow INFO:\n",
      "\t [Job 20] Completed (qsmxt-workflow.sub-1.ses-20170705.qsmxt_acq-qsmp21mmisote20_run-01.ants_transform-segmentation-to-qsm).\n",
      "250618-08:52:48,787 nipype.workflow INFO:\n",
      "\t [Job 22] Completed (qsmxt-workflow.sub-2.ses-20170705.qsmxt_acq-qsmp21mmisote20_run-01.nibabel_numpy_nilearn_t1w-seg-resampled).\n",
      "250618-08:52:48,788 nipype.workflow INFO:\n",
      "\t [Job 23] Completed (qsmxt-workflow.sub-2.ses-20170705.qsmxt_acq-qsmp21mmisote20_run-01.ants_transform-segmentation-to-qsm).\n",
      "250618-08:52:48,789 nipype.workflow INFO:\n",
      "\t [MultiProc] Running 0 tasks, and 2 jobs ready. Free memory (GB): 27.93/27.93, Free processors: 20/20.\n",
      "250618-08:52:48,814 nipype.workflow INFO:\n",
      "\t [Node] Setting-up \"qsmxt-workflow.sub-1.ses-20170705.qsmxt_acq-qsmp21mmisote20_run-01.combine_lists2\" in \"/data/books/structural_imaging/bids/derivatives/qsmxt-workflow/sub-1/ses-20170705/qsmxt_acq-qsmp21mmisote20_run-01/combine_lists2\".\n",
      "250618-08:52:48,815 nipype.workflow INFO:\n",
      "\t [Node] Setting-up \"qsmxt-workflow.sub-2.ses-20170705.qsmxt_acq-qsmp21mmisote20_run-01.combine_lists2\" in \"/data/books/structural_imaging/bids/derivatives/qsmxt-workflow/sub-2/ses-20170705/qsmxt_acq-qsmp21mmisote20_run-01/combine_lists2\".\n",
      "250618-08:52:48,816 nipype.workflow INFO:\n",
      "\t [Node] Executing \"combine_lists2\" <nipype.interfaces.utility.wrappers.Function>\n",
      "250618-08:52:48,816 nipype.workflow INFO:\n",
      "\t [Node] Executing \"combine_lists2\" <nipype.interfaces.utility.wrappers.Function>\n",
      "250618-08:52:48,816 nipype.workflow INFO:\n",
      "\t [Node] Finished \"combine_lists2\", elapsed time 0.000236s.\n",
      "250618-08:52:48,816 nipype.workflow INFO:\n",
      "\t [Node] Finished \"combine_lists2\", elapsed time 0.000217s.\n",
      "250618-08:52:50,786 nipype.workflow INFO:\n",
      "\t [Job 26] Completed (qsmxt-workflow.sub-1.ses-20170705.qsmxt_acq-qsmp21mmisote20_run-01.combine_lists2).\n",
      "250618-08:52:50,797 nipype.workflow INFO:\n",
      "\t [Job 29] Completed (qsmxt-workflow.sub-2.ses-20170705.qsmxt_acq-qsmp21mmisote20_run-01.combine_lists2).\n",
      "250618-08:52:50,799 nipype.workflow INFO:\n",
      "\t [MultiProc] Running 0 tasks, and 2 jobs ready. Free memory (GB): 27.93/27.93, Free processors: 20/20.\n",
      "250618-08:52:50,831 nipype.workflow INFO:\n",
      "\t [Node] Setting-up \"qsmxt-workflow.sub-2.ses-20170705.qsmxt_acq-qsmp21mmisote20_run-01.create_permutations\" in \"/data/books/structural_imaging/bids/derivatives/qsmxt-workflow/sub-2/ses-20170705/qsmxt_acq-qsmp21mmisote20_run-01/create_permutations\".\n",
      "250618-08:52:50,832 nipype.workflow INFO:\n",
      "\t [Node] Executing \"create_permutations\" <nipype.interfaces.utility.wrappers.Function>\n",
      "250618-08:52:50,833 nipype.workflow INFO:\n",
      "\t [Node] Finished \"create_permutations\", elapsed time 0.000235s.\n",
      "250618-08:52:50,831 nipype.workflow INFO:\n",
      "\t [Node] Setting-up \"qsmxt-workflow.sub-1.ses-20170705.qsmxt_acq-qsmp21mmisote20_run-01.create_permutations\" in \"/data/books/structural_imaging/bids/derivatives/qsmxt-workflow/sub-1/ses-20170705/qsmxt_acq-qsmp21mmisote20_run-01/create_permutations\".\n",
      "250618-08:52:50,887 nipype.workflow INFO:\n",
      "\t [Node] Executing \"create_permutations\" <nipype.interfaces.utility.wrappers.Function>\n",
      "250618-08:52:50,888 nipype.workflow INFO:\n",
      "\t [Node] Finished \"create_permutations\", elapsed time 0.000705s.\n",
      "250618-08:52:52,788 nipype.workflow INFO:\n",
      "\t [Job 46] Completed (qsmxt-workflow.sub-1.ses-20170705.qsmxt_acq-qsmp21mmisote20_run-01.create_permutations).\n",
      "250618-08:52:52,789 nipype.workflow INFO:\n",
      "\t [Job 47] Completed (qsmxt-workflow.sub-2.ses-20170705.qsmxt_acq-qsmp21mmisote20_run-01.create_permutations).\n",
      "250618-08:52:52,791 nipype.workflow INFO:\n",
      "\t [MultiProc] Running 0 tasks, and 2 jobs ready. Free memory (GB): 27.93/27.93, Free processors: 20/20.\n",
      "250618-08:52:52,825 nipype.workflow INFO:\n",
      "\t [Node] Setting-up \"_nibabel_numpy_analyse-qsm0\" in \"/data/books/structural_imaging/bids/derivatives/qsmxt-workflow/sub-1/ses-20170705/qsmxt_acq-qsmp21mmisote20_run-01/nibabel_numpy_analyse-qsm/mapflow/_nibabel_numpy_analyse-qsm0\".\n",
      "250618-08:52:52,825 nipype.workflow INFO:\n",
      "\t [Node] Setting-up \"_nibabel_numpy_analyse-qsm0\" in \"/data/books/structural_imaging/bids/derivatives/qsmxt-workflow/sub-2/ses-20170705/qsmxt_acq-qsmp21mmisote20_run-01/nibabel_numpy_analyse-qsm/mapflow/_nibabel_numpy_analyse-qsm0\".\n",
      "250618-08:52:52,825 nipype.workflow INFO:\n",
      "\t [Node] Executing \"_nibabel_numpy_analyse-qsm0\" <qsmxt.interfaces.nipype_interface_analyse.AnalyseInterface>\n",
      "250618-08:52:52,826 nipype.workflow INFO:\n",
      "\t [Node] Executing \"_nibabel_numpy_analyse-qsm0\" <qsmxt.interfaces.nipype_interface_analyse.AnalyseInterface>\n",
      "250618-08:52:54,790 nipype.workflow INFO:\n",
      "\t [MultiProc] Running 2 tasks, and 0 jobs ready. Free memory (GB): 23.93/27.93, Free processors: 18/20.\n",
      "                     Currently running:\n",
      "                       * qsmxt-workflow.sub-2.ses-20170705.qsmxt_acq-qsmp21mmisote20_run-01.nibabel_numpy_analyse-qsm\n",
      "                       * qsmxt-workflow.sub-1.ses-20170705.qsmxt_acq-qsmp21mmisote20_run-01.nibabel_numpy_analyse-qsm\n",
      "250618-08:53:39,821 nipype.workflow INFO:\n",
      "\t [Node] Finished \"_nibabel_numpy_analyse-qsm0\", elapsed time 46.995239s.\n",
      "250618-08:53:39,850 nipype.workflow INFO:\n",
      "\t [Node] Finished \"_nibabel_numpy_analyse-qsm0\", elapsed time 47.02384s.\n",
      "250618-08:53:40,827 nipype.workflow INFO:\n",
      "\t [Job 48] Completed (qsmxt-workflow.sub-1.ses-20170705.qsmxt_acq-qsmp21mmisote20_run-01.nibabel_numpy_analyse-qsm).\n",
      "250618-08:53:40,828 nipype.workflow INFO:\n",
      "\t [Job 49] Completed (qsmxt-workflow.sub-2.ses-20170705.qsmxt_acq-qsmp21mmisote20_run-01.nibabel_numpy_analyse-qsm).\n",
      "250618-08:53:40,829 nipype.workflow INFO:\n",
      "\t [MultiProc] Running 0 tasks, and 2 jobs ready. Free memory (GB): 27.93/27.93, Free processors: 20/20.\n",
      "250618-08:53:40,861 nipype.workflow INFO:\n",
      "\t [Node] Setting-up \"qsmxt-workflow.sub-1.ses-20170705.qsmxt_acq-qsmp21mmisote20_run-01.copyfile\" in \"/data/books/structural_imaging/bids/derivatives/qsmxt-workflow/sub-1/ses-20170705/qsmxt_acq-qsmp21mmisote20_run-01/copyfile\".\n",
      "250618-08:53:40,864 nipype.workflow INFO:\n",
      "\t [Node] Executing \"copyfile\" <qsmxt.interfaces.nipype_interface_copyfile.DynamicCopyFiles>\n",
      "250618-08:53:40,861 nipype.workflow INFO:\n",
      "\t [Node] Setting-up \"qsmxt-workflow.sub-2.ses-20170705.qsmxt_acq-qsmp21mmisote20_run-01.copyfile\" in \"/data/books/structural_imaging/bids/derivatives/qsmxt-workflow/sub-2/ses-20170705/qsmxt_acq-qsmp21mmisote20_run-01/copyfile\".\n",
      "250618-08:53:40,914 nipype.workflow INFO:\n",
      "\t [Node] Executing \"copyfile\" <qsmxt.interfaces.nipype_interface_copyfile.DynamicCopyFiles>\n",
      "250618-08:53:40,948 nipype.workflow INFO:\n",
      "\t [Node] Finished \"copyfile\", elapsed time 0.083307s.\n",
      "250618-08:53:40,989 nipype.workflow INFO:\n",
      "\t [Node] Finished \"copyfile\", elapsed time 0.07381s.\n",
      "250618-08:53:42,830 nipype.workflow INFO:\n",
      "\t [Job 50] Completed (qsmxt-workflow.sub-1.ses-20170705.qsmxt_acq-qsmp21mmisote20_run-01.copyfile).\n",
      "250618-08:53:42,831 nipype.workflow INFO:\n",
      "\t [Job 51] Completed (qsmxt-workflow.sub-2.ses-20170705.qsmxt_acq-qsmp21mmisote20_run-01.copyfile).\n",
      "250618-08:53:42,833 nipype.workflow INFO:\n",
      "\t [MultiProc] Running 0 tasks, and 0 jobs ready. Free memory (GB): 27.93/27.93, Free processors: 20/20.\n",
      "[INFO]: Warnings occurred!\n",
      "[INFO]: Finished\n"
     ]
    }
   ],
   "source": [
    "!qsmxt bids \\\n",
    "    --premade fast \\\n",
    "    --do_qsm \\\n",
    "    --do_segmentation \\\n",
    "    --do_analysis \\\n",
    "    --auto_yes"
   ]
  },
  {
   "cell_type": "markdown",
   "id": "5bd82d02-5fa4-4734-85d9-f949a46ce0c5",
   "metadata": {
    "id": "5bd82d02-5fa4-4734-85d9-f949a46ce0c5"
   },
   "source": [
    "# View results"
   ]
  },
  {
   "cell_type": "markdown",
   "id": "42801eb6-fcbb-40de-8a62-ffaea05c898c",
   "metadata": {
    "id": "42801eb6-fcbb-40de-8a62-ffaea05c898c"
   },
   "source": [
    "Let's have a look at the generated `qsm` folder:"
   ]
  },
  {
   "cell_type": "code",
   "execution_count": 14,
   "id": "d291c6e8-caf2-4aa8-9073-248287dcef68",
   "metadata": {
    "colab": {
     "base_uri": "https://localhost:8080/"
    },
    "editable": true,
    "id": "d291c6e8-caf2-4aa8-9073-248287dcef68",
    "outputId": "8a72572c-18eb-4306-f71d-5a3e94bc4c77",
    "slideshow": {
     "slide_type": ""
    },
    "tags": []
   },
   "outputs": [
    {
     "name": "stdout",
     "output_type": "stream",
     "text": [
      "\u001b[01;34mbids/derivatives/qsmxt-2025-06-18-083054\u001b[0m\n",
      "├── \u001b[01;34msub-1\u001b[0m\n",
      "│   └── \u001b[01;34mses-20170705\u001b[0m\n",
      "│       ├── \u001b[01;34manat\u001b[0m\n",
      "│       │   ├── \u001b[00msub-1_ses-20170705_run-01_acq-qsmp21mmisote20_Chimap.nii\u001b[0m\n",
      "│       │   ├── \u001b[00msub-1_ses-20170705_run-01_acq-qsmp21mmisote20_space-orig_dseg.nii\u001b[0m\n",
      "│       │   └── \u001b[00msub-1_ses-20170705_run-01_acq-qsmp21mmisote20_space-qsm_dseg.nii\u001b[0m\n",
      "│       └── \u001b[01;34mextra_data\u001b[0m\n",
      "│           ├── \u001b[00msub-1_ses-20170705_run-01_acq-qsmp21mmisote20_desc-t1w-to-qsm_transform.mat\u001b[0m\n",
      "│           └── \u001b[00msub-1_ses-20170705_run-01_acq-qsmp21mmisote20_qsm-analysis.csv\u001b[0m\n",
      "├── \u001b[01;34msub-2\u001b[0m\n",
      "│   └── \u001b[01;34mses-20170705\u001b[0m\n",
      "│       ├── \u001b[01;34manat\u001b[0m\n",
      "│       │   ├── \u001b[00msub-2_ses-20170705_run-01_acq-qsmp21mmisote20_Chimap.nii\u001b[0m\n",
      "│       │   ├── \u001b[00msub-2_ses-20170705_run-01_acq-qsmp21mmisote20_space-orig_dseg.nii\u001b[0m\n",
      "│       │   └── \u001b[00msub-2_ses-20170705_run-01_acq-qsmp21mmisote20_space-qsm_dseg.nii\u001b[0m\n",
      "│       └── \u001b[01;34mextra_data\u001b[0m\n",
      "│           ├── \u001b[00msub-2_ses-20170705_run-01_acq-qsmp21mmisote20_desc-t1w-to-qsm_transform.mat\u001b[0m\n",
      "│           └── \u001b[00msub-2_ses-20170705_run-01_acq-qsmp21mmisote20_qsm-analysis.csv\u001b[0m\n",
      "├── \u001b[00mcommand.txt\u001b[0m\n",
      "├── \u001b[00mpypeline.log\u001b[0m\n",
      "├── \u001b[00mqsmxt.log\u001b[0m\n",
      "├── \u001b[00mreferences.txt\u001b[0m\n",
      "└── \u001b[00msettings.json\u001b[0m\n",
      "\n",
      "9 directories, 15 files\n"
     ]
    }
   ],
   "source": [
    "!tree bids/derivatives/qsmxt-*-* --dirsfirst"
   ]
  },
  {
   "cell_type": "markdown",
   "id": "6b0c7f44-1bb3-4004-be03-eb3e9807618b",
   "metadata": {
    "id": "6b0c7f44-1bb3-4004-be03-eb3e9807618b"
   },
   "source": [
    "The `references.txt` file contains a list of all the algorithms used and relevant citations:"
   ]
  },
  {
   "cell_type": "code",
   "execution_count": 15,
   "id": "2e86b5f3-1e73-42c0-8cd3-d75dadda7b71",
   "metadata": {
    "colab": {
     "base_uri": "https://localhost:8080/"
    },
    "editable": true,
    "id": "2e86b5f3-1e73-42c0-8cd3-d75dadda7b71",
    "outputId": "a02d2243-a25c-4175-c8e1-f4103919f5e5",
    "slideshow": {
     "slide_type": ""
    },
    "tags": []
   },
   "outputs": [
    {
     "name": "stdout",
     "output_type": "stream",
     "text": [
      "== References ==\n",
      "\n",
      " - QSMxT: Stewart AW, Robinson SD, O'Brien K, et al. QSMxT: Robust masking and artifact reduction for quantitative susceptibility mapping. Magnetic Resonance in Medicine. 2022;87(3):1289-1300. doi:10.1002/mrm.29048\n",
      "\n",
      " - QSMxT: Stewart AW, Bollman S, et al. QSMxT/QSMxT. GitHub; 2022. https://github.com/QSMxT/QSMxT\n",
      "\n",
      " - Python package - Nipype: Gorgolewski K, Burns C, Madison C, et al. Nipype: A Flexible, Lightweight and Extensible Neuroimaging Data Processing Framework in Python. Frontiers in Neuroinformatics. 2011;5. Accessed April 20, 2022. doi:10.3389/fninf.2011.00013\n",
      "\n",
      " - Brain extraction: Smith SM. Fast robust automated brain extraction. Human Brain Mapping. 2002;17(3):143-155. doi:10.1002/hbm.10062\n",
      "\n",
      " - Brain extraction: Liangfu Chen. liangfu/bet2 - Standalone Brain Extraction Tool. GitHub; 2015. https://github.com/liangfu/bet2\n",
      "\n",
      " - Unwrapping algorithm - ROMEO: Dymerska B, Eckstein K, Bachrata B, et al. Phase unwrapping with a rapid opensource minimum spanning tree algorithm (ROMEO). Magnetic Resonance in Medicine. 2021;85(4):2294-2308. doi:10.1002/mrm.28563\n",
      "\n",
      " - Background field removal - V-SHARP: Wu B, Li W, Guidon A et al. Whole brain susceptibility mapping using compressed sensing. Magnetic resonance in medicine. 2012 Jan;67(1):137-47. doi:10.1002/mrm.23000\n",
      "\n",
      " - QSM algorithm - RTS: Kames C, Wiggermann V, Rauscher A. Rapid two-step dipole inversion for susceptibility mapping with sparsity priors. Neuroimage. 2018 Feb 15;167:276-83. doi:10.1016/j.neuroimage.2017.11.018\n",
      "\n",
      " - Julia package - QSM.jl: kamesy. GitHub; 2022. https://github.com/kamesy/QSM.jl\n",
      "\n",
      " - Julia package - MriResearchTools: Eckstein K. korbinian90/MriResearchTools.jl. GitHub; 2022. https://github.com/korbinian90/MriResearchTools.jl\n",
      "\n",
      " - Python package - nibabel: Brett M, Markiewicz CJ, Hanke M, et al. nipy/nibabel. GitHub; 2019. https://github.com/nipy/nibabel\n",
      "\n",
      " - Python package - scipy: Virtanen P, Gommers R, Oliphant TE, et al. SciPy 1.0: fundamental algorithms for scientific computing in Python. Nat Methods. 2020;17(3):261-272. doi:10.1038/s41592-019-0686-2\n",
      "\n",
      " - Python package - numpy: Harris CR, Millman KJ, van der Walt SJ, et al. Array programming with NumPy. Nature. 2020;585(7825):357-362. doi:10.1038/s41586-020-2649-2\n",
      "\n",
      " - FastSurfer: Henschel L, Conjeti S, Estrada S, Diers K, Fischl B, Reuter M. FastSurfer - A fast and accurate deep learning based neuroimaging pipeline. NeuroImage. 2020;219:117012. doi:10.1016/j.neuroimage.2020.117012\n",
      "\n",
      " - ANTs: Avants BB, Tustison NJ, Johnson HJ. Advanced Normalization Tools. GitHub; 2022. https://github.com/ANTsX/ANTs\n",
      "\n"
     ]
    }
   ],
   "source": [
    "!cat bids/derivatives/qsmxt-*-*/references.txt"
   ]
  },
  {
   "cell_type": "markdown",
   "id": "81ff07b6-dffa-44ba-91b7-ce37399d5de4",
   "metadata": {
    "id": "81ff07b6-dffa-44ba-91b7-ce37399d5de4"
   },
   "source": [
    "Let's view one of the QSM results:"
   ]
  },
  {
   "cell_type": "markdown",
   "id": "21d6d88e-ad10-4f66-adcb-2fed3ff93ccc",
   "metadata": {},
   "source": [
    "## QSM results"
   ]
  },
  {
   "cell_type": "code",
   "execution_count": 16,
   "id": "f146439c-09db-4212-84d3-0437ab9bf3ad",
   "metadata": {
    "editable": true,
    "slideshow": {
     "slide_type": ""
    },
    "tags": []
   },
   "outputs": [
    {
     "data": {
      "text/html": [
       "<img src=\"https://raw.githubusercontent.com/NeuroDesk/example-notebooks/refs/heads/main/books/images/qsmx_qsm.png\"/>"
      ],
      "text/plain": [
       "<IPython.core.display.Image object>"
      ]
     },
     "execution_count": 16,
     "metadata": {},
     "output_type": "execute_result"
    }
   ],
   "source": [
    "from IPython.display import Image\n",
    "Image(url='https://raw.githubusercontent.com/NeuroDesk/example-notebooks/refs/heads/main/books/images/qsmx_qsm.png')"
   ]
  },
  {
   "cell_type": "markdown",
   "id": "81070baa-330a-4abe-9388-9666cf4e4ae5",
   "metadata": {},
   "source": [
    "## Segmentations"
   ]
  },
  {
   "cell_type": "markdown",
   "id": "2a24a573-fced-42d6-b974-743b0fd9cffb",
   "metadata": {},
   "source": [
    "Segmentations are generated in both the QSM space and the T1-weighted space. Transformations are also made available."
   ]
  },
  {
   "cell_type": "code",
   "execution_count": 17,
   "id": "c5dbf829-66a4-4ce7-8c62-bdaca3af963c",
   "metadata": {
    "editable": true,
    "slideshow": {
     "slide_type": ""
    },
    "tags": []
   },
   "outputs": [
    {
     "data": {
      "text/html": [
       "<img src=\"https://raw.githubusercontent.com/NeuroDesk/example-notebooks/refs/heads/main/books/images/qsmx_Seg.png\"/>"
      ],
      "text/plain": [
       "<IPython.core.display.Image object>"
      ]
     },
     "execution_count": 17,
     "metadata": {},
     "output_type": "execute_result"
    }
   ],
   "source": [
    "Image(url='https://raw.githubusercontent.com/NeuroDesk/example-notebooks/refs/heads/main/books/images/qsmx_Seg.png')"
   ]
  },
  {
   "cell_type": "markdown",
   "id": "2e1fbcce-2af9-4509-ab92-fe8d6992ba6d",
   "metadata": {
    "id": "2e1fbcce-2af9-4509-ab92-fe8d6992ba6d"
   },
   "source": [
    "## Analysis CSVs"
   ]
  },
  {
   "cell_type": "markdown",
   "id": "8c81ac52-bdce-4ebe-af11-ba2fde9bdad8",
   "metadata": {
    "editable": true,
    "slideshow": {
     "slide_type": ""
    },
    "tags": []
   },
   "source": [
    "CSV files have been exported containing susceptibility values in regions of interest for each subject."
   ]
  },
  {
   "cell_type": "markdown",
   "id": "4b3859bb-b0e9-431e-b286-0ec81907c777",
   "metadata": {},
   "source": [
    "Here we will load the CSVs, inspect the data and generate figures:"
   ]
  },
  {
   "cell_type": "code",
   "execution_count": 18,
   "id": "5006ee7b-7a2a-4661-bcc7-f14a77525f8e",
   "metadata": {
    "editable": true,
    "slideshow": {
     "slide_type": ""
    },
    "tags": []
   },
   "outputs": [],
   "source": [
    "# import modules\n",
    "import pandas as pd\n",
    "import seaborn as sns"
   ]
  },
  {
   "cell_type": "markdown",
   "id": "b07279ea-9e7e-4cc7-966e-fea2d73143ca",
   "metadata": {},
   "source": [
    "The raw CSV files use names from FreeSurfer as exported by FastSurfer. The full list of regions is available [here](https://github.com/QSMxT/QSMxT/blob/main/qsmxt/aseg_labels.csv)."
   ]
  },
  {
   "cell_type": "code",
   "execution_count": 19,
   "id": "099fb0cf-ebda-43a4-85d3-202dd1c1b736",
   "metadata": {
    "editable": true,
    "slideshow": {
     "slide_type": ""
    },
    "tags": []
   },
   "outputs": [
    {
     "data": {
      "text/html": [
       "<div>\n",
       "<style scoped>\n",
       "    .dataframe tbody tr th:only-of-type {\n",
       "        vertical-align: middle;\n",
       "    }\n",
       "\n",
       "    .dataframe tbody tr th {\n",
       "        vertical-align: top;\n",
       "    }\n",
       "\n",
       "    .dataframe thead th {\n",
       "        text-align: right;\n",
       "    }\n",
       "</style>\n",
       "<table border=\"1\" class=\"dataframe\">\n",
       "  <thead>\n",
       "    <tr style=\"text-align: right;\">\n",
       "      <th></th>\n",
       "      <th>roi</th>\n",
       "      <th>num_voxels</th>\n",
       "      <th>min</th>\n",
       "      <th>max</th>\n",
       "      <th>median</th>\n",
       "      <th>mean</th>\n",
       "      <th>std</th>\n",
       "    </tr>\n",
       "  </thead>\n",
       "  <tbody>\n",
       "    <tr>\n",
       "      <th>0</th>\n",
       "      <td>3rd-Ventricle</td>\n",
       "      <td>590</td>\n",
       "      <td>-0.237164</td>\n",
       "      <td>0.125742</td>\n",
       "      <td>-0.019841</td>\n",
       "      <td>-0.023070</td>\n",
       "      <td>0.034599</td>\n",
       "    </tr>\n",
       "    <tr>\n",
       "      <th>1</th>\n",
       "      <td>4th-Ventricle</td>\n",
       "      <td>1627</td>\n",
       "      <td>-0.126198</td>\n",
       "      <td>0.052608</td>\n",
       "      <td>-0.045701</td>\n",
       "      <td>-0.045634</td>\n",
       "      <td>0.029624</td>\n",
       "    </tr>\n",
       "    <tr>\n",
       "      <th>2</th>\n",
       "      <td>Brain-Stem</td>\n",
       "      <td>18968</td>\n",
       "      <td>-0.281279</td>\n",
       "      <td>0.103408</td>\n",
       "      <td>-0.044790</td>\n",
       "      <td>-0.040970</td>\n",
       "      <td>0.028536</td>\n",
       "    </tr>\n",
       "    <tr>\n",
       "      <th>3</th>\n",
       "      <td>CSF</td>\n",
       "      <td>830</td>\n",
       "      <td>-1.398996</td>\n",
       "      <td>0.946292</td>\n",
       "      <td>0.025114</td>\n",
       "      <td>0.028596</td>\n",
       "      <td>0.143344</td>\n",
       "    </tr>\n",
       "    <tr>\n",
       "      <th>4</th>\n",
       "      <td>Left-Accumbens-area</td>\n",
       "      <td>543</td>\n",
       "      <td>-0.143444</td>\n",
       "      <td>0.129420</td>\n",
       "      <td>0.023281</td>\n",
       "      <td>0.021601</td>\n",
       "      <td>0.030726</td>\n",
       "    </tr>\n",
       "    <tr>\n",
       "      <th>...</th>\n",
       "      <td>...</td>\n",
       "      <td>...</td>\n",
       "      <td>...</td>\n",
       "      <td>...</td>\n",
       "      <td>...</td>\n",
       "      <td>...</td>\n",
       "      <td>...</td>\n",
       "    </tr>\n",
       "    <tr>\n",
       "      <th>91</th>\n",
       "      <td>ctx-rh-superiorfrontal</td>\n",
       "      <td>29721</td>\n",
       "      <td>-0.133955</td>\n",
       "      <td>0.252691</td>\n",
       "      <td>-0.004204</td>\n",
       "      <td>-0.009319</td>\n",
       "      <td>0.025631</td>\n",
       "    </tr>\n",
       "    <tr>\n",
       "      <th>92</th>\n",
       "      <td>ctx-rh-superiorparietal</td>\n",
       "      <td>12157</td>\n",
       "      <td>-0.084040</td>\n",
       "      <td>0.307679</td>\n",
       "      <td>-0.015560</td>\n",
       "      <td>-0.014525</td>\n",
       "      <td>0.022636</td>\n",
       "    </tr>\n",
       "    <tr>\n",
       "      <th>93</th>\n",
       "      <td>ctx-rh-superiortemporal</td>\n",
       "      <td>16327</td>\n",
       "      <td>-0.111554</td>\n",
       "      <td>0.205589</td>\n",
       "      <td>0.003765</td>\n",
       "      <td>0.012296</td>\n",
       "      <td>0.024249</td>\n",
       "    </tr>\n",
       "    <tr>\n",
       "      <th>94</th>\n",
       "      <td>ctx-rh-supramarginal</td>\n",
       "      <td>12177</td>\n",
       "      <td>-0.053332</td>\n",
       "      <td>0.240526</td>\n",
       "      <td>0.017912</td>\n",
       "      <td>0.019175</td>\n",
       "      <td>0.022536</td>\n",
       "    </tr>\n",
       "    <tr>\n",
       "      <th>95</th>\n",
       "      <td>ctx-rh-transversetemporal</td>\n",
       "      <td>1258</td>\n",
       "      <td>-0.000373</td>\n",
       "      <td>0.130747</td>\n",
       "      <td>0.035728</td>\n",
       "      <td>0.036581</td>\n",
       "      <td>0.013657</td>\n",
       "    </tr>\n",
       "  </tbody>\n",
       "</table>\n",
       "<p>96 rows × 7 columns</p>\n",
       "</div>"
      ],
      "text/plain": [
       "                          roi  num_voxels       min       max    median  \\\n",
       "0               3rd-Ventricle         590 -0.237164  0.125742 -0.019841   \n",
       "1               4th-Ventricle        1627 -0.126198  0.052608 -0.045701   \n",
       "2                  Brain-Stem       18968 -0.281279  0.103408 -0.044790   \n",
       "3                         CSF         830 -1.398996  0.946292  0.025114   \n",
       "4         Left-Accumbens-area         543 -0.143444  0.129420  0.023281   \n",
       "..                        ...         ...       ...       ...       ...   \n",
       "91     ctx-rh-superiorfrontal       29721 -0.133955  0.252691 -0.004204   \n",
       "92    ctx-rh-superiorparietal       12157 -0.084040  0.307679 -0.015560   \n",
       "93    ctx-rh-superiortemporal       16327 -0.111554  0.205589  0.003765   \n",
       "94       ctx-rh-supramarginal       12177 -0.053332  0.240526  0.017912   \n",
       "95  ctx-rh-transversetemporal        1258 -0.000373  0.130747  0.035728   \n",
       "\n",
       "        mean       std  \n",
       "0  -0.023070  0.034599  \n",
       "1  -0.045634  0.029624  \n",
       "2  -0.040970  0.028536  \n",
       "3   0.028596  0.143344  \n",
       "4   0.021601  0.030726  \n",
       "..       ...       ...  \n",
       "91 -0.009319  0.025631  \n",
       "92 -0.014525  0.022636  \n",
       "93  0.012296  0.024249  \n",
       "94  0.019175  0.022536  \n",
       "95  0.036581  0.013657  \n",
       "\n",
       "[96 rows x 7 columns]"
      ]
     },
     "execution_count": 19,
     "metadata": {},
     "output_type": "execute_result"
    }
   ],
   "source": [
    "pd.read_csv(glob(\"bids/derivatives/qsmxt-*-*/sub*/ses*/extra*/*.csv\")[0])"
   ]
  },
  {
   "cell_type": "markdown",
   "id": "740ddf37-1f9d-41b3-b9dd-dcf63129196e",
   "metadata": {
    "id": "740ddf37-1f9d-41b3-b9dd-dcf63129196e"
   },
   "source": [
    "We will select a subset of these ROIs and give them more readable names:"
   ]
  },
  {
   "cell_type": "code",
   "execution_count": 20,
   "id": "c0eaa5b4-5486-4930-b641-df6eb5e7fc93",
   "metadata": {
    "editable": true,
    "id": "c0eaa5b4-5486-4930-b641-df6eb5e7fc93",
    "slideshow": {
     "slide_type": ""
    },
    "tags": []
   },
   "outputs": [],
   "source": [
    "# define regions of interest\n",
    "# see https://github.com/QSMxT/QSMxT/blob/main/qsmxt/aseg_labels.csv for a full list\n",
    "rois = { \n",
    "    \"Thalamus\" : [9, 10, 48, 49],\n",
    "    \"Pallidum\" : [12, 13, 52, 53],\n",
    "    \"Caudate\" : [11, 50],\n",
    "    \"Putamen\" : [12, 51],\n",
    "    \"Brain stem\" : [16],\n",
    "    \"CSF\" : [24, 122, 257, 701],\n",
    "    \"White matter\" : [2, 7, 41, 46, 177]\n",
    "}\n",
    "roi_names = { value: key for key in rois for value in rois[key] }\n",
    "roi_ids = [value for roi in rois.values() for value in roi]"
   ]
  },
  {
   "cell_type": "code",
   "execution_count": 21,
   "id": "3823f4fd-7268-42f9-9ebe-804526cad8fa",
   "metadata": {
    "editable": true,
    "id": "3823f4fd-7268-42f9-9ebe-804526cad8fa",
    "slideshow": {
     "slide_type": ""
    },
    "tags": []
   },
   "outputs": [],
   "source": [
    "# load a reconstruction\n",
    "qsm = nib.load(glob(\"bids/derivatives/qsmxt-*-*/sub*/ses*/anat*/*Chimap.nii*\")[0]).get_fdata().flatten()\n",
    "seg = nib.load(glob(\"bids/derivatives/qsmxt-*-*/sub*/ses*/anat*/*space-qsm*dseg.nii*\")[0]).get_fdata().flatten()"
   ]
  },
  {
   "cell_type": "code",
   "execution_count": 22,
   "id": "d55c047a-1064-4fa9-a634-962e3aad6ba0",
   "metadata": {
    "editable": true,
    "id": "d55c047a-1064-4fa9-a634-962e3aad6ba0",
    "slideshow": {
     "slide_type": ""
    },
    "tags": []
   },
   "outputs": [],
   "source": [
    "# retain only the rois\n",
    "qsm = qsm[np.isin(seg, roi_ids)]\n",
    "seg = seg[np.isin(seg, roi_ids)]"
   ]
  },
  {
   "cell_type": "code",
   "execution_count": 23,
   "id": "c1153024-bff6-4a1d-9f45-5716184a7c1f",
   "metadata": {
    "editable": true,
    "id": "c1153024-bff6-4a1d-9f45-5716184a7c1f",
    "slideshow": {
     "slide_type": ""
    },
    "tags": []
   },
   "outputs": [],
   "source": [
    "# convert to a dataframe for plotting purposes\n",
    "seg = pd.Series(seg).map(roi_names)\n",
    "data = pd.DataFrame({ 'qsm' : qsm, 'seg' : seg })"
   ]
  },
  {
   "cell_type": "code",
   "execution_count": 24,
   "id": "5bd4f92d-5f2a-42a7-9b6c-7cf12a1743cf",
   "metadata": {
    "colab": {
     "base_uri": "https://localhost:8080/"
    },
    "editable": true,
    "id": "5bd4f92d-5f2a-42a7-9b6c-7cf12a1743cf",
    "outputId": "4791252b-87ee-4235-ff5b-1155acabb7dc",
    "slideshow": {
     "slide_type": ""
    },
    "tags": []
   },
   "outputs": [
    {
     "data": {
      "text/html": [
       "<div>\n",
       "<style scoped>\n",
       "    .dataframe tbody tr th:only-of-type {\n",
       "        vertical-align: middle;\n",
       "    }\n",
       "\n",
       "    .dataframe tbody tr th {\n",
       "        vertical-align: top;\n",
       "    }\n",
       "\n",
       "    .dataframe thead th {\n",
       "        text-align: right;\n",
       "    }\n",
       "</style>\n",
       "<table border=\"1\" class=\"dataframe\">\n",
       "  <thead>\n",
       "    <tr style=\"text-align: right;\">\n",
       "      <th></th>\n",
       "      <th>mean</th>\n",
       "      <th>std</th>\n",
       "    </tr>\n",
       "    <tr>\n",
       "      <th>seg</th>\n",
       "      <th></th>\n",
       "      <th></th>\n",
       "    </tr>\n",
       "  </thead>\n",
       "  <tbody>\n",
       "    <tr>\n",
       "      <th>Brain stem</th>\n",
       "      <td>-0.041</td>\n",
       "      <td>0.029</td>\n",
       "    </tr>\n",
       "    <tr>\n",
       "      <th>White matter</th>\n",
       "      <td>-0.002</td>\n",
       "      <td>0.027</td>\n",
       "    </tr>\n",
       "    <tr>\n",
       "      <th>CSF</th>\n",
       "      <td>0.029</td>\n",
       "      <td>0.143</td>\n",
       "    </tr>\n",
       "    <tr>\n",
       "      <th>Thalamus</th>\n",
       "      <td>0.030</td>\n",
       "      <td>0.035</td>\n",
       "    </tr>\n",
       "    <tr>\n",
       "      <th>Pallidum</th>\n",
       "      <td>0.034</td>\n",
       "      <td>0.060</td>\n",
       "    </tr>\n",
       "    <tr>\n",
       "      <th>Caudate</th>\n",
       "      <td>0.048</td>\n",
       "      <td>0.024</td>\n",
       "    </tr>\n",
       "    <tr>\n",
       "      <th>Putamen</th>\n",
       "      <td>0.048</td>\n",
       "      <td>0.033</td>\n",
       "    </tr>\n",
       "  </tbody>\n",
       "</table>\n",
       "</div>"
      ],
      "text/plain": [
       "               mean    std\n",
       "seg                       \n",
       "Brain stem   -0.041  0.029\n",
       "White matter -0.002  0.027\n",
       "CSF           0.029  0.143\n",
       "Thalamus      0.030  0.035\n",
       "Pallidum      0.034  0.060\n",
       "Caudate       0.048  0.024\n",
       "Putamen       0.048  0.033"
      ]
     },
     "execution_count": 25,
     "metadata": {},
     "output_type": "execute_result"
    }
   ],
   "source": [
    "# summarise data by region including the average and standard deviation\n",
    "data.groupby('seg')['qsm'].agg(['mean', 'std']).sort_values('mean').round(decimals=3)"
   ]
  },
  {
   "cell_type": "code",
   "execution_count": 25,
   "id": "44ce39d2-38ae-404e-8f33-1768121a99d3",
   "metadata": {
    "editable": true,
    "id": "44ce39d2-38ae-404e-8f33-1768121a99d3",
    "slideshow": {
     "slide_type": ""
    },
    "tags": []
   },
   "outputs": [],
   "source": [
    "medians = data.groupby('seg')['qsm'].median().sort_values()\n",
    "order = medians.index"
   ]
  },
  {
   "cell_type": "code",
   "execution_count": 26,
   "id": "9459199e-54ba-499e-bcb6-01686af3978f",
   "metadata": {
    "colab": {
     "base_uri": "https://localhost:8080/",
     "height": 533
    },
    "editable": true,
    "id": "9459199e-54ba-499e-bcb6-01686af3978f",
    "outputId": "cd6bd61e-adf5-4a08-9b2b-b3f0791590c4",
    "slideshow": {
     "slide_type": ""
    },
    "tags": []
   },
   "outputs": [
    {
     "data": {
      "image/png": "[encoded data removed]",
      "text/plain": [
       "<Figure size 500x400 with 1 Axes>"
      ]
     },
     "metadata": {},
     "output_type": "display_data"
    }
   ],
   "source": [
    "# plot\n",
    "fig, ax = plt.subplots(figsize=(5,4))\n",
    "sns.boxplot(data=data, y='qsm', x='seg', fliersize=0, color='lightblue', order=order, ax=ax)\n",
    "ax.set_xticks(range(len(ax.get_xticks())))  # Set tick positions explicitly\n",
    "ax.set_xticklabels(ax.get_xticklabels(), ha='right', rotation=45)\n",
    "ax.set_ylim(-0.2, 0.3)\n",
    "ax.axhline(y=0, color='pink', linestyle='-', linewidth=1, zorder=-1)\n",
    "ax.set_xlabel(\"Region of interest\")\n",
    "ax.set_ylabel(\"Susceptibility (ppm)\")\n",
    "ax.set_title(\"QSM\")\n",
    "plt.show()"
   ]
  }
 ],
 "metadata": {
  "colab": {
   "include_colab_link": true,
   "provenance": []
  },
  "kernelspec": {
   "display_name": "Python 3 (ipykernel)",
   "language": "python",
   "name": "python3"
  },
  "language_info": {
   "codemirror_mode": {
    "name": "ipython",
    "version": 3
   },
   "file_extension": ".py",
   "mimetype": "text/x-python",
   "name": "python",
   "nbconvert_exporter": "python",
   "pygments_lexer": "ipython3",
   "version": "3.11.6"
  }
 },
 "nbformat": 4,
 "nbformat_minor": 5
}
